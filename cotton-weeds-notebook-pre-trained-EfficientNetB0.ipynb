{
 "cells": [
  {
   "cell_type": "code",
   "execution_count": 1,
   "id": "9cc3a641",
   "metadata": {
    "_cell_guid": "39b2b498-3b53-426f-a00f-84f2ed0810cf",
    "_uuid": "4965bb40-d57b-41bf-a086-1ca3592e0664",
    "collapsed": false,
    "execution": {
     "iopub.execute_input": "2024-09-08T02:27:22.919999Z",
     "iopub.status.busy": "2024-09-08T02:27:22.919714Z",
     "iopub.status.idle": "2024-09-08T02:27:35.375775Z",
     "shell.execute_reply": "2024-09-08T02:27:35.374851Z"
    },
    "jupyter": {
     "outputs_hidden": false
    },
    "papermill": {
     "duration": 12.471421,
     "end_time": "2024-09-08T02:27:35.378006",
     "exception": false,
     "start_time": "2024-09-08T02:27:22.906585",
     "status": "completed"
    },
    "tags": []
   },
   "outputs": [
    {
     "name": "stderr",
     "output_type": "stream",
     "text": [
      "2024-09-08 02:27:24.641828: E external/local_xla/xla/stream_executor/cuda/cuda_dnn.cc:9261] Unable to register cuDNN factory: Attempting to register factory for plugin cuDNN when one has already been registered\n",
      "2024-09-08 02:27:24.641942: E external/local_xla/xla/stream_executor/cuda/cuda_fft.cc:607] Unable to register cuFFT factory: Attempting to register factory for plugin cuFFT when one has already been registered\n",
      "2024-09-08 02:27:24.772000: E external/local_xla/xla/stream_executor/cuda/cuda_blas.cc:1515] Unable to register cuBLAS factory: Attempting to register factory for plugin cuBLAS when one has already been registered\n"
     ]
    },
    {
     "name": "stdout",
     "output_type": "stream",
     "text": [
      "GPUs are available:\n",
      "PhysicalDevice(name='/physical_device:GPU:0', device_type='GPU')\n"
     ]
    }
   ],
   "source": [
    "import tensorflow as tf\n",
    "\n",
    "# Check available GPUs\n",
    "gpus = tf.config.list_physical_devices('GPU')\n",
    "if gpus:\n",
    "    print(\"GPUs are available:\")\n",
    "    for gpu in gpus:\n",
    "        print(gpu)\n",
    "else:\n",
    "    print(\"No GPUs detected.\")"
   ]
  },
  {
   "cell_type": "code",
   "execution_count": 2,
   "id": "f0ab2fab",
   "metadata": {
    "_cell_guid": "25af4bba-4268-4eb8-96f2-5ea856918a9c",
    "_uuid": "99ee89a6-c4f3-47b8-8e27-f642a4e4e012",
    "collapsed": false,
    "execution": {
     "iopub.execute_input": "2024-09-08T02:27:35.403301Z",
     "iopub.status.busy": "2024-09-08T02:27:35.402763Z",
     "iopub.status.idle": "2024-09-08T02:27:35.407450Z",
     "shell.execute_reply": "2024-09-08T02:27:35.406605Z"
    },
    "jupyter": {
     "outputs_hidden": false
    },
    "papermill": {
     "duration": 0.019279,
     "end_time": "2024-09-08T02:27:35.409288",
     "exception": false,
     "start_time": "2024-09-08T02:27:35.390009",
     "status": "completed"
    },
    "tags": []
   },
   "outputs": [],
   "source": [
    "# This Python 3 environment comes with many helpful analytics libraries installed\n",
    "# It is defined by the kaggle/python Docker image: https://github.com/kaggle/docker-python\n",
    "# For example, here's several helpful packages to load\n",
    "\n",
    "import numpy as np # linear algebra\n",
    "import pandas as pd # data processing, CSV file I/O (e.g. pd.read_csv)\n",
    "from pathlib import Path\n",
    "from collections import Counter"
   ]
  },
  {
   "cell_type": "code",
   "execution_count": 3,
   "id": "63bcb3ec",
   "metadata": {
    "_cell_guid": "e39d1175-106b-4d22-b84d-f23aa77dc759",
    "_uuid": "61888487-6abf-4e7d-86e7-48c65253ea5a",
    "collapsed": false,
    "execution": {
     "iopub.execute_input": "2024-09-08T02:27:35.434005Z",
     "iopub.status.busy": "2024-09-08T02:27:35.433734Z",
     "iopub.status.idle": "2024-09-08T02:27:35.439151Z",
     "shell.execute_reply": "2024-09-08T02:27:35.438459Z"
    },
    "jupyter": {
     "outputs_hidden": false
    },
    "papermill": {
     "duration": 0.020181,
     "end_time": "2024-09-08T02:27:35.441303",
     "exception": false,
     "start_time": "2024-09-08T02:27:35.421122",
     "status": "completed"
    },
    "tags": []
   },
   "outputs": [],
   "source": [
    "ds_path = Path('/kaggle/input/cottonweed/CottonWeedID15_500_UM').resolve()"
   ]
  },
  {
   "cell_type": "code",
   "execution_count": 4,
   "id": "b3469c64",
   "metadata": {
    "_cell_guid": "49af4ad0-3ba7-4c20-b226-1bc4df529b62",
    "_uuid": "1a6c4311-b7ed-4122-a173-09c648f5b4c1",
    "collapsed": false,
    "execution": {
     "iopub.execute_input": "2024-09-08T02:27:35.466787Z",
     "iopub.status.busy": "2024-09-08T02:27:35.466504Z",
     "iopub.status.idle": "2024-09-08T02:27:35.472589Z",
     "shell.execute_reply": "2024-09-08T02:27:35.471931Z"
    },
    "jupyter": {
     "outputs_hidden": false
    },
    "papermill": {
     "duration": 0.020343,
     "end_time": "2024-09-08T02:27:35.474490",
     "exception": false,
     "start_time": "2024-09-08T02:27:35.454147",
     "status": "completed"
    },
    "tags": []
   },
   "outputs": [
    {
     "data": {
      "text/plain": [
       "PosixPath('/kaggle/input/cottonweed/CottonWeedID15_500_UM')"
      ]
     },
     "execution_count": 4,
     "metadata": {},
     "output_type": "execute_result"
    }
   ],
   "source": [
    "ds_path"
   ]
  },
  {
   "cell_type": "code",
   "execution_count": 5,
   "id": "78ca3f9a",
   "metadata": {
    "_cell_guid": "a211cf64-393f-4f17-85c7-47c812261b77",
    "_uuid": "22ecab68-2abf-4fba-80f5-34e5e60be095",
    "collapsed": false,
    "execution": {
     "iopub.execute_input": "2024-09-08T02:27:35.499116Z",
     "iopub.status.busy": "2024-09-08T02:27:35.498856Z",
     "iopub.status.idle": "2024-09-08T02:27:36.129276Z",
     "shell.execute_reply": "2024-09-08T02:27:36.128463Z"
    },
    "jupyter": {
     "outputs_hidden": false
    },
    "papermill": {
     "duration": 0.645211,
     "end_time": "2024-09-08T02:27:36.131533",
     "exception": false,
     "start_time": "2024-09-08T02:27:35.486322",
     "status": "completed"
    },
    "tags": []
   },
   "outputs": [],
   "source": [
    "paths = list(ds_path.glob('*/*'))\n",
    "classes = [path.parent.stem for path in paths]"
   ]
  },
  {
   "cell_type": "code",
   "execution_count": 6,
   "id": "3ad50e08",
   "metadata": {
    "_cell_guid": "51ba7fa5-6110-43dc-810d-dd1bf3b16fe0",
    "_uuid": "4ea8d19d-61f0-4cf0-8af2-090de7de80e5",
    "collapsed": false,
    "execution": {
     "iopub.execute_input": "2024-09-08T02:27:36.156504Z",
     "iopub.status.busy": "2024-09-08T02:27:36.156217Z",
     "iopub.status.idle": "2024-09-08T02:27:36.162910Z",
     "shell.execute_reply": "2024-09-08T02:27:36.162097Z"
    },
    "jupyter": {
     "outputs_hidden": false
    },
    "papermill": {
     "duration": 0.021392,
     "end_time": "2024-09-08T02:27:36.164981",
     "exception": false,
     "start_time": "2024-09-08T02:27:36.143589",
     "status": "completed"
    },
    "tags": []
   },
   "outputs": [
    {
     "data": {
      "text/plain": [
       "Counter({'Nutsedge': 450,\n",
       "         'Sicklepod': 450,\n",
       "         'Morningglory': 450,\n",
       "         'Ragweed': 450,\n",
       "         'PalmerAmaranth': 450,\n",
       "         'Waterhemp': 450,\n",
       "         'Crabgrass': 450,\n",
       "         'Swinecress': 450,\n",
       "         'Prickly Sida': 450,\n",
       "         'Carpetweeds': 450,\n",
       "         'SpottedSpurge': 450,\n",
       "         'SpurredAnoda': 450,\n",
       "         'Eclipta': 450,\n",
       "         'Goosegrass': 450,\n",
       "         'Purslane': 450})"
      ]
     },
     "execution_count": 6,
     "metadata": {},
     "output_type": "execute_result"
    }
   ],
   "source": [
    "Counter(classes)"
   ]
  },
  {
   "cell_type": "code",
   "execution_count": 7,
   "id": "cbcc96d0",
   "metadata": {
    "_cell_guid": "2bc7ba59-c720-486e-aa2b-3154dc6aaf64",
    "_uuid": "d3893590-426c-4bbf-ba8b-5d27d5bcd250",
    "collapsed": false,
    "execution": {
     "iopub.execute_input": "2024-09-08T02:27:36.190104Z",
     "iopub.status.busy": "2024-09-08T02:27:36.189850Z",
     "iopub.status.idle": "2024-09-08T02:27:36.193618Z",
     "shell.execute_reply": "2024-09-08T02:27:36.192817Z"
    },
    "jupyter": {
     "outputs_hidden": false
    },
    "papermill": {
     "duration": 0.018301,
     "end_time": "2024-09-08T02:27:36.195454",
     "exception": false,
     "start_time": "2024-09-08T02:27:36.177153",
     "status": "completed"
    },
    "tags": []
   },
   "outputs": [],
   "source": [
    "# # label2id = {'Nutsedge': 0, 'Sicklepod': 1, 'Morningglory': 2, 'Ragweed': 3,\n",
    "# #             'PalmerAmaranth': 4, 'Waterhemp': 5, 'Crabgrass': 6, 'Swinecress': 7,\n",
    "# #             'Prickly Sida': 8, 'Carpetweeds': 9, 'SpottedSpurge': 10, 'SpurredAnoda': 11,\n",
    "# #             'Eclipta': 12, 'Goosegrass': 13, 'Purslane': 14}\n",
    "# id2label = {label2id[i]:i for i in label2id}\n",
    "# class_names = [id2label[i] for i in range(len(label2id))]\n",
    "\n",
    "# print(id2label)\n",
    "# print(label2id)\n",
    "# print(class_names)"
   ]
  },
  {
   "cell_type": "code",
   "execution_count": 8,
   "id": "a4983855",
   "metadata": {
    "_cell_guid": "e79740ab-e21e-4728-9942-1472f037eeb9",
    "_uuid": "81198205-a2ec-44e6-bcac-00cc56fdc2af",
    "collapsed": false,
    "execution": {
     "iopub.execute_input": "2024-09-08T02:27:36.221680Z",
     "iopub.status.busy": "2024-09-08T02:27:36.221202Z",
     "iopub.status.idle": "2024-09-08T02:27:36.276218Z",
     "shell.execute_reply": "2024-09-08T02:27:36.275184Z"
    },
    "jupyter": {
     "outputs_hidden": false
    },
    "papermill": {
     "duration": 0.070915,
     "end_time": "2024-09-08T02:27:36.278272",
     "exception": false,
     "start_time": "2024-09-08T02:27:36.207357",
     "status": "completed"
    },
    "tags": []
   },
   "outputs": [
    {
     "name": "stdout",
     "output_type": "stream",
     "text": [
      "<class 'pandas.core.frame.DataFrame'>\n",
      "RangeIndex: 6750 entries, 0 to 6749\n",
      "Data columns (total 3 columns):\n",
      " #   Column  Non-Null Count  Dtype   \n",
      "---  ------  --------------  -----   \n",
      " 0   img     6750 non-null   object  \n",
      " 1   class   6750 non-null   category\n",
      " 2   label   6750 non-null   int8    \n",
      "dtypes: category(1), int8(1), object(1)\n",
      "memory usage: 66.7+ KB\n"
     ]
    }
   ],
   "source": [
    "df = pd.DataFrame({'img':paths, 'class': classes})\n",
    "df['class'] = df['class'].astype('category')\n",
    "df['label'] = df['class'].cat.codes\n",
    "df.info()"
   ]
  },
  {
   "cell_type": "code",
   "execution_count": 9,
   "id": "0049fa9e",
   "metadata": {
    "_cell_guid": "428905a1-1146-452e-9a36-df5a28f6522c",
    "_uuid": "53ca4008-a557-4246-a309-c40ecfb95ea8",
    "collapsed": false,
    "execution": {
     "iopub.execute_input": "2024-09-08T02:27:36.303641Z",
     "iopub.status.busy": "2024-09-08T02:27:36.303381Z",
     "iopub.status.idle": "2024-09-08T02:27:36.309475Z",
     "shell.execute_reply": "2024-09-08T02:27:36.308679Z"
    },
    "jupyter": {
     "outputs_hidden": false
    },
    "papermill": {
     "duration": 0.020824,
     "end_time": "2024-09-08T02:27:36.311325",
     "exception": false,
     "start_time": "2024-09-08T02:27:36.290501",
     "status": "completed"
    },
    "tags": []
   },
   "outputs": [
    {
     "data": {
      "text/plain": [
       "{0: 'Carpetweeds',\n",
       " 1: 'Crabgrass',\n",
       " 2: 'Eclipta',\n",
       " 3: 'Goosegrass',\n",
       " 4: 'Morningglory',\n",
       " 5: 'Nutsedge',\n",
       " 6: 'PalmerAmaranth',\n",
       " 7: 'Prickly Sida',\n",
       " 8: 'Purslane',\n",
       " 9: 'Ragweed',\n",
       " 10: 'Sicklepod',\n",
       " 11: 'SpottedSpurge',\n",
       " 12: 'SpurredAnoda',\n",
       " 13: 'Swinecress',\n",
       " 14: 'Waterhemp'}"
      ]
     },
     "execution_count": 9,
     "metadata": {},
     "output_type": "execute_result"
    }
   ],
   "source": [
    "class_labels = dict(zip(range(15), df['class'].cat.categories))\n",
    "class_labels"
   ]
  },
  {
   "cell_type": "code",
   "execution_count": 10,
   "id": "d01f4d0b",
   "metadata": {
    "_cell_guid": "e7e2740a-9e6a-4621-90dd-b52dfefe7412",
    "_uuid": "0cb450ea-6b3e-48d7-a3e6-b2e0a3e1bcd0",
    "collapsed": false,
    "execution": {
     "iopub.execute_input": "2024-09-08T02:27:36.336830Z",
     "iopub.status.busy": "2024-09-08T02:27:36.336561Z",
     "iopub.status.idle": "2024-09-08T02:27:36.341762Z",
     "shell.execute_reply": "2024-09-08T02:27:36.340913Z"
    },
    "jupyter": {
     "outputs_hidden": false
    },
    "papermill": {
     "duration": 0.020073,
     "end_time": "2024-09-08T02:27:36.343625",
     "exception": false,
     "start_time": "2024-09-08T02:27:36.323552",
     "status": "completed"
    },
    "tags": []
   },
   "outputs": [
    {
     "data": {
      "text/plain": [
       "15"
      ]
     },
     "execution_count": 10,
     "metadata": {},
     "output_type": "execute_result"
    }
   ],
   "source": [
    "num_classes = len(class_labels)\n",
    "num_classes"
   ]
  },
  {
   "cell_type": "code",
   "execution_count": 11,
   "id": "e90fea7b",
   "metadata": {
    "_cell_guid": "61f6e6b2-da35-4725-bc3b-9a274fa52e5e",
    "_uuid": "a5f388e9-97a2-431c-8f6b-a2fb1c0574d9",
    "collapsed": false,
    "execution": {
     "iopub.execute_input": "2024-09-08T02:27:36.373269Z",
     "iopub.status.busy": "2024-09-08T02:27:36.372983Z",
     "iopub.status.idle": "2024-09-08T02:27:36.395341Z",
     "shell.execute_reply": "2024-09-08T02:27:36.394599Z"
    },
    "jupyter": {
     "outputs_hidden": false
    },
    "papermill": {
     "duration": 0.038879,
     "end_time": "2024-09-08T02:27:36.397167",
     "exception": false,
     "start_time": "2024-09-08T02:27:36.358288",
     "status": "completed"
    },
    "tags": []
   },
   "outputs": [],
   "source": [
    "df['img']=df['img'].astype(str)\n",
    "#df['label']=df['img'].astype(str)"
   ]
  },
  {
   "cell_type": "code",
   "execution_count": 12,
   "id": "b823fe83",
   "metadata": {
    "_cell_guid": "a0f950ba-7ec8-42c8-bc8b-dafbbe1a465f",
    "_uuid": "52774d4c-d4f9-42e1-9866-639acc40b56f",
    "collapsed": false,
    "execution": {
     "iopub.execute_input": "2024-09-08T02:27:36.422970Z",
     "iopub.status.busy": "2024-09-08T02:27:36.422519Z",
     "iopub.status.idle": "2024-09-08T02:27:37.213554Z",
     "shell.execute_reply": "2024-09-08T02:27:37.212538Z"
    },
    "jupyter": {
     "outputs_hidden": false
    },
    "papermill": {
     "duration": 0.806202,
     "end_time": "2024-09-08T02:27:37.215702",
     "exception": false,
     "start_time": "2024-09-08T02:27:36.409500",
     "status": "completed"
    },
    "tags": []
   },
   "outputs": [
    {
     "data": {
      "text/plain": [
       "(4725, 2025)"
      ]
     },
     "execution_count": 12,
     "metadata": {},
     "output_type": "execute_result"
    }
   ],
   "source": [
    "from sklearn.model_selection import train_test_split\n",
    "train, test = train_test_split(df, test_size=0.3, shuffle=True, random_state=1230, stratify=df['label'])\n",
    "train = train.reset_index(drop=True)\n",
    "test = test.reset_index(drop=True)\n",
    "len(train), len(test)"
   ]
  },
  {
   "cell_type": "code",
   "execution_count": 13,
   "id": "78ed4c56",
   "metadata": {
    "_cell_guid": "ddc39155-6e84-486a-9993-e30271777a47",
    "_uuid": "a5275ae7-5b45-4c30-b756-15217d858565",
    "collapsed": false,
    "execution": {
     "iopub.execute_input": "2024-09-08T02:27:37.243950Z",
     "iopub.status.busy": "2024-09-08T02:27:37.243621Z",
     "iopub.status.idle": "2024-09-08T02:27:37.248792Z",
     "shell.execute_reply": "2024-09-08T02:27:37.247937Z"
    },
    "jupyter": {
     "outputs_hidden": false
    },
    "papermill": {
     "duration": 0.020981,
     "end_time": "2024-09-08T02:27:37.250721",
     "exception": false,
     "start_time": "2024-09-08T02:27:37.229740",
     "status": "completed"
    },
    "tags": []
   },
   "outputs": [],
   "source": [
    "train.reset_index(inplace=True)\n",
    "test.reset_index(inplace=True)"
   ]
  },
  {
   "cell_type": "code",
   "execution_count": 14,
   "id": "ae550490",
   "metadata": {
    "_cell_guid": "b82fd571-671d-44cf-8915-bc920e0219e2",
    "_uuid": "80be6a27-2b39-4173-b195-04b2774b9f9b",
    "collapsed": false,
    "execution": {
     "iopub.execute_input": "2024-09-08T02:27:37.284760Z",
     "iopub.status.busy": "2024-09-08T02:27:37.284231Z",
     "iopub.status.idle": "2024-09-08T02:27:37.296663Z",
     "shell.execute_reply": "2024-09-08T02:27:37.295771Z"
    },
    "jupyter": {
     "outputs_hidden": false
    },
    "papermill": {
     "duration": 0.029114,
     "end_time": "2024-09-08T02:27:37.299255",
     "exception": false,
     "start_time": "2024-09-08T02:27:37.270141",
     "status": "completed"
    },
    "tags": []
   },
   "outputs": [
    {
     "data": {
      "text/html": [
       "<div>\n",
       "<style scoped>\n",
       "    .dataframe tbody tr th:only-of-type {\n",
       "        vertical-align: middle;\n",
       "    }\n",
       "\n",
       "    .dataframe tbody tr th {\n",
       "        vertical-align: top;\n",
       "    }\n",
       "\n",
       "    .dataframe thead th {\n",
       "        text-align: right;\n",
       "    }\n",
       "</style>\n",
       "<table border=\"1\" class=\"dataframe\">\n",
       "  <thead>\n",
       "    <tr style=\"text-align: right;\">\n",
       "      <th></th>\n",
       "      <th>index</th>\n",
       "      <th>img</th>\n",
       "      <th>class</th>\n",
       "      <th>label</th>\n",
       "    </tr>\n",
       "  </thead>\n",
       "  <tbody>\n",
       "    <tr>\n",
       "      <th>0</th>\n",
       "      <td>0</td>\n",
       "      <td>/kaggle/input/cottonweed/CottonWeedID15_500_UM...</td>\n",
       "      <td>Purslane</td>\n",
       "      <td>8</td>\n",
       "    </tr>\n",
       "    <tr>\n",
       "      <th>1</th>\n",
       "      <td>1</td>\n",
       "      <td>/kaggle/input/cottonweed/CottonWeedID15_500_UM...</td>\n",
       "      <td>Morningglory</td>\n",
       "      <td>4</td>\n",
       "    </tr>\n",
       "    <tr>\n",
       "      <th>2</th>\n",
       "      <td>2</td>\n",
       "      <td>/kaggle/input/cottonweed/CottonWeedID15_500_UM...</td>\n",
       "      <td>Carpetweeds</td>\n",
       "      <td>0</td>\n",
       "    </tr>\n",
       "    <tr>\n",
       "      <th>3</th>\n",
       "      <td>3</td>\n",
       "      <td>/kaggle/input/cottonweed/CottonWeedID15_500_UM...</td>\n",
       "      <td>Nutsedge</td>\n",
       "      <td>5</td>\n",
       "    </tr>\n",
       "    <tr>\n",
       "      <th>4</th>\n",
       "      <td>4</td>\n",
       "      <td>/kaggle/input/cottonweed/CottonWeedID15_500_UM...</td>\n",
       "      <td>Waterhemp</td>\n",
       "      <td>14</td>\n",
       "    </tr>\n",
       "  </tbody>\n",
       "</table>\n",
       "</div>"
      ],
      "text/plain": [
       "   index                                                img         class  \\\n",
       "0      0  /kaggle/input/cottonweed/CottonWeedID15_500_UM...      Purslane   \n",
       "1      1  /kaggle/input/cottonweed/CottonWeedID15_500_UM...  Morningglory   \n",
       "2      2  /kaggle/input/cottonweed/CottonWeedID15_500_UM...   Carpetweeds   \n",
       "3      3  /kaggle/input/cottonweed/CottonWeedID15_500_UM...      Nutsedge   \n",
       "4      4  /kaggle/input/cottonweed/CottonWeedID15_500_UM...     Waterhemp   \n",
       "\n",
       "   label  \n",
       "0      8  \n",
       "1      4  \n",
       "2      0  \n",
       "3      5  \n",
       "4     14  "
      ]
     },
     "execution_count": 14,
     "metadata": {},
     "output_type": "execute_result"
    }
   ],
   "source": [
    "train.head()"
   ]
  },
  {
   "cell_type": "code",
   "execution_count": 15,
   "id": "73cff8fb",
   "metadata": {
    "_cell_guid": "826837c2-8c45-463f-b110-e9e96efe807f",
    "_uuid": "7589be24-2287-49ef-831f-40b3667c7d76",
    "collapsed": false,
    "execution": {
     "iopub.execute_input": "2024-09-08T02:27:37.333511Z",
     "iopub.status.busy": "2024-09-08T02:27:37.333248Z",
     "iopub.status.idle": "2024-09-08T02:27:37.365856Z",
     "shell.execute_reply": "2024-09-08T02:27:37.364642Z"
    },
    "jupyter": {
     "outputs_hidden": false
    },
    "papermill": {
     "duration": 0.053729,
     "end_time": "2024-09-08T02:27:37.368582",
     "exception": false,
     "start_time": "2024-09-08T02:27:37.314853",
     "status": "completed"
    },
    "tags": []
   },
   "outputs": [],
   "source": [
    "from tensorflow.keras.preprocessing.image import ImageDataGenerator\n",
    "train_datagen = ImageDataGenerator(\n",
    "    #rescale=1./255,\n",
    "    shear_range=0.2,\n",
    "    zoom_range=0.2,\n",
    "    horizontal_flip=True,\n",
    "    vertical_flip=True,\n",
    "    validation_split=0.1  # Set validation split\n",
    ")"
   ]
  },
  {
   "cell_type": "code",
   "execution_count": 16,
   "id": "38a2b681",
   "metadata": {
    "_cell_guid": "65ca0fc1-10fc-47de-a366-203d5f41b7e3",
    "_uuid": "2ec9b27b-766e-45cc-b6dc-e5d490e9b4cc",
    "collapsed": false,
    "execution": {
     "iopub.execute_input": "2024-09-08T02:27:37.405932Z",
     "iopub.status.busy": "2024-09-08T02:27:37.405294Z",
     "iopub.status.idle": "2024-09-08T02:27:37.410847Z",
     "shell.execute_reply": "2024-09-08T02:27:37.409787Z"
    },
    "jupyter": {
     "outputs_hidden": false
    },
    "papermill": {
     "duration": 0.029774,
     "end_time": "2024-09-08T02:27:37.414341",
     "exception": false,
     "start_time": "2024-09-08T02:27:37.384567",
     "status": "completed"
    },
    "tags": []
   },
   "outputs": [],
   "source": [
    "image_size = (224, 224)  # Change based on your model's requirements\n",
    "batch_size = 32"
   ]
  },
  {
   "cell_type": "code",
   "execution_count": 17,
   "id": "988daf17",
   "metadata": {
    "_cell_guid": "63dfc5c1-757c-4457-9e77-29d08a74f17d",
    "_uuid": "573467ca-3a42-44ef-a858-aba8bb7eb545",
    "collapsed": false,
    "execution": {
     "iopub.execute_input": "2024-09-08T02:27:37.451890Z",
     "iopub.status.busy": "2024-09-08T02:27:37.451603Z",
     "iopub.status.idle": "2024-09-08T02:27:37.515708Z",
     "shell.execute_reply": "2024-09-08T02:27:37.514794Z"
    },
    "jupyter": {
     "outputs_hidden": false
    },
    "papermill": {
     "duration": 0.079522,
     "end_time": "2024-09-08T02:27:37.517695",
     "exception": false,
     "start_time": "2024-09-08T02:27:37.438173",
     "status": "completed"
    },
    "tags": []
   },
   "outputs": [
    {
     "name": "stdout",
     "output_type": "stream",
     "text": [
      "Found 4253 validated image filenames belonging to 15 classes.\n"
     ]
    }
   ],
   "source": [
    "# Train Data Generator\n",
    "train_generator = train_datagen.flow_from_dataframe(\n",
    "    dataframe=train,\n",
    "    x_col='img',\n",
    "    y_col='class',\n",
    "    target_size=image_size,\n",
    "    batch_size=batch_size,\n",
    "    class_mode='categorical',\n",
    "    subset='training'  # Use subset for training\n",
    ")"
   ]
  },
  {
   "cell_type": "code",
   "execution_count": 18,
   "id": "0f9b349d",
   "metadata": {
    "_cell_guid": "70e7d9bc-84f5-4be1-b60d-cb9d1f249002",
    "_uuid": "fd5f609b-b7cd-4a72-8ae1-6de577fbf999",
    "collapsed": false,
    "execution": {
     "iopub.execute_input": "2024-09-08T02:27:37.544084Z",
     "iopub.status.busy": "2024-09-08T02:27:37.543820Z",
     "iopub.status.idle": "2024-09-08T02:27:37.548121Z",
     "shell.execute_reply": "2024-09-08T02:27:37.547310Z"
    },
    "jupyter": {
     "outputs_hidden": false
    },
    "papermill": {
     "duration": 0.01979,
     "end_time": "2024-09-08T02:27:37.550099",
     "exception": false,
     "start_time": "2024-09-08T02:27:37.530309",
     "status": "completed"
    },
    "tags": []
   },
   "outputs": [
    {
     "name": "stdout",
     "output_type": "stream",
     "text": [
      "Class indices: {'Carpetweeds': 0, 'Crabgrass': 1, 'Eclipta': 2, 'Goosegrass': 3, 'Morningglory': 4, 'Nutsedge': 5, 'PalmerAmaranth': 6, 'Prickly Sida': 7, 'Purslane': 8, 'Ragweed': 9, 'Sicklepod': 10, 'SpottedSpurge': 11, 'SpurredAnoda': 12, 'Swinecress': 13, 'Waterhemp': 14}\n"
     ]
    }
   ],
   "source": [
    "print(\"Class indices:\", train_generator.class_indices)"
   ]
  },
  {
   "cell_type": "code",
   "execution_count": 19,
   "id": "a077d30f",
   "metadata": {
    "_cell_guid": "8e79890c-ea3f-49f8-bbed-250c5a5ddb4d",
    "_uuid": "fef02653-c68a-4bc6-9e85-c28573b44b9d",
    "collapsed": false,
    "execution": {
     "iopub.execute_input": "2024-09-08T02:27:37.576509Z",
     "iopub.status.busy": "2024-09-08T02:27:37.576264Z",
     "iopub.status.idle": "2024-09-08T02:27:37.631396Z",
     "shell.execute_reply": "2024-09-08T02:27:37.630387Z"
    },
    "jupyter": {
     "outputs_hidden": false
    },
    "papermill": {
     "duration": 0.070354,
     "end_time": "2024-09-08T02:27:37.633212",
     "exception": false,
     "start_time": "2024-09-08T02:27:37.562858",
     "status": "completed"
    },
    "tags": []
   },
   "outputs": [
    {
     "name": "stdout",
     "output_type": "stream",
     "text": [
      "Found 472 validated image filenames belonging to 15 classes.\n"
     ]
    }
   ],
   "source": [
    "# Validation Data Generator\n",
    "validation_generator = train_datagen.flow_from_dataframe(\n",
    "    dataframe=train,\n",
    "    x_col='img',\n",
    "    y_col='class',\n",
    "    target_size=image_size,\n",
    "    batch_size=batch_size,\n",
    "    class_mode='categorical',\n",
    "    subset='validation'  # Use subset for validation\n",
    ")"
   ]
  },
  {
   "cell_type": "code",
   "execution_count": 20,
   "id": "5a9d20ef",
   "metadata": {
    "_cell_guid": "36b5af21-cddf-4c99-aceb-ba4651b0c438",
    "_uuid": "87cd5870-5f24-4985-8483-1b96598124b3",
    "collapsed": false,
    "execution": {
     "iopub.execute_input": "2024-09-08T02:27:37.660205Z",
     "iopub.status.busy": "2024-09-08T02:27:37.659559Z",
     "iopub.status.idle": "2024-09-08T02:27:37.663777Z",
     "shell.execute_reply": "2024-09-08T02:27:37.662947Z"
    },
    "jupyter": {
     "outputs_hidden": false
    },
    "papermill": {
     "duration": 0.019967,
     "end_time": "2024-09-08T02:27:37.665922",
     "exception": false,
     "start_time": "2024-09-08T02:27:37.645955",
     "status": "completed"
    },
    "tags": []
   },
   "outputs": [
    {
     "name": "stdout",
     "output_type": "stream",
     "text": [
      "Class indices: {'Carpetweeds': 0, 'Crabgrass': 1, 'Eclipta': 2, 'Goosegrass': 3, 'Morningglory': 4, 'Nutsedge': 5, 'PalmerAmaranth': 6, 'Prickly Sida': 7, 'Purslane': 8, 'Ragweed': 9, 'Sicklepod': 10, 'SpottedSpurge': 11, 'SpurredAnoda': 12, 'Swinecress': 13, 'Waterhemp': 14}\n"
     ]
    }
   ],
   "source": [
    "print(\"Class indices:\", validation_generator.class_indices)"
   ]
  },
  {
   "cell_type": "code",
   "execution_count": 21,
   "id": "3ef81678",
   "metadata": {
    "_cell_guid": "41806427-5b66-451d-a4a7-ad5c3c3f8b8c",
    "_uuid": "f2d1061c-f619-4ab0-8cba-1dcf170b825d",
    "collapsed": false,
    "execution": {
     "iopub.execute_input": "2024-09-08T02:27:37.692478Z",
     "iopub.status.busy": "2024-09-08T02:27:37.692238Z",
     "iopub.status.idle": "2024-09-08T02:27:37.695920Z",
     "shell.execute_reply": "2024-09-08T02:27:37.695102Z"
    },
    "jupyter": {
     "outputs_hidden": false
    },
    "papermill": {
     "duration": 0.019003,
     "end_time": "2024-09-08T02:27:37.697744",
     "exception": false,
     "start_time": "2024-09-08T02:27:37.678741",
     "status": "completed"
    },
    "tags": []
   },
   "outputs": [],
   "source": [
    "# Create ImageDataGenerator for test (no augmentation)\n",
    "test_datagen = ImageDataGenerator(#rescale=1./255\n",
    ")"
   ]
  },
  {
   "cell_type": "code",
   "execution_count": 22,
   "id": "1fec7454",
   "metadata": {
    "_cell_guid": "0f0c829c-9854-45a9-bc62-45890bc043bf",
    "_uuid": "a7b839f8-3b0d-436c-a8a3-2b9c520e8720",
    "collapsed": false,
    "execution": {
     "iopub.execute_input": "2024-09-08T02:27:37.724246Z",
     "iopub.status.busy": "2024-09-08T02:27:37.723996Z",
     "iopub.status.idle": "2024-09-08T02:27:37.756275Z",
     "shell.execute_reply": "2024-09-08T02:27:37.755615Z"
    },
    "jupyter": {
     "outputs_hidden": false
    },
    "papermill": {
     "duration": 0.047702,
     "end_time": "2024-09-08T02:27:37.758257",
     "exception": false,
     "start_time": "2024-09-08T02:27:37.710555",
     "status": "completed"
    },
    "tags": []
   },
   "outputs": [
    {
     "name": "stdout",
     "output_type": "stream",
     "text": [
      "Found 2025 validated image filenames belonging to 15 classes.\n"
     ]
    }
   ],
   "source": [
    "# Test Data Generator\n",
    "test_generator = test_datagen.flow_from_dataframe(\n",
    "    dataframe=test,\n",
    "    x_col='img',\n",
    "    y_col='class',  # Assuming test data might still have labels, if not, use None\n",
    "    target_size=image_size,\n",
    "    batch_size=batch_size,\n",
    "    class_mode='categorical',  # Use 'None' if no labels are available\n",
    "    shuffle=False  # Important for test data to maintain order\n",
    ")"
   ]
  },
  {
   "cell_type": "code",
   "execution_count": 23,
   "id": "a81847cd",
   "metadata": {
    "_cell_guid": "67d29376-004d-47d9-b953-2b7298ff6390",
    "_uuid": "15f7558f-e9cc-48d1-acc4-93e0f428c635",
    "collapsed": false,
    "execution": {
     "iopub.execute_input": "2024-09-08T02:27:37.824330Z",
     "iopub.status.busy": "2024-09-08T02:27:37.824020Z",
     "iopub.status.idle": "2024-09-08T02:27:37.840615Z",
     "shell.execute_reply": "2024-09-08T02:27:37.839754Z"
    },
    "jupyter": {
     "outputs_hidden": false
    },
    "papermill": {
     "duration": 0.032585,
     "end_time": "2024-09-08T02:27:37.842600",
     "exception": false,
     "start_time": "2024-09-08T02:27:37.810015",
     "status": "completed"
    },
    "tags": []
   },
   "outputs": [],
   "source": [
    "from tensorflow.keras.applications import MobileNet, MobileNetV2, MobileNetV3Small, MobileNetV3Large, VGG16,DenseNet121,ResNet50,InceptionV3\n",
    "from tensorflow.keras.applications import EfficientNetV2S, ConvNeXtSmall,EfficientNetB0\n",
    "from tensorflow.keras.layers import Input, Dense, GlobalAveragePooling2D,Flatten,Dropout\n",
    "from tensorflow.keras.models import Model\n",
    "from tensorflow import keras\n",
    "from tensorflow.keras.applications.mobilenet import preprocess_input as mob_preprocess_input\n",
    "from tensorflow.keras.applications.densenet import preprocess_input as dense_preprocess_input\n",
    "from tensorflow.keras.applications.inception_v3 import preprocess_input as inc_preprocess_input\n",
    "from tensorflow.keras.applications.efficientnet import preprocess_input as eff_preporcess_input"
   ]
  },
  {
   "cell_type": "code",
   "execution_count": 24,
   "id": "44a7e92c",
   "metadata": {
    "_cell_guid": "341e52ca-9e98-44d1-a1e1-fc54ac58187b",
    "_uuid": "2fa063c1-cee3-48d9-8631-2f543b383c49",
    "collapsed": false,
    "execution": {
     "iopub.execute_input": "2024-09-08T02:27:37.870073Z",
     "iopub.status.busy": "2024-09-08T02:27:37.869824Z",
     "iopub.status.idle": "2024-09-08T02:27:38.060774Z",
     "shell.execute_reply": "2024-09-08T02:27:38.059925Z"
    },
    "jupyter": {
     "outputs_hidden": false
    },
    "papermill": {
     "duration": 0.206982,
     "end_time": "2024-09-08T02:27:38.062715",
     "exception": false,
     "start_time": "2024-09-08T02:27:37.855733",
     "status": "completed"
    },
    "tags": []
   },
   "outputs": [],
   "source": [
    "#from tensorflow.keras.applications.vgg16 import preprocess_input\n",
    "def buildModel(IMG_SIZE,base_model, num_classes, trainable=True):\n",
    "    # Load the MobileNet model with weights pre-trained on ImageNet.\n",
    "    #base_model, pooler = MobilenetV3Base((224,224,3), use='S')\n",
    "\n",
    "    if (base_model=='DenseNet121'):\n",
    "        base_model=DenseNet121(include_top=False, weights='imagenet',input_shape=IMG_SIZE)\n",
    "        inputs = keras.Input(shape=IMG_SIZE, name='input')\n",
    "        x = base_model(inputs)\n",
    "    if(base_model=='ResNet50'):\n",
    "        base_model=ResNet50(include_top=False, weights='imagenet',input_shape=IMG_SIZE)\n",
    "        inputs = keras.Input(shape=IMG_SIZE, name='input')\n",
    "        #x=vgg_preprocess_input(inputs)\n",
    "        #x=inputs\n",
    "        x = base_model(inputs)\n",
    "    if (base_model=='InceptionV3'):\n",
    "        base_model=InceptionV3(include_top=False, weights='imagenet',input_shape=IMG_SIZE)\n",
    "        inputs = keras.Input(shape=IMG_SIZE, name='input')\n",
    "        x=inc_preprocess_input(inputs)\n",
    "        #x=inputs\n",
    "        x = base_model(x)\n",
    "    if (base_model=='EfficientNetB0'):\n",
    "        base_model=EfficientNetB0(include_top=False, weights='imagenet',input_shape=IMG_SIZE)\n",
    "        inputs = keras.Input(shape=IMG_SIZE, name='input')\n",
    "        x=eff_preporcess_input(inputs)\n",
    "        x = base_model(x)\n",
    "    if (base_model=='mobilenet'):\n",
    "        base_model=MobileNet(include_top=False, weights='imagenet',input_shape=IMG_SIZE)\n",
    "        inputs = keras.Input(shape=IMG_SIZE, name='input')\n",
    "        x=mob_preprocess_input(inputs)\n",
    "        x = base_model(x, training=False)\n",
    "    if(base_model=='mobilenetv2'):\n",
    "        base_model=MobileNetV2(include_top=False, weights='imagenet',input_shape=IMG_SIZE)\n",
    "        inputs = keras.Input(shape=IMG_SIZE, name='input')\n",
    "        x=mob_preprocess_input(inputs)\n",
    "        x = base_model(x, training=False)\n",
    "    if(base_model=='VGG16'):\n",
    "        base_model=VGG16(include_top=False, weights='imagenet',input_shape=IMG_SIZE)\n",
    "        inputs = keras.Input(shape=IMG_SIZE, name='input')\n",
    "        x=vgg_preprocess_input(inputs) #VGG-preprocess input did not do job well\n",
    "        x = base_model(inputs)\n",
    "    else:\n",
    "        print(\"Select the correct models : VGG16, DenseNet121, mobilenet, mobilenetv2,EfficientNetB0,ResNet50,InceptionV3\")\n",
    "\n",
    "    base_model.trainable = trainable\n",
    "\n",
    "\n",
    "    print(\"Base Model:\", base_model.name)\n",
    "    print(len(base_model.layers))\n",
    "  \n",
    "    x = GlobalAveragePooling2D()(x)\n",
    "    outputs = Dense(num_classes, activation='softmax')(x)\n",
    "\n",
    "    model_name = \"CottonWeed-\" + base_model.name\n",
    "    # Create the model.\n",
    "    model = Model(inputs=inputs, outputs=outputs, name=model_name)\n",
    "\n",
    "    return model"
   ]
  },
  {
   "cell_type": "code",
   "execution_count": 25,
   "id": "8d103c50",
   "metadata": {
    "_cell_guid": "54ee2a10-7e71-47ec-a50a-7b603076f8c0",
    "_uuid": "3cae159a-ee9b-407b-947d-3577aefd9dd3",
    "collapsed": false,
    "execution": {
     "iopub.execute_input": "2024-09-08T02:27:38.090647Z",
     "iopub.status.busy": "2024-09-08T02:27:38.090342Z",
     "iopub.status.idle": "2024-09-08T02:27:40.375943Z",
     "shell.execute_reply": "2024-09-08T02:27:40.375050Z"
    },
    "jupyter": {
     "outputs_hidden": false
    },
    "papermill": {
     "duration": 2.30169,
     "end_time": "2024-09-08T02:27:40.377828",
     "exception": false,
     "start_time": "2024-09-08T02:27:38.076138",
     "status": "completed"
    },
    "tags": []
   },
   "outputs": [
    {
     "name": "stdout",
     "output_type": "stream",
     "text": [
      "Downloading data from https://storage.googleapis.com/keras-applications/efficientnetb0_notop.h5\n",
      "\u001b[1m16705208/16705208\u001b[0m \u001b[32m━━━━━━━━━━━━━━━━━━━━\u001b[0m\u001b[37m\u001b[0m \u001b[1m0s\u001b[0m 0us/step\n",
      "Select the correct models : VGG16, DenseNet121, mobilenet, mobilenetv2,EfficientNetB0,ResNet50,InceptionV3\n",
      "Base Model: efficientnetb0\n",
      "238\n"
     ]
    },
    {
     "data": {
      "text/html": [
       "<pre style=\"white-space:pre;overflow-x:auto;line-height:normal;font-family:Menlo,'DejaVu Sans Mono',consolas,'Courier New',monospace\"><span style=\"font-weight: bold\">Model: \"CottonWeed-efficientnetb0\"</span>\n",
       "</pre>\n"
      ],
      "text/plain": [
       "\u001b[1mModel: \"CottonWeed-efficientnetb0\"\u001b[0m\n"
      ]
     },
     "metadata": {},
     "output_type": "display_data"
    },
    {
     "data": {
      "text/html": [
       "<pre style=\"white-space:pre;overflow-x:auto;line-height:normal;font-family:Menlo,'DejaVu Sans Mono',consolas,'Courier New',monospace\">┏━━━━━━━━━━━━━━━━━━━━━━━━━━━━━━━━━┳━━━━━━━━━━━━━━━━━━━━━━━━┳━━━━━━━━━━━━━━━┓\n",
       "┃<span style=\"font-weight: bold\"> Layer (type)                    </span>┃<span style=\"font-weight: bold\"> Output Shape           </span>┃<span style=\"font-weight: bold\">       Param # </span>┃\n",
       "┡━━━━━━━━━━━━━━━━━━━━━━━━━━━━━━━━━╇━━━━━━━━━━━━━━━━━━━━━━━━╇━━━━━━━━━━━━━━━┩\n",
       "│ input (<span style=\"color: #0087ff; text-decoration-color: #0087ff\">InputLayer</span>)              │ (<span style=\"color: #00d7ff; text-decoration-color: #00d7ff\">None</span>, <span style=\"color: #00af00; text-decoration-color: #00af00\">224</span>, <span style=\"color: #00af00; text-decoration-color: #00af00\">224</span>, <span style=\"color: #00af00; text-decoration-color: #00af00\">3</span>)    │             <span style=\"color: #00af00; text-decoration-color: #00af00\">0</span> │\n",
       "├─────────────────────────────────┼────────────────────────┼───────────────┤\n",
       "│ efficientnetb0 (<span style=\"color: #0087ff; text-decoration-color: #0087ff\">Functional</span>)     │ (<span style=\"color: #00d7ff; text-decoration-color: #00d7ff\">None</span>, <span style=\"color: #00af00; text-decoration-color: #00af00\">7</span>, <span style=\"color: #00af00; text-decoration-color: #00af00\">7</span>, <span style=\"color: #00af00; text-decoration-color: #00af00\">1280</span>)     │     <span style=\"color: #00af00; text-decoration-color: #00af00\">4,049,571</span> │\n",
       "├─────────────────────────────────┼────────────────────────┼───────────────┤\n",
       "│ global_average_pooling2d        │ (<span style=\"color: #00d7ff; text-decoration-color: #00d7ff\">None</span>, <span style=\"color: #00af00; text-decoration-color: #00af00\">1280</span>)           │             <span style=\"color: #00af00; text-decoration-color: #00af00\">0</span> │\n",
       "│ (<span style=\"color: #0087ff; text-decoration-color: #0087ff\">GlobalAveragePooling2D</span>)        │                        │               │\n",
       "├─────────────────────────────────┼────────────────────────┼───────────────┤\n",
       "│ dense (<span style=\"color: #0087ff; text-decoration-color: #0087ff\">Dense</span>)                   │ (<span style=\"color: #00d7ff; text-decoration-color: #00d7ff\">None</span>, <span style=\"color: #00af00; text-decoration-color: #00af00\">15</span>)             │        <span style=\"color: #00af00; text-decoration-color: #00af00\">19,215</span> │\n",
       "└─────────────────────────────────┴────────────────────────┴───────────────┘\n",
       "</pre>\n"
      ],
      "text/plain": [
       "┏━━━━━━━━━━━━━━━━━━━━━━━━━━━━━━━━━┳━━━━━━━━━━━━━━━━━━━━━━━━┳━━━━━━━━━━━━━━━┓\n",
       "┃\u001b[1m \u001b[0m\u001b[1mLayer (type)                   \u001b[0m\u001b[1m \u001b[0m┃\u001b[1m \u001b[0m\u001b[1mOutput Shape          \u001b[0m\u001b[1m \u001b[0m┃\u001b[1m \u001b[0m\u001b[1m      Param #\u001b[0m\u001b[1m \u001b[0m┃\n",
       "┡━━━━━━━━━━━━━━━━━━━━━━━━━━━━━━━━━╇━━━━━━━━━━━━━━━━━━━━━━━━╇━━━━━━━━━━━━━━━┩\n",
       "│ input (\u001b[38;5;33mInputLayer\u001b[0m)              │ (\u001b[38;5;45mNone\u001b[0m, \u001b[38;5;34m224\u001b[0m, \u001b[38;5;34m224\u001b[0m, \u001b[38;5;34m3\u001b[0m)    │             \u001b[38;5;34m0\u001b[0m │\n",
       "├─────────────────────────────────┼────────────────────────┼───────────────┤\n",
       "│ efficientnetb0 (\u001b[38;5;33mFunctional\u001b[0m)     │ (\u001b[38;5;45mNone\u001b[0m, \u001b[38;5;34m7\u001b[0m, \u001b[38;5;34m7\u001b[0m, \u001b[38;5;34m1280\u001b[0m)     │     \u001b[38;5;34m4,049,571\u001b[0m │\n",
       "├─────────────────────────────────┼────────────────────────┼───────────────┤\n",
       "│ global_average_pooling2d        │ (\u001b[38;5;45mNone\u001b[0m, \u001b[38;5;34m1280\u001b[0m)           │             \u001b[38;5;34m0\u001b[0m │\n",
       "│ (\u001b[38;5;33mGlobalAveragePooling2D\u001b[0m)        │                        │               │\n",
       "├─────────────────────────────────┼────────────────────────┼───────────────┤\n",
       "│ dense (\u001b[38;5;33mDense\u001b[0m)                   │ (\u001b[38;5;45mNone\u001b[0m, \u001b[38;5;34m15\u001b[0m)             │        \u001b[38;5;34m19,215\u001b[0m │\n",
       "└─────────────────────────────────┴────────────────────────┴───────────────┘\n"
      ]
     },
     "metadata": {},
     "output_type": "display_data"
    },
    {
     "data": {
      "text/html": [
       "<pre style=\"white-space:pre;overflow-x:auto;line-height:normal;font-family:Menlo,'DejaVu Sans Mono',consolas,'Courier New',monospace\"><span style=\"font-weight: bold\"> Total params: </span><span style=\"color: #00af00; text-decoration-color: #00af00\">4,068,786</span> (15.52 MB)\n",
       "</pre>\n"
      ],
      "text/plain": [
       "\u001b[1m Total params: \u001b[0m\u001b[38;5;34m4,068,786\u001b[0m (15.52 MB)\n"
      ]
     },
     "metadata": {},
     "output_type": "display_data"
    },
    {
     "data": {
      "text/html": [
       "<pre style=\"white-space:pre;overflow-x:auto;line-height:normal;font-family:Menlo,'DejaVu Sans Mono',consolas,'Courier New',monospace\"><span style=\"font-weight: bold\"> Trainable params: </span><span style=\"color: #00af00; text-decoration-color: #00af00\">4,026,763</span> (15.36 MB)\n",
       "</pre>\n"
      ],
      "text/plain": [
       "\u001b[1m Trainable params: \u001b[0m\u001b[38;5;34m4,026,763\u001b[0m (15.36 MB)\n"
      ]
     },
     "metadata": {},
     "output_type": "display_data"
    },
    {
     "data": {
      "text/html": [
       "<pre style=\"white-space:pre;overflow-x:auto;line-height:normal;font-family:Menlo,'DejaVu Sans Mono',consolas,'Courier New',monospace\"><span style=\"font-weight: bold\"> Non-trainable params: </span><span style=\"color: #00af00; text-decoration-color: #00af00\">42,023</span> (164.16 KB)\n",
       "</pre>\n"
      ],
      "text/plain": [
       "\u001b[1m Non-trainable params: \u001b[0m\u001b[38;5;34m42,023\u001b[0m (164.16 KB)\n"
      ]
     },
     "metadata": {},
     "output_type": "display_data"
    }
   ],
   "source": [
    "model = buildModel(image_size +(3,), base_model='EfficientNetB0', num_classes=num_classes)\n",
    "model.summary()"
   ]
  },
  {
   "cell_type": "code",
   "execution_count": 26,
   "id": "a1683237",
   "metadata": {
    "_cell_guid": "ca8e7df2-74e5-4bac-b5e1-2fca07533bea",
    "_uuid": "ea260972-18dd-4274-8741-e4142bc135f0",
    "collapsed": false,
    "execution": {
     "iopub.execute_input": "2024-09-08T02:27:40.409345Z",
     "iopub.status.busy": "2024-09-08T02:27:40.408618Z",
     "iopub.status.idle": "2024-09-08T02:27:40.425810Z",
     "shell.execute_reply": "2024-09-08T02:27:40.425122Z"
    },
    "jupyter": {
     "outputs_hidden": false
    },
    "papermill": {
     "duration": 0.034816,
     "end_time": "2024-09-08T02:27:40.427575",
     "exception": false,
     "start_time": "2024-09-08T02:27:40.392759",
     "status": "completed"
    },
    "tags": []
   },
   "outputs": [],
   "source": [
    "from tensorflow.keras.optimizers import Adam, AdamW\n",
    "from tensorflow.keras.callbacks import EarlyStopping,ReduceLROnPlateau\n",
    "# Constant for epochs\n",
    "EPOCHS = 50\n",
    "\n",
    "pat_es = 5\n",
    "early_stopping = EarlyStopping(monitor='val_loss', patience=pat_es, verbose=1, restore_best_weights=True)\n",
    "reduce_lr =ReduceLROnPlateau(monitor='val_loss',factor=0.75, patience=3, verbose=1, min_lr=1e-6)\n",
    "\n",
    "model.compile(loss='categorical_crossentropy',\n",
    "          optimizer= AdamW(learning_rate=2e-4,  weight_decay=5e-2),\n",
    "          metrics=['accuracy'])"
   ]
  },
  {
   "cell_type": "code",
   "execution_count": 27,
   "id": "0262731a",
   "metadata": {
    "_cell_guid": "3712ebca-5053-44c5-a7c7-03fac4e1327e",
    "_uuid": "4226ee33-4031-4128-9ea9-12a67bddd213",
    "collapsed": false,
    "execution": {
     "iopub.execute_input": "2024-09-08T02:27:40.457294Z",
     "iopub.status.busy": "2024-09-08T02:27:40.457032Z",
     "iopub.status.idle": "2024-09-08T02:52:12.434254Z",
     "shell.execute_reply": "2024-09-08T02:52:12.433170Z"
    },
    "jupyter": {
     "outputs_hidden": false
    },
    "papermill": {
     "duration": 1471.994417,
     "end_time": "2024-09-08T02:52:12.436348",
     "exception": false,
     "start_time": "2024-09-08T02:27:40.441931",
     "status": "completed"
    },
    "tags": []
   },
   "outputs": [
    {
     "name": "stdout",
     "output_type": "stream",
     "text": [
      "Epoch 1/50\n"
     ]
    },
    {
     "name": "stderr",
     "output_type": "stream",
     "text": [
      "/opt/conda/lib/python3.10/site-packages/keras/src/trainers/data_adapters/py_dataset_adapter.py:121: UserWarning: Your `PyDataset` class should call `super().__init__(**kwargs)` in its constructor. `**kwargs` can include `workers`, `use_multiprocessing`, `max_queue_size`. Do not pass these arguments to `fit()`, as they will be ignored.\n",
      "  self._warn_if_super_not_called()\n"
     ]
    },
    {
     "name": "stdout",
     "output_type": "stream",
     "text": [
      "\u001b[1m  1/133\u001b[0m \u001b[37m━━━━━━━━━━━━━━━━━━━━\u001b[0m \u001b[1m3:26:58\u001b[0m 94s/step - accuracy: 0.0938 - loss: 2.7942"
     ]
    },
    {
     "name": "stderr",
     "output_type": "stream",
     "text": [
      "WARNING: All log messages before absl::InitializeLog() is called are written to STDERR\n",
      "I0000 00:00:1725762555.258650      66 device_compiler.h:186] Compiled cluster using XLA!  This line is logged at most once for the lifetime of the process.\n"
     ]
    },
    {
     "name": "stdout",
     "output_type": "stream",
     "text": [
      "\u001b[1m133/133\u001b[0m \u001b[32m━━━━━━━━━━━━━━━━━━━━\u001b[0m\u001b[37m\u001b[0m \u001b[1m223s\u001b[0m 979ms/step - accuracy: 0.5185 - loss: 1.7179 - val_accuracy: 0.8559 - val_loss: 0.4263 - learning_rate: 2.0000e-04\n",
      "Epoch 2/50\n",
      "\u001b[1m133/133\u001b[0m \u001b[32m━━━━━━━━━━━━━━━━━━━━\u001b[0m\u001b[37m\u001b[0m \u001b[1m53s\u001b[0m 381ms/step - accuracy: 0.9221 - loss: 0.2838 - val_accuracy: 0.9576 - val_loss: 0.1325 - learning_rate: 2.0000e-04\n",
      "Epoch 3/50\n",
      "\u001b[1m133/133\u001b[0m \u001b[32m━━━━━━━━━━━━━━━━━━━━\u001b[0m\u001b[37m\u001b[0m \u001b[1m52s\u001b[0m 375ms/step - accuracy: 0.9655 - loss: 0.1266 - val_accuracy: 0.9788 - val_loss: 0.0784 - learning_rate: 2.0000e-04\n",
      "Epoch 4/50\n",
      "\u001b[1m133/133\u001b[0m \u001b[32m━━━━━━━━━━━━━━━━━━━━\u001b[0m\u001b[37m\u001b[0m \u001b[1m53s\u001b[0m 382ms/step - accuracy: 0.9818 - loss: 0.0732 - val_accuracy: 0.9831 - val_loss: 0.0597 - learning_rate: 2.0000e-04\n",
      "Epoch 5/50\n",
      "\u001b[1m133/133\u001b[0m \u001b[32m━━━━━━━━━━━━━━━━━━━━\u001b[0m\u001b[37m\u001b[0m \u001b[1m54s\u001b[0m 384ms/step - accuracy: 0.9845 - loss: 0.0610 - val_accuracy: 0.9809 - val_loss: 0.0612 - learning_rate: 2.0000e-04\n",
      "Epoch 6/50\n",
      "\u001b[1m133/133\u001b[0m \u001b[32m━━━━━━━━━━━━━━━━━━━━\u001b[0m\u001b[37m\u001b[0m \u001b[1m53s\u001b[0m 379ms/step - accuracy: 0.9880 - loss: 0.0457 - val_accuracy: 0.9852 - val_loss: 0.0710 - learning_rate: 2.0000e-04\n",
      "Epoch 7/50\n",
      "\u001b[1m133/133\u001b[0m \u001b[32m━━━━━━━━━━━━━━━━━━━━\u001b[0m\u001b[37m\u001b[0m \u001b[1m82s\u001b[0m 377ms/step - accuracy: 0.9880 - loss: 0.0378 - val_accuracy: 0.9852 - val_loss: 0.0531 - learning_rate: 2.0000e-04\n",
      "Epoch 8/50\n",
      "\u001b[1m133/133\u001b[0m \u001b[32m━━━━━━━━━━━━━━━━━━━━\u001b[0m\u001b[37m\u001b[0m \u001b[1m54s\u001b[0m 386ms/step - accuracy: 0.9867 - loss: 0.0413 - val_accuracy: 0.9809 - val_loss: 0.0568 - learning_rate: 2.0000e-04\n",
      "Epoch 9/50\n",
      "\u001b[1m133/133\u001b[0m \u001b[32m━━━━━━━━━━━━━━━━━━━━\u001b[0m\u001b[37m\u001b[0m \u001b[1m53s\u001b[0m 382ms/step - accuracy: 0.9937 - loss: 0.0275 - val_accuracy: 0.9809 - val_loss: 0.0604 - learning_rate: 2.0000e-04\n",
      "Epoch 10/50\n",
      "\u001b[1m133/133\u001b[0m \u001b[32m━━━━━━━━━━━━━━━━━━━━\u001b[0m\u001b[37m\u001b[0m \u001b[1m0s\u001b[0m 344ms/step - accuracy: 0.9937 - loss: 0.0239\n",
      "Epoch 10: ReduceLROnPlateau reducing learning rate to 0.00014999999621068127.\n",
      "\u001b[1m133/133\u001b[0m \u001b[32m━━━━━━━━━━━━━━━━━━━━\u001b[0m\u001b[37m\u001b[0m \u001b[1m54s\u001b[0m 383ms/step - accuracy: 0.9937 - loss: 0.0239 - val_accuracy: 0.9725 - val_loss: 0.0765 - learning_rate: 2.0000e-04\n",
      "Epoch 11/50\n",
      "\u001b[1m133/133\u001b[0m \u001b[32m━━━━━━━━━━━━━━━━━━━━\u001b[0m\u001b[37m\u001b[0m \u001b[1m53s\u001b[0m 382ms/step - accuracy: 0.9929 - loss: 0.0277 - val_accuracy: 0.9809 - val_loss: 0.0385 - learning_rate: 1.5000e-04\n",
      "Epoch 12/50\n",
      "\u001b[1m133/133\u001b[0m \u001b[32m━━━━━━━━━━━━━━━━━━━━\u001b[0m\u001b[37m\u001b[0m \u001b[1m52s\u001b[0m 375ms/step - accuracy: 0.9928 - loss: 0.0197 - val_accuracy: 0.9936 - val_loss: 0.0319 - learning_rate: 1.5000e-04\n",
      "Epoch 13/50\n",
      "\u001b[1m133/133\u001b[0m \u001b[32m━━━━━━━━━━━━━━━━━━━━\u001b[0m\u001b[37m\u001b[0m \u001b[1m53s\u001b[0m 380ms/step - accuracy: 0.9958 - loss: 0.0174 - val_accuracy: 0.9852 - val_loss: 0.0391 - learning_rate: 1.5000e-04\n",
      "Epoch 14/50\n",
      "\u001b[1m133/133\u001b[0m \u001b[32m━━━━━━━━━━━━━━━━━━━━\u001b[0m\u001b[37m\u001b[0m \u001b[1m53s\u001b[0m 381ms/step - accuracy: 0.9971 - loss: 0.0158 - val_accuracy: 0.9894 - val_loss: 0.0264 - learning_rate: 1.5000e-04\n",
      "Epoch 15/50\n",
      "\u001b[1m133/133\u001b[0m \u001b[32m━━━━━━━━━━━━━━━━━━━━\u001b[0m\u001b[37m\u001b[0m \u001b[1m53s\u001b[0m 376ms/step - accuracy: 0.9940 - loss: 0.0146 - val_accuracy: 0.9915 - val_loss: 0.0241 - learning_rate: 1.5000e-04\n",
      "Epoch 16/50\n",
      "\u001b[1m133/133\u001b[0m \u001b[32m━━━━━━━━━━━━━━━━━━━━\u001b[0m\u001b[37m\u001b[0m \u001b[1m52s\u001b[0m 375ms/step - accuracy: 0.9957 - loss: 0.0158 - val_accuracy: 0.9873 - val_loss: 0.0527 - learning_rate: 1.5000e-04\n",
      "Epoch 17/50\n",
      "\u001b[1m133/133\u001b[0m \u001b[32m━━━━━━━━━━━━━━━━━━━━\u001b[0m\u001b[37m\u001b[0m \u001b[1m53s\u001b[0m 377ms/step - accuracy: 0.9957 - loss: 0.0151 - val_accuracy: 0.9915 - val_loss: 0.0307 - learning_rate: 1.5000e-04\n",
      "Epoch 18/50\n",
      "\u001b[1m133/133\u001b[0m \u001b[32m━━━━━━━━━━━━━━━━━━━━\u001b[0m\u001b[37m\u001b[0m \u001b[1m0s\u001b[0m 342ms/step - accuracy: 0.9971 - loss: 0.0099\n",
      "Epoch 18: ReduceLROnPlateau reducing learning rate to 0.00011249999442952685.\n",
      "\u001b[1m133/133\u001b[0m \u001b[32m━━━━━━━━━━━━━━━━━━━━\u001b[0m\u001b[37m\u001b[0m \u001b[1m53s\u001b[0m 382ms/step - accuracy: 0.9971 - loss: 0.0098 - val_accuracy: 0.9873 - val_loss: 0.0387 - learning_rate: 1.5000e-04\n",
      "Epoch 19/50\n",
      "\u001b[1m133/133\u001b[0m \u001b[32m━━━━━━━━━━━━━━━━━━━━\u001b[0m\u001b[37m\u001b[0m \u001b[1m52s\u001b[0m 371ms/step - accuracy: 0.9942 - loss: 0.0175 - val_accuracy: 0.9936 - val_loss: 0.0220 - learning_rate: 1.1250e-04\n",
      "Epoch 20/50\n",
      "\u001b[1m133/133\u001b[0m \u001b[32m━━━━━━━━━━━━━━━━━━━━\u001b[0m\u001b[37m\u001b[0m \u001b[1m54s\u001b[0m 383ms/step - accuracy: 0.9976 - loss: 0.0099 - val_accuracy: 0.9894 - val_loss: 0.0231 - learning_rate: 1.1250e-04\n",
      "Epoch 21/50\n",
      "\u001b[1m133/133\u001b[0m \u001b[32m━━━━━━━━━━━━━━━━━━━━\u001b[0m\u001b[37m\u001b[0m \u001b[1m53s\u001b[0m 378ms/step - accuracy: 0.9994 - loss: 0.0073 - val_accuracy: 0.9915 - val_loss: 0.0350 - learning_rate: 1.1250e-04\n",
      "Epoch 22/50\n",
      "\u001b[1m133/133\u001b[0m \u001b[32m━━━━━━━━━━━━━━━━━━━━\u001b[0m\u001b[37m\u001b[0m \u001b[1m0s\u001b[0m 337ms/step - accuracy: 0.9985 - loss: 0.0064\n",
      "Epoch 22: ReduceLROnPlateau reducing learning rate to 8.437499855062924e-05.\n",
      "\u001b[1m133/133\u001b[0m \u001b[32m━━━━━━━━━━━━━━━━━━━━\u001b[0m\u001b[37m\u001b[0m \u001b[1m52s\u001b[0m 375ms/step - accuracy: 0.9985 - loss: 0.0064 - val_accuracy: 0.9852 - val_loss: 0.0303 - learning_rate: 1.1250e-04\n",
      "Epoch 23/50\n",
      "\u001b[1m133/133\u001b[0m \u001b[32m━━━━━━━━━━━━━━━━━━━━\u001b[0m\u001b[37m\u001b[0m \u001b[1m53s\u001b[0m 380ms/step - accuracy: 0.9989 - loss: 0.0052 - val_accuracy: 0.9958 - val_loss: 0.0237 - learning_rate: 8.4375e-05\n",
      "Epoch 24/50\n",
      "\u001b[1m133/133\u001b[0m \u001b[32m━━━━━━━━━━━━━━━━━━━━\u001b[0m\u001b[37m\u001b[0m \u001b[1m53s\u001b[0m 376ms/step - accuracy: 0.9988 - loss: 0.0071 - val_accuracy: 0.9873 - val_loss: 0.0425 - learning_rate: 8.4375e-05\n",
      "Epoch 24: early stopping\n",
      "Restoring model weights from the end of the best epoch: 19.\n",
      "Saving the Model\n",
      "CPU times: user 28min 27s, sys: 19 s, total: 28min 46s\n",
      "Wall time: 24min 31s\n"
     ]
    }
   ],
   "source": [
    "%%time\n",
    "\n",
    "# Train the model\n",
    "history1 = model.fit(\n",
    "      train_generator,\n",
    "      epochs=EPOCHS,\n",
    "      validation_data=validation_generator,\n",
    "      callbacks=[early_stopping, reduce_lr],\n",
    "    )\n",
    "\n",
    "print(\"Saving the Model\")\n",
    "model.save(model.name+\".keras\")"
   ]
  },
  {
   "cell_type": "code",
   "execution_count": 28,
   "id": "3978900b",
   "metadata": {
    "_cell_guid": "50a89a02-9cae-45a5-8eff-7f2265340dad",
    "_uuid": "486028ef-9211-4c49-86ec-a05fa0e92464",
    "collapsed": false,
    "execution": {
     "iopub.execute_input": "2024-09-08T02:52:12.980432Z",
     "iopub.status.busy": "2024-09-08T02:52:12.980076Z",
     "iopub.status.idle": "2024-09-08T02:52:12.984971Z",
     "shell.execute_reply": "2024-09-08T02:52:12.984089Z"
    },
    "jupyter": {
     "outputs_hidden": false
    },
    "papermill": {
     "duration": 0.278462,
     "end_time": "2024-09-08T02:52:12.986970",
     "exception": false,
     "start_time": "2024-09-08T02:52:12.708508",
     "status": "completed"
    },
    "tags": []
   },
   "outputs": [],
   "source": [
    "# Define your folder to save results\n",
    "import os\n",
    "save_folder = model.name\n",
    "os.makedirs(save_folder, exist_ok=True)"
   ]
  },
  {
   "cell_type": "code",
   "execution_count": 29,
   "id": "02ff6460",
   "metadata": {
    "_cell_guid": "f341ec0d-7e4a-4c88-877b-ca2cf181cb11",
    "_uuid": "7789895f-c67d-4e3d-809e-7901c205ab6e",
    "collapsed": false,
    "execution": {
     "iopub.execute_input": "2024-09-08T02:52:13.528783Z",
     "iopub.status.busy": "2024-09-08T02:52:13.528440Z",
     "iopub.status.idle": "2024-09-08T02:52:13.534561Z",
     "shell.execute_reply": "2024-09-08T02:52:13.533696Z"
    },
    "jupyter": {
     "outputs_hidden": false
    },
    "papermill": {
     "duration": 0.281385,
     "end_time": "2024-09-08T02:52:13.536505",
     "exception": false,
     "start_time": "2024-09-08T02:52:13.255120",
     "status": "completed"
    },
    "tags": []
   },
   "outputs": [
    {
     "data": {
      "text/plain": [
       "'CottonWeed-efficientnetb0/CottonWeed-efficientnetb0.h5'"
      ]
     },
     "execution_count": 29,
     "metadata": {},
     "output_type": "execute_result"
    }
   ],
   "source": [
    "filename= model.name+'.h5'\n",
    "model_weight= os.path.join(save_folder, filename)\n",
    "model_weight"
   ]
  },
  {
   "cell_type": "code",
   "execution_count": 30,
   "id": "6e0aa255",
   "metadata": {
    "_cell_guid": "89938583-a561-4412-9d64-45bd35c32205",
    "_uuid": "7de87fdd-c363-4aa2-8f6a-0c6f8e1ab0b1",
    "collapsed": false,
    "execution": {
     "iopub.execute_input": "2024-09-08T02:52:14.077453Z",
     "iopub.status.busy": "2024-09-08T02:52:14.077105Z",
     "iopub.status.idle": "2024-09-08T02:52:14.683131Z",
     "shell.execute_reply": "2024-09-08T02:52:14.682237Z"
    },
    "jupyter": {
     "outputs_hidden": false
    },
    "papermill": {
     "duration": 0.879375,
     "end_time": "2024-09-08T02:52:14.685375",
     "exception": false,
     "start_time": "2024-09-08T02:52:13.806000",
     "status": "completed"
    },
    "tags": []
   },
   "outputs": [
    {
     "name": "stdout",
     "output_type": "stream",
     "text": [
      "Saving the Model\n"
     ]
    }
   ],
   "source": [
    "print(\"Saving the Model\")\n",
    "model.save(model_weight)"
   ]
  },
  {
   "cell_type": "code",
   "execution_count": 31,
   "id": "6b1bae51",
   "metadata": {
    "_cell_guid": "68fb5337-f08c-4600-bfc7-f0daa99f8471",
    "_uuid": "96b9d018-0e4d-47b6-87e9-2e5c96c8acb2",
    "collapsed": false,
    "execution": {
     "iopub.execute_input": "2024-09-08T02:52:15.231776Z",
     "iopub.status.busy": "2024-09-08T02:52:15.231398Z",
     "iopub.status.idle": "2024-09-08T02:52:15.242180Z",
     "shell.execute_reply": "2024-09-08T02:52:15.241438Z"
    },
    "jupyter": {
     "outputs_hidden": false
    },
    "papermill": {
     "duration": 0.285687,
     "end_time": "2024-09-08T02:52:15.243967",
     "exception": false,
     "start_time": "2024-09-08T02:52:14.958280",
     "status": "completed"
    },
    "tags": []
   },
   "outputs": [],
   "source": [
    "#image visualization\n",
    "import matplotlib.pyplot as plt\n",
    "def plot_loss_acc(history):\n",
    "    '''Plots the training and validation loss and accuracy from a history object'''\n",
    "    acc = history['accuracy']\n",
    "    val_acc = history['val_accuracy']\n",
    "    loss = history['loss']\n",
    "    val_loss = history['val_loss']\n",
    "    if 'peaks' in history:\n",
    "        peaks = history['peaks']\n",
    "    else:\n",
    "        _min = np.argmin(val_loss)\n",
    "        peaks = [_min]\n",
    "\n",
    "    epochs = range(len(acc))\n",
    "    print(\"Total Epochs:\",epochs)\n",
    "\n",
    "    plt.figure(figsize=[16, 4])\n",
    "    plt.subplot(1,2,1)\n",
    "    p_value = [val_acc[p] for p in peaks]\n",
    "    plt.scatter(peaks, p_value, marker='o',s=50)\n",
    "    plt.plot(epochs, acc, label='Training accuracy', color='red')\n",
    "    plt.plot(epochs, val_acc, label='Validation accuracy', color='magenta')\n",
    "    plt.title('Training and validation accuracy')\n",
    "    plt.legend()\n",
    "\n",
    "    plt.subplot(1,2,2)\n",
    "    p_value = [val_loss[p] for p in peaks]\n",
    "    plt.scatter(peaks, p_value, marker='o',s=50)\n",
    "    plt.plot(epochs, loss, label='Training Loss', color='red')\n",
    "    plt.plot(epochs, val_loss, label='Validation Loss', color='magenta')\n",
    "    plt.title('Training and validation loss')\n",
    "    plt.legend()\n",
    "    plt.savefig(os.path.join(save_folder, 'training_chart.png'))\n",
    "    plt.show()"
   ]
  },
  {
   "cell_type": "code",
   "execution_count": 32,
   "id": "5b652e99",
   "metadata": {
    "_cell_guid": "06dfea6f-2ec1-44bd-ba5f-6683e5b64e3b",
    "_uuid": "c7d24b5c-3e9a-4043-905a-6e712274d345",
    "collapsed": false,
    "execution": {
     "iopub.execute_input": "2024-09-08T02:52:15.790909Z",
     "iopub.status.busy": "2024-09-08T02:52:15.790050Z",
     "iopub.status.idle": "2024-09-08T02:52:16.484873Z",
     "shell.execute_reply": "2024-09-08T02:52:16.483949Z"
    },
    "jupyter": {
     "outputs_hidden": false
    },
    "papermill": {
     "duration": 0.970159,
     "end_time": "2024-09-08T02:52:16.486985",
     "exception": false,
     "start_time": "2024-09-08T02:52:15.516826",
     "status": "completed"
    },
    "tags": []
   },
   "outputs": [
    {
     "name": "stdout",
     "output_type": "stream",
     "text": [
      "Total Epochs: range(0, 24)\n"
     ]
    },
    {
     "data": {
      "image/png": "[encoded data removed]",
      "text/plain": [
       "<Figure size 1600x400 with 2 Axes>"
      ]
     },
     "metadata": {},
     "output_type": "display_data"
    }
   ],
   "source": [
    "# Plot training results\n",
    "plot_loss_acc(history1.history)"
   ]
  },
  {
   "cell_type": "code",
   "execution_count": 33,
   "id": "ccb7e5dc",
   "metadata": {
    "_cell_guid": "225f6433-4094-4f1d-a759-b82877fd8359",
    "_uuid": "76ae0e9b-f615-4578-b130-699e43e04d89",
    "collapsed": false,
    "execution": {
     "iopub.execute_input": "2024-09-08T02:52:17.080686Z",
     "iopub.status.busy": "2024-09-08T02:52:17.079843Z",
     "iopub.status.idle": "2024-09-08T02:52:17.084540Z",
     "shell.execute_reply": "2024-09-08T02:52:17.083694Z"
    },
    "jupyter": {
     "outputs_hidden": false
    },
    "papermill": {
     "duration": 0.279342,
     "end_time": "2024-09-08T02:52:17.086396",
     "exception": false,
     "start_time": "2024-09-08T02:52:16.807054",
     "status": "completed"
    },
    "tags": []
   },
   "outputs": [],
   "source": [
    "from sklearn.metrics import f1_score, precision_score, recall_score, accuracy_score\n",
    "from sklearn.metrics import ConfusionMatrixDisplay, classification_report\n",
    "import matplotlib.pyplot as plt"
   ]
  },
  {
   "cell_type": "code",
   "execution_count": 34,
   "id": "5738d8af",
   "metadata": {
    "_cell_guid": "b463b6dd-1edb-4412-a191-6a728dfeca40",
    "_uuid": "b22703a3-9de3-43b9-9afc-8d08d8f5ff9e",
    "collapsed": false,
    "execution": {
     "iopub.execute_input": "2024-09-08T02:52:17.664766Z",
     "iopub.status.busy": "2024-09-08T02:52:17.663795Z",
     "iopub.status.idle": "2024-09-08T02:52:42.018682Z",
     "shell.execute_reply": "2024-09-08T02:52:42.017748Z"
    },
    "jupyter": {
     "outputs_hidden": false
    },
    "papermill": {
     "duration": 24.631965,
     "end_time": "2024-09-08T02:52:42.020938",
     "exception": false,
     "start_time": "2024-09-08T02:52:17.388973",
     "status": "completed"
    },
    "tags": []
   },
   "outputs": [
    {
     "name": "stdout",
     "output_type": "stream",
     "text": [
      "\u001b[1m64/64\u001b[0m \u001b[32m━━━━━━━━━━━━━━━━━━━━\u001b[0m\u001b[37m\u001b[0m \u001b[1m24s\u001b[0m 292ms/step\n"
     ]
    }
   ],
   "source": [
    "predictions=model.predict(test_generator)"
   ]
  },
  {
   "cell_type": "code",
   "execution_count": 35,
   "id": "ddd681be",
   "metadata": {
    "_cell_guid": "1005e4b5-e176-4895-8874-763acb025d39",
    "_uuid": "0dc70556-9384-4e37-8afa-5664c8a0f8ed",
    "collapsed": false,
    "execution": {
     "iopub.execute_input": "2024-09-08T02:52:42.582514Z",
     "iopub.status.busy": "2024-09-08T02:52:42.581679Z",
     "iopub.status.idle": "2024-09-08T02:52:42.844586Z",
     "shell.execute_reply": "2024-09-08T02:52:42.843670Z"
    },
    "jupyter": {
     "outputs_hidden": false
    },
    "papermill": {
     "duration": 0.54532,
     "end_time": "2024-09-08T02:52:42.846563",
     "exception": false,
     "start_time": "2024-09-08T02:52:42.301243",
     "status": "completed"
    },
    "tags": []
   },
   "outputs": [
    {
     "name": "stdout",
     "output_type": "stream",
     "text": [
      "Confusion Matrix:\n",
      "[[133   0   0   0   0   0   0   0   1   0   0   0   0   0   1]\n",
      " [  0 135   0   0   0   0   0   0   0   0   0   0   0   0   0]\n",
      " [  0   0 135   0   0   0   0   0   0   0   0   0   0   0   0]\n",
      " [  0   0   0 135   0   0   0   0   0   0   0   0   0   0   0]\n",
      " [  1   0   0   0 133   0   0   0   0   0   0   0   1   0   0]\n",
      " [  0   0   0   0   0 135   0   0   0   0   0   0   0   0   0]\n",
      " [  0   0   0   0   2   0 128   0   0   3   1   0   0   0   1]\n",
      " [  0   0   0   0   0   0   0 135   0   0   0   0   0   0   0]\n",
      " [  2   0   1   0   3   0   0   0 129   0   0   0   0   0   0]\n",
      " [  0   0   0   0   0   0   0   0   0 135   0   0   0   0   0]\n",
      " [  0   0   0   1   0   0   1   0   1   0 132   0   0   0   0]\n",
      " [  0   0   0   0   0   0   0   0   0   0   0 135   0   0   0]\n",
      " [  0   0   0   0   0   0   0   0   0   0   0   0 135   0   0]\n",
      " [  0   0   0   0   0   0   0   0   0   0   0   0   0 134   1]\n",
      " [  0   0   5   0   0   0   2   0   0   0   0   0   0   0 128]]\n"
     ]
    }
   ],
   "source": [
    "import numpy as np\n",
    "from sklearn.metrics import confusion_matrix,ConfusionMatrixDisplay\n",
    "import seaborn as sns\n",
    "import matplotlib.pyplot as plt\n",
    "# Convert predictions to class labels\n",
    "predicted_classes = np.argmax(predictions, axis=1)\n",
    "# Get true labels from the test generator\n",
    "true_labels = test_generator.classes\n",
    "# Compute the confusion matrix\n",
    "conf_matrix = confusion_matrix(true_labels, predicted_classes)\n",
    "\n",
    "# Print the confusion matrix\n",
    "print(\"Confusion Matrix:\")\n",
    "print(conf_matrix)"
   ]
  },
  {
   "cell_type": "code",
   "execution_count": 36,
   "id": "c360e60e",
   "metadata": {
    "_cell_guid": "e4b82eb3-63cd-4fff-a6c9-ebaa7ef3c670",
    "_uuid": "9539e7d3-0703-4289-bc62-894b51225e3d",
    "collapsed": false,
    "execution": {
     "iopub.execute_input": "2024-09-08T02:52:43.398558Z",
     "iopub.status.busy": "2024-09-08T02:52:43.398186Z",
     "iopub.status.idle": "2024-09-08T02:52:43.404296Z",
     "shell.execute_reply": "2024-09-08T02:52:43.403427Z"
    },
    "jupyter": {
     "outputs_hidden": false
    },
    "papermill": {
     "duration": 0.28255,
     "end_time": "2024-09-08T02:52:43.406248",
     "exception": false,
     "start_time": "2024-09-08T02:52:43.123698",
     "status": "completed"
    },
    "tags": []
   },
   "outputs": [],
   "source": [
    "def eval_model(model, data_gen, use_rand_guess=False):\n",
    "    print(\"model.evaluate\")\n",
    "    #model.evaluate(data_gen)\n",
    "\n",
    "    print(\"model.predict\")\n",
    "    actual_labels = []\n",
    "    pred_prob = []\n",
    "    for batch in tqdm(data_gen):\n",
    "        actual_labels.extend([np.argmax(z) for z in batch[1]])\n",
    "        pred_prob.extend(list(model(batch[0], training=False)))\n",
    "\n",
    "    return actual_labels, pred_prob"
   ]
  },
  {
   "cell_type": "code",
   "execution_count": 37,
   "id": "e3e3fd95",
   "metadata": {
    "_cell_guid": "d37682ab-8b79-4431-b232-435e27bfdeec",
    "_uuid": "f2656e6d-7773-4ce4-9453-560d8f348372",
    "collapsed": false,
    "execution": {
     "iopub.execute_input": "2024-09-08T02:52:43.961101Z",
     "iopub.status.busy": "2024-09-08T02:52:43.960296Z",
     "iopub.status.idle": "2024-09-08T02:52:44.979923Z",
     "shell.execute_reply": "2024-09-08T02:52:44.979041Z"
    },
    "jupyter": {
     "outputs_hidden": false
    },
    "papermill": {
     "duration": 1.298715,
     "end_time": "2024-09-08T02:52:44.981922",
     "exception": false,
     "start_time": "2024-09-08T02:52:43.683207",
     "status": "completed"
    },
    "tags": []
   },
   "outputs": [
    {
     "data": {
      "image/png": "[encoded data removed]",
      "text/plain": [
       "<Figure size 640x480 with 2 Axes>"
      ]
     },
     "metadata": {},
     "output_type": "display_data"
    }
   ],
   "source": [
    "cmd = ConfusionMatrixDisplay.from_predictions(\n",
    "        true_labels, predicted_classes,\n",
    "        display_labels=list(test_generator.class_indices.keys()),\n",
    "        xticks_rotation=80, #'vertical',\n",
    "        # ax = ax\n",
    "    )\n",
    "    # fig, ax = plt.subplots(figsize=(25,5))\n",
    "    # cmd.plot(ax=ax)\n",
    "plt.savefig(os.path.join(save_folder, 'confusion-mat.png'))\n",
    "plt.show()"
   ]
  },
  {
   "cell_type": "code",
   "execution_count": 38,
   "id": "e79f51de",
   "metadata": {
    "_cell_guid": "712f8dea-7212-4a5b-a125-b608c0b76a45",
    "_uuid": "3dd276a0-9be5-44a6-8705-77643d9a7fb1",
    "collapsed": false,
    "execution": {
     "iopub.execute_input": "2024-09-08T02:52:45.590398Z",
     "iopub.status.busy": "2024-09-08T02:52:45.589577Z",
     "iopub.status.idle": "2024-09-08T02:52:45.614555Z",
     "shell.execute_reply": "2024-09-08T02:52:45.613676Z"
    },
    "jupyter": {
     "outputs_hidden": false
    },
    "papermill": {
     "duration": 0.310047,
     "end_time": "2024-09-08T02:52:45.616443",
     "exception": false,
     "start_time": "2024-09-08T02:52:45.306396",
     "status": "completed"
    },
    "tags": []
   },
   "outputs": [
    {
     "name": "stdout",
     "output_type": "stream",
     "text": [
      "                precision    recall  f1-score   support\n",
      "\n",
      "   Carpetweeds    0.97794   0.98519   0.98155       135\n",
      "     Crabgrass    1.00000   1.00000   1.00000       135\n",
      "       Eclipta    0.95745   1.00000   0.97826       135\n",
      "    Goosegrass    0.99265   1.00000   0.99631       135\n",
      "  Morningglory    0.96377   0.98519   0.97436       135\n",
      "      Nutsedge    1.00000   1.00000   1.00000       135\n",
      "PalmerAmaranth    0.97710   0.94815   0.96241       135\n",
      "  Prickly Sida    1.00000   1.00000   1.00000       135\n",
      "      Purslane    0.98473   0.95556   0.96992       135\n",
      "       Ragweed    0.97826   1.00000   0.98901       135\n",
      "     Sicklepod    0.99248   0.97778   0.98507       135\n",
      " SpottedSpurge    1.00000   1.00000   1.00000       135\n",
      "  SpurredAnoda    0.99265   1.00000   0.99631       135\n",
      "    Swinecress    1.00000   0.99259   0.99628       135\n",
      "     Waterhemp    0.97710   0.94815   0.96241       135\n",
      "\n",
      "      accuracy                        0.98617      2025\n",
      "     macro avg    0.98627   0.98617   0.98613      2025\n",
      "  weighted avg    0.98627   0.98617   0.98613      2025\n",
      "\n"
     ]
    }
   ],
   "source": [
    "display_labels=list(test_generator.class_indices.keys())\n",
    "class_report=classification_report(true_labels, predicted_classes,digits=5, target_names=display_labels)\n",
    "print(class_report)\n",
    "with open(os.path.join(save_folder, 'classification_report.txt'), 'w') as f:\n",
    "    f.write(classification_report(true_labels, predicted_classes))"
   ]
  },
  {
   "cell_type": "code",
   "execution_count": null,
   "id": "dc33a313",
   "metadata": {
    "_cell_guid": "6803da9f-1fc9-42ab-9d9f-a401fa6b04f8",
    "_uuid": "e4b8c2be-4099-465e-b11e-6c5c67eb4a76",
    "collapsed": false,
    "jupyter": {
     "outputs_hidden": false
    },
    "papermill": {
     "duration": 0.300827,
     "end_time": "2024-09-08T02:52:46.198870",
     "exception": false,
     "start_time": "2024-09-08T02:52:45.898043",
     "status": "completed"
    },
    "tags": []
   },
   "outputs": [],
   "source": []
  },
  {
   "cell_type": "code",
   "execution_count": null,
   "id": "6856dc21",
   "metadata": {
    "_cell_guid": "9c858469-f2ee-496b-8ba7-d721aaae2a86",
    "_uuid": "777c4cd0-041e-4101-8ef3-0e265868efca",
    "collapsed": false,
    "jupyter": {
     "outputs_hidden": false
    },
    "papermill": {
     "duration": 0.275776,
     "end_time": "2024-09-08T02:52:46.751395",
     "exception": false,
     "start_time": "2024-09-08T02:52:46.475619",
     "status": "completed"
    },
    "tags": []
   },
   "outputs": [],
   "source": []
  }
 ],
 "metadata": {
  "kaggle": {
   "accelerator": "gpu",
   "dataSources": [
    {
     "datasetId": 5607522,
     "sourceId": 9266314,
     "sourceType": "datasetVersion"
    }
   ],
   "dockerImageVersionId": 30747,
   "isGpuEnabled": true,
   "isInternetEnabled": true,
   "language": "python",
   "sourceType": "notebook"
  },
  "kernelspec": {
   "display_name": "Python 3",
   "language": "python",
   "name": "python3"
  },
  "language_info": {
   "codemirror_mode": {
    "name": "ipython",
    "version": 3
   },
   "file_extension": ".py",
   "mimetype": "text/x-python",
   "name": "python",
   "nbconvert_exporter": "python",
   "pygments_lexer": "ipython3",
   "version": "3.10.13"
  },
  "papermill": {
   "default_parameters": {},
   "duration": 1530.947261,
   "end_time": "2024-09-08T02:52:51.102434",
   "environment_variables": {},
   "exception": null,
   "input_path": "__notebook__.ipynb",
   "output_path": "__notebook__.ipynb",
   "parameters": {},
   "start_time": "2024-09-08T02:27:20.155173",
   "version": "2.5.0"
  }
 },
 "nbformat": 4,
 "nbformat_minor": 5
}
