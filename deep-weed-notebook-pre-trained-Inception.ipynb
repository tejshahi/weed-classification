{
 "cells": [
  {
   "cell_type": "code",
   "execution_count": 1,
   "id": "867383bb",
   "metadata": {
    "_cell_guid": "b1076dfc-b9ad-4769-8c92-a6c4dae69d19",
    "_uuid": "8f2839f25d086af736a60e9eeb907d3b93b6e0e5",
    "execution": {
     "iopub.execute_input": "2024-08-23T12:36:58.472319Z",
     "iopub.status.busy": "2024-08-23T12:36:58.471560Z",
     "iopub.status.idle": "2024-08-23T12:36:59.228532Z",
     "shell.execute_reply": "2024-08-23T12:36:59.227526Z"
    },
    "papermill": {
     "duration": 0.771307,
     "end_time": "2024-08-23T12:36:59.230884",
     "exception": false,
     "start_time": "2024-08-23T12:36:58.459577",
     "status": "completed"
    },
    "tags": []
   },
   "outputs": [],
   "source": [
    "# This Python 3 environment comes with many helpful analytics libraries installed\n",
    "# It is defined by the kaggle/python Docker image: https://github.com/kaggle/docker-python\n",
    "# For example, here's several helpful packages to load\n",
    "\n",
    "import numpy as np # linear algebra\n",
    "import pandas as pd # data processing, CSV file I/O (e.g. pd.read_csv)\n",
    "\n",
    "# Input data files are available in the read-only \"../input/\" directory\n",
    "# For example, running this (by clicking run or pressing Shift+Enter) will list all files under the input directory\n",
    "\n",
    "#import the necessary packages\n",
    "import numpy as np # linear algebra\n",
    "import pandas as pd # data processing, CSV file I/O (e.g. pd.read_csv)\n",
    "from pathlib import Path\n",
    "from collections import Counter"
   ]
  },
  {
   "cell_type": "code",
   "execution_count": 2,
   "id": "b45c9cd7",
   "metadata": {
    "execution": {
     "iopub.execute_input": "2024-08-23T12:36:59.251677Z",
     "iopub.status.busy": "2024-08-23T12:36:59.251230Z",
     "iopub.status.idle": "2024-08-23T12:37:11.393986Z",
     "shell.execute_reply": "2024-08-23T12:37:11.393204Z"
    },
    "papermill": {
     "duration": 12.155678,
     "end_time": "2024-08-23T12:37:11.396468",
     "exception": false,
     "start_time": "2024-08-23T12:36:59.240790",
     "status": "completed"
    },
    "tags": []
   },
   "outputs": [],
   "source": [
    "from tensorflow.keras.applications import MobileNet, MobileNetV2, MobileNetV3Small, MobileNetV3Large, VGG16\n",
    "from tensorflow.keras.applications import EfficientNetV2S, ConvNeXtSmall, DenseNet121,ResNet50,InceptionV3\n",
    "from tensorflow.keras.layers import Input, Dense, GlobalAveragePooling2D,Flatten,Dropout\n",
    "from tensorflow.keras.models import Model\n",
    "from tensorflow import keras\n",
    "from tensorflow.keras.applications.mobilenet import preprocess_input as mob_preprocess_input\n",
    "from tensorflow.keras.applications.efficientnet_v2 import preprocess_input as eff_preprocess_input\n",
    "from tensorflow.keras.applications.convnext import preprocess_input as conv_preprocess_input\n",
    "from tensorflow.keras.applications.vgg16 import preprocess_input as vgg_preprocess_input\n"
   ]
  },
  {
   "cell_type": "code",
   "execution_count": 3,
   "id": "cd76defd",
   "metadata": {
    "execution": {
     "iopub.execute_input": "2024-08-23T12:37:11.416960Z",
     "iopub.status.busy": "2024-08-23T12:37:11.416454Z",
     "iopub.status.idle": "2024-08-23T12:37:11.629387Z",
     "shell.execute_reply": "2024-08-23T12:37:11.628358Z"
    },
    "papermill": {
     "duration": 0.225583,
     "end_time": "2024-08-23T12:37:11.631759",
     "exception": false,
     "start_time": "2024-08-23T12:37:11.406176",
     "status": "completed"
    },
    "tags": []
   },
   "outputs": [
    {
     "name": "stdout",
     "output_type": "stream",
     "text": [
      "GPUs are available:\n",
      "PhysicalDevice(name='/physical_device:GPU:0', device_type='GPU')\n"
     ]
    }
   ],
   "source": [
    "import tensorflow as tf\n",
    "\n",
    "# Check available GPUs\n",
    "gpus = tf.config.list_physical_devices('GPU')\n",
    "if gpus:\n",
    "    print(\"GPUs are available:\")\n",
    "    for gpu in gpus:\n",
    "        print(gpu)\n",
    "else:\n",
    "    print(\"No GPUs detected.\")"
   ]
  },
  {
   "cell_type": "code",
   "execution_count": 4,
   "id": "8d20283f",
   "metadata": {
    "execution": {
     "iopub.execute_input": "2024-08-23T12:37:11.658463Z",
     "iopub.status.busy": "2024-08-23T12:37:11.657561Z",
     "iopub.status.idle": "2024-08-23T12:37:11.730683Z",
     "shell.execute_reply": "2024-08-23T12:37:11.729643Z"
    },
    "papermill": {
     "duration": 0.090818,
     "end_time": "2024-08-23T12:37:11.733218",
     "exception": false,
     "start_time": "2024-08-23T12:37:11.642400",
     "status": "completed"
    },
    "tags": []
   },
   "outputs": [
    {
     "data": {
      "text/html": [
       "<div>\n",
       "<style scoped>\n",
       "    .dataframe tbody tr th:only-of-type {\n",
       "        vertical-align: middle;\n",
       "    }\n",
       "\n",
       "    .dataframe tbody tr th {\n",
       "        vertical-align: top;\n",
       "    }\n",
       "\n",
       "    .dataframe thead th {\n",
       "        text-align: right;\n",
       "    }\n",
       "</style>\n",
       "<table border=\"1\" class=\"dataframe\">\n",
       "  <thead>\n",
       "    <tr style=\"text-align: right;\">\n",
       "      <th></th>\n",
       "      <th>Filename</th>\n",
       "      <th>Label</th>\n",
       "      <th>Species</th>\n",
       "    </tr>\n",
       "  </thead>\n",
       "  <tbody>\n",
       "    <tr>\n",
       "      <th>0</th>\n",
       "      <td>20160928-140314-0.jpg</td>\n",
       "      <td>0</td>\n",
       "      <td>Chinee apple</td>\n",
       "    </tr>\n",
       "    <tr>\n",
       "      <th>1</th>\n",
       "      <td>20160928-140337-0.jpg</td>\n",
       "      <td>0</td>\n",
       "      <td>Chinee apple</td>\n",
       "    </tr>\n",
       "    <tr>\n",
       "      <th>2</th>\n",
       "      <td>20160928-140731-0.jpg</td>\n",
       "      <td>0</td>\n",
       "      <td>Chinee apple</td>\n",
       "    </tr>\n",
       "    <tr>\n",
       "      <th>3</th>\n",
       "      <td>20160928-140747-0.jpg</td>\n",
       "      <td>0</td>\n",
       "      <td>Chinee apple</td>\n",
       "    </tr>\n",
       "    <tr>\n",
       "      <th>4</th>\n",
       "      <td>20160928-141107-0.jpg</td>\n",
       "      <td>0</td>\n",
       "      <td>Chinee apple</td>\n",
       "    </tr>\n",
       "  </tbody>\n",
       "</table>\n",
       "</div>"
      ],
      "text/plain": [
       "                Filename  Label       Species\n",
       "0  20160928-140314-0.jpg      0  Chinee apple\n",
       "1  20160928-140337-0.jpg      0  Chinee apple\n",
       "2  20160928-140731-0.jpg      0  Chinee apple\n",
       "3  20160928-140747-0.jpg      0  Chinee apple\n",
       "4  20160928-141107-0.jpg      0  Chinee apple"
      ]
     },
     "execution_count": 4,
     "metadata": {},
     "output_type": "execute_result"
    }
   ],
   "source": [
    "#read label information\n",
    "df = pd.read_csv('/kaggle/input/deepweeds/labels.csv')\n",
    "df.head()"
   ]
  },
  {
   "cell_type": "code",
   "execution_count": 5,
   "id": "31b2c85b",
   "metadata": {
    "execution": {
     "iopub.execute_input": "2024-08-23T12:37:11.755128Z",
     "iopub.status.busy": "2024-08-23T12:37:11.754802Z",
     "iopub.status.idle": "2024-08-23T12:37:11.778659Z",
     "shell.execute_reply": "2024-08-23T12:37:11.777687Z"
    },
    "papermill": {
     "duration": 0.036607,
     "end_time": "2024-08-23T12:37:11.780822",
     "exception": false,
     "start_time": "2024-08-23T12:37:11.744215",
     "status": "completed"
    },
    "tags": []
   },
   "outputs": [
    {
     "data": {
      "text/html": [
       "<div>\n",
       "<style scoped>\n",
       "    .dataframe tbody tr th:only-of-type {\n",
       "        vertical-align: middle;\n",
       "    }\n",
       "\n",
       "    .dataframe tbody tr th {\n",
       "        vertical-align: top;\n",
       "    }\n",
       "\n",
       "    .dataframe thead th {\n",
       "        text-align: right;\n",
       "    }\n",
       "</style>\n",
       "<table border=\"1\" class=\"dataframe\">\n",
       "  <thead>\n",
       "    <tr style=\"text-align: right;\">\n",
       "      <th>Species</th>\n",
       "      <th>Chinee apple</th>\n",
       "      <th>Lantana</th>\n",
       "      <th>Negative</th>\n",
       "      <th>Parkinsonia</th>\n",
       "      <th>Parthenium</th>\n",
       "      <th>Prickly acacia</th>\n",
       "      <th>Rubber vine</th>\n",
       "      <th>Siam weed</th>\n",
       "      <th>Snake weed</th>\n",
       "    </tr>\n",
       "  </thead>\n",
       "  <tbody>\n",
       "    <tr>\n",
       "      <th>Label</th>\n",
       "      <td>1125</td>\n",
       "      <td>1064</td>\n",
       "      <td>9106</td>\n",
       "      <td>1031</td>\n",
       "      <td>1022</td>\n",
       "      <td>1062</td>\n",
       "      <td>1009</td>\n",
       "      <td>1074</td>\n",
       "      <td>1016</td>\n",
       "    </tr>\n",
       "  </tbody>\n",
       "</table>\n",
       "</div>"
      ],
      "text/plain": [
       "Species  Chinee apple  Lantana  Negative  Parkinsonia  Parthenium  \\\n",
       "Label            1125     1064      9106         1031        1022   \n",
       "\n",
       "Species  Prickly acacia  Rubber vine  Siam weed  Snake weed  \n",
       "Label              1062         1009       1074        1016  "
      ]
     },
     "execution_count": 5,
     "metadata": {},
     "output_type": "execute_result"
    }
   ],
   "source": [
    "df[['Species','Label']].groupby(by='Species').count().T"
   ]
  },
  {
   "cell_type": "code",
   "execution_count": 6,
   "id": "203e0d4e",
   "metadata": {
    "execution": {
     "iopub.execute_input": "2024-08-23T12:37:11.803146Z",
     "iopub.status.busy": "2024-08-23T12:37:11.802622Z",
     "iopub.status.idle": "2024-08-23T12:37:11.817254Z",
     "shell.execute_reply": "2024-08-23T12:37:11.816391Z"
    },
    "papermill": {
     "duration": 0.027427,
     "end_time": "2024-08-23T12:37:11.819256",
     "exception": false,
     "start_time": "2024-08-23T12:37:11.791829",
     "status": "completed"
    },
    "tags": []
   },
   "outputs": [
    {
     "data": {
      "text/plain": [
       "{0: 'Chinee apple',\n",
       " 1: 'Lantana',\n",
       " 8: 'Negative',\n",
       " 2: 'Parkinsonia',\n",
       " 3: 'Parthenium',\n",
       " 4: 'Prickly acacia',\n",
       " 5: 'Rubber vine',\n",
       " 6: 'Siam weed',\n",
       " 7: 'Snake weed'}"
      ]
     },
     "execution_count": 6,
     "metadata": {},
     "output_type": "execute_result"
    }
   ],
   "source": [
    "label2id = df[['Species','Label']].groupby(by='Species').min().to_dict()['Label']\n",
    "id2label = {label2id[i]:i for i in label2id}\n",
    "id2label"
   ]
  },
  {
   "cell_type": "code",
   "execution_count": 7,
   "id": "2813cc46",
   "metadata": {
    "execution": {
     "iopub.execute_input": "2024-08-23T12:37:11.840587Z",
     "iopub.status.busy": "2024-08-23T12:37:11.840086Z",
     "iopub.status.idle": "2024-08-23T12:37:11.847103Z",
     "shell.execute_reply": "2024-08-23T12:37:11.846250Z"
    },
    "papermill": {
     "duration": 0.019549,
     "end_time": "2024-08-23T12:37:11.848871",
     "exception": false,
     "start_time": "2024-08-23T12:37:11.829322",
     "status": "completed"
    },
    "tags": []
   },
   "outputs": [
    {
     "data": {
      "text/plain": [
       "9"
      ]
     },
     "execution_count": 7,
     "metadata": {},
     "output_type": "execute_result"
    }
   ],
   "source": [
    "num_classes = len(df['Label'].unique())\n",
    "num_classes"
   ]
  },
  {
   "cell_type": "code",
   "execution_count": 8,
   "id": "732c8731",
   "metadata": {
    "execution": {
     "iopub.execute_input": "2024-08-23T12:37:11.870045Z",
     "iopub.status.busy": "2024-08-23T12:37:11.869744Z",
     "iopub.status.idle": "2024-08-23T12:37:11.883898Z",
     "shell.execute_reply": "2024-08-23T12:37:11.882935Z"
    },
    "papermill": {
     "duration": 0.026937,
     "end_time": "2024-08-23T12:37:11.885779",
     "exception": false,
     "start_time": "2024-08-23T12:37:11.858842",
     "status": "completed"
    },
    "tags": []
   },
   "outputs": [
    {
     "name": "stderr",
     "output_type": "stream",
     "text": [
      "/tmp/ipykernel_23/2892309576.py:2: SettingWithCopyWarning: \n",
      "A value is trying to be set on a copy of a slice from a DataFrame.\n",
      "Try using .loc[row_indexer,col_indexer] = value instead\n",
      "\n",
      "See the caveats in the documentation: https://pandas.pydata.org/pandas-docs/stable/user_guide/indexing.html#returning-a-view-versus-a-copy\n",
      "  df1['Label']=df['Label'].astype(int)\n"
     ]
    },
    {
     "data": {
      "text/html": [
       "<div>\n",
       "<style scoped>\n",
       "    .dataframe tbody tr th:only-of-type {\n",
       "        vertical-align: middle;\n",
       "    }\n",
       "\n",
       "    .dataframe tbody tr th {\n",
       "        vertical-align: top;\n",
       "    }\n",
       "\n",
       "    .dataframe thead th {\n",
       "        text-align: right;\n",
       "    }\n",
       "</style>\n",
       "<table border=\"1\" class=\"dataframe\">\n",
       "  <thead>\n",
       "    <tr style=\"text-align: right;\">\n",
       "      <th></th>\n",
       "      <th>Filename</th>\n",
       "      <th>Label</th>\n",
       "      <th>Species</th>\n",
       "    </tr>\n",
       "  </thead>\n",
       "  <tbody>\n",
       "    <tr>\n",
       "      <th>0</th>\n",
       "      <td>20160928-140314-0.jpg</td>\n",
       "      <td>0</td>\n",
       "      <td>Chinee apple</td>\n",
       "    </tr>\n",
       "    <tr>\n",
       "      <th>1</th>\n",
       "      <td>20160928-140337-0.jpg</td>\n",
       "      <td>0</td>\n",
       "      <td>Chinee apple</td>\n",
       "    </tr>\n",
       "    <tr>\n",
       "      <th>2</th>\n",
       "      <td>20160928-140731-0.jpg</td>\n",
       "      <td>0</td>\n",
       "      <td>Chinee apple</td>\n",
       "    </tr>\n",
       "    <tr>\n",
       "      <th>3</th>\n",
       "      <td>20160928-140747-0.jpg</td>\n",
       "      <td>0</td>\n",
       "      <td>Chinee apple</td>\n",
       "    </tr>\n",
       "    <tr>\n",
       "      <th>4</th>\n",
       "      <td>20160928-141107-0.jpg</td>\n",
       "      <td>0</td>\n",
       "      <td>Chinee apple</td>\n",
       "    </tr>\n",
       "  </tbody>\n",
       "</table>\n",
       "</div>"
      ],
      "text/plain": [
       "                Filename  Label       Species\n",
       "0  20160928-140314-0.jpg      0  Chinee apple\n",
       "1  20160928-140337-0.jpg      0  Chinee apple\n",
       "2  20160928-140731-0.jpg      0  Chinee apple\n",
       "3  20160928-140747-0.jpg      0  Chinee apple\n",
       "4  20160928-141107-0.jpg      0  Chinee apple"
      ]
     },
     "execution_count": 8,
     "metadata": {},
     "output_type": "execute_result"
    }
   ],
   "source": [
    "df1=df[['Filename','Label']]\n",
    "df1['Label']=df['Label'].astype(int)\n",
    "df1['Species'] = df1['Label'].map(id2label)\n",
    "df1.head()"
   ]
  },
  {
   "cell_type": "code",
   "execution_count": 9,
   "id": "81a5cfcf",
   "metadata": {
    "execution": {
     "iopub.execute_input": "2024-08-23T12:37:11.908295Z",
     "iopub.status.busy": "2024-08-23T12:37:11.907952Z",
     "iopub.status.idle": "2024-08-23T12:37:12.986829Z",
     "shell.execute_reply": "2024-08-23T12:37:12.985781Z"
    },
    "papermill": {
     "duration": 1.092535,
     "end_time": "2024-08-23T12:37:12.988831",
     "exception": false,
     "start_time": "2024-08-23T12:37:11.896296",
     "status": "completed"
    },
    "tags": []
   },
   "outputs": [
    {
     "data": {
      "text/plain": [
       "(12256, 5253)"
      ]
     },
     "execution_count": 9,
     "metadata": {},
     "output_type": "execute_result"
    }
   ],
   "source": [
    "from sklearn.model_selection import train_test_split\n",
    "train, test = train_test_split(df1, test_size=0.3, shuffle=True, random_state=23, stratify=df['Label'])\n",
    "train = train.reset_index(drop=True)\n",
    "test = test.reset_index(drop=True)\n",
    "len(train), len(test)"
   ]
  },
  {
   "cell_type": "code",
   "execution_count": 10,
   "id": "243d8894",
   "metadata": {
    "execution": {
     "iopub.execute_input": "2024-08-23T12:37:13.012137Z",
     "iopub.status.busy": "2024-08-23T12:37:13.011134Z",
     "iopub.status.idle": "2024-08-23T12:37:13.022115Z",
     "shell.execute_reply": "2024-08-23T12:37:13.021270Z"
    },
    "papermill": {
     "duration": 0.024509,
     "end_time": "2024-08-23T12:37:13.024086",
     "exception": false,
     "start_time": "2024-08-23T12:37:12.999577",
     "status": "completed"
    },
    "tags": []
   },
   "outputs": [
    {
     "data": {
      "text/plain": [
       "Species\n",
       "Negative          9106\n",
       "Chinee apple      1125\n",
       "Siam weed         1074\n",
       "Lantana           1064\n",
       "Prickly acacia    1062\n",
       "Parkinsonia       1031\n",
       "Parthenium        1022\n",
       "Snake weed        1016\n",
       "Rubber vine       1009\n",
       "Name: count, dtype: int64"
      ]
     },
     "execution_count": 10,
     "metadata": {},
     "output_type": "execute_result"
    }
   ],
   "source": [
    "df1['Species'].value_counts()"
   ]
  },
  {
   "cell_type": "code",
   "execution_count": 11,
   "id": "9191057f",
   "metadata": {
    "execution": {
     "iopub.execute_input": "2024-08-23T12:37:13.047430Z",
     "iopub.status.busy": "2024-08-23T12:37:13.046697Z",
     "iopub.status.idle": "2024-08-23T12:37:13.052647Z",
     "shell.execute_reply": "2024-08-23T12:37:13.051922Z"
    },
    "papermill": {
     "duration": 0.019276,
     "end_time": "2024-08-23T12:37:13.054523",
     "exception": false,
     "start_time": "2024-08-23T12:37:13.035247",
     "status": "completed"
    },
    "tags": []
   },
   "outputs": [],
   "source": [
    "from tensorflow.keras.preprocessing.image import ImageDataGenerator\n",
    "train_datagen = ImageDataGenerator(\n",
    "    rescale=1./255,\n",
    "    shear_range=0.2,\n",
    "    zoom_range=0.2,\n",
    "    width_shift_range=0.2,\n",
    "    height_shift_range=0.2,\n",
    "    horizontal_flip=True,\n",
    "    vertical_flip=True,\n",
    "    fill_mode='nearest',\n",
    "    validation_split=0.2  # Set validation split\n",
    ")"
   ]
  },
  {
   "cell_type": "code",
   "execution_count": 12,
   "id": "2b4481c7",
   "metadata": {
    "execution": {
     "iopub.execute_input": "2024-08-23T12:37:13.076760Z",
     "iopub.status.busy": "2024-08-23T12:37:13.076463Z",
     "iopub.status.idle": "2024-08-23T12:37:13.080250Z",
     "shell.execute_reply": "2024-08-23T12:37:13.079433Z"
    },
    "papermill": {
     "duration": 0.01701,
     "end_time": "2024-08-23T12:37:13.082094",
     "exception": false,
     "start_time": "2024-08-23T12:37:13.065084",
     "status": "completed"
    },
    "tags": []
   },
   "outputs": [],
   "source": [
    "image_size = (224, 224)  # Change based on your model's requirements\n",
    "batch_size = 64"
   ]
  },
  {
   "cell_type": "code",
   "execution_count": 13,
   "id": "88288f0c",
   "metadata": {
    "execution": {
     "iopub.execute_input": "2024-08-23T12:37:13.104161Z",
     "iopub.status.busy": "2024-08-23T12:37:13.103878Z",
     "iopub.status.idle": "2024-08-23T12:37:13.107624Z",
     "shell.execute_reply": "2024-08-23T12:37:13.106773Z"
    },
    "papermill": {
     "duration": 0.016776,
     "end_time": "2024-08-23T12:37:13.109427",
     "exception": false,
     "start_time": "2024-08-23T12:37:13.092651",
     "status": "completed"
    },
    "tags": []
   },
   "outputs": [],
   "source": [
    "img_dir='/kaggle/input/deepweeds/images'"
   ]
  },
  {
   "cell_type": "code",
   "execution_count": 14,
   "id": "1c8b0ddd",
   "metadata": {
    "execution": {
     "iopub.execute_input": "2024-08-23T12:37:13.131739Z",
     "iopub.status.busy": "2024-08-23T12:37:13.131438Z",
     "iopub.status.idle": "2024-08-23T12:37:47.681267Z",
     "shell.execute_reply": "2024-08-23T12:37:47.680358Z"
    },
    "papermill": {
     "duration": 34.573653,
     "end_time": "2024-08-23T12:37:47.693541",
     "exception": false,
     "start_time": "2024-08-23T12:37:13.119888",
     "status": "completed"
    },
    "tags": []
   },
   "outputs": [
    {
     "name": "stdout",
     "output_type": "stream",
     "text": [
      "Found 9805 validated image filenames belonging to 9 classes.\n"
     ]
    }
   ],
   "source": [
    "# Train Data Generator\n",
    "train_generator = train_datagen.flow_from_dataframe(\n",
    "    dataframe=train,\n",
    "    directory=img_dir,\n",
    "    x_col='Filename',\n",
    "    y_col='Species',\n",
    "    target_size=image_size,\n",
    "    batch_size=batch_size,\n",
    "    class_mode='categorical',\n",
    "    subset='training'  # Use subset for training\n",
    ")"
   ]
  },
  {
   "cell_type": "code",
   "execution_count": 15,
   "id": "4ef1dd35",
   "metadata": {
    "execution": {
     "iopub.execute_input": "2024-08-23T12:37:47.716789Z",
     "iopub.status.busy": "2024-08-23T12:37:47.716461Z",
     "iopub.status.idle": "2024-08-23T12:37:47.721393Z",
     "shell.execute_reply": "2024-08-23T12:37:47.720507Z"
    },
    "papermill": {
     "duration": 0.018597,
     "end_time": "2024-08-23T12:37:47.723351",
     "exception": false,
     "start_time": "2024-08-23T12:37:47.704754",
     "status": "completed"
    },
    "tags": []
   },
   "outputs": [
    {
     "name": "stdout",
     "output_type": "stream",
     "text": [
      "Class indices: {'Chinee apple': 0, 'Lantana': 1, 'Negative': 2, 'Parkinsonia': 3, 'Parthenium': 4, 'Prickly acacia': 5, 'Rubber vine': 6, 'Siam weed': 7, 'Snake weed': 8}\n"
     ]
    }
   ],
   "source": [
    "print(\"Class indices:\", train_generator.class_indices)"
   ]
  },
  {
   "cell_type": "code",
   "execution_count": 16,
   "id": "b9e8d189",
   "metadata": {
    "execution": {
     "iopub.execute_input": "2024-08-23T12:37:47.745718Z",
     "iopub.status.busy": "2024-08-23T12:37:47.745424Z",
     "iopub.status.idle": "2024-08-23T12:37:56.732734Z",
     "shell.execute_reply": "2024-08-23T12:37:56.731646Z"
    },
    "papermill": {
     "duration": 9.000997,
     "end_time": "2024-08-23T12:37:56.734926",
     "exception": false,
     "start_time": "2024-08-23T12:37:47.733929",
     "status": "completed"
    },
    "tags": []
   },
   "outputs": [
    {
     "name": "stdout",
     "output_type": "stream",
     "text": [
      "Found 2451 validated image filenames belonging to 9 classes.\n"
     ]
    }
   ],
   "source": [
    "# Validation Data Generator\n",
    "validation_generator = train_datagen.flow_from_dataframe(\n",
    "    dataframe=train,\n",
    "    directory=img_dir,\n",
    "    x_col='Filename',\n",
    "    y_col='Species',\n",
    "    target_size=image_size,\n",
    "    batch_size=batch_size,\n",
    "    class_mode='categorical',\n",
    "    subset='validation'  # Use subset for validation\n",
    ")"
   ]
  },
  {
   "cell_type": "code",
   "execution_count": 17,
   "id": "eac30133",
   "metadata": {
    "execution": {
     "iopub.execute_input": "2024-08-23T12:37:56.758604Z",
     "iopub.status.busy": "2024-08-23T12:37:56.757941Z",
     "iopub.status.idle": "2024-08-23T12:37:56.762653Z",
     "shell.execute_reply": "2024-08-23T12:37:56.761818Z"
    },
    "papermill": {
     "duration": 0.018901,
     "end_time": "2024-08-23T12:37:56.764821",
     "exception": false,
     "start_time": "2024-08-23T12:37:56.745920",
     "status": "completed"
    },
    "tags": []
   },
   "outputs": [
    {
     "name": "stdout",
     "output_type": "stream",
     "text": [
      "Class indices: {'Chinee apple': 0, 'Lantana': 1, 'Negative': 2, 'Parkinsonia': 3, 'Parthenium': 4, 'Prickly acacia': 5, 'Rubber vine': 6, 'Siam weed': 7, 'Snake weed': 8}\n"
     ]
    }
   ],
   "source": [
    "print(\"Class indices:\", validation_generator.class_indices)"
   ]
  },
  {
   "cell_type": "code",
   "execution_count": 18,
   "id": "06f4c856",
   "metadata": {
    "execution": {
     "iopub.execute_input": "2024-08-23T12:37:56.787527Z",
     "iopub.status.busy": "2024-08-23T12:37:56.787209Z",
     "iopub.status.idle": "2024-08-23T12:37:56.791162Z",
     "shell.execute_reply": "2024-08-23T12:37:56.790328Z"
    },
    "papermill": {
     "duration": 0.017487,
     "end_time": "2024-08-23T12:37:56.793102",
     "exception": false,
     "start_time": "2024-08-23T12:37:56.775615",
     "status": "completed"
    },
    "tags": []
   },
   "outputs": [],
   "source": [
    "# Create ImageDataGenerator for test (no augmentation)\n",
    "test_datagen = ImageDataGenerator(\n",
    "    rescale=1./255\n",
    "    )"
   ]
  },
  {
   "cell_type": "code",
   "execution_count": 19,
   "id": "9af8b66a",
   "metadata": {
    "execution": {
     "iopub.execute_input": "2024-08-23T12:37:56.816416Z",
     "iopub.status.busy": "2024-08-23T12:37:56.815682Z",
     "iopub.status.idle": "2024-08-23T12:38:12.235723Z",
     "shell.execute_reply": "2024-08-23T12:38:12.234709Z"
    },
    "papermill": {
     "duration": 15.434013,
     "end_time": "2024-08-23T12:38:12.237869",
     "exception": false,
     "start_time": "2024-08-23T12:37:56.803856",
     "status": "completed"
    },
    "tags": []
   },
   "outputs": [
    {
     "name": "stdout",
     "output_type": "stream",
     "text": [
      "Found 5253 validated image filenames belonging to 9 classes.\n"
     ]
    }
   ],
   "source": [
    "# Test Data Generator\n",
    "test_generator = test_datagen.flow_from_dataframe(\n",
    "    dataframe=test,\n",
    "    directory=img_dir,\n",
    "    x_col='Filename',\n",
    "    y_col='Species',  # Assuming test data might still have labels, if not, use None\n",
    "    target_size=image_size,\n",
    "    batch_size=batch_size,\n",
    "    class_mode='categorical',  # Use 'None' if no labels are available\n",
    "    shuffle=False  # Important for test data to maintain order\n",
    ")"
   ]
  },
  {
   "cell_type": "code",
   "execution_count": 20,
   "id": "9d995afb",
   "metadata": {
    "execution": {
     "iopub.execute_input": "2024-08-23T12:38:12.261162Z",
     "iopub.status.busy": "2024-08-23T12:38:12.260865Z",
     "iopub.status.idle": "2024-08-23T12:38:12.273892Z",
     "shell.execute_reply": "2024-08-23T12:38:12.273060Z"
    },
    "papermill": {
     "duration": 0.026987,
     "end_time": "2024-08-23T12:38:12.275824",
     "exception": false,
     "start_time": "2024-08-23T12:38:12.248837",
     "status": "completed"
    },
    "tags": []
   },
   "outputs": [],
   "source": [
    "#from tensorflow.keras.applications.vgg16 import preprocess_input\n",
    "def buildModel(IMG_SIZE, trainable=True,base_model='VGG',num_classes=num_classes):\n",
    "    # Load the MobileNet model with weights pre-trained on ImageNet.\n",
    "    #base_model, pooler = MobilenetV3Base((224,224,3), use='S')\n",
    "    if(base_model=='Mobilenet'):\n",
    "        base_model=MobileNet(IMG_SIZE, include_top=False, weights='imagenet')\n",
    "        inputs = keras.Input(shape=IMG_SIZE, name='input')\n",
    "        x=mob_preprocess_input(inputs)\n",
    "        x = base_model(x, training=False)\n",
    "    if (base_model=='DenseNet121'):\n",
    "        base_model=DenseNet121(include_top=False, weights='imagenet',input_shape=IMG_SIZE)\n",
    "        inputs = keras.Input(shape=IMG_SIZE, name='input')\n",
    "        #x=vgg_preprocess_input(inputs)\n",
    "        #x=inputs\n",
    "        x = base_model(inputs)\n",
    "    if(base_model=='ResNet50'):\n",
    "        base_model=ResNet50(include_top=False, weights='imagenet',input_shape=IMG_SIZE)\n",
    "        inputs = keras.Input(shape=IMG_SIZE, name='input')\n",
    "        #x=vgg_preprocess_input(inputs)\n",
    "        #x=inputs\n",
    "        x = base_model(inputs)\n",
    "    if (base_model=='InceptionV3'):\n",
    "        base_model=InceptionV3(include_top=False, weights='imagenet',input_shape=IMG_SIZE)\n",
    "        inputs = keras.Input(shape=IMG_SIZE, name='input')\n",
    "        #x=vgg_preprocess_input(inputs)\n",
    "        #x=inputs\n",
    "        x = base_model(inputs)\n",
    "    else:\n",
    "        base_model=VGG16(include_top=False, weights='imagenet',input_shape=IMG_SIZE)\n",
    "        inputs = keras.Input(shape=IMG_SIZE, name='input')\n",
    "        #x=vgg_preprocess_input(inputs)\n",
    "        x=inputs\n",
    "        x = base_model(x)\n",
    "\n",
    "    base_model.trainable = trainable\n",
    "\n",
    "\n",
    "    print(\"Base Model:\", base_model.name)\n",
    "    print(len(base_model.layers))\n",
    "    # Define the input layer.\n",
    "\n",
    "\n",
    "    # Pre-process the input.\n",
    "#     x = layers.Rescaling(1./255, name='PP_Rescale')(inputs)\n",
    "#     x = layers.Resizing(224, 224, name='PP_Resize')(x)\n",
    "\n",
    "    #x = augment(seed)(x)\n",
    "\n",
    "    x = GlobalAveragePooling2D()(x)\n",
    "    #x = Dropout(0.3)(x)\n",
    "    #x=Dense(256,activation='relu')(x)\n",
    "    outputs = Dense(num_classes, activation='softmax')(x)\n",
    "\n",
    "    model_name = \"Deepweed-\" + base_model.name\n",
    "    # Create the model.\n",
    "    model = Model(inputs=inputs, outputs=outputs, name=model_name)\n",
    "\n",
    "    return model"
   ]
  },
  {
   "cell_type": "code",
   "execution_count": 21,
   "id": "e8896042",
   "metadata": {
    "execution": {
     "iopub.execute_input": "2024-08-23T12:38:12.298940Z",
     "iopub.status.busy": "2024-08-23T12:38:12.298250Z",
     "iopub.status.idle": "2024-08-23T12:38:15.161580Z",
     "shell.execute_reply": "2024-08-23T12:38:15.160720Z"
    },
    "papermill": {
     "duration": 2.876901,
     "end_time": "2024-08-23T12:38:15.163468",
     "exception": false,
     "start_time": "2024-08-23T12:38:12.286567",
     "status": "completed"
    },
    "tags": []
   },
   "outputs": [
    {
     "name": "stdout",
     "output_type": "stream",
     "text": [
      "Downloading data from https://storage.googleapis.com/tensorflow/keras-applications/inception_v3/inception_v3_weights_tf_dim_ordering_tf_kernels_notop.h5\n",
      "\u001b[1m87910968/87910968\u001b[0m \u001b[32m━━━━━━━━━━━━━━━━━━━━\u001b[0m\u001b[37m\u001b[0m \u001b[1m0s\u001b[0m 0us/step\n",
      "Base Model: inception_v3\n",
      "311\n"
     ]
    },
    {
     "data": {
      "text/html": [
       "<pre style=\"white-space:pre;overflow-x:auto;line-height:normal;font-family:Menlo,'DejaVu Sans Mono',consolas,'Courier New',monospace\"><span style=\"font-weight: bold\">Model: \"Deepweed-inception_v3\"</span>\n",
       "</pre>\n"
      ],
      "text/plain": [
       "\u001b[1mModel: \"Deepweed-inception_v3\"\u001b[0m\n"
      ]
     },
     "metadata": {},
     "output_type": "display_data"
    },
    {
     "data": {
      "text/html": [
       "<pre style=\"white-space:pre;overflow-x:auto;line-height:normal;font-family:Menlo,'DejaVu Sans Mono',consolas,'Courier New',monospace\">┏━━━━━━━━━━━━━━━━━━━━━━━━━━━━━━━━━┳━━━━━━━━━━━━━━━━━━━━━━━━┳━━━━━━━━━━━━━━━┓\n",
       "┃<span style=\"font-weight: bold\"> Layer (type)                    </span>┃<span style=\"font-weight: bold\"> Output Shape           </span>┃<span style=\"font-weight: bold\">       Param # </span>┃\n",
       "┡━━━━━━━━━━━━━━━━━━━━━━━━━━━━━━━━━╇━━━━━━━━━━━━━━━━━━━━━━━━╇━━━━━━━━━━━━━━━┩\n",
       "│ input (<span style=\"color: #0087ff; text-decoration-color: #0087ff\">InputLayer</span>)              │ (<span style=\"color: #00d7ff; text-decoration-color: #00d7ff\">None</span>, <span style=\"color: #00af00; text-decoration-color: #00af00\">224</span>, <span style=\"color: #00af00; text-decoration-color: #00af00\">224</span>, <span style=\"color: #00af00; text-decoration-color: #00af00\">3</span>)    │             <span style=\"color: #00af00; text-decoration-color: #00af00\">0</span> │\n",
       "├─────────────────────────────────┼────────────────────────┼───────────────┤\n",
       "│ inception_v3 (<span style=\"color: #0087ff; text-decoration-color: #0087ff\">Functional</span>)       │ (<span style=\"color: #00d7ff; text-decoration-color: #00d7ff\">None</span>, <span style=\"color: #00af00; text-decoration-color: #00af00\">5</span>, <span style=\"color: #00af00; text-decoration-color: #00af00\">5</span>, <span style=\"color: #00af00; text-decoration-color: #00af00\">2048</span>)     │    <span style=\"color: #00af00; text-decoration-color: #00af00\">21,802,784</span> │\n",
       "├─────────────────────────────────┼────────────────────────┼───────────────┤\n",
       "│ global_average_pooling2d        │ (<span style=\"color: #00d7ff; text-decoration-color: #00d7ff\">None</span>, <span style=\"color: #00af00; text-decoration-color: #00af00\">2048</span>)           │             <span style=\"color: #00af00; text-decoration-color: #00af00\">0</span> │\n",
       "│ (<span style=\"color: #0087ff; text-decoration-color: #0087ff\">GlobalAveragePooling2D</span>)        │                        │               │\n",
       "├─────────────────────────────────┼────────────────────────┼───────────────┤\n",
       "│ dense (<span style=\"color: #0087ff; text-decoration-color: #0087ff\">Dense</span>)                   │ (<span style=\"color: #00d7ff; text-decoration-color: #00d7ff\">None</span>, <span style=\"color: #00af00; text-decoration-color: #00af00\">9</span>)              │        <span style=\"color: #00af00; text-decoration-color: #00af00\">18,441</span> │\n",
       "└─────────────────────────────────┴────────────────────────┴───────────────┘\n",
       "</pre>\n"
      ],
      "text/plain": [
       "┏━━━━━━━━━━━━━━━━━━━━━━━━━━━━━━━━━┳━━━━━━━━━━━━━━━━━━━━━━━━┳━━━━━━━━━━━━━━━┓\n",
       "┃\u001b[1m \u001b[0m\u001b[1mLayer (type)                   \u001b[0m\u001b[1m \u001b[0m┃\u001b[1m \u001b[0m\u001b[1mOutput Shape          \u001b[0m\u001b[1m \u001b[0m┃\u001b[1m \u001b[0m\u001b[1m      Param #\u001b[0m\u001b[1m \u001b[0m┃\n",
       "┡━━━━━━━━━━━━━━━━━━━━━━━━━━━━━━━━━╇━━━━━━━━━━━━━━━━━━━━━━━━╇━━━━━━━━━━━━━━━┩\n",
       "│ input (\u001b[38;5;33mInputLayer\u001b[0m)              │ (\u001b[38;5;45mNone\u001b[0m, \u001b[38;5;34m224\u001b[0m, \u001b[38;5;34m224\u001b[0m, \u001b[38;5;34m3\u001b[0m)    │             \u001b[38;5;34m0\u001b[0m │\n",
       "├─────────────────────────────────┼────────────────────────┼───────────────┤\n",
       "│ inception_v3 (\u001b[38;5;33mFunctional\u001b[0m)       │ (\u001b[38;5;45mNone\u001b[0m, \u001b[38;5;34m5\u001b[0m, \u001b[38;5;34m5\u001b[0m, \u001b[38;5;34m2048\u001b[0m)     │    \u001b[38;5;34m21,802,784\u001b[0m │\n",
       "├─────────────────────────────────┼────────────────────────┼───────────────┤\n",
       "│ global_average_pooling2d        │ (\u001b[38;5;45mNone\u001b[0m, \u001b[38;5;34m2048\u001b[0m)           │             \u001b[38;5;34m0\u001b[0m │\n",
       "│ (\u001b[38;5;33mGlobalAveragePooling2D\u001b[0m)        │                        │               │\n",
       "├─────────────────────────────────┼────────────────────────┼───────────────┤\n",
       "│ dense (\u001b[38;5;33mDense\u001b[0m)                   │ (\u001b[38;5;45mNone\u001b[0m, \u001b[38;5;34m9\u001b[0m)              │        \u001b[38;5;34m18,441\u001b[0m │\n",
       "└─────────────────────────────────┴────────────────────────┴───────────────┘\n"
      ]
     },
     "metadata": {},
     "output_type": "display_data"
    },
    {
     "data": {
      "text/html": [
       "<pre style=\"white-space:pre;overflow-x:auto;line-height:normal;font-family:Menlo,'DejaVu Sans Mono',consolas,'Courier New',monospace\"><span style=\"font-weight: bold\"> Total params: </span><span style=\"color: #00af00; text-decoration-color: #00af00\">21,821,225</span> (83.24 MB)\n",
       "</pre>\n"
      ],
      "text/plain": [
       "\u001b[1m Total params: \u001b[0m\u001b[38;5;34m21,821,225\u001b[0m (83.24 MB)\n"
      ]
     },
     "metadata": {},
     "output_type": "display_data"
    },
    {
     "data": {
      "text/html": [
       "<pre style=\"white-space:pre;overflow-x:auto;line-height:normal;font-family:Menlo,'DejaVu Sans Mono',consolas,'Courier New',monospace\"><span style=\"font-weight: bold\"> Trainable params: </span><span style=\"color: #00af00; text-decoration-color: #00af00\">21,786,793</span> (83.11 MB)\n",
       "</pre>\n"
      ],
      "text/plain": [
       "\u001b[1m Trainable params: \u001b[0m\u001b[38;5;34m21,786,793\u001b[0m (83.11 MB)\n"
      ]
     },
     "metadata": {},
     "output_type": "display_data"
    },
    {
     "data": {
      "text/html": [
       "<pre style=\"white-space:pre;overflow-x:auto;line-height:normal;font-family:Menlo,'DejaVu Sans Mono',consolas,'Courier New',monospace\"><span style=\"font-weight: bold\"> Non-trainable params: </span><span style=\"color: #00af00; text-decoration-color: #00af00\">34,432</span> (134.50 KB)\n",
       "</pre>\n"
      ],
      "text/plain": [
       "\u001b[1m Non-trainable params: \u001b[0m\u001b[38;5;34m34,432\u001b[0m (134.50 KB)\n"
      ]
     },
     "metadata": {},
     "output_type": "display_data"
    }
   ],
   "source": [
    "model = buildModel(image_size +(3,), trainable=True,base_model='InceptionV3',num_classes=num_classes)\n",
    "model.summary()"
   ]
  },
  {
   "cell_type": "code",
   "execution_count": 22,
   "id": "98357165",
   "metadata": {
    "execution": {
     "iopub.execute_input": "2024-08-23T12:38:15.191293Z",
     "iopub.status.busy": "2024-08-23T12:38:15.190679Z",
     "iopub.status.idle": "2024-08-23T12:38:15.196403Z",
     "shell.execute_reply": "2024-08-23T12:38:15.195570Z"
    },
    "papermill": {
     "duration": 0.021625,
     "end_time": "2024-08-23T12:38:15.198210",
     "exception": false,
     "start_time": "2024-08-23T12:38:15.176585",
     "status": "completed"
    },
    "tags": []
   },
   "outputs": [
    {
     "data": {
      "text/plain": [
       "'Deepweed-inception_v3'"
      ]
     },
     "execution_count": 22,
     "metadata": {},
     "output_type": "execute_result"
    }
   ],
   "source": [
    "model.name"
   ]
  },
  {
   "cell_type": "code",
   "execution_count": 23,
   "id": "a84d8d4d",
   "metadata": {
    "execution": {
     "iopub.execute_input": "2024-08-23T12:38:15.224768Z",
     "iopub.status.busy": "2024-08-23T12:38:15.224464Z",
     "iopub.status.idle": "2024-08-23T12:38:15.244383Z",
     "shell.execute_reply": "2024-08-23T12:38:15.243666Z"
    },
    "papermill": {
     "duration": 0.035441,
     "end_time": "2024-08-23T12:38:15.246239",
     "exception": false,
     "start_time": "2024-08-23T12:38:15.210798",
     "status": "completed"
    },
    "tags": []
   },
   "outputs": [],
   "source": [
    "from tensorflow.keras.optimizers import Adam, AdamW\n",
    "from tensorflow.keras.callbacks import EarlyStopping,ReduceLROnPlateau\n",
    "# Constant for epochs\n",
    "EPOCHS = 40\n",
    "\n",
    "pat_es = 5\n",
    "early_stopping = EarlyStopping(monitor='val_loss', patience=pat_es, verbose=1, restore_best_weights=True)\n",
    "reduce_lr =ReduceLROnPlateau(monitor='val_loss',factor=0.75, patience=3, verbose=1, min_lr=1e-6)\n",
    "\n",
    "model.compile(loss='categorical_crossentropy',\n",
    "          optimizer= AdamW(learning_rate=2e-4,  weight_decay=5e-2),\n",
    "          metrics=['accuracy'])"
   ]
  },
  {
   "cell_type": "code",
   "execution_count": 24,
   "id": "f9997949",
   "metadata": {
    "execution": {
     "iopub.execute_input": "2024-08-23T12:38:15.272659Z",
     "iopub.status.busy": "2024-08-23T12:38:15.272348Z",
     "iopub.status.idle": "2024-08-23T12:38:15.276798Z",
     "shell.execute_reply": "2024-08-23T12:38:15.276058Z"
    },
    "papermill": {
     "duration": 0.019836,
     "end_time": "2024-08-23T12:38:15.278692",
     "exception": false,
     "start_time": "2024-08-23T12:38:15.258856",
     "status": "completed"
    },
    "tags": []
   },
   "outputs": [],
   "source": [
    "# Define your folder to save results\n",
    "import os\n",
    "save_folder = model.name\n",
    "os.makedirs(save_folder, exist_ok=True)"
   ]
  },
  {
   "cell_type": "code",
   "execution_count": 25,
   "id": "b44411ff",
   "metadata": {
    "execution": {
     "iopub.execute_input": "2024-08-23T12:38:15.305028Z",
     "iopub.status.busy": "2024-08-23T12:38:15.304764Z",
     "iopub.status.idle": "2024-08-23T12:38:15.310706Z",
     "shell.execute_reply": "2024-08-23T12:38:15.309833Z"
    },
    "papermill": {
     "duration": 0.021386,
     "end_time": "2024-08-23T12:38:15.312590",
     "exception": false,
     "start_time": "2024-08-23T12:38:15.291204",
     "status": "completed"
    },
    "tags": []
   },
   "outputs": [
    {
     "data": {
      "text/plain": [
       "'Deepweed-inception_v3/Deepweed-inception_v3.h5'"
      ]
     },
     "execution_count": 25,
     "metadata": {},
     "output_type": "execute_result"
    }
   ],
   "source": [
    "filename= model.name+'.h5'\n",
    "model_weight= os.path.join(save_folder, filename)\n",
    "model_weight"
   ]
  },
  {
   "cell_type": "code",
   "execution_count": 26,
   "id": "6557688a",
   "metadata": {
    "execution": {
     "iopub.execute_input": "2024-08-23T12:38:15.339520Z",
     "iopub.status.busy": "2024-08-23T12:38:15.338981Z",
     "iopub.status.idle": "2024-08-23T13:24:48.086430Z",
     "shell.execute_reply": "2024-08-23T13:24:48.085288Z"
    },
    "papermill": {
     "duration": 2792.763072,
     "end_time": "2024-08-23T13:24:48.088425",
     "exception": false,
     "start_time": "2024-08-23T12:38:15.325353",
     "status": "completed"
    },
    "tags": []
   },
   "outputs": [
    {
     "name": "stdout",
     "output_type": "stream",
     "text": [
      "Epoch 1/40\n"
     ]
    },
    {
     "name": "stderr",
     "output_type": "stream",
     "text": [
      "/opt/conda/lib/python3.10/site-packages/keras/src/trainers/data_adapters/py_dataset_adapter.py:121: UserWarning: Your `PyDataset` class should call `super().__init__(**kwargs)` in its constructor. `**kwargs` can include `workers`, `use_multiprocessing`, `max_queue_size`. Do not pass these arguments to `fit()`, as they will be ignored.\n",
      "  self._warn_if_super_not_called()\n",
      "WARNING: All log messages before absl::InitializeLog() is called are written to STDERR\n",
      "I0000 00:00:1724416743.399398      63 service.cc:145] XLA service 0x7fcba00015e0 initialized for platform CUDA (this does not guarantee that XLA will be used). Devices:\n",
      "I0000 00:00:1724416743.399449      63 service.cc:153]   StreamExecutor device (0): Tesla P100-PCIE-16GB, Compute Capability 6.0\n",
      "WARNING: All log messages before absl::InitializeLog() is called are written to STDERR\n",
      "I0000 00:00:1724416783.004486      63 asm_compiler.cc:369] ptxas warning : Registers are spilled to local memory in function 'loop_multiply_fusion_19', 12 bytes spill stores, 24 bytes spill loads\n",
      "\n",
      "I0000 00:00:1724416783.068133      63 device_compiler.h:188] Compiled cluster using XLA!  This line is logged at most once for the lifetime of the process.\n"
     ]
    },
    {
     "name": "stdout",
     "output_type": "stream",
     "text": [
      "\u001b[1m154/154\u001b[0m \u001b[32m━━━━━━━━━━━━━━━━━━━━\u001b[0m\u001b[37m\u001b[0m \u001b[1m353s\u001b[0m 2s/step - accuracy: 0.6337 - loss: 1.0959 - val_accuracy: 0.7740 - val_loss: 0.7573 - learning_rate: 2.0000e-04\n",
      "Epoch 2/40\n",
      "\u001b[1m154/154\u001b[0m \u001b[32m━━━━━━━━━━━━━━━━━━━━\u001b[0m\u001b[37m\u001b[0m \u001b[1m175s\u001b[0m 1s/step - accuracy: 0.8438 - loss: 0.4559 - val_accuracy: 0.7838 - val_loss: 0.6850 - learning_rate: 2.0000e-04\n",
      "Epoch 3/40\n",
      "\u001b[1m154/154\u001b[0m \u001b[32m━━━━━━━━━━━━━━━━━━━━\u001b[0m\u001b[37m\u001b[0m \u001b[1m175s\u001b[0m 1s/step - accuracy: 0.8958 - loss: 0.3022 - val_accuracy: 0.8384 - val_loss: 0.4940 - learning_rate: 2.0000e-04\n",
      "Epoch 4/40\n",
      "\u001b[1m154/154\u001b[0m \u001b[32m━━━━━━━━━━━━━━━━━━━━\u001b[0m\u001b[37m\u001b[0m \u001b[1m174s\u001b[0m 1s/step - accuracy: 0.9128 - loss: 0.2603 - val_accuracy: 0.8380 - val_loss: 0.5902 - learning_rate: 2.0000e-04\n",
      "Epoch 5/40\n",
      "\u001b[1m154/154\u001b[0m \u001b[32m━━━━━━━━━━━━━━━━━━━━\u001b[0m\u001b[37m\u001b[0m \u001b[1m202s\u001b[0m 1s/step - accuracy: 0.9275 - loss: 0.2067 - val_accuracy: 0.8172 - val_loss: 0.6242 - learning_rate: 2.0000e-04\n",
      "Epoch 6/40\n",
      "\u001b[1m154/154\u001b[0m \u001b[32m━━━━━━━━━━━━━━━━━━━━\u001b[0m\u001b[37m\u001b[0m \u001b[1m194s\u001b[0m 1s/step - accuracy: 0.9309 - loss: 0.2021 - val_accuracy: 0.8788 - val_loss: 0.3814 - learning_rate: 2.0000e-04\n",
      "Epoch 7/40\n",
      "\u001b[1m154/154\u001b[0m \u001b[32m━━━━━━━━━━━━━━━━━━━━\u001b[0m\u001b[37m\u001b[0m \u001b[1m217s\u001b[0m 1s/step - accuracy: 0.9492 - loss: 0.1478 - val_accuracy: 0.8723 - val_loss: 0.4343 - learning_rate: 2.0000e-04\n",
      "Epoch 8/40\n",
      "\u001b[1m154/154\u001b[0m \u001b[32m━━━━━━━━━━━━━━━━━━━━\u001b[0m\u001b[37m\u001b[0m \u001b[1m230s\u001b[0m 1s/step - accuracy: 0.9468 - loss: 0.1607 - val_accuracy: 0.8911 - val_loss: 0.3602 - learning_rate: 2.0000e-04\n",
      "Epoch 9/40\n",
      "\u001b[1m154/154\u001b[0m \u001b[32m━━━━━━━━━━━━━━━━━━━━\u001b[0m\u001b[37m\u001b[0m \u001b[1m175s\u001b[0m 1s/step - accuracy: 0.9549 - loss: 0.1337 - val_accuracy: 0.9082 - val_loss: 0.3087 - learning_rate: 2.0000e-04\n",
      "Epoch 10/40\n",
      "\u001b[1m154/154\u001b[0m \u001b[32m━━━━━━━━━━━━━━━━━━━━\u001b[0m\u001b[37m\u001b[0m \u001b[1m174s\u001b[0m 1s/step - accuracy: 0.9598 - loss: 0.1112 - val_accuracy: 0.8841 - val_loss: 0.3639 - learning_rate: 2.0000e-04\n",
      "Epoch 11/40\n",
      "\u001b[1m154/154\u001b[0m \u001b[32m━━━━━━━━━━━━━━━━━━━━\u001b[0m\u001b[37m\u001b[0m \u001b[1m202s\u001b[0m 1s/step - accuracy: 0.9565 - loss: 0.1283 - val_accuracy: 0.8935 - val_loss: 0.3602 - learning_rate: 2.0000e-04\n",
      "Epoch 12/40\n",
      "\u001b[1m154/154\u001b[0m \u001b[32m━━━━━━━━━━━━━━━━━━━━\u001b[0m\u001b[37m\u001b[0m \u001b[1m0s\u001b[0m 853ms/step - accuracy: 0.9675 - loss: 0.0915\n",
      "Epoch 12: ReduceLROnPlateau reducing learning rate to 0.00014999999621068127.\n",
      "\u001b[1m154/154\u001b[0m \u001b[32m━━━━━━━━━━━━━━━━━━━━\u001b[0m\u001b[37m\u001b[0m \u001b[1m171s\u001b[0m 1s/step - accuracy: 0.9675 - loss: 0.0917 - val_accuracy: 0.8849 - val_loss: 0.4465 - learning_rate: 2.0000e-04\n",
      "Epoch 13/40\n",
      "\u001b[1m154/154\u001b[0m \u001b[32m━━━━━━━━━━━━━━━━━━━━\u001b[0m\u001b[37m\u001b[0m \u001b[1m178s\u001b[0m 1s/step - accuracy: 0.9706 - loss: 0.0847 - val_accuracy: 0.9172 - val_loss: 0.3249 - learning_rate: 1.5000e-04\n",
      "Epoch 14/40\n",
      "\u001b[1m154/154\u001b[0m \u001b[32m━━━━━━━━━━━━━━━━━━━━\u001b[0m\u001b[37m\u001b[0m \u001b[1m170s\u001b[0m 1s/step - accuracy: 0.9796 - loss: 0.0644 - val_accuracy: 0.8837 - val_loss: 0.4430 - learning_rate: 1.5000e-04\n",
      "Epoch 14: early stopping\n",
      "Restoring model weights from the end of the best epoch: 9.\n",
      "CPU times: user 45min 57s, sys: 2min 57s, total: 48min 55s\n",
      "Wall time: 46min 32s\n"
     ]
    }
   ],
   "source": [
    "%%time\n",
    "# Train the model\n",
    "history1 = model.fit(\n",
    "      train_generator,\n",
    "      epochs=EPOCHS,\n",
    "      validation_data=validation_generator,\n",
    "      callbacks=[early_stopping, reduce_lr],\n",
    "    )"
   ]
  },
  {
   "cell_type": "code",
   "execution_count": 27,
   "id": "74c22511",
   "metadata": {
    "execution": {
     "iopub.execute_input": "2024-08-23T13:24:48.502586Z",
     "iopub.status.busy": "2024-08-23T13:24:48.501833Z",
     "iopub.status.idle": "2024-08-23T13:24:49.435725Z",
     "shell.execute_reply": "2024-08-23T13:24:49.434726Z"
    },
    "papermill": {
     "duration": 1.120525,
     "end_time": "2024-08-23T13:24:49.438018",
     "exception": false,
     "start_time": "2024-08-23T13:24:48.317493",
     "status": "completed"
    },
    "tags": []
   },
   "outputs": [
    {
     "name": "stdout",
     "output_type": "stream",
     "text": [
      "Saving the Model\n"
     ]
    }
   ],
   "source": [
    "print(\"Saving the Model\")\n",
    "model.save(model_weight)"
   ]
  },
  {
   "cell_type": "code",
   "execution_count": 28,
   "id": "16f02f95",
   "metadata": {
    "execution": {
     "iopub.execute_input": "2024-08-23T13:24:49.811054Z",
     "iopub.status.busy": "2024-08-23T13:24:49.810206Z",
     "iopub.status.idle": "2024-08-23T13:24:49.821157Z",
     "shell.execute_reply": "2024-08-23T13:24:49.820280Z"
    },
    "papermill": {
     "duration": 0.199671,
     "end_time": "2024-08-23T13:24:49.822974",
     "exception": false,
     "start_time": "2024-08-23T13:24:49.623303",
     "status": "completed"
    },
    "tags": []
   },
   "outputs": [],
   "source": [
    "#image visualization\n",
    "import matplotlib.pyplot as plt\n",
    "def plot_loss_acc(history):\n",
    "    '''Plots the training and validation loss and accuracy from a history object'''\n",
    "    acc = history['accuracy']\n",
    "    val_acc = history['val_accuracy']\n",
    "    loss = history['loss']\n",
    "    val_loss = history['val_loss']\n",
    "    if 'peaks' in history:\n",
    "        peaks = history['peaks']\n",
    "    else:\n",
    "        _min = np.argmin(val_loss)\n",
    "        peaks = [_min]\n",
    "\n",
    "    epochs = range(len(acc))\n",
    "    print(\"Total Epochs:\",epochs)\n",
    "\n",
    "    plt.figure(figsize=[16, 4])\n",
    "    plt.subplot(1,2,1)\n",
    "    p_value = [val_acc[p] for p in peaks]\n",
    "    plt.scatter(peaks, p_value, marker='o',s=50)\n",
    "    plt.plot(epochs, acc, label='Training accuracy', color='red')\n",
    "    plt.plot(epochs, val_acc, label='Validation accuracy', color='magenta')\n",
    "    plt.title('Training and validation accuracy')\n",
    "    plt.legend()\n",
    "\n",
    "    plt.subplot(1,2,2)\n",
    "    p_value = [val_loss[p] for p in peaks]\n",
    "    plt.scatter(peaks, p_value, marker='o',s=50)\n",
    "    plt.plot(epochs, loss, label='Training Loss', color='red')\n",
    "    plt.plot(epochs, val_loss, label='Validation Loss', color='magenta')\n",
    "    plt.title('Training and validation loss')\n",
    "    plt.legend()\n",
    "    plt.savefig(os.path.join(save_folder, 'training_chart.png'))\n",
    "    plt.show()"
   ]
  },
  {
   "cell_type": "code",
   "execution_count": 29,
   "id": "9b25970b",
   "metadata": {
    "execution": {
     "iopub.execute_input": "2024-08-23T13:24:50.193289Z",
     "iopub.status.busy": "2024-08-23T13:24:50.192418Z",
     "iopub.status.idle": "2024-08-23T13:24:50.947460Z",
     "shell.execute_reply": "2024-08-23T13:24:50.946535Z"
    },
    "papermill": {
     "duration": 0.943024,
     "end_time": "2024-08-23T13:24:50.949607",
     "exception": false,
     "start_time": "2024-08-23T13:24:50.006583",
     "status": "completed"
    },
    "tags": []
   },
   "outputs": [
    {
     "name": "stdout",
     "output_type": "stream",
     "text": [
      "Total Epochs: range(0, 14)\n"
     ]
    },
    {
     "data": {
      "image/png": "[encoded data removed]",
      "text/plain": [
       "<Figure size 1600x400 with 2 Axes>"
      ]
     },
     "metadata": {},
     "output_type": "display_data"
    }
   ],
   "source": [
    "# Plot training results\n",
    "plot_loss_acc(history1.history)"
   ]
  },
  {
   "cell_type": "code",
   "execution_count": 30,
   "id": "3fc28a05",
   "metadata": {
    "execution": {
     "iopub.execute_input": "2024-08-23T13:24:51.324252Z",
     "iopub.status.busy": "2024-08-23T13:24:51.323390Z",
     "iopub.status.idle": "2024-08-23T13:24:51.328288Z",
     "shell.execute_reply": "2024-08-23T13:24:51.327430Z"
    },
    "papermill": {
     "duration": 0.194848,
     "end_time": "2024-08-23T13:24:51.330152",
     "exception": false,
     "start_time": "2024-08-23T13:24:51.135304",
     "status": "completed"
    },
    "tags": []
   },
   "outputs": [],
   "source": [
    "from sklearn.metrics import f1_score, precision_score, recall_score, accuracy_score\n",
    "from sklearn.metrics import ConfusionMatrixDisplay, classification_report\n",
    "import matplotlib.pyplot as plt"
   ]
  },
  {
   "cell_type": "code",
   "execution_count": 31,
   "id": "5f83cc21",
   "metadata": {
    "execution": {
     "iopub.execute_input": "2024-08-23T13:24:51.702554Z",
     "iopub.status.busy": "2024-08-23T13:24:51.701567Z",
     "iopub.status.idle": "2024-08-23T13:25:44.064154Z",
     "shell.execute_reply": "2024-08-23T13:25:44.063330Z"
    },
    "papermill": {
     "duration": 52.551471,
     "end_time": "2024-08-23T13:25:44.066456",
     "exception": false,
     "start_time": "2024-08-23T13:24:51.514985",
     "status": "completed"
    },
    "tags": []
   },
   "outputs": [
    {
     "name": "stdout",
     "output_type": "stream",
     "text": [
      "\u001b[1m83/83\u001b[0m \u001b[32m━━━━━━━━━━━━━━━━━━━━\u001b[0m\u001b[37m\u001b[0m \u001b[1m51s\u001b[0m 564ms/step\n"
     ]
    }
   ],
   "source": [
    "predictions=model.predict(test_generator)"
   ]
  },
  {
   "cell_type": "code",
   "execution_count": 32,
   "id": "156b0c3b",
   "metadata": {
    "execution": {
     "iopub.execute_input": "2024-08-23T13:25:44.456372Z",
     "iopub.status.busy": "2024-08-23T13:25:44.455618Z",
     "iopub.status.idle": "2024-08-23T13:25:44.895620Z",
     "shell.execute_reply": "2024-08-23T13:25:44.894419Z"
    },
    "papermill": {
     "duration": 0.637817,
     "end_time": "2024-08-23T13:25:44.897753",
     "exception": false,
     "start_time": "2024-08-23T13:25:44.259936",
     "status": "completed"
    },
    "tags": []
   },
   "outputs": [
    {
     "name": "stdout",
     "output_type": "stream",
     "text": [
      "Confusion Matrix:\n",
      "[[ 239   23   17    0   10   11    5    5   27]\n",
      " [   7  287   11    0    2    1    3    6    2]\n",
      " [  15   38 2398    4   84   49   85   38   21]\n",
      " [   0    0    6  275    1   27    0    0    0]\n",
      " [   0    0    3    1  291   11    1    0    0]\n",
      " [   0    0    7    3    3  305    0    0    1]\n",
      " [   1    1    2    0    0    0  299    0    0]\n",
      " [   2    3    8    0    0    0    2  305    2]\n",
      " [  10   18   15    0    5    4    1    3  249]]\n"
     ]
    }
   ],
   "source": [
    "import numpy as np\n",
    "from sklearn.metrics import confusion_matrix,ConfusionMatrixDisplay\n",
    "import seaborn as sns\n",
    "import matplotlib.pyplot as plt\n",
    "# Convert predictions to class labels\n",
    "predicted_classes = np.argmax(predictions, axis=1)\n",
    "# Get true labels from the test generator\n",
    "true_labels = test_generator.classes\n",
    "# Compute the confusion matrix\n",
    "conf_matrix = confusion_matrix(true_labels, predicted_classes)\n",
    "\n",
    "# Print the confusion matrix\n",
    "print(\"Confusion Matrix:\")\n",
    "print(conf_matrix)"
   ]
  },
  {
   "cell_type": "code",
   "execution_count": 33,
   "id": "3da247d2",
   "metadata": {
    "execution": {
     "iopub.execute_input": "2024-08-23T13:25:45.293925Z",
     "iopub.status.busy": "2024-08-23T13:25:45.292958Z",
     "iopub.status.idle": "2024-08-23T13:25:45.857198Z",
     "shell.execute_reply": "2024-08-23T13:25:45.856235Z"
    },
    "papermill": {
     "duration": 0.76282,
     "end_time": "2024-08-23T13:25:45.859464",
     "exception": false,
     "start_time": "2024-08-23T13:25:45.096644",
     "status": "completed"
    },
    "tags": []
   },
   "outputs": [
    {
     "data": {
      "image/png": "[encoded data removed]",
      "text/plain": [
       "<Figure size 640x480 with 2 Axes>"
      ]
     },
     "metadata": {},
     "output_type": "display_data"
    }
   ],
   "source": [
    "cmd = ConfusionMatrixDisplay.from_predictions(\n",
    "        true_labels, predicted_classes,\n",
    "        display_labels=list(test_generator.class_indices.keys()),\n",
    "        xticks_rotation=80, #'vertical',\n",
    "        # ax = ax\n",
    "    )\n",
    "    # fig, ax = plt.subplots(figsize=(25,5))\n",
    "    # cmd.plot(ax=ax)\n",
    "plt.savefig(os.path.join(save_folder, 'confusion-mat.png'))\n",
    "plt.show()"
   ]
  },
  {
   "cell_type": "code",
   "execution_count": 34,
   "id": "1ac133a5",
   "metadata": {
    "execution": {
     "iopub.execute_input": "2024-08-23T13:25:46.256241Z",
     "iopub.status.busy": "2024-08-23T13:25:46.255860Z",
     "iopub.status.idle": "2024-08-23T13:25:46.290641Z",
     "shell.execute_reply": "2024-08-23T13:25:46.289582Z"
    },
    "papermill": {
     "duration": 0.235128,
     "end_time": "2024-08-23T13:25:46.292660",
     "exception": false,
     "start_time": "2024-08-23T13:25:46.057532",
     "status": "completed"
    },
    "tags": []
   },
   "outputs": [
    {
     "name": "stdout",
     "output_type": "stream",
     "text": [
      "                precision    recall  f1-score   support\n",
      "\n",
      "  Chinee apple    0.87226   0.70920   0.78232       337\n",
      "       Lantana    0.77568   0.89969   0.83309       319\n",
      "      Negative    0.97203   0.87775   0.92249      2732\n",
      "   Parkinsonia    0.97173   0.88997   0.92905       309\n",
      "    Parthenium    0.73485   0.94788   0.82788       307\n",
      "Prickly acacia    0.74755   0.95611   0.83906       319\n",
      "   Rubber vine    0.75505   0.98680   0.85551       303\n",
      "     Siam weed    0.85434   0.94720   0.89838       322\n",
      "    Snake weed    0.82450   0.81639   0.82043       305\n",
      "\n",
      "      accuracy                        0.88483      5253\n",
      "     macro avg    0.83422   0.89233   0.85647      5253\n",
      "  weighted avg    0.89790   0.88483   0.88659      5253\n",
      "\n"
     ]
    }
   ],
   "source": [
    "display_labels=list(test_generator.class_indices.keys())\n",
    "class_report=classification_report(true_labels, predicted_classes,digits=5, target_names=display_labels)\n",
    "print(class_report)\n",
    "with open(os.path.join(save_folder, 'classification_report.txt'), 'w') as f:\n",
    "    f.write(classification_report(true_labels, predicted_classes))"
   ]
  },
  {
   "cell_type": "code",
   "execution_count": null,
   "id": "455a0590",
   "metadata": {
    "papermill": {
     "duration": 0.242253,
     "end_time": "2024-08-23T13:25:46.729542",
     "exception": false,
     "start_time": "2024-08-23T13:25:46.487289",
     "status": "completed"
    },
    "tags": []
   },
   "outputs": [],
   "source": []
  },
  {
   "cell_type": "code",
   "execution_count": null,
   "id": "ed57c464",
   "metadata": {
    "papermill": {
     "duration": 0.19447,
     "end_time": "2024-08-23T13:25:47.125251",
     "exception": false,
     "start_time": "2024-08-23T13:25:46.930781",
     "status": "completed"
    },
    "tags": []
   },
   "outputs": [],
   "source": []
  }
 ],
 "metadata": {
  "kaggle": {
   "accelerator": "gpu",
   "dataSources": [
    {
     "datasetId": 4419124,
     "sourceId": 7615277,
     "sourceType": "datasetVersion"
    }
   ],
   "dockerImageVersionId": 30762,
   "isGpuEnabled": true,
   "isInternetEnabled": true,
   "language": "python",
   "sourceType": "notebook"
  },
  "kernelspec": {
   "display_name": "Python 3",
   "language": "python",
   "name": "python3"
  },
  "language_info": {
   "codemirror_mode": {
    "name": "ipython",
    "version": 3
   },
   "file_extension": ".py",
   "mimetype": "text/x-python",
   "name": "python",
   "nbconvert_exporter": "python",
   "pygments_lexer": "ipython3",
   "version": "3.10.14"
  },
  "papermill": {
   "default_parameters": {},
   "duration": 2934.921766,
   "end_time": "2024-08-23T13:25:50.603714",
   "environment_variables": {},
   "exception": null,
   "input_path": "__notebook__.ipynb",
   "output_path": "__notebook__.ipynb",
   "parameters": {},
   "start_time": "2024-08-23T12:36:55.681948",
   "version": "2.6.0"
  }
 },
 "nbformat": 4,
 "nbformat_minor": 5
}
