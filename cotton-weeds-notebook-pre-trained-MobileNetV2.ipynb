{
 "cells": [
  {
   "cell_type": "code",
   "execution_count": 1,
   "id": "0e3af60c",
   "metadata": {
    "_cell_guid": "39b2b498-3b53-426f-a00f-84f2ed0810cf",
    "_uuid": "4965bb40-d57b-41bf-a086-1ca3592e0664",
    "collapsed": false,
    "execution": {
     "iopub.execute_input": "2024-09-08T06:01:28.476819Z",
     "iopub.status.busy": "2024-09-08T06:01:28.475945Z",
     "iopub.status.idle": "2024-09-08T06:01:41.194036Z",
     "shell.execute_reply": "2024-09-08T06:01:41.193017Z"
    },
    "jupyter": {
     "outputs_hidden": false
    },
    "papermill": {
     "duration": 12.734409,
     "end_time": "2024-09-08T06:01:41.196089",
     "exception": false,
     "start_time": "2024-09-08T06:01:28.461680",
     "status": "completed"
    },
    "tags": []
   },
   "outputs": [
    {
     "name": "stderr",
     "output_type": "stream",
     "text": [
      "2024-09-08 06:01:30.241696: E external/local_xla/xla/stream_executor/cuda/cuda_dnn.cc:9261] Unable to register cuDNN factory: Attempting to register factory for plugin cuDNN when one has already been registered\n",
      "2024-09-08 06:01:30.241816: E external/local_xla/xla/stream_executor/cuda/cuda_fft.cc:607] Unable to register cuFFT factory: Attempting to register factory for plugin cuFFT when one has already been registered\n",
      "2024-09-08 06:01:30.373079: E external/local_xla/xla/stream_executor/cuda/cuda_blas.cc:1515] Unable to register cuBLAS factory: Attempting to register factory for plugin cuBLAS when one has already been registered\n"
     ]
    },
    {
     "name": "stdout",
     "output_type": "stream",
     "text": [
      "GPUs are available:\n",
      "PhysicalDevice(name='/physical_device:GPU:0', device_type='GPU')\n"
     ]
    }
   ],
   "source": [
    "import tensorflow as tf\n",
    "\n",
    "# Check available GPUs\n",
    "gpus = tf.config.list_physical_devices('GPU')\n",
    "if gpus:\n",
    "    print(\"GPUs are available:\")\n",
    "    for gpu in gpus:\n",
    "        print(gpu)\n",
    "else:\n",
    "    print(\"No GPUs detected.\")"
   ]
  },
  {
   "cell_type": "code",
   "execution_count": 2,
   "id": "441b2be3",
   "metadata": {
    "_cell_guid": "25af4bba-4268-4eb8-96f2-5ea856918a9c",
    "_uuid": "99ee89a6-c4f3-47b8-8e27-f642a4e4e012",
    "collapsed": false,
    "execution": {
     "iopub.execute_input": "2024-09-08T06:01:41.223103Z",
     "iopub.status.busy": "2024-09-08T06:01:41.222191Z",
     "iopub.status.idle": "2024-09-08T06:01:41.226977Z",
     "shell.execute_reply": "2024-09-08T06:01:41.226136Z"
    },
    "jupyter": {
     "outputs_hidden": false
    },
    "papermill": {
     "duration": 0.020046,
     "end_time": "2024-09-08T06:01:41.228842",
     "exception": false,
     "start_time": "2024-09-08T06:01:41.208796",
     "status": "completed"
    },
    "tags": []
   },
   "outputs": [],
   "source": [
    "# This Python 3 environment comes with many helpful analytics libraries installed\n",
    "# It is defined by the kaggle/python Docker image: https://github.com/kaggle/docker-python\n",
    "# For example, here's several helpful packages to load\n",
    "\n",
    "import numpy as np # linear algebra\n",
    "import pandas as pd # data processing, CSV file I/O (e.g. pd.read_csv)\n",
    "from pathlib import Path\n",
    "from collections import Counter"
   ]
  },
  {
   "cell_type": "code",
   "execution_count": 3,
   "id": "9eda7bd7",
   "metadata": {
    "_cell_guid": "e39d1175-106b-4d22-b84d-f23aa77dc759",
    "_uuid": "61888487-6abf-4e7d-86e7-48c65253ea5a",
    "collapsed": false,
    "execution": {
     "iopub.execute_input": "2024-09-08T06:01:41.255477Z",
     "iopub.status.busy": "2024-09-08T06:01:41.254723Z",
     "iopub.status.idle": "2024-09-08T06:01:41.260795Z",
     "shell.execute_reply": "2024-09-08T06:01:41.259968Z"
    },
    "jupyter": {
     "outputs_hidden": false
    },
    "papermill": {
     "duration": 0.021499,
     "end_time": "2024-09-08T06:01:41.262745",
     "exception": false,
     "start_time": "2024-09-08T06:01:41.241246",
     "status": "completed"
    },
    "tags": []
   },
   "outputs": [],
   "source": [
    "ds_path = Path('/kaggle/input/cottonweed/CottonWeedID15_500_UM').resolve()"
   ]
  },
  {
   "cell_type": "code",
   "execution_count": 4,
   "id": "22da1377",
   "metadata": {
    "_cell_guid": "49af4ad0-3ba7-4c20-b226-1bc4df529b62",
    "_uuid": "1a6c4311-b7ed-4122-a173-09c648f5b4c1",
    "collapsed": false,
    "execution": {
     "iopub.execute_input": "2024-09-08T06:01:41.290362Z",
     "iopub.status.busy": "2024-09-08T06:01:41.289361Z",
     "iopub.status.idle": "2024-09-08T06:01:41.296423Z",
     "shell.execute_reply": "2024-09-08T06:01:41.295615Z"
    },
    "jupyter": {
     "outputs_hidden": false
    },
    "papermill": {
     "duration": 0.022457,
     "end_time": "2024-09-08T06:01:41.298647",
     "exception": false,
     "start_time": "2024-09-08T06:01:41.276190",
     "status": "completed"
    },
    "tags": []
   },
   "outputs": [
    {
     "data": {
      "text/plain": [
       "PosixPath('/kaggle/input/cottonweed/CottonWeedID15_500_UM')"
      ]
     },
     "execution_count": 4,
     "metadata": {},
     "output_type": "execute_result"
    }
   ],
   "source": [
    "ds_path"
   ]
  },
  {
   "cell_type": "code",
   "execution_count": 5,
   "id": "998389b6",
   "metadata": {
    "_cell_guid": "a211cf64-393f-4f17-85c7-47c812261b77",
    "_uuid": "22ecab68-2abf-4fba-80f5-34e5e60be095",
    "collapsed": false,
    "execution": {
     "iopub.execute_input": "2024-09-08T06:01:41.325427Z",
     "iopub.status.busy": "2024-09-08T06:01:41.324778Z",
     "iopub.status.idle": "2024-09-08T06:01:43.269403Z",
     "shell.execute_reply": "2024-09-08T06:01:43.268330Z"
    },
    "jupyter": {
     "outputs_hidden": false
    },
    "papermill": {
     "duration": 1.960594,
     "end_time": "2024-09-08T06:01:43.271817",
     "exception": false,
     "start_time": "2024-09-08T06:01:41.311223",
     "status": "completed"
    },
    "tags": []
   },
   "outputs": [],
   "source": [
    "paths = list(ds_path.glob('*/*'))\n",
    "classes = [path.parent.stem for path in paths]"
   ]
  },
  {
   "cell_type": "code",
   "execution_count": 6,
   "id": "c367ae60",
   "metadata": {
    "_cell_guid": "51ba7fa5-6110-43dc-810d-dd1bf3b16fe0",
    "_uuid": "4ea8d19d-61f0-4cf0-8af2-090de7de80e5",
    "collapsed": false,
    "execution": {
     "iopub.execute_input": "2024-09-08T06:01:43.299861Z",
     "iopub.status.busy": "2024-09-08T06:01:43.299054Z",
     "iopub.status.idle": "2024-09-08T06:01:43.305948Z",
     "shell.execute_reply": "2024-09-08T06:01:43.305133Z"
    },
    "jupyter": {
     "outputs_hidden": false
    },
    "papermill": {
     "duration": 0.022904,
     "end_time": "2024-09-08T06:01:43.307880",
     "exception": false,
     "start_time": "2024-09-08T06:01:43.284976",
     "status": "completed"
    },
    "tags": []
   },
   "outputs": [
    {
     "data": {
      "text/plain": [
       "Counter({'Nutsedge': 450,\n",
       "         'Sicklepod': 450,\n",
       "         'Morningglory': 450,\n",
       "         'Ragweed': 450,\n",
       "         'PalmerAmaranth': 450,\n",
       "         'Waterhemp': 450,\n",
       "         'Crabgrass': 450,\n",
       "         'Swinecress': 450,\n",
       "         'Prickly Sida': 450,\n",
       "         'Carpetweeds': 450,\n",
       "         'SpottedSpurge': 450,\n",
       "         'SpurredAnoda': 450,\n",
       "         'Eclipta': 450,\n",
       "         'Goosegrass': 450,\n",
       "         'Purslane': 450})"
      ]
     },
     "execution_count": 6,
     "metadata": {},
     "output_type": "execute_result"
    }
   ],
   "source": [
    "Counter(classes)"
   ]
  },
  {
   "cell_type": "code",
   "execution_count": 7,
   "id": "ed57e969",
   "metadata": {
    "_cell_guid": "2bc7ba59-c720-486e-aa2b-3154dc6aaf64",
    "_uuid": "d3893590-426c-4bbf-ba8b-5d27d5bcd250",
    "collapsed": false,
    "execution": {
     "iopub.execute_input": "2024-09-08T06:01:43.334214Z",
     "iopub.status.busy": "2024-09-08T06:01:43.333901Z",
     "iopub.status.idle": "2024-09-08T06:01:43.338860Z",
     "shell.execute_reply": "2024-09-08T06:01:43.338180Z"
    },
    "jupyter": {
     "outputs_hidden": false
    },
    "papermill": {
     "duration": 0.020244,
     "end_time": "2024-09-08T06:01:43.340723",
     "exception": false,
     "start_time": "2024-09-08T06:01:43.320479",
     "status": "completed"
    },
    "tags": []
   },
   "outputs": [],
   "source": [
    "# # label2id = {'Nutsedge': 0, 'Sicklepod': 1, 'Morningglory': 2, 'Ragweed': 3,\n",
    "# #             'PalmerAmaranth': 4, 'Waterhemp': 5, 'Crabgrass': 6, 'Swinecress': 7,\n",
    "# #             'Prickly Sida': 8, 'Carpetweeds': 9, 'SpottedSpurge': 10, 'SpurredAnoda': 11,\n",
    "# #             'Eclipta': 12, 'Goosegrass': 13, 'Purslane': 14}\n",
    "# id2label = {label2id[i]:i for i in label2id}\n",
    "# class_names = [id2label[i] for i in range(len(label2id))]\n",
    "\n",
    "# print(id2label)\n",
    "# print(label2id)\n",
    "# print(class_names)"
   ]
  },
  {
   "cell_type": "code",
   "execution_count": 8,
   "id": "9bf05571",
   "metadata": {
    "_cell_guid": "e79740ab-e21e-4728-9942-1472f037eeb9",
    "_uuid": "81198205-a2ec-44e6-bcac-00cc56fdc2af",
    "collapsed": false,
    "execution": {
     "iopub.execute_input": "2024-09-08T06:01:43.367117Z",
     "iopub.status.busy": "2024-09-08T06:01:43.366841Z",
     "iopub.status.idle": "2024-09-08T06:01:43.416033Z",
     "shell.execute_reply": "2024-09-08T06:01:43.414929Z"
    },
    "jupyter": {
     "outputs_hidden": false
    },
    "papermill": {
     "duration": 0.064634,
     "end_time": "2024-09-08T06:01:43.418167",
     "exception": false,
     "start_time": "2024-09-08T06:01:43.353533",
     "status": "completed"
    },
    "tags": []
   },
   "outputs": [
    {
     "name": "stdout",
     "output_type": "stream",
     "text": [
      "<class 'pandas.core.frame.DataFrame'>\n",
      "RangeIndex: 6750 entries, 0 to 6749\n",
      "Data columns (total 3 columns):\n",
      " #   Column  Non-Null Count  Dtype   \n",
      "---  ------  --------------  -----   \n",
      " 0   img     6750 non-null   object  \n",
      " 1   class   6750 non-null   category\n",
      " 2   label   6750 non-null   int8    \n",
      "dtypes: category(1), int8(1), object(1)\n",
      "memory usage: 66.7+ KB\n"
     ]
    }
   ],
   "source": [
    "df = pd.DataFrame({'img':paths, 'class': classes})\n",
    "df['class'] = df['class'].astype('category')\n",
    "df['label'] = df['class'].cat.codes\n",
    "df.info()"
   ]
  },
  {
   "cell_type": "code",
   "execution_count": 9,
   "id": "172f9033",
   "metadata": {
    "_cell_guid": "428905a1-1146-452e-9a36-df5a28f6522c",
    "_uuid": "53ca4008-a557-4246-a309-c40ecfb95ea8",
    "collapsed": false,
    "execution": {
     "iopub.execute_input": "2024-09-08T06:01:43.444809Z",
     "iopub.status.busy": "2024-09-08T06:01:43.444530Z",
     "iopub.status.idle": "2024-09-08T06:01:43.451117Z",
     "shell.execute_reply": "2024-09-08T06:01:43.450273Z"
    },
    "jupyter": {
     "outputs_hidden": false
    },
    "papermill": {
     "duration": 0.021943,
     "end_time": "2024-09-08T06:01:43.452953",
     "exception": false,
     "start_time": "2024-09-08T06:01:43.431010",
     "status": "completed"
    },
    "tags": []
   },
   "outputs": [
    {
     "data": {
      "text/plain": [
       "{0: 'Carpetweeds',\n",
       " 1: 'Crabgrass',\n",
       " 2: 'Eclipta',\n",
       " 3: 'Goosegrass',\n",
       " 4: 'Morningglory',\n",
       " 5: 'Nutsedge',\n",
       " 6: 'PalmerAmaranth',\n",
       " 7: 'Prickly Sida',\n",
       " 8: 'Purslane',\n",
       " 9: 'Ragweed',\n",
       " 10: 'Sicklepod',\n",
       " 11: 'SpottedSpurge',\n",
       " 12: 'SpurredAnoda',\n",
       " 13: 'Swinecress',\n",
       " 14: 'Waterhemp'}"
      ]
     },
     "execution_count": 9,
     "metadata": {},
     "output_type": "execute_result"
    }
   ],
   "source": [
    "class_labels = dict(zip(range(15), df['class'].cat.categories))\n",
    "class_labels"
   ]
  },
  {
   "cell_type": "code",
   "execution_count": 10,
   "id": "48b8b923",
   "metadata": {
    "_cell_guid": "e7e2740a-9e6a-4621-90dd-b52dfefe7412",
    "_uuid": "0cb450ea-6b3e-48d7-a3e6-b2e0a3e1bcd0",
    "collapsed": false,
    "execution": {
     "iopub.execute_input": "2024-09-08T06:01:43.479764Z",
     "iopub.status.busy": "2024-09-08T06:01:43.479285Z",
     "iopub.status.idle": "2024-09-08T06:01:43.484743Z",
     "shell.execute_reply": "2024-09-08T06:01:43.483911Z"
    },
    "jupyter": {
     "outputs_hidden": false
    },
    "papermill": {
     "duration": 0.021027,
     "end_time": "2024-09-08T06:01:43.486734",
     "exception": false,
     "start_time": "2024-09-08T06:01:43.465707",
     "status": "completed"
    },
    "tags": []
   },
   "outputs": [
    {
     "data": {
      "text/plain": [
       "15"
      ]
     },
     "execution_count": 10,
     "metadata": {},
     "output_type": "execute_result"
    }
   ],
   "source": [
    "num_classes = len(class_labels)\n",
    "num_classes"
   ]
  },
  {
   "cell_type": "code",
   "execution_count": 11,
   "id": "6cfde08b",
   "metadata": {
    "_cell_guid": "61f6e6b2-da35-4725-bc3b-9a274fa52e5e",
    "_uuid": "a5f388e9-97a2-431c-8f6b-a2fb1c0574d9",
    "collapsed": false,
    "execution": {
     "iopub.execute_input": "2024-09-08T06:01:43.513885Z",
     "iopub.status.busy": "2024-09-08T06:01:43.513601Z",
     "iopub.status.idle": "2024-09-08T06:01:43.536101Z",
     "shell.execute_reply": "2024-09-08T06:01:43.535242Z"
    },
    "jupyter": {
     "outputs_hidden": false
    },
    "papermill": {
     "duration": 0.038287,
     "end_time": "2024-09-08T06:01:43.537943",
     "exception": false,
     "start_time": "2024-09-08T06:01:43.499656",
     "status": "completed"
    },
    "tags": []
   },
   "outputs": [],
   "source": [
    "df['img']=df['img'].astype(str)\n",
    "#df['label']=df['img'].astype(str)"
   ]
  },
  {
   "cell_type": "code",
   "execution_count": 12,
   "id": "a1e8f287",
   "metadata": {
    "_cell_guid": "a0f950ba-7ec8-42c8-bc8b-dafbbe1a465f",
    "_uuid": "52774d4c-d4f9-42e1-9866-639acc40b56f",
    "collapsed": false,
    "execution": {
     "iopub.execute_input": "2024-09-08T06:01:43.565116Z",
     "iopub.status.busy": "2024-09-08T06:01:43.564770Z",
     "iopub.status.idle": "2024-09-08T06:01:44.375964Z",
     "shell.execute_reply": "2024-09-08T06:01:44.375019Z"
    },
    "jupyter": {
     "outputs_hidden": false
    },
    "papermill": {
     "duration": 0.827028,
     "end_time": "2024-09-08T06:01:44.378033",
     "exception": false,
     "start_time": "2024-09-08T06:01:43.551005",
     "status": "completed"
    },
    "tags": []
   },
   "outputs": [
    {
     "data": {
      "text/plain": [
       "(4725, 2025)"
      ]
     },
     "execution_count": 12,
     "metadata": {},
     "output_type": "execute_result"
    }
   ],
   "source": [
    "from sklearn.model_selection import train_test_split\n",
    "train, test = train_test_split(df, test_size=0.3, shuffle=True, random_state=1230, stratify=df['label'])\n",
    "train = train.reset_index(drop=True)\n",
    "test = test.reset_index(drop=True)\n",
    "len(train), len(test)"
   ]
  },
  {
   "cell_type": "code",
   "execution_count": 13,
   "id": "8c8364c0",
   "metadata": {
    "_cell_guid": "ddc39155-6e84-486a-9993-e30271777a47",
    "_uuid": "a5275ae7-5b45-4c30-b756-15217d858565",
    "collapsed": false,
    "execution": {
     "iopub.execute_input": "2024-09-08T06:01:44.406118Z",
     "iopub.status.busy": "2024-09-08T06:01:44.405797Z",
     "iopub.status.idle": "2024-09-08T06:01:44.410866Z",
     "shell.execute_reply": "2024-09-08T06:01:44.410055Z"
    },
    "jupyter": {
     "outputs_hidden": false
    },
    "papermill": {
     "duration": 0.021027,
     "end_time": "2024-09-08T06:01:44.412672",
     "exception": false,
     "start_time": "2024-09-08T06:01:44.391645",
     "status": "completed"
    },
    "tags": []
   },
   "outputs": [],
   "source": [
    "train.reset_index(inplace=True)\n",
    "test.reset_index(inplace=True)"
   ]
  },
  {
   "cell_type": "code",
   "execution_count": 14,
   "id": "0421172b",
   "metadata": {
    "_cell_guid": "b82fd571-671d-44cf-8915-bc920e0219e2",
    "_uuid": "80be6a27-2b39-4173-b195-04b2774b9f9b",
    "collapsed": false,
    "execution": {
     "iopub.execute_input": "2024-09-08T06:01:44.439972Z",
     "iopub.status.busy": "2024-09-08T06:01:44.439692Z",
     "iopub.status.idle": "2024-09-08T06:01:44.452473Z",
     "shell.execute_reply": "2024-09-08T06:01:44.451636Z"
    },
    "jupyter": {
     "outputs_hidden": false
    },
    "papermill": {
     "duration": 0.028418,
     "end_time": "2024-09-08T06:01:44.454299",
     "exception": false,
     "start_time": "2024-09-08T06:01:44.425881",
     "status": "completed"
    },
    "tags": []
   },
   "outputs": [
    {
     "data": {
      "text/html": [
       "<div>\n",
       "<style scoped>\n",
       "    .dataframe tbody tr th:only-of-type {\n",
       "        vertical-align: middle;\n",
       "    }\n",
       "\n",
       "    .dataframe tbody tr th {\n",
       "        vertical-align: top;\n",
       "    }\n",
       "\n",
       "    .dataframe thead th {\n",
       "        text-align: right;\n",
       "    }\n",
       "</style>\n",
       "<table border=\"1\" class=\"dataframe\">\n",
       "  <thead>\n",
       "    <tr style=\"text-align: right;\">\n",
       "      <th></th>\n",
       "      <th>index</th>\n",
       "      <th>img</th>\n",
       "      <th>class</th>\n",
       "      <th>label</th>\n",
       "    </tr>\n",
       "  </thead>\n",
       "  <tbody>\n",
       "    <tr>\n",
       "      <th>0</th>\n",
       "      <td>0</td>\n",
       "      <td>/kaggle/input/cottonweed/CottonWeedID15_500_UM...</td>\n",
       "      <td>Purslane</td>\n",
       "      <td>8</td>\n",
       "    </tr>\n",
       "    <tr>\n",
       "      <th>1</th>\n",
       "      <td>1</td>\n",
       "      <td>/kaggle/input/cottonweed/CottonWeedID15_500_UM...</td>\n",
       "      <td>Morningglory</td>\n",
       "      <td>4</td>\n",
       "    </tr>\n",
       "    <tr>\n",
       "      <th>2</th>\n",
       "      <td>2</td>\n",
       "      <td>/kaggle/input/cottonweed/CottonWeedID15_500_UM...</td>\n",
       "      <td>Carpetweeds</td>\n",
       "      <td>0</td>\n",
       "    </tr>\n",
       "    <tr>\n",
       "      <th>3</th>\n",
       "      <td>3</td>\n",
       "      <td>/kaggle/input/cottonweed/CottonWeedID15_500_UM...</td>\n",
       "      <td>Nutsedge</td>\n",
       "      <td>5</td>\n",
       "    </tr>\n",
       "    <tr>\n",
       "      <th>4</th>\n",
       "      <td>4</td>\n",
       "      <td>/kaggle/input/cottonweed/CottonWeedID15_500_UM...</td>\n",
       "      <td>Waterhemp</td>\n",
       "      <td>14</td>\n",
       "    </tr>\n",
       "  </tbody>\n",
       "</table>\n",
       "</div>"
      ],
      "text/plain": [
       "   index                                                img         class  \\\n",
       "0      0  /kaggle/input/cottonweed/CottonWeedID15_500_UM...      Purslane   \n",
       "1      1  /kaggle/input/cottonweed/CottonWeedID15_500_UM...  Morningglory   \n",
       "2      2  /kaggle/input/cottonweed/CottonWeedID15_500_UM...   Carpetweeds   \n",
       "3      3  /kaggle/input/cottonweed/CottonWeedID15_500_UM...      Nutsedge   \n",
       "4      4  /kaggle/input/cottonweed/CottonWeedID15_500_UM...     Waterhemp   \n",
       "\n",
       "   label  \n",
       "0      8  \n",
       "1      4  \n",
       "2      0  \n",
       "3      5  \n",
       "4     14  "
      ]
     },
     "execution_count": 14,
     "metadata": {},
     "output_type": "execute_result"
    }
   ],
   "source": [
    "train.head()"
   ]
  },
  {
   "cell_type": "code",
   "execution_count": 15,
   "id": "7b10c05a",
   "metadata": {
    "_cell_guid": "826837c2-8c45-463f-b110-e9e96efe807f",
    "_uuid": "7589be24-2287-49ef-831f-40b3667c7d76",
    "collapsed": false,
    "execution": {
     "iopub.execute_input": "2024-09-08T06:01:44.481964Z",
     "iopub.status.busy": "2024-09-08T06:01:44.481493Z",
     "iopub.status.idle": "2024-09-08T06:01:44.510098Z",
     "shell.execute_reply": "2024-09-08T06:01:44.509201Z"
    },
    "jupyter": {
     "outputs_hidden": false
    },
    "papermill": {
     "duration": 0.044633,
     "end_time": "2024-09-08T06:01:44.512143",
     "exception": false,
     "start_time": "2024-09-08T06:01:44.467510",
     "status": "completed"
    },
    "tags": []
   },
   "outputs": [],
   "source": [
    "from tensorflow.keras.preprocessing.image import ImageDataGenerator\n",
    "train_datagen = ImageDataGenerator(\n",
    "    #rescale=1./255,\n",
    "    shear_range=0.2,\n",
    "    zoom_range=0.2,\n",
    "    horizontal_flip=True,\n",
    "    vertical_flip=True,\n",
    "    validation_split=0.1  # Set validation split\n",
    ")"
   ]
  },
  {
   "cell_type": "code",
   "execution_count": 16,
   "id": "e0ba4581",
   "metadata": {
    "_cell_guid": "65ca0fc1-10fc-47de-a366-203d5f41b7e3",
    "_uuid": "2ec9b27b-766e-45cc-b6dc-e5d490e9b4cc",
    "collapsed": false,
    "execution": {
     "iopub.execute_input": "2024-09-08T06:01:44.539720Z",
     "iopub.status.busy": "2024-09-08T06:01:44.539446Z",
     "iopub.status.idle": "2024-09-08T06:01:44.543424Z",
     "shell.execute_reply": "2024-09-08T06:01:44.542612Z"
    },
    "jupyter": {
     "outputs_hidden": false
    },
    "papermill": {
     "duration": 0.01995,
     "end_time": "2024-09-08T06:01:44.545386",
     "exception": false,
     "start_time": "2024-09-08T06:01:44.525436",
     "status": "completed"
    },
    "tags": []
   },
   "outputs": [],
   "source": [
    "image_size = (224, 224)  # Change based on your model's requirements\n",
    "batch_size = 32"
   ]
  },
  {
   "cell_type": "code",
   "execution_count": 17,
   "id": "ccade3f1",
   "metadata": {
    "_cell_guid": "63dfc5c1-757c-4457-9e77-29d08a74f17d",
    "_uuid": "573467ca-3a42-44ef-a858-aba8bb7eb545",
    "collapsed": false,
    "execution": {
     "iopub.execute_input": "2024-09-08T06:01:44.573452Z",
     "iopub.status.busy": "2024-09-08T06:01:44.572719Z",
     "iopub.status.idle": "2024-09-08T06:01:44.997834Z",
     "shell.execute_reply": "2024-09-08T06:01:44.997012Z"
    },
    "jupyter": {
     "outputs_hidden": false
    },
    "papermill": {
     "duration": 0.441379,
     "end_time": "2024-09-08T06:01:44.999943",
     "exception": false,
     "start_time": "2024-09-08T06:01:44.558564",
     "status": "completed"
    },
    "tags": []
   },
   "outputs": [
    {
     "name": "stdout",
     "output_type": "stream",
     "text": [
      "Found 4253 validated image filenames belonging to 15 classes.\n"
     ]
    }
   ],
   "source": [
    "# Train Data Generator\n",
    "train_generator = train_datagen.flow_from_dataframe(\n",
    "    dataframe=train,\n",
    "    x_col='img',\n",
    "    y_col='class',\n",
    "    target_size=image_size,\n",
    "    batch_size=batch_size,\n",
    "    class_mode='categorical',\n",
    "    subset='training'  # Use subset for training\n",
    ")"
   ]
  },
  {
   "cell_type": "code",
   "execution_count": 18,
   "id": "9dc7253f",
   "metadata": {
    "_cell_guid": "70e7d9bc-84f5-4be1-b60d-cb9d1f249002",
    "_uuid": "fd5f609b-b7cd-4a72-8ae1-6de577fbf999",
    "collapsed": false,
    "execution": {
     "iopub.execute_input": "2024-09-08T06:01:45.028828Z",
     "iopub.status.busy": "2024-09-08T06:01:45.028529Z",
     "iopub.status.idle": "2024-09-08T06:01:45.033299Z",
     "shell.execute_reply": "2024-09-08T06:01:45.032459Z"
    },
    "jupyter": {
     "outputs_hidden": false
    },
    "papermill": {
     "duration": 0.021677,
     "end_time": "2024-09-08T06:01:45.035493",
     "exception": false,
     "start_time": "2024-09-08T06:01:45.013816",
     "status": "completed"
    },
    "tags": []
   },
   "outputs": [
    {
     "name": "stdout",
     "output_type": "stream",
     "text": [
      "Class indices: {'Carpetweeds': 0, 'Crabgrass': 1, 'Eclipta': 2, 'Goosegrass': 3, 'Morningglory': 4, 'Nutsedge': 5, 'PalmerAmaranth': 6, 'Prickly Sida': 7, 'Purslane': 8, 'Ragweed': 9, 'Sicklepod': 10, 'SpottedSpurge': 11, 'SpurredAnoda': 12, 'Swinecress': 13, 'Waterhemp': 14}\n"
     ]
    }
   ],
   "source": [
    "print(\"Class indices:\", train_generator.class_indices)"
   ]
  },
  {
   "cell_type": "code",
   "execution_count": 19,
   "id": "b5740d0e",
   "metadata": {
    "_cell_guid": "8e79890c-ea3f-49f8-bbed-250c5a5ddb4d",
    "_uuid": "fef02653-c68a-4bc6-9e85-c28573b44b9d",
    "collapsed": false,
    "execution": {
     "iopub.execute_input": "2024-09-08T06:01:45.064095Z",
     "iopub.status.busy": "2024-09-08T06:01:45.063798Z",
     "iopub.status.idle": "2024-09-08T06:01:46.508871Z",
     "shell.execute_reply": "2024-09-08T06:01:46.507736Z"
    },
    "jupyter": {
     "outputs_hidden": false
    },
    "papermill": {
     "duration": 1.46168,
     "end_time": "2024-09-08T06:01:46.511007",
     "exception": false,
     "start_time": "2024-09-08T06:01:45.049327",
     "status": "completed"
    },
    "tags": []
   },
   "outputs": [
    {
     "name": "stdout",
     "output_type": "stream",
     "text": [
      "Found 472 validated image filenames belonging to 15 classes.\n"
     ]
    }
   ],
   "source": [
    "# Validation Data Generator\n",
    "validation_generator = train_datagen.flow_from_dataframe(\n",
    "    dataframe=train,\n",
    "    x_col='img',\n",
    "    y_col='class',\n",
    "    target_size=image_size,\n",
    "    batch_size=batch_size,\n",
    "    class_mode='categorical',\n",
    "    subset='validation'  # Use subset for validation\n",
    ")"
   ]
  },
  {
   "cell_type": "code",
   "execution_count": 20,
   "id": "ea3afc8e",
   "metadata": {
    "_cell_guid": "36b5af21-cddf-4c99-aceb-ba4651b0c438",
    "_uuid": "87cd5870-5f24-4985-8483-1b96598124b3",
    "collapsed": false,
    "execution": {
     "iopub.execute_input": "2024-09-08T06:01:46.540388Z",
     "iopub.status.busy": "2024-09-08T06:01:46.540067Z",
     "iopub.status.idle": "2024-09-08T06:01:46.544483Z",
     "shell.execute_reply": "2024-09-08T06:01:46.543689Z"
    },
    "jupyter": {
     "outputs_hidden": false
    },
    "papermill": {
     "duration": 0.021851,
     "end_time": "2024-09-08T06:01:46.546697",
     "exception": false,
     "start_time": "2024-09-08T06:01:46.524846",
     "status": "completed"
    },
    "tags": []
   },
   "outputs": [
    {
     "name": "stdout",
     "output_type": "stream",
     "text": [
      "Class indices: {'Carpetweeds': 0, 'Crabgrass': 1, 'Eclipta': 2, 'Goosegrass': 3, 'Morningglory': 4, 'Nutsedge': 5, 'PalmerAmaranth': 6, 'Prickly Sida': 7, 'Purslane': 8, 'Ragweed': 9, 'Sicklepod': 10, 'SpottedSpurge': 11, 'SpurredAnoda': 12, 'Swinecress': 13, 'Waterhemp': 14}\n"
     ]
    }
   ],
   "source": [
    "print(\"Class indices:\", validation_generator.class_indices)"
   ]
  },
  {
   "cell_type": "code",
   "execution_count": 21,
   "id": "58444694",
   "metadata": {
    "_cell_guid": "41806427-5b66-451d-a4a7-ad5c3c3f8b8c",
    "_uuid": "f2d1061c-f619-4ab0-8cba-1dcf170b825d",
    "collapsed": false,
    "execution": {
     "iopub.execute_input": "2024-09-08T06:01:46.574548Z",
     "iopub.status.busy": "2024-09-08T06:01:46.574253Z",
     "iopub.status.idle": "2024-09-08T06:01:46.577962Z",
     "shell.execute_reply": "2024-09-08T06:01:46.577154Z"
    },
    "jupyter": {
     "outputs_hidden": false
    },
    "papermill": {
     "duration": 0.019739,
     "end_time": "2024-09-08T06:01:46.579833",
     "exception": false,
     "start_time": "2024-09-08T06:01:46.560094",
     "status": "completed"
    },
    "tags": []
   },
   "outputs": [],
   "source": [
    "# Create ImageDataGenerator for test (no augmentation)\n",
    "test_datagen = ImageDataGenerator(#rescale=1./255\n",
    ")"
   ]
  },
  {
   "cell_type": "code",
   "execution_count": 22,
   "id": "540d3068",
   "metadata": {
    "_cell_guid": "0f0c829c-9854-45a9-bc62-45890bc043bf",
    "_uuid": "a7b839f8-3b0d-436c-a8a3-2b9c520e8720",
    "collapsed": false,
    "execution": {
     "iopub.execute_input": "2024-09-08T06:01:46.652044Z",
     "iopub.status.busy": "2024-09-08T06:01:46.651668Z",
     "iopub.status.idle": "2024-09-08T06:01:47.737123Z",
     "shell.execute_reply": "2024-09-08T06:01:47.736134Z"
    },
    "jupyter": {
     "outputs_hidden": false
    },
    "papermill": {
     "duration": 1.145845,
     "end_time": "2024-09-08T06:01:47.739231",
     "exception": false,
     "start_time": "2024-09-08T06:01:46.593386",
     "status": "completed"
    },
    "tags": []
   },
   "outputs": [
    {
     "name": "stdout",
     "output_type": "stream",
     "text": [
      "Found 2025 validated image filenames belonging to 15 classes.\n"
     ]
    }
   ],
   "source": [
    "# Test Data Generator\n",
    "test_generator = test_datagen.flow_from_dataframe(\n",
    "    dataframe=test,\n",
    "    x_col='img',\n",
    "    y_col='class',  # Assuming test data might still have labels, if not, use None\n",
    "    target_size=image_size,\n",
    "    batch_size=batch_size,\n",
    "    class_mode='categorical',  # Use 'None' if no labels are available\n",
    "    shuffle=False  # Important for test data to maintain order\n",
    ")"
   ]
  },
  {
   "cell_type": "code",
   "execution_count": 23,
   "id": "d98d7b4f",
   "metadata": {
    "_cell_guid": "67d29376-004d-47d9-b953-2b7298ff6390",
    "_uuid": "15f7558f-e9cc-48d1-acc4-93e0f428c635",
    "collapsed": false,
    "execution": {
     "iopub.execute_input": "2024-09-08T06:01:47.768317Z",
     "iopub.status.busy": "2024-09-08T06:01:47.768000Z",
     "iopub.status.idle": "2024-09-08T06:01:47.785408Z",
     "shell.execute_reply": "2024-09-08T06:01:47.784554Z"
    },
    "jupyter": {
     "outputs_hidden": false
    },
    "papermill": {
     "duration": 0.034169,
     "end_time": "2024-09-08T06:01:47.787452",
     "exception": false,
     "start_time": "2024-09-08T06:01:47.753283",
     "status": "completed"
    },
    "tags": []
   },
   "outputs": [],
   "source": [
    "from tensorflow.keras.applications import MobileNet, MobileNetV2, MobileNetV3Small, MobileNetV3Large, VGG16,DenseNet121,ResNet50,InceptionV3\n",
    "from tensorflow.keras.applications import EfficientNetV2S, ConvNeXtSmall,EfficientNetB0\n",
    "from tensorflow.keras.layers import Input, Dense, GlobalAveragePooling2D,Flatten,Dropout\n",
    "from tensorflow.keras.models import Model\n",
    "from tensorflow import keras\n",
    "from tensorflow.keras.applications.mobilenet import preprocess_input as mob_preprocess_input\n",
    "from tensorflow.keras.applications.densenet import preprocess_input as dense_preprocess_input\n",
    "from tensorflow.keras.applications.inception_v3 import preprocess_input as inc_preprocess_input\n",
    "from tensorflow.keras.applications.efficientnet import preprocess_input as eff_preporcess_input\n",
    "from tensorflow.keras.applications.mobilenet_v2 import preprocess_input as mobv2_preprocess_input"
   ]
  },
  {
   "cell_type": "code",
   "execution_count": 24,
   "id": "f95b48c2",
   "metadata": {
    "_cell_guid": "341e52ca-9e98-44d1-a1e1-fc54ac58187b",
    "_uuid": "2fa063c1-cee3-48d9-8631-2f543b383c49",
    "collapsed": false,
    "execution": {
     "iopub.execute_input": "2024-09-08T06:01:47.816356Z",
     "iopub.status.busy": "2024-09-08T06:01:47.815847Z",
     "iopub.status.idle": "2024-09-08T06:01:48.023991Z",
     "shell.execute_reply": "2024-09-08T06:01:48.023051Z"
    },
    "jupyter": {
     "outputs_hidden": false
    },
    "papermill": {
     "duration": 0.224654,
     "end_time": "2024-09-08T06:01:48.025952",
     "exception": false,
     "start_time": "2024-09-08T06:01:47.801298",
     "status": "completed"
    },
    "tags": []
   },
   "outputs": [],
   "source": [
    "#from tensorflow.keras.applications.vgg16 import preprocess_input\n",
    "def buildModel(IMG_SIZE,base_model, num_classes, trainable=True):\n",
    "    # Load the MobileNet model with weights pre-trained on ImageNet.\n",
    "    #base_model, pooler = MobilenetV3Base((224,224,3), use='S')\n",
    "\n",
    "    if (base_model=='DenseNet121'):\n",
    "        base_model=DenseNet121(include_top=False, weights='imagenet',input_shape=IMG_SIZE)\n",
    "        inputs = keras.Input(shape=IMG_SIZE, name='input')\n",
    "        x = base_model(inputs)\n",
    "    if(base_model=='ResNet50'):\n",
    "        base_model=ResNet50(include_top=False, weights='imagenet',input_shape=IMG_SIZE)\n",
    "        inputs = keras.Input(shape=IMG_SIZE, name='input')\n",
    "        #x=vgg_preprocess_input(inputs)\n",
    "        #x=inputs\n",
    "        x = base_model(inputs)\n",
    "    if (base_model=='InceptionV3'):\n",
    "        base_model=InceptionV3(include_top=False, weights='imagenet',input_shape=IMG_SIZE)\n",
    "        inputs = keras.Input(shape=IMG_SIZE, name='input')\n",
    "        x=inc_preprocess_input(inputs)\n",
    "        #x=inputs\n",
    "        x = base_model(x)\n",
    "    if (base_model=='EfficientNetB0'):\n",
    "        base_model=EfficientNetB0(include_top=False, weights='imagenet',input_shape=IMG_SIZE)\n",
    "        inputs = keras.Input(shape=IMG_SIZE, name='input')\n",
    "        x=eff_preporcess_input(inputs)\n",
    "        x = base_model(x)\n",
    "    if (base_model=='mobilenet'):\n",
    "        base_model=MobileNet(include_top=False, weights='imagenet',input_shape=IMG_SIZE)\n",
    "        inputs = keras.Input(shape=IMG_SIZE, name='input')\n",
    "        x=mob_preprocess_input(inputs)\n",
    "        x = base_model(x, training=False)\n",
    "    if(base_model=='mobilenetv2'):\n",
    "        base_model=MobileNetV2(include_top=False, weights='imagenet',input_shape=IMG_SIZE)\n",
    "        inputs = keras.Input(shape=IMG_SIZE, name='input')\n",
    "        x=mobv2_preprocess_input(inputs)\n",
    "        x = base_model(x, training=False)\n",
    "    if(base_model=='VGG16'):\n",
    "        base_model=VGG16(include_top=False, weights='imagenet',input_shape=IMG_SIZE)\n",
    "        inputs = keras.Input(shape=IMG_SIZE, name='input')\n",
    "        x=vgg_preprocess_input(inputs) #VGG-preprocess input did not do job well\n",
    "        x = base_model(inputs)\n",
    "    else:\n",
    "        print(\"Select the correct models : VGG16, DenseNet121, mobilenet, mobilenetv2,EfficientNetB0,ResNet50,InceptionV3\")\n",
    "\n",
    "    base_model.trainable = trainable\n",
    "\n",
    "\n",
    "    print(\"Base Model:\", base_model.name)\n",
    "    print(len(base_model.layers))\n",
    "  \n",
    "    x = GlobalAveragePooling2D()(x)\n",
    "    outputs = Dense(num_classes, activation='softmax')(x)\n",
    "\n",
    "    model_name = \"CottonWeed-\" + base_model.name\n",
    "    # Create the model.\n",
    "    model = Model(inputs=inputs, outputs=outputs, name=model_name)\n",
    "\n",
    "    return model"
   ]
  },
  {
   "cell_type": "code",
   "execution_count": 25,
   "id": "a26128fb",
   "metadata": {
    "_cell_guid": "54ee2a10-7e71-47ec-a50a-7b603076f8c0",
    "_uuid": "3cae159a-ee9b-407b-947d-3577aefd9dd3",
    "collapsed": false,
    "execution": {
     "iopub.execute_input": "2024-09-08T06:01:48.055133Z",
     "iopub.status.busy": "2024-09-08T06:01:48.054770Z",
     "iopub.status.idle": "2024-09-08T06:01:49.804423Z",
     "shell.execute_reply": "2024-09-08T06:01:49.803566Z"
    },
    "jupyter": {
     "outputs_hidden": false
    },
    "papermill": {
     "duration": 1.766189,
     "end_time": "2024-09-08T06:01:49.806347",
     "exception": false,
     "start_time": "2024-09-08T06:01:48.040158",
     "status": "completed"
    },
    "tags": []
   },
   "outputs": [
    {
     "name": "stdout",
     "output_type": "stream",
     "text": [
      "Downloading data from https://storage.googleapis.com/tensorflow/keras-applications/mobilenet_v2/mobilenet_v2_weights_tf_dim_ordering_tf_kernels_1.0_224_no_top.h5\n",
      "\u001b[1m9406464/9406464\u001b[0m \u001b[32m━━━━━━━━━━━━━━━━━━━━\u001b[0m\u001b[37m\u001b[0m \u001b[1m0s\u001b[0m 0us/step\n",
      "Select the correct models : VGG16, DenseNet121, mobilenet, mobilenetv2,EfficientNetB0,ResNet50,InceptionV3\n",
      "Base Model: mobilenetv2_1.00_224\n",
      "154\n"
     ]
    },
    {
     "data": {
      "text/html": [
       "<pre style=\"white-space:pre;overflow-x:auto;line-height:normal;font-family:Menlo,'DejaVu Sans Mono',consolas,'Courier New',monospace\"><span style=\"font-weight: bold\">Model: \"CottonWeed-mobilenetv2_1.00_224\"</span>\n",
       "</pre>\n"
      ],
      "text/plain": [
       "\u001b[1mModel: \"CottonWeed-mobilenetv2_1.00_224\"\u001b[0m\n"
      ]
     },
     "metadata": {},
     "output_type": "display_data"
    },
    {
     "data": {
      "text/html": [
       "<pre style=\"white-space:pre;overflow-x:auto;line-height:normal;font-family:Menlo,'DejaVu Sans Mono',consolas,'Courier New',monospace\">┏━━━━━━━━━━━━━━━━━━━━━━━━━━━━━━━━━┳━━━━━━━━━━━━━━━━━━━━━━━━┳━━━━━━━━━━━━━━━┓\n",
       "┃<span style=\"font-weight: bold\"> Layer (type)                    </span>┃<span style=\"font-weight: bold\"> Output Shape           </span>┃<span style=\"font-weight: bold\">       Param # </span>┃\n",
       "┡━━━━━━━━━━━━━━━━━━━━━━━━━━━━━━━━━╇━━━━━━━━━━━━━━━━━━━━━━━━╇━━━━━━━━━━━━━━━┩\n",
       "│ input (<span style=\"color: #0087ff; text-decoration-color: #0087ff\">InputLayer</span>)              │ (<span style=\"color: #00d7ff; text-decoration-color: #00d7ff\">None</span>, <span style=\"color: #00af00; text-decoration-color: #00af00\">224</span>, <span style=\"color: #00af00; text-decoration-color: #00af00\">224</span>, <span style=\"color: #00af00; text-decoration-color: #00af00\">3</span>)    │             <span style=\"color: #00af00; text-decoration-color: #00af00\">0</span> │\n",
       "├─────────────────────────────────┼────────────────────────┼───────────────┤\n",
       "│ true_divide (<span style=\"color: #0087ff; text-decoration-color: #0087ff\">TrueDivide</span>)        │ (<span style=\"color: #00d7ff; text-decoration-color: #00d7ff\">None</span>, <span style=\"color: #00af00; text-decoration-color: #00af00\">224</span>, <span style=\"color: #00af00; text-decoration-color: #00af00\">224</span>, <span style=\"color: #00af00; text-decoration-color: #00af00\">3</span>)    │             <span style=\"color: #00af00; text-decoration-color: #00af00\">0</span> │\n",
       "├─────────────────────────────────┼────────────────────────┼───────────────┤\n",
       "│ subtract (<span style=\"color: #0087ff; text-decoration-color: #0087ff\">Subtract</span>)             │ (<span style=\"color: #00d7ff; text-decoration-color: #00d7ff\">None</span>, <span style=\"color: #00af00; text-decoration-color: #00af00\">224</span>, <span style=\"color: #00af00; text-decoration-color: #00af00\">224</span>, <span style=\"color: #00af00; text-decoration-color: #00af00\">3</span>)    │             <span style=\"color: #00af00; text-decoration-color: #00af00\">0</span> │\n",
       "├─────────────────────────────────┼────────────────────────┼───────────────┤\n",
       "│ mobilenetv2_1.00_224            │ (<span style=\"color: #00d7ff; text-decoration-color: #00d7ff\">None</span>, <span style=\"color: #00af00; text-decoration-color: #00af00\">7</span>, <span style=\"color: #00af00; text-decoration-color: #00af00\">7</span>, <span style=\"color: #00af00; text-decoration-color: #00af00\">1280</span>)     │     <span style=\"color: #00af00; text-decoration-color: #00af00\">2,257,984</span> │\n",
       "│ (<span style=\"color: #0087ff; text-decoration-color: #0087ff\">Functional</span>)                    │                        │               │\n",
       "├─────────────────────────────────┼────────────────────────┼───────────────┤\n",
       "│ global_average_pooling2d        │ (<span style=\"color: #00d7ff; text-decoration-color: #00d7ff\">None</span>, <span style=\"color: #00af00; text-decoration-color: #00af00\">1280</span>)           │             <span style=\"color: #00af00; text-decoration-color: #00af00\">0</span> │\n",
       "│ (<span style=\"color: #0087ff; text-decoration-color: #0087ff\">GlobalAveragePooling2D</span>)        │                        │               │\n",
       "├─────────────────────────────────┼────────────────────────┼───────────────┤\n",
       "│ dense (<span style=\"color: #0087ff; text-decoration-color: #0087ff\">Dense</span>)                   │ (<span style=\"color: #00d7ff; text-decoration-color: #00d7ff\">None</span>, <span style=\"color: #00af00; text-decoration-color: #00af00\">15</span>)             │        <span style=\"color: #00af00; text-decoration-color: #00af00\">19,215</span> │\n",
       "└─────────────────────────────────┴────────────────────────┴───────────────┘\n",
       "</pre>\n"
      ],
      "text/plain": [
       "┏━━━━━━━━━━━━━━━━━━━━━━━━━━━━━━━━━┳━━━━━━━━━━━━━━━━━━━━━━━━┳━━━━━━━━━━━━━━━┓\n",
       "┃\u001b[1m \u001b[0m\u001b[1mLayer (type)                   \u001b[0m\u001b[1m \u001b[0m┃\u001b[1m \u001b[0m\u001b[1mOutput Shape          \u001b[0m\u001b[1m \u001b[0m┃\u001b[1m \u001b[0m\u001b[1m      Param #\u001b[0m\u001b[1m \u001b[0m┃\n",
       "┡━━━━━━━━━━━━━━━━━━━━━━━━━━━━━━━━━╇━━━━━━━━━━━━━━━━━━━━━━━━╇━━━━━━━━━━━━━━━┩\n",
       "│ input (\u001b[38;5;33mInputLayer\u001b[0m)              │ (\u001b[38;5;45mNone\u001b[0m, \u001b[38;5;34m224\u001b[0m, \u001b[38;5;34m224\u001b[0m, \u001b[38;5;34m3\u001b[0m)    │             \u001b[38;5;34m0\u001b[0m │\n",
       "├─────────────────────────────────┼────────────────────────┼───────────────┤\n",
       "│ true_divide (\u001b[38;5;33mTrueDivide\u001b[0m)        │ (\u001b[38;5;45mNone\u001b[0m, \u001b[38;5;34m224\u001b[0m, \u001b[38;5;34m224\u001b[0m, \u001b[38;5;34m3\u001b[0m)    │             \u001b[38;5;34m0\u001b[0m │\n",
       "├─────────────────────────────────┼────────────────────────┼───────────────┤\n",
       "│ subtract (\u001b[38;5;33mSubtract\u001b[0m)             │ (\u001b[38;5;45mNone\u001b[0m, \u001b[38;5;34m224\u001b[0m, \u001b[38;5;34m224\u001b[0m, \u001b[38;5;34m3\u001b[0m)    │             \u001b[38;5;34m0\u001b[0m │\n",
       "├─────────────────────────────────┼────────────────────────┼───────────────┤\n",
       "│ mobilenetv2_1.00_224            │ (\u001b[38;5;45mNone\u001b[0m, \u001b[38;5;34m7\u001b[0m, \u001b[38;5;34m7\u001b[0m, \u001b[38;5;34m1280\u001b[0m)     │     \u001b[38;5;34m2,257,984\u001b[0m │\n",
       "│ (\u001b[38;5;33mFunctional\u001b[0m)                    │                        │               │\n",
       "├─────────────────────────────────┼────────────────────────┼───────────────┤\n",
       "│ global_average_pooling2d        │ (\u001b[38;5;45mNone\u001b[0m, \u001b[38;5;34m1280\u001b[0m)           │             \u001b[38;5;34m0\u001b[0m │\n",
       "│ (\u001b[38;5;33mGlobalAveragePooling2D\u001b[0m)        │                        │               │\n",
       "├─────────────────────────────────┼────────────────────────┼───────────────┤\n",
       "│ dense (\u001b[38;5;33mDense\u001b[0m)                   │ (\u001b[38;5;45mNone\u001b[0m, \u001b[38;5;34m15\u001b[0m)             │        \u001b[38;5;34m19,215\u001b[0m │\n",
       "└─────────────────────────────────┴────────────────────────┴───────────────┘\n"
      ]
     },
     "metadata": {},
     "output_type": "display_data"
    },
    {
     "data": {
      "text/html": [
       "<pre style=\"white-space:pre;overflow-x:auto;line-height:normal;font-family:Menlo,'DejaVu Sans Mono',consolas,'Courier New',monospace\"><span style=\"font-weight: bold\"> Total params: </span><span style=\"color: #00af00; text-decoration-color: #00af00\">2,277,199</span> (8.69 MB)\n",
       "</pre>\n"
      ],
      "text/plain": [
       "\u001b[1m Total params: \u001b[0m\u001b[38;5;34m2,277,199\u001b[0m (8.69 MB)\n"
      ]
     },
     "metadata": {},
     "output_type": "display_data"
    },
    {
     "data": {
      "text/html": [
       "<pre style=\"white-space:pre;overflow-x:auto;line-height:normal;font-family:Menlo,'DejaVu Sans Mono',consolas,'Courier New',monospace\"><span style=\"font-weight: bold\"> Trainable params: </span><span style=\"color: #00af00; text-decoration-color: #00af00\">2,243,087</span> (8.56 MB)\n",
       "</pre>\n"
      ],
      "text/plain": [
       "\u001b[1m Trainable params: \u001b[0m\u001b[38;5;34m2,243,087\u001b[0m (8.56 MB)\n"
      ]
     },
     "metadata": {},
     "output_type": "display_data"
    },
    {
     "data": {
      "text/html": [
       "<pre style=\"white-space:pre;overflow-x:auto;line-height:normal;font-family:Menlo,'DejaVu Sans Mono',consolas,'Courier New',monospace\"><span style=\"font-weight: bold\"> Non-trainable params: </span><span style=\"color: #00af00; text-decoration-color: #00af00\">34,112</span> (133.25 KB)\n",
       "</pre>\n"
      ],
      "text/plain": [
       "\u001b[1m Non-trainable params: \u001b[0m\u001b[38;5;34m34,112\u001b[0m (133.25 KB)\n"
      ]
     },
     "metadata": {},
     "output_type": "display_data"
    }
   ],
   "source": [
    "model = buildModel(image_size +(3,), base_model='mobilenetv2', num_classes=num_classes)\n",
    "model.summary()"
   ]
  },
  {
   "cell_type": "code",
   "execution_count": 26,
   "id": "6dbd4571",
   "metadata": {
    "_cell_guid": "ca8e7df2-74e5-4bac-b5e1-2fca07533bea",
    "_uuid": "ea260972-18dd-4274-8741-e4142bc135f0",
    "collapsed": false,
    "execution": {
     "iopub.execute_input": "2024-09-08T06:01:49.837996Z",
     "iopub.status.busy": "2024-09-08T06:01:49.837697Z",
     "iopub.status.idle": "2024-09-08T06:01:49.857235Z",
     "shell.execute_reply": "2024-09-08T06:01:49.856523Z"
    },
    "jupyter": {
     "outputs_hidden": false
    },
    "papermill": {
     "duration": 0.037559,
     "end_time": "2024-09-08T06:01:49.859211",
     "exception": false,
     "start_time": "2024-09-08T06:01:49.821652",
     "status": "completed"
    },
    "tags": []
   },
   "outputs": [],
   "source": [
    "from tensorflow.keras.optimizers import Adam, AdamW\n",
    "from tensorflow.keras.callbacks import EarlyStopping,ReduceLROnPlateau\n",
    "# Constant for epochs\n",
    "EPOCHS = 50\n",
    "\n",
    "pat_es = 10\n",
    "early_stopping = EarlyStopping(monitor='val_loss', patience=pat_es, verbose=1, restore_best_weights=True)\n",
    "reduce_lr =ReduceLROnPlateau(monitor='val_loss',factor=0.75, patience=3, verbose=1, min_lr=1e-6)\n",
    "\n",
    "model.compile(loss='categorical_crossentropy',\n",
    "          optimizer= AdamW(learning_rate=2e-4,  weight_decay=5e-2),\n",
    "          metrics=['accuracy'])"
   ]
  },
  {
   "cell_type": "code",
   "execution_count": 27,
   "id": "c6cac697",
   "metadata": {
    "_cell_guid": "3712ebca-5053-44c5-a7c7-03fac4e1327e",
    "_uuid": "4226ee33-4031-4128-9ea9-12a67bddd213",
    "collapsed": false,
    "execution": {
     "iopub.execute_input": "2024-09-08T06:01:49.891534Z",
     "iopub.status.busy": "2024-09-08T06:01:49.890856Z",
     "iopub.status.idle": "2024-09-08T06:48:28.331213Z",
     "shell.execute_reply": "2024-09-08T06:48:28.330197Z"
    },
    "jupyter": {
     "outputs_hidden": false
    },
    "papermill": {
     "duration": 2798.458604,
     "end_time": "2024-09-08T06:48:28.333495",
     "exception": false,
     "start_time": "2024-09-08T06:01:49.874891",
     "status": "completed"
    },
    "tags": []
   },
   "outputs": [
    {
     "name": "stdout",
     "output_type": "stream",
     "text": [
      "Epoch 1/50\n"
     ]
    },
    {
     "name": "stderr",
     "output_type": "stream",
     "text": [
      "/opt/conda/lib/python3.10/site-packages/keras/src/trainers/data_adapters/py_dataset_adapter.py:121: UserWarning: Your `PyDataset` class should call `super().__init__(**kwargs)` in its constructor. `**kwargs` can include `workers`, `use_multiprocessing`, `max_queue_size`. Do not pass these arguments to `fit()`, as they will be ignored.\n",
      "  self._warn_if_super_not_called()\n"
     ]
    },
    {
     "name": "stdout",
     "output_type": "stream",
     "text": [
      "\u001b[1m  1/133\u001b[0m \u001b[37m━━━━━━━━━━━━━━━━━━━━\u001b[0m \u001b[1m2:09:34\u001b[0m 59s/step - accuracy: 0.0625 - loss: 3.0384"
     ]
    },
    {
     "name": "stderr",
     "output_type": "stream",
     "text": [
      "WARNING: All log messages before absl::InitializeLog() is called are written to STDERR\n",
      "I0000 00:00:1725775369.706531      67 device_compiler.h:186] Compiled cluster using XLA!  This line is logged at most once for the lifetime of the process.\n"
     ]
    },
    {
     "name": "stdout",
     "output_type": "stream",
     "text": [
      "\u001b[1m133/133\u001b[0m \u001b[32m━━━━━━━━━━━━━━━━━━━━\u001b[0m\u001b[37m\u001b[0m \u001b[1m160s\u001b[0m 763ms/step - accuracy: 0.5632 - loss: 1.3837 - val_accuracy: 0.4979 - val_loss: 2.0083 - learning_rate: 2.0000e-04\n",
      "Epoch 2/50\n",
      "\u001b[1m133/133\u001b[0m \u001b[32m━━━━━━━━━━━━━━━━━━━━\u001b[0m\u001b[37m\u001b[0m \u001b[1m53s\u001b[0m 376ms/step - accuracy: 0.9267 - loss: 0.2231 - val_accuracy: 0.5805 - val_loss: 1.5906 - learning_rate: 2.0000e-04\n",
      "Epoch 3/50\n",
      "\u001b[1m133/133\u001b[0m \u001b[32m━━━━━━━━━━━━━━━━━━━━\u001b[0m\u001b[37m\u001b[0m \u001b[1m53s\u001b[0m 377ms/step - accuracy: 0.9479 - loss: 0.1579 - val_accuracy: 0.6102 - val_loss: 1.6689 - learning_rate: 2.0000e-04\n",
      "Epoch 4/50\n",
      "\u001b[1m133/133\u001b[0m \u001b[32m━━━━━━━━━━━━━━━━━━━━\u001b[0m\u001b[37m\u001b[0m \u001b[1m82s\u001b[0m 375ms/step - accuracy: 0.9631 - loss: 0.1200 - val_accuracy: 0.5636 - val_loss: 1.7351 - learning_rate: 2.0000e-04\n",
      "Epoch 5/50\n",
      "\u001b[1m133/133\u001b[0m \u001b[32m━━━━━━━━━━━━━━━━━━━━\u001b[0m\u001b[37m\u001b[0m \u001b[1m53s\u001b[0m 381ms/step - accuracy: 0.9719 - loss: 0.0819 - val_accuracy: 0.7013 - val_loss: 1.1060 - learning_rate: 2.0000e-04\n",
      "Epoch 6/50\n",
      "\u001b[1m133/133\u001b[0m \u001b[32m━━━━━━━━━━━━━━━━━━━━\u001b[0m\u001b[37m\u001b[0m \u001b[1m53s\u001b[0m 378ms/step - accuracy: 0.9793 - loss: 0.0693 - val_accuracy: 0.8475 - val_loss: 0.5407 - learning_rate: 2.0000e-04\n",
      "Epoch 7/50\n",
      "\u001b[1m133/133\u001b[0m \u001b[32m━━━━━━━━━━━━━━━━━━━━\u001b[0m\u001b[37m\u001b[0m \u001b[1m52s\u001b[0m 373ms/step - accuracy: 0.9855 - loss: 0.0487 - val_accuracy: 0.7331 - val_loss: 1.0423 - learning_rate: 2.0000e-04\n",
      "Epoch 8/50\n",
      "\u001b[1m133/133\u001b[0m \u001b[32m━━━━━━━━━━━━━━━━━━━━\u001b[0m\u001b[37m\u001b[0m \u001b[1m82s\u001b[0m 373ms/step - accuracy: 0.9850 - loss: 0.0506 - val_accuracy: 0.7669 - val_loss: 0.8259 - learning_rate: 2.0000e-04\n",
      "Epoch 9/50\n",
      "\u001b[1m133/133\u001b[0m \u001b[32m━━━━━━━━━━━━━━━━━━━━\u001b[0m\u001b[37m\u001b[0m \u001b[1m0s\u001b[0m 335ms/step - accuracy: 0.9849 - loss: 0.0448\n",
      "Epoch 9: ReduceLROnPlateau reducing learning rate to 0.00014999999621068127.\n",
      "\u001b[1m133/133\u001b[0m \u001b[32m━━━━━━━━━━━━━━━━━━━━\u001b[0m\u001b[37m\u001b[0m \u001b[1m52s\u001b[0m 374ms/step - accuracy: 0.9849 - loss: 0.0448 - val_accuracy: 0.7606 - val_loss: 0.9530 - learning_rate: 2.0000e-04\n",
      "Epoch 10/50\n",
      "\u001b[1m133/133\u001b[0m \u001b[32m━━━━━━━━━━━━━━━━━━━━\u001b[0m\u001b[37m\u001b[0m \u001b[1m52s\u001b[0m 372ms/step - accuracy: 0.9801 - loss: 0.0563 - val_accuracy: 0.8284 - val_loss: 0.7498 - learning_rate: 1.5000e-04\n",
      "Epoch 11/50\n",
      "\u001b[1m133/133\u001b[0m \u001b[32m━━━━━━━━━━━━━━━━━━━━\u001b[0m\u001b[37m\u001b[0m \u001b[1m53s\u001b[0m 377ms/step - accuracy: 0.9909 - loss: 0.0329 - val_accuracy: 0.8496 - val_loss: 0.5694 - learning_rate: 1.5000e-04\n",
      "Epoch 12/50\n",
      "\u001b[1m133/133\u001b[0m \u001b[32m━━━━━━━━━━━━━━━━━━━━\u001b[0m\u001b[37m\u001b[0m \u001b[1m52s\u001b[0m 369ms/step - accuracy: 0.9901 - loss: 0.0338 - val_accuracy: 0.9407 - val_loss: 0.2621 - learning_rate: 1.5000e-04\n",
      "Epoch 13/50\n",
      "\u001b[1m133/133\u001b[0m \u001b[32m━━━━━━━━━━━━━━━━━━━━\u001b[0m\u001b[37m\u001b[0m \u001b[1m52s\u001b[0m 373ms/step - accuracy: 0.9886 - loss: 0.0341 - val_accuracy: 0.9047 - val_loss: 0.3449 - learning_rate: 1.5000e-04\n",
      "Epoch 14/50\n",
      "\u001b[1m133/133\u001b[0m \u001b[32m━━━━━━━━━━━━━━━━━━━━\u001b[0m\u001b[37m\u001b[0m \u001b[1m53s\u001b[0m 376ms/step - accuracy: 0.9927 - loss: 0.0212 - val_accuracy: 0.9110 - val_loss: 0.3143 - learning_rate: 1.5000e-04\n",
      "Epoch 15/50\n",
      "\u001b[1m133/133\u001b[0m \u001b[32m━━━━━━━━━━━━━━━━━━━━\u001b[0m\u001b[37m\u001b[0m \u001b[1m52s\u001b[0m 373ms/step - accuracy: 0.9981 - loss: 0.0104 - val_accuracy: 0.9407 - val_loss: 0.1876 - learning_rate: 1.5000e-04\n",
      "Epoch 16/50\n",
      "\u001b[1m133/133\u001b[0m \u001b[32m━━━━━━━━━━━━━━━━━━━━\u001b[0m\u001b[37m\u001b[0m \u001b[1m52s\u001b[0m 373ms/step - accuracy: 0.9895 - loss: 0.0243 - val_accuracy: 0.9428 - val_loss: 0.2320 - learning_rate: 1.5000e-04\n",
      "Epoch 17/50\n",
      "\u001b[1m133/133\u001b[0m \u001b[32m━━━━━━━━━━━━━━━━━━━━\u001b[0m\u001b[37m\u001b[0m \u001b[1m52s\u001b[0m 376ms/step - accuracy: 0.9881 - loss: 0.0328 - val_accuracy: 0.8581 - val_loss: 0.5996 - learning_rate: 1.5000e-04\n",
      "Epoch 18/50\n",
      "\u001b[1m133/133\u001b[0m \u001b[32m━━━━━━━━━━━━━━━━━━━━\u001b[0m\u001b[37m\u001b[0m \u001b[1m53s\u001b[0m 377ms/step - accuracy: 0.9901 - loss: 0.0303 - val_accuracy: 0.9428 - val_loss: 0.1855 - learning_rate: 1.5000e-04\n",
      "Epoch 19/50\n",
      "\u001b[1m133/133\u001b[0m \u001b[32m━━━━━━━━━━━━━━━━━━━━\u001b[0m\u001b[37m\u001b[0m \u001b[1m56s\u001b[0m 404ms/step - accuracy: 0.9961 - loss: 0.0118 - val_accuracy: 0.9597 - val_loss: 0.1285 - learning_rate: 1.5000e-04\n",
      "Epoch 20/50\n",
      "\u001b[1m133/133\u001b[0m \u001b[32m━━━━━━━━━━━━━━━━━━━━\u001b[0m\u001b[37m\u001b[0m \u001b[1m52s\u001b[0m 374ms/step - accuracy: 0.9940 - loss: 0.0175 - val_accuracy: 0.9258 - val_loss: 0.2506 - learning_rate: 1.5000e-04\n",
      "Epoch 21/50\n",
      "\u001b[1m133/133\u001b[0m \u001b[32m━━━━━━━━━━━━━━━━━━━━\u001b[0m\u001b[37m\u001b[0m \u001b[1m52s\u001b[0m 374ms/step - accuracy: 0.9912 - loss: 0.0292 - val_accuracy: 0.9470 - val_loss: 0.1779 - learning_rate: 1.5000e-04\n",
      "Epoch 22/50\n",
      "\u001b[1m133/133\u001b[0m \u001b[32m━━━━━━━━━━━━━━━━━━━━\u001b[0m\u001b[37m\u001b[0m \u001b[1m0s\u001b[0m 337ms/step - accuracy: 0.9943 - loss: 0.0185\n",
      "Epoch 22: ReduceLROnPlateau reducing learning rate to 0.00011249999442952685.\n",
      "\u001b[1m133/133\u001b[0m \u001b[32m━━━━━━━━━━━━━━━━━━━━\u001b[0m\u001b[37m\u001b[0m \u001b[1m52s\u001b[0m 376ms/step - accuracy: 0.9943 - loss: 0.0185 - val_accuracy: 0.9619 - val_loss: 0.1489 - learning_rate: 1.5000e-04\n",
      "Epoch 23/50\n",
      "\u001b[1m133/133\u001b[0m \u001b[32m━━━━━━━━━━━━━━━━━━━━\u001b[0m\u001b[37m\u001b[0m \u001b[1m52s\u001b[0m 376ms/step - accuracy: 0.9972 - loss: 0.0104 - val_accuracy: 0.9513 - val_loss: 0.2097 - learning_rate: 1.1250e-04\n",
      "Epoch 24/50\n",
      "\u001b[1m133/133\u001b[0m \u001b[32m━━━━━━━━━━━━━━━━━━━━\u001b[0m\u001b[37m\u001b[0m \u001b[1m52s\u001b[0m 374ms/step - accuracy: 0.9961 - loss: 0.0133 - val_accuracy: 0.9555 - val_loss: 0.1741 - learning_rate: 1.1250e-04\n",
      "Epoch 25/50\n",
      "\u001b[1m133/133\u001b[0m \u001b[32m━━━━━━━━━━━━━━━━━━━━\u001b[0m\u001b[37m\u001b[0m \u001b[1m53s\u001b[0m 376ms/step - accuracy: 0.9953 - loss: 0.0128 - val_accuracy: 0.9640 - val_loss: 0.1211 - learning_rate: 1.1250e-04\n",
      "Epoch 26/50\n",
      "\u001b[1m133/133\u001b[0m \u001b[32m━━━━━━━━━━━━━━━━━━━━\u001b[0m\u001b[37m\u001b[0m \u001b[1m52s\u001b[0m 375ms/step - accuracy: 0.9979 - loss: 0.0077 - val_accuracy: 0.9640 - val_loss: 0.1391 - learning_rate: 1.1250e-04\n",
      "Epoch 27/50\n",
      "\u001b[1m133/133\u001b[0m \u001b[32m━━━━━━━━━━━━━━━━━━━━\u001b[0m\u001b[37m\u001b[0m \u001b[1m52s\u001b[0m 375ms/step - accuracy: 0.9984 - loss: 0.0072 - val_accuracy: 0.9767 - val_loss: 0.0890 - learning_rate: 1.1250e-04\n",
      "Epoch 28/50\n",
      "\u001b[1m133/133\u001b[0m \u001b[32m━━━━━━━━━━━━━━━━━━━━\u001b[0m\u001b[37m\u001b[0m \u001b[1m53s\u001b[0m 381ms/step - accuracy: 0.9961 - loss: 0.0137 - val_accuracy: 0.9788 - val_loss: 0.0982 - learning_rate: 1.1250e-04\n",
      "Epoch 29/50\n",
      "\u001b[1m133/133\u001b[0m \u001b[32m━━━━━━━━━━━━━━━━━━━━\u001b[0m\u001b[37m\u001b[0m \u001b[1m53s\u001b[0m 381ms/step - accuracy: 0.9986 - loss: 0.0078 - val_accuracy: 0.9809 - val_loss: 0.0809 - learning_rate: 1.1250e-04\n",
      "Epoch 30/50\n",
      "\u001b[1m133/133\u001b[0m \u001b[32m━━━━━━━━━━━━━━━━━━━━\u001b[0m\u001b[37m\u001b[0m \u001b[1m52s\u001b[0m 373ms/step - accuracy: 0.9980 - loss: 0.0103 - val_accuracy: 0.9725 - val_loss: 0.1162 - learning_rate: 1.1250e-04\n",
      "Epoch 31/50\n",
      "\u001b[1m133/133\u001b[0m \u001b[32m━━━━━━━━━━━━━━━━━━━━\u001b[0m\u001b[37m\u001b[0m \u001b[1m53s\u001b[0m 376ms/step - accuracy: 0.9961 - loss: 0.0103 - val_accuracy: 0.9576 - val_loss: 0.2399 - learning_rate: 1.1250e-04\n",
      "Epoch 32/50\n",
      "\u001b[1m133/133\u001b[0m \u001b[32m━━━━━━━━━━━━━━━━━━━━\u001b[0m\u001b[37m\u001b[0m \u001b[1m0s\u001b[0m 337ms/step - accuracy: 0.9927 - loss: 0.0149\n",
      "Epoch 32: ReduceLROnPlateau reducing learning rate to 8.437499855062924e-05.\n",
      "\u001b[1m133/133\u001b[0m \u001b[32m━━━━━━━━━━━━━━━━━━━━\u001b[0m\u001b[37m\u001b[0m \u001b[1m53s\u001b[0m 377ms/step - accuracy: 0.9927 - loss: 0.0150 - val_accuracy: 0.9153 - val_loss: 0.3289 - learning_rate: 1.1250e-04\n",
      "Epoch 33/50\n",
      "\u001b[1m133/133\u001b[0m \u001b[32m━━━━━━━━━━━━━━━━━━━━\u001b[0m\u001b[37m\u001b[0m \u001b[1m52s\u001b[0m 376ms/step - accuracy: 0.9940 - loss: 0.0175 - val_accuracy: 0.9576 - val_loss: 0.1457 - learning_rate: 8.4375e-05\n",
      "Epoch 34/50\n",
      "\u001b[1m133/133\u001b[0m \u001b[32m━━━━━━━━━━━━━━━━━━━━\u001b[0m\u001b[37m\u001b[0m \u001b[1m52s\u001b[0m 373ms/step - accuracy: 0.9980 - loss: 0.0070 - val_accuracy: 0.9788 - val_loss: 0.1066 - learning_rate: 8.4375e-05\n",
      "Epoch 35/50\n",
      "\u001b[1m133/133\u001b[0m \u001b[32m━━━━━━━━━━━━━━━━━━━━\u001b[0m\u001b[37m\u001b[0m \u001b[1m0s\u001b[0m 339ms/step - accuracy: 0.9963 - loss: 0.0116\n",
      "Epoch 35: ReduceLROnPlateau reducing learning rate to 6.328125164145604e-05.\n",
      "\u001b[1m133/133\u001b[0m \u001b[32m━━━━━━━━━━━━━━━━━━━━\u001b[0m\u001b[37m\u001b[0m \u001b[1m53s\u001b[0m 379ms/step - accuracy: 0.9963 - loss: 0.0116 - val_accuracy: 0.9703 - val_loss: 0.1279 - learning_rate: 8.4375e-05\n",
      "Epoch 36/50\n",
      "\u001b[1m133/133\u001b[0m \u001b[32m━━━━━━━━━━━━━━━━━━━━\u001b[0m\u001b[37m\u001b[0m \u001b[1m52s\u001b[0m 375ms/step - accuracy: 0.9954 - loss: 0.0102 - val_accuracy: 0.9809 - val_loss: 0.0768 - learning_rate: 6.3281e-05\n",
      "Epoch 37/50\n",
      "\u001b[1m133/133\u001b[0m \u001b[32m━━━━━━━━━━━━━━━━━━━━\u001b[0m\u001b[37m\u001b[0m \u001b[1m53s\u001b[0m 377ms/step - accuracy: 0.9997 - loss: 0.0020 - val_accuracy: 0.9809 - val_loss: 0.0745 - learning_rate: 6.3281e-05\n",
      "Epoch 38/50\n",
      "\u001b[1m133/133\u001b[0m \u001b[32m━━━━━━━━━━━━━━━━━━━━\u001b[0m\u001b[37m\u001b[0m \u001b[1m53s\u001b[0m 380ms/step - accuracy: 0.9975 - loss: 0.0057 - val_accuracy: 0.9809 - val_loss: 0.0657 - learning_rate: 6.3281e-05\n",
      "Epoch 39/50\n",
      "\u001b[1m133/133\u001b[0m \u001b[32m━━━━━━━━━━━━━━━━━━━━\u001b[0m\u001b[37m\u001b[0m \u001b[1m52s\u001b[0m 376ms/step - accuracy: 0.9979 - loss: 0.0047 - val_accuracy: 0.9767 - val_loss: 0.0722 - learning_rate: 6.3281e-05\n",
      "Epoch 40/50\n",
      "\u001b[1m133/133\u001b[0m \u001b[32m━━━━━━━━━━━━━━━━━━━━\u001b[0m\u001b[37m\u001b[0m \u001b[1m53s\u001b[0m 380ms/step - accuracy: 0.9988 - loss: 0.0056 - val_accuracy: 0.9894 - val_loss: 0.0362 - learning_rate: 6.3281e-05\n",
      "Epoch 41/50\n",
      "\u001b[1m133/133\u001b[0m \u001b[32m━━━━━━━━━━━━━━━━━━━━\u001b[0m\u001b[37m\u001b[0m \u001b[1m52s\u001b[0m 376ms/step - accuracy: 0.9984 - loss: 0.0037 - val_accuracy: 0.9831 - val_loss: 0.0728 - learning_rate: 6.3281e-05\n",
      "Epoch 42/50\n",
      "\u001b[1m133/133\u001b[0m \u001b[32m━━━━━━━━━━━━━━━━━━━━\u001b[0m\u001b[37m\u001b[0m \u001b[1m52s\u001b[0m 372ms/step - accuracy: 0.9997 - loss: 0.0030 - val_accuracy: 0.9894 - val_loss: 0.0712 - learning_rate: 6.3281e-05\n",
      "Epoch 43/50\n",
      "\u001b[1m133/133\u001b[0m \u001b[32m━━━━━━━━━━━━━━━━━━━━\u001b[0m\u001b[37m\u001b[0m \u001b[1m0s\u001b[0m 339ms/step - accuracy: 0.9996 - loss: 0.0018\n",
      "Epoch 43: ReduceLROnPlateau reducing learning rate to 4.746093873109203e-05.\n",
      "\u001b[1m133/133\u001b[0m \u001b[32m━━━━━━━━━━━━━━━━━━━━\u001b[0m\u001b[37m\u001b[0m \u001b[1m53s\u001b[0m 377ms/step - accuracy: 0.9996 - loss: 0.0018 - val_accuracy: 0.9852 - val_loss: 0.0733 - learning_rate: 6.3281e-05\n",
      "Epoch 44/50\n",
      "\u001b[1m133/133\u001b[0m \u001b[32m━━━━━━━━━━━━━━━━━━━━\u001b[0m\u001b[37m\u001b[0m \u001b[1m53s\u001b[0m 379ms/step - accuracy: 0.9995 - loss: 0.0018 - val_accuracy: 0.9767 - val_loss: 0.0774 - learning_rate: 4.7461e-05\n",
      "Epoch 45/50\n",
      "\u001b[1m133/133\u001b[0m \u001b[32m━━━━━━━━━━━━━━━━━━━━\u001b[0m\u001b[37m\u001b[0m \u001b[1m53s\u001b[0m 379ms/step - accuracy: 0.9988 - loss: 0.0026 - val_accuracy: 0.9852 - val_loss: 0.0420 - learning_rate: 4.7461e-05\n",
      "Epoch 46/50\n",
      "\u001b[1m133/133\u001b[0m \u001b[32m━━━━━━━━━━━━━━━━━━━━\u001b[0m\u001b[37m\u001b[0m \u001b[1m53s\u001b[0m 381ms/step - accuracy: 0.9986 - loss: 0.0046 - val_accuracy: 0.9894 - val_loss: 0.0352 - learning_rate: 4.7461e-05\n",
      "Epoch 47/50\n",
      "\u001b[1m133/133\u001b[0m \u001b[32m━━━━━━━━━━━━━━━━━━━━\u001b[0m\u001b[37m\u001b[0m \u001b[1m54s\u001b[0m 386ms/step - accuracy: 0.9983 - loss: 0.0059 - val_accuracy: 0.9746 - val_loss: 0.0608 - learning_rate: 4.7461e-05\n",
      "Epoch 48/50\n",
      "\u001b[1m133/133\u001b[0m \u001b[32m━━━━━━━━━━━━━━━━━━━━\u001b[0m\u001b[37m\u001b[0m \u001b[1m53s\u001b[0m 376ms/step - accuracy: 1.0000 - loss: 0.0013 - val_accuracy: 0.9831 - val_loss: 0.0609 - learning_rate: 4.7461e-05\n",
      "Epoch 49/50\n",
      "\u001b[1m133/133\u001b[0m \u001b[32m━━━━━━━━━━━━━━━━━━━━\u001b[0m\u001b[37m\u001b[0m \u001b[1m0s\u001b[0m 338ms/step - accuracy: 0.9999 - loss: 0.0018\n",
      "Epoch 49: ReduceLROnPlateau reducing learning rate to 3.5595705412561074e-05.\n",
      "\u001b[1m133/133\u001b[0m \u001b[32m━━━━━━━━━━━━━━━━━━━━\u001b[0m\u001b[37m\u001b[0m \u001b[1m53s\u001b[0m 377ms/step - accuracy: 0.9999 - loss: 0.0018 - val_accuracy: 0.9788 - val_loss: 0.0525 - learning_rate: 4.7461e-05\n",
      "Epoch 50/50\n",
      "\u001b[1m133/133\u001b[0m \u001b[32m━━━━━━━━━━━━━━━━━━━━\u001b[0m\u001b[37m\u001b[0m \u001b[1m53s\u001b[0m 378ms/step - accuracy: 1.0000 - loss: 0.0013 - val_accuracy: 0.9873 - val_loss: 0.0552 - learning_rate: 3.5596e-05\n",
      "Restoring model weights from the end of the best epoch: 46.\n",
      "Saving the Model\n",
      "CPU times: user 51min 14s, sys: 40.4 s, total: 51min 55s\n",
      "Wall time: 46min 38s\n"
     ]
    }
   ],
   "source": [
    "%%time\n",
    "\n",
    "# Train the model\n",
    "history1 = model.fit(\n",
    "      train_generator,\n",
    "      epochs=EPOCHS,\n",
    "      validation_data=validation_generator,\n",
    "      callbacks=[early_stopping, reduce_lr],\n",
    "    )\n",
    "\n",
    "print(\"Saving the Model\")\n",
    "model.save(model.name+\".keras\")"
   ]
  },
  {
   "cell_type": "code",
   "execution_count": 28,
   "id": "d8a20e6e",
   "metadata": {
    "_cell_guid": "50a89a02-9cae-45a5-8eff-7f2265340dad",
    "_uuid": "486028ef-9211-4c49-86ec-a05fa0e92464",
    "collapsed": false,
    "execution": {
     "iopub.execute_input": "2024-09-08T06:48:29.445755Z",
     "iopub.status.busy": "2024-09-08T06:48:29.445382Z",
     "iopub.status.idle": "2024-09-08T06:48:29.450037Z",
     "shell.execute_reply": "2024-09-08T06:48:29.449147Z"
    },
    "jupyter": {
     "outputs_hidden": false
    },
    "papermill": {
     "duration": 0.564575,
     "end_time": "2024-09-08T06:48:29.452014",
     "exception": false,
     "start_time": "2024-09-08T06:48:28.887439",
     "status": "completed"
    },
    "tags": []
   },
   "outputs": [],
   "source": [
    "# Define your folder to save results\n",
    "import os\n",
    "save_folder = model.name\n",
    "os.makedirs(save_folder, exist_ok=True)"
   ]
  },
  {
   "cell_type": "code",
   "execution_count": 29,
   "id": "85d8b2dd",
   "metadata": {
    "_cell_guid": "f341ec0d-7e4a-4c88-877b-ca2cf181cb11",
    "_uuid": "7789895f-c67d-4e3d-809e-7901c205ab6e",
    "collapsed": false,
    "execution": {
     "iopub.execute_input": "2024-09-08T06:48:30.610603Z",
     "iopub.status.busy": "2024-09-08T06:48:30.610242Z",
     "iopub.status.idle": "2024-09-08T06:48:30.616285Z",
     "shell.execute_reply": "2024-09-08T06:48:30.615482Z"
    },
    "jupyter": {
     "outputs_hidden": false
    },
    "papermill": {
     "duration": 0.559894,
     "end_time": "2024-09-08T06:48:30.618095",
     "exception": false,
     "start_time": "2024-09-08T06:48:30.058201",
     "status": "completed"
    },
    "tags": []
   },
   "outputs": [
    {
     "data": {
      "text/plain": [
       "'CottonWeed-mobilenetv2_1.00_224/CottonWeed-mobilenetv2_1.00_224.h5'"
      ]
     },
     "execution_count": 29,
     "metadata": {},
     "output_type": "execute_result"
    }
   ],
   "source": [
    "filename= model.name+'.h5'\n",
    "model_weight= os.path.join(save_folder, filename)\n",
    "model_weight"
   ]
  },
  {
   "cell_type": "code",
   "execution_count": 30,
   "id": "a4e9543d",
   "metadata": {
    "_cell_guid": "89938583-a561-4412-9d64-45bd35c32205",
    "_uuid": "7de87fdd-c363-4aa2-8f6a-0c6f8e1ab0b1",
    "collapsed": false,
    "execution": {
     "iopub.execute_input": "2024-09-08T06:48:31.722834Z",
     "iopub.status.busy": "2024-09-08T06:48:31.722492Z",
     "iopub.status.idle": "2024-09-08T06:48:32.169706Z",
     "shell.execute_reply": "2024-09-08T06:48:32.168650Z"
    },
    "jupyter": {
     "outputs_hidden": false
    },
    "papermill": {
     "duration": 1.003506,
     "end_time": "2024-09-08T06:48:32.172122",
     "exception": false,
     "start_time": "2024-09-08T06:48:31.168616",
     "status": "completed"
    },
    "tags": []
   },
   "outputs": [
    {
     "name": "stdout",
     "output_type": "stream",
     "text": [
      "Saving the Model\n"
     ]
    }
   ],
   "source": [
    "print(\"Saving the Model\")\n",
    "model.save(model_weight)"
   ]
  },
  {
   "cell_type": "code",
   "execution_count": 31,
   "id": "2f433226",
   "metadata": {
    "_cell_guid": "68fb5337-f08c-4600-bfc7-f0daa99f8471",
    "_uuid": "96b9d018-0e4d-47b6-87e9-2e5c96c8acb2",
    "collapsed": false,
    "execution": {
     "iopub.execute_input": "2024-09-08T06:48:33.355551Z",
     "iopub.status.busy": "2024-09-08T06:48:33.355218Z",
     "iopub.status.idle": "2024-09-08T06:48:33.365785Z",
     "shell.execute_reply": "2024-09-08T06:48:33.364889Z"
    },
    "jupyter": {
     "outputs_hidden": false
    },
    "papermill": {
     "duration": 0.570427,
     "end_time": "2024-09-08T06:48:33.367821",
     "exception": false,
     "start_time": "2024-09-08T06:48:32.797394",
     "status": "completed"
    },
    "tags": []
   },
   "outputs": [],
   "source": [
    "#image visualization\n",
    "import matplotlib.pyplot as plt\n",
    "def plot_loss_acc(history):\n",
    "    '''Plots the training and validation loss and accuracy from a history object'''\n",
    "    acc = history['accuracy']\n",
    "    val_acc = history['val_accuracy']\n",
    "    loss = history['loss']\n",
    "    val_loss = history['val_loss']\n",
    "    if 'peaks' in history:\n",
    "        peaks = history['peaks']\n",
    "    else:\n",
    "        _min = np.argmin(val_loss)\n",
    "        peaks = [_min]\n",
    "\n",
    "    epochs = range(len(acc))\n",
    "    print(\"Total Epochs:\",epochs)\n",
    "\n",
    "    plt.figure(figsize=[16, 4])\n",
    "    plt.subplot(1,2,1)\n",
    "    p_value = [val_acc[p] for p in peaks]\n",
    "    plt.scatter(peaks, p_value, marker='o',s=50)\n",
    "    plt.plot(epochs, acc, label='Training accuracy', color='red')\n",
    "    plt.plot(epochs, val_acc, label='Validation accuracy', color='magenta')\n",
    "    plt.title('Training and validation accuracy')\n",
    "    plt.legend()\n",
    "\n",
    "    plt.subplot(1,2,2)\n",
    "    p_value = [val_loss[p] for p in peaks]\n",
    "    plt.scatter(peaks, p_value, marker='o',s=50)\n",
    "    plt.plot(epochs, loss, label='Training Loss', color='red')\n",
    "    plt.plot(epochs, val_loss, label='Validation Loss', color='magenta')\n",
    "    plt.title('Training and validation loss')\n",
    "    plt.legend()\n",
    "    plt.savefig(os.path.join(save_folder, 'training_chart.png'))\n",
    "    plt.show()"
   ]
  },
  {
   "cell_type": "code",
   "execution_count": 32,
   "id": "d94e901f",
   "metadata": {
    "_cell_guid": "06dfea6f-2ec1-44bd-ba5f-6683e5b64e3b",
    "_uuid": "c7d24b5c-3e9a-4043-905a-6e712274d345",
    "collapsed": false,
    "execution": {
     "iopub.execute_input": "2024-09-08T06:48:34.476153Z",
     "iopub.status.busy": "2024-09-08T06:48:34.475773Z",
     "iopub.status.idle": "2024-09-08T06:48:35.242013Z",
     "shell.execute_reply": "2024-09-08T06:48:35.241129Z"
    },
    "jupyter": {
     "outputs_hidden": false
    },
    "papermill": {
     "duration": 1.32207,
     "end_time": "2024-09-08T06:48:35.244374",
     "exception": false,
     "start_time": "2024-09-08T06:48:33.922304",
     "status": "completed"
    },
    "tags": []
   },
   "outputs": [
    {
     "name": "stdout",
     "output_type": "stream",
     "text": [
      "Total Epochs: range(0, 50)\n"
     ]
    },
    {
     "data": {
      "image/png": "[encoded data removed]",
      "text/plain": [
       "<Figure size 1600x400 with 2 Axes>"
      ]
     },
     "metadata": {},
     "output_type": "display_data"
    }
   ],
   "source": [
    "# Plot training results\n",
    "plot_loss_acc(history1.history)"
   ]
  },
  {
   "cell_type": "code",
   "execution_count": 33,
   "id": "87c44e69",
   "metadata": {
    "_cell_guid": "225f6433-4094-4f1d-a759-b82877fd8359",
    "_uuid": "76ae0e9b-f615-4578-b130-699e43e04d89",
    "collapsed": false,
    "execution": {
     "iopub.execute_input": "2024-09-08T06:48:36.410089Z",
     "iopub.status.busy": "2024-09-08T06:48:36.409712Z",
     "iopub.status.idle": "2024-09-08T06:48:36.414461Z",
     "shell.execute_reply": "2024-09-08T06:48:36.413686Z"
    },
    "jupyter": {
     "outputs_hidden": false
    },
    "papermill": {
     "duration": 0.561214,
     "end_time": "2024-09-08T06:48:36.416298",
     "exception": false,
     "start_time": "2024-09-08T06:48:35.855084",
     "status": "completed"
    },
    "tags": []
   },
   "outputs": [],
   "source": [
    "from sklearn.metrics import f1_score, precision_score, recall_score, accuracy_score\n",
    "from sklearn.metrics import ConfusionMatrixDisplay, classification_report\n",
    "import matplotlib.pyplot as plt"
   ]
  },
  {
   "cell_type": "code",
   "execution_count": 34,
   "id": "f51fe70d",
   "metadata": {
    "_cell_guid": "b463b6dd-1edb-4412-a191-6a728dfeca40",
    "_uuid": "b22703a3-9de3-43b9-9afc-8d08d8f5ff9e",
    "collapsed": false,
    "execution": {
     "iopub.execute_input": "2024-09-08T06:48:37.529304Z",
     "iopub.status.busy": "2024-09-08T06:48:37.528515Z",
     "iopub.status.idle": "2024-09-08T06:48:58.345675Z",
     "shell.execute_reply": "2024-09-08T06:48:58.344689Z"
    },
    "jupyter": {
     "outputs_hidden": false
    },
    "papermill": {
     "duration": 21.377657,
     "end_time": "2024-09-08T06:48:58.348174",
     "exception": false,
     "start_time": "2024-09-08T06:48:36.970517",
     "status": "completed"
    },
    "tags": []
   },
   "outputs": [
    {
     "name": "stdout",
     "output_type": "stream",
     "text": [
      "\u001b[1m64/64\u001b[0m \u001b[32m━━━━━━━━━━━━━━━━━━━━\u001b[0m\u001b[37m\u001b[0m \u001b[1m20s\u001b[0m 274ms/step\n"
     ]
    }
   ],
   "source": [
    "predictions=model.predict(test_generator)"
   ]
  },
  {
   "cell_type": "code",
   "execution_count": 35,
   "id": "3c75698c",
   "metadata": {
    "_cell_guid": "1005e4b5-e176-4895-8874-763acb025d39",
    "_uuid": "0dc70556-9384-4e37-8afa-5664c8a0f8ed",
    "collapsed": false,
    "execution": {
     "iopub.execute_input": "2024-09-08T06:48:59.517145Z",
     "iopub.status.busy": "2024-09-08T06:48:59.516761Z",
     "iopub.status.idle": "2024-09-08T06:48:59.781404Z",
     "shell.execute_reply": "2024-09-08T06:48:59.780448Z"
    },
    "jupyter": {
     "outputs_hidden": false
    },
    "papermill": {
     "duration": 0.872851,
     "end_time": "2024-09-08T06:48:59.783828",
     "exception": false,
     "start_time": "2024-09-08T06:48:58.910977",
     "status": "completed"
    },
    "tags": []
   },
   "outputs": [
    {
     "name": "stdout",
     "output_type": "stream",
     "text": [
      "Confusion Matrix:\n",
      "[[134   0   0   0   1   0   0   0   0   0   0   0   0   0   0]\n",
      " [  0 132   0   3   0   0   0   0   0   0   0   0   0   0   0]\n",
      " [  0   0 134   0   0   0   0   0   0   0   0   0   0   0   1]\n",
      " [  0   1   0 133   0   1   0   0   0   0   0   0   0   0   0]\n",
      " [  1   0   0   0 134   0   0   0   0   0   0   0   0   0   0]\n",
      " [  0   0   0   0   0 135   0   0   0   0   0   0   0   0   0]\n",
      " [  0   0   0   0   0   0 131   0   0   0   0   2   1   0   1]\n",
      " [  0   0   0   0   0   0   0 134   0   0   0   0   0   0   1]\n",
      " [  1   0   1   0   7   1   1   3 119   0   1   0   0   0   1]\n",
      " [  0   0   0   0   0   0   0   0   0 135   0   0   0   0   0]\n",
      " [  0   0   0   0   1   0   1   1   0   0 132   0   0   0   0]\n",
      " [  0   0   0   0   1   0   0   0   0   0   0 134   0   0   0]\n",
      " [  0   0   0   0   0   0   0   0   0   0   0   0 135   0   0]\n",
      " [  0   0   0   0   0   0   0   0   0   3   0   0   0 132   0]\n",
      " [  0   0   1   0   1   0   4   0   0   0   0   0   0   0 129]]\n"
     ]
    }
   ],
   "source": [
    "import numpy as np\n",
    "from sklearn.metrics import confusion_matrix,ConfusionMatrixDisplay\n",
    "import seaborn as sns\n",
    "import matplotlib.pyplot as plt\n",
    "# Convert predictions to class labels\n",
    "predicted_classes = np.argmax(predictions, axis=1)\n",
    "# Get true labels from the test generator\n",
    "true_labels = test_generator.classes\n",
    "# Compute the confusion matrix\n",
    "conf_matrix = confusion_matrix(true_labels, predicted_classes)\n",
    "\n",
    "# Print the confusion matrix\n",
    "print(\"Confusion Matrix:\")\n",
    "print(conf_matrix)"
   ]
  },
  {
   "cell_type": "code",
   "execution_count": 36,
   "id": "c46607fa",
   "metadata": {
    "_cell_guid": "e4b82eb3-63cd-4fff-a6c9-ebaa7ef3c670",
    "_uuid": "9539e7d3-0703-4289-bc62-894b51225e3d",
    "collapsed": false,
    "execution": {
     "iopub.execute_input": "2024-09-08T06:49:00.920023Z",
     "iopub.status.busy": "2024-09-08T06:49:00.919637Z",
     "iopub.status.idle": "2024-09-08T06:49:00.925606Z",
     "shell.execute_reply": "2024-09-08T06:49:00.924741Z"
    },
    "jupyter": {
     "outputs_hidden": false
    },
    "papermill": {
     "duration": 0.571882,
     "end_time": "2024-09-08T06:49:00.927454",
     "exception": false,
     "start_time": "2024-09-08T06:49:00.355572",
     "status": "completed"
    },
    "tags": []
   },
   "outputs": [],
   "source": [
    "def eval_model(model, data_gen, use_rand_guess=False):\n",
    "    print(\"model.evaluate\")\n",
    "    #model.evaluate(data_gen)\n",
    "\n",
    "    print(\"model.predict\")\n",
    "    actual_labels = []\n",
    "    pred_prob = []\n",
    "    for batch in tqdm(data_gen):\n",
    "        actual_labels.extend([np.argmax(z) for z in batch[1]])\n",
    "        pred_prob.extend(list(model(batch[0], training=False)))\n",
    "\n",
    "    return actual_labels, pred_prob"
   ]
  },
  {
   "cell_type": "code",
   "execution_count": 37,
   "id": "10550d52",
   "metadata": {
    "_cell_guid": "d37682ab-8b79-4431-b232-435e27bfdeec",
    "_uuid": "f2656e6d-7773-4ce4-9453-560d8f348372",
    "collapsed": false,
    "execution": {
     "iopub.execute_input": "2024-09-08T06:49:02.111000Z",
     "iopub.status.busy": "2024-09-08T06:49:02.110244Z",
     "iopub.status.idle": "2024-09-08T06:49:03.185338Z",
     "shell.execute_reply": "2024-09-08T06:49:03.184482Z"
    },
    "jupyter": {
     "outputs_hidden": false
    },
    "papermill": {
     "duration": 1.69885,
     "end_time": "2024-09-08T06:49:03.188319",
     "exception": false,
     "start_time": "2024-09-08T06:49:01.489469",
     "status": "completed"
    },
    "tags": []
   },
   "outputs": [
    {
     "data": {
      "image/png": "[encoded data removed]",
      "text/plain": [
       "<Figure size 640x480 with 2 Axes>"
      ]
     },
     "metadata": {},
     "output_type": "display_data"
    }
   ],
   "source": [
    "cmd = ConfusionMatrixDisplay.from_predictions(\n",
    "        true_labels, predicted_classes,\n",
    "        display_labels=list(test_generator.class_indices.keys()),\n",
    "        xticks_rotation=80, #'vertical',\n",
    "        # ax = ax\n",
    "    )\n",
    "    # fig, ax = plt.subplots(figsize=(25,5))\n",
    "    # cmd.plot(ax=ax)\n",
    "plt.savefig(os.path.join(save_folder, 'confusion-mat.png'))\n",
    "plt.show()"
   ]
  },
  {
   "cell_type": "code",
   "execution_count": 38,
   "id": "428a28b7",
   "metadata": {
    "_cell_guid": "712f8dea-7212-4a5b-a125-b608c0b76a45",
    "_uuid": "3dd276a0-9be5-44a6-8705-77643d9a7fb1",
    "collapsed": false,
    "execution": {
     "iopub.execute_input": "2024-09-08T06:49:04.318567Z",
     "iopub.status.busy": "2024-09-08T06:49:04.318168Z",
     "iopub.status.idle": "2024-09-08T06:49:04.344345Z",
     "shell.execute_reply": "2024-09-08T06:49:04.343433Z"
    },
    "jupyter": {
     "outputs_hidden": false
    },
    "papermill": {
     "duration": 0.594315,
     "end_time": "2024-09-08T06:49:04.346387",
     "exception": false,
     "start_time": "2024-09-08T06:49:03.752072",
     "status": "completed"
    },
    "tags": []
   },
   "outputs": [
    {
     "name": "stdout",
     "output_type": "stream",
     "text": [
      "                precision    recall  f1-score   support\n",
      "\n",
      "   Carpetweeds    0.98529   0.99259   0.98893       135\n",
      "     Crabgrass    0.99248   0.97778   0.98507       135\n",
      "       Eclipta    0.98529   0.99259   0.98893       135\n",
      "    Goosegrass    0.97794   0.98519   0.98155       135\n",
      "  Morningglory    0.92414   0.99259   0.95714       135\n",
      "      Nutsedge    0.98540   1.00000   0.99265       135\n",
      "PalmerAmaranth    0.95620   0.97037   0.96324       135\n",
      "  Prickly Sida    0.97101   0.99259   0.98168       135\n",
      "      Purslane    1.00000   0.88148   0.93701       135\n",
      "       Ragweed    0.97826   1.00000   0.98901       135\n",
      "     Sicklepod    0.99248   0.97778   0.98507       135\n",
      " SpottedSpurge    0.98529   0.99259   0.98893       135\n",
      "  SpurredAnoda    0.99265   1.00000   0.99631       135\n",
      "    Swinecress    1.00000   0.97778   0.98876       135\n",
      "     Waterhemp    0.96992   0.95556   0.96269       135\n",
      "\n",
      "      accuracy                        0.97926      2025\n",
      "     macro avg    0.97976   0.97926   0.97913      2025\n",
      "  weighted avg    0.97976   0.97926   0.97913      2025\n",
      "\n"
     ]
    }
   ],
   "source": [
    "display_labels=list(test_generator.class_indices.keys())\n",
    "class_report=classification_report(true_labels, predicted_classes,digits=5, target_names=display_labels)\n",
    "print(class_report)\n",
    "with open(os.path.join(save_folder, 'classification_report.txt'), 'w') as f:\n",
    "    f.write(classification_report(true_labels, predicted_classes))"
   ]
  },
  {
   "cell_type": "code",
   "execution_count": null,
   "id": "1a4aeb78",
   "metadata": {
    "_cell_guid": "6803da9f-1fc9-42ab-9d9f-a401fa6b04f8",
    "_uuid": "e4b8c2be-4099-465e-b11e-6c5c67eb4a76",
    "collapsed": false,
    "jupyter": {
     "outputs_hidden": false
    },
    "papermill": {
     "duration": 0.616403,
     "end_time": "2024-09-08T06:49:05.533101",
     "exception": false,
     "start_time": "2024-09-08T06:49:04.916698",
     "status": "completed"
    },
    "tags": []
   },
   "outputs": [],
   "source": []
  },
  {
   "cell_type": "code",
   "execution_count": null,
   "id": "9d24caeb",
   "metadata": {
    "_cell_guid": "9c858469-f2ee-496b-8ba7-d721aaae2a86",
    "_uuid": "777c4cd0-041e-4101-8ef3-0e265868efca",
    "collapsed": false,
    "jupyter": {
     "outputs_hidden": false
    },
    "papermill": {
     "duration": 0.561317,
     "end_time": "2024-09-08T06:49:06.654176",
     "exception": false,
     "start_time": "2024-09-08T06:49:06.092859",
     "status": "completed"
    },
    "tags": []
   },
   "outputs": [],
   "source": []
  }
 ],
 "metadata": {
  "kaggle": {
   "accelerator": "gpu",
   "dataSources": [
    {
     "datasetId": 5607522,
     "sourceId": 9266314,
     "sourceType": "datasetVersion"
    }
   ],
   "dockerImageVersionId": 30747,
   "isGpuEnabled": true,
   "isInternetEnabled": true,
   "language": "python",
   "sourceType": "notebook"
  },
  "kernelspec": {
   "display_name": "Python 3",
   "language": "python",
   "name": "python3"
  },
  "language_info": {
   "codemirror_mode": {
    "name": "ipython",
    "version": 3
   },
   "file_extension": ".py",
   "mimetype": "text/x-python",
   "name": "python",
   "nbconvert_exporter": "python",
   "pygments_lexer": "ipython3",
   "version": "3.10.13"
  },
  "papermill": {
   "default_parameters": {},
   "duration": 2865.03807,
   "end_time": "2024-09-08T06:49:10.637160",
   "environment_variables": {},
   "exception": null,
   "input_path": "__notebook__.ipynb",
   "output_path": "__notebook__.ipynb",
   "parameters": {},
   "start_time": "2024-09-08T06:01:25.599090",
   "version": "2.5.0"
  }
 },
 "nbformat": 4,
 "nbformat_minor": 5
}
