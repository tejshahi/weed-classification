{
 "cells": [
  {
   "cell_type": "code",
   "execution_count": 1,
   "id": "fde2f9e0",
   "metadata": {
    "_cell_guid": "b1076dfc-b9ad-4769-8c92-a6c4dae69d19",
    "_uuid": "8f2839f25d086af736a60e9eeb907d3b93b6e0e5",
    "execution": {
     "iopub.execute_input": "2024-08-24T07:06:00.239057Z",
     "iopub.status.busy": "2024-08-24T07:06:00.238685Z",
     "iopub.status.idle": "2024-08-24T07:06:00.994876Z",
     "shell.execute_reply": "2024-08-24T07:06:00.994057Z"
    },
    "papermill": {
     "duration": 0.77004,
     "end_time": "2024-08-24T07:06:00.997094",
     "exception": false,
     "start_time": "2024-08-24T07:06:00.227054",
     "status": "completed"
    },
    "tags": []
   },
   "outputs": [],
   "source": [
    "# This Python 3 environment comes with many helpful analytics libraries installed\n",
    "# It is defined by the kaggle/python Docker image: https://github.com/kaggle/docker-python\n",
    "# For example, here's several helpful packages to load\n",
    "\n",
    "import numpy as np # linear algebra\n",
    "import pandas as pd # data processing, CSV file I/O (e.g. pd.read_csv)\n",
    "\n",
    "# Input data files are available in the read-only \"../input/\" directory\n",
    "# For example, running this (by clicking run or pressing Shift+Enter) will list all files under the input directory\n",
    "\n",
    "#import the necessary packages\n",
    "import numpy as np # linear algebra\n",
    "import pandas as pd # data processing, CSV file I/O (e.g. pd.read_csv)\n",
    "from pathlib import Path\n",
    "from collections import Counter"
   ]
  },
  {
   "cell_type": "code",
   "execution_count": 2,
   "id": "a3714f94",
   "metadata": {
    "execution": {
     "iopub.execute_input": "2024-08-24T07:06:01.017578Z",
     "iopub.status.busy": "2024-08-24T07:06:01.017152Z",
     "iopub.status.idle": "2024-08-24T07:06:13.368940Z",
     "shell.execute_reply": "2024-08-24T07:06:13.367898Z"
    },
    "papermill": {
     "duration": 12.364606,
     "end_time": "2024-08-24T07:06:13.371433",
     "exception": false,
     "start_time": "2024-08-24T07:06:01.006827",
     "status": "completed"
    },
    "tags": []
   },
   "outputs": [],
   "source": [
    "from tensorflow.keras.applications import MobileNet, MobileNetV2, MobileNetV3Small, MobileNetV3Large, VGG16\n",
    "from tensorflow.keras.applications import EfficientNetV2S, ConvNeXtSmall, DenseNet121,ResNet50,InceptionV3,EfficientNetB0\n",
    "from tensorflow.keras.layers import Input, Dense, GlobalAveragePooling2D,Flatten,Dropout\n",
    "from tensorflow.keras.models import Model\n",
    "from tensorflow import keras\n",
    "from tensorflow.keras.applications.mobilenet import preprocess_input as mob_preprocess_input\n",
    "from tensorflow.keras.applications.efficientnet import preprocess_input as eff_preprocess_input\n",
    "from tensorflow.keras.applications.convnext import preprocess_input as conv_preprocess_input\n",
    "from tensorflow.keras.applications.vgg16 import preprocess_input as vgg_preprocess_input\n"
   ]
  },
  {
   "cell_type": "code",
   "execution_count": 3,
   "id": "8e5562f7",
   "metadata": {
    "execution": {
     "iopub.execute_input": "2024-08-24T07:06:13.392086Z",
     "iopub.status.busy": "2024-08-24T07:06:13.391534Z",
     "iopub.status.idle": "2024-08-24T07:06:13.629717Z",
     "shell.execute_reply": "2024-08-24T07:06:13.628640Z"
    },
    "papermill": {
     "duration": 0.252232,
     "end_time": "2024-08-24T07:06:13.633476",
     "exception": false,
     "start_time": "2024-08-24T07:06:13.381244",
     "status": "completed"
    },
    "tags": []
   },
   "outputs": [
    {
     "name": "stdout",
     "output_type": "stream",
     "text": [
      "GPUs are available:\n",
      "PhysicalDevice(name='/physical_device:GPU:0', device_type='GPU')\n"
     ]
    }
   ],
   "source": [
    "import tensorflow as tf\n",
    "\n",
    "# Check available GPUs\n",
    "gpus = tf.config.list_physical_devices('GPU')\n",
    "if gpus:\n",
    "    print(\"GPUs are available:\")\n",
    "    for gpu in gpus:\n",
    "        print(gpu)\n",
    "else:\n",
    "    print(\"No GPUs detected.\")"
   ]
  },
  {
   "cell_type": "code",
   "execution_count": 4,
   "id": "86db823e",
   "metadata": {
    "execution": {
     "iopub.execute_input": "2024-08-24T07:06:13.660777Z",
     "iopub.status.busy": "2024-08-24T07:06:13.660273Z",
     "iopub.status.idle": "2024-08-24T07:06:13.720471Z",
     "shell.execute_reply": "2024-08-24T07:06:13.719455Z"
    },
    "papermill": {
     "duration": 0.076135,
     "end_time": "2024-08-24T07:06:13.723145",
     "exception": false,
     "start_time": "2024-08-24T07:06:13.647010",
     "status": "completed"
    },
    "tags": []
   },
   "outputs": [
    {
     "data": {
      "text/html": [
       "<div>\n",
       "<style scoped>\n",
       "    .dataframe tbody tr th:only-of-type {\n",
       "        vertical-align: middle;\n",
       "    }\n",
       "\n",
       "    .dataframe tbody tr th {\n",
       "        vertical-align: top;\n",
       "    }\n",
       "\n",
       "    .dataframe thead th {\n",
       "        text-align: right;\n",
       "    }\n",
       "</style>\n",
       "<table border=\"1\" class=\"dataframe\">\n",
       "  <thead>\n",
       "    <tr style=\"text-align: right;\">\n",
       "      <th></th>\n",
       "      <th>Filename</th>\n",
       "      <th>Label</th>\n",
       "      <th>Species</th>\n",
       "    </tr>\n",
       "  </thead>\n",
       "  <tbody>\n",
       "    <tr>\n",
       "      <th>0</th>\n",
       "      <td>20160928-140314-0.jpg</td>\n",
       "      <td>0</td>\n",
       "      <td>Chinee apple</td>\n",
       "    </tr>\n",
       "    <tr>\n",
       "      <th>1</th>\n",
       "      <td>20160928-140337-0.jpg</td>\n",
       "      <td>0</td>\n",
       "      <td>Chinee apple</td>\n",
       "    </tr>\n",
       "    <tr>\n",
       "      <th>2</th>\n",
       "      <td>20160928-140731-0.jpg</td>\n",
       "      <td>0</td>\n",
       "      <td>Chinee apple</td>\n",
       "    </tr>\n",
       "    <tr>\n",
       "      <th>3</th>\n",
       "      <td>20160928-140747-0.jpg</td>\n",
       "      <td>0</td>\n",
       "      <td>Chinee apple</td>\n",
       "    </tr>\n",
       "    <tr>\n",
       "      <th>4</th>\n",
       "      <td>20160928-141107-0.jpg</td>\n",
       "      <td>0</td>\n",
       "      <td>Chinee apple</td>\n",
       "    </tr>\n",
       "  </tbody>\n",
       "</table>\n",
       "</div>"
      ],
      "text/plain": [
       "                Filename  Label       Species\n",
       "0  20160928-140314-0.jpg      0  Chinee apple\n",
       "1  20160928-140337-0.jpg      0  Chinee apple\n",
       "2  20160928-140731-0.jpg      0  Chinee apple\n",
       "3  20160928-140747-0.jpg      0  Chinee apple\n",
       "4  20160928-141107-0.jpg      0  Chinee apple"
      ]
     },
     "execution_count": 4,
     "metadata": {},
     "output_type": "execute_result"
    }
   ],
   "source": [
    "#read label information\n",
    "df = pd.read_csv('/kaggle/input/deepweeds/labels.csv')\n",
    "df.head()"
   ]
  },
  {
   "cell_type": "code",
   "execution_count": 5,
   "id": "c75b588a",
   "metadata": {
    "execution": {
     "iopub.execute_input": "2024-08-24T07:06:13.751835Z",
     "iopub.status.busy": "2024-08-24T07:06:13.751508Z",
     "iopub.status.idle": "2024-08-24T07:06:13.781166Z",
     "shell.execute_reply": "2024-08-24T07:06:13.780052Z"
    },
    "papermill": {
     "duration": 0.046024,
     "end_time": "2024-08-24T07:06:13.783160",
     "exception": false,
     "start_time": "2024-08-24T07:06:13.737136",
     "status": "completed"
    },
    "tags": []
   },
   "outputs": [
    {
     "data": {
      "text/html": [
       "<div>\n",
       "<style scoped>\n",
       "    .dataframe tbody tr th:only-of-type {\n",
       "        vertical-align: middle;\n",
       "    }\n",
       "\n",
       "    .dataframe tbody tr th {\n",
       "        vertical-align: top;\n",
       "    }\n",
       "\n",
       "    .dataframe thead th {\n",
       "        text-align: right;\n",
       "    }\n",
       "</style>\n",
       "<table border=\"1\" class=\"dataframe\">\n",
       "  <thead>\n",
       "    <tr style=\"text-align: right;\">\n",
       "      <th>Species</th>\n",
       "      <th>Chinee apple</th>\n",
       "      <th>Lantana</th>\n",
       "      <th>Negative</th>\n",
       "      <th>Parkinsonia</th>\n",
       "      <th>Parthenium</th>\n",
       "      <th>Prickly acacia</th>\n",
       "      <th>Rubber vine</th>\n",
       "      <th>Siam weed</th>\n",
       "      <th>Snake weed</th>\n",
       "    </tr>\n",
       "  </thead>\n",
       "  <tbody>\n",
       "    <tr>\n",
       "      <th>Label</th>\n",
       "      <td>1125</td>\n",
       "      <td>1064</td>\n",
       "      <td>9106</td>\n",
       "      <td>1031</td>\n",
       "      <td>1022</td>\n",
       "      <td>1062</td>\n",
       "      <td>1009</td>\n",
       "      <td>1074</td>\n",
       "      <td>1016</td>\n",
       "    </tr>\n",
       "  </tbody>\n",
       "</table>\n",
       "</div>"
      ],
      "text/plain": [
       "Species  Chinee apple  Lantana  Negative  Parkinsonia  Parthenium  \\\n",
       "Label            1125     1064      9106         1031        1022   \n",
       "\n",
       "Species  Prickly acacia  Rubber vine  Siam weed  Snake weed  \n",
       "Label              1062         1009       1074        1016  "
      ]
     },
     "execution_count": 5,
     "metadata": {},
     "output_type": "execute_result"
    }
   ],
   "source": [
    "df[['Species','Label']].groupby(by='Species').count().T"
   ]
  },
  {
   "cell_type": "code",
   "execution_count": 6,
   "id": "3a5b6297",
   "metadata": {
    "execution": {
     "iopub.execute_input": "2024-08-24T07:06:13.804321Z",
     "iopub.status.busy": "2024-08-24T07:06:13.804008Z",
     "iopub.status.idle": "2024-08-24T07:06:13.819877Z",
     "shell.execute_reply": "2024-08-24T07:06:13.817985Z"
    },
    "papermill": {
     "duration": 0.030087,
     "end_time": "2024-08-24T07:06:13.823347",
     "exception": false,
     "start_time": "2024-08-24T07:06:13.793260",
     "status": "completed"
    },
    "tags": []
   },
   "outputs": [
    {
     "data": {
      "text/plain": [
       "{0: 'Chinee apple',\n",
       " 1: 'Lantana',\n",
       " 8: 'Negative',\n",
       " 2: 'Parkinsonia',\n",
       " 3: 'Parthenium',\n",
       " 4: 'Prickly acacia',\n",
       " 5: 'Rubber vine',\n",
       " 6: 'Siam weed',\n",
       " 7: 'Snake weed'}"
      ]
     },
     "execution_count": 6,
     "metadata": {},
     "output_type": "execute_result"
    }
   ],
   "source": [
    "label2id = df[['Species','Label']].groupby(by='Species').min().to_dict()['Label']\n",
    "id2label = {label2id[i]:i for i in label2id}\n",
    "id2label"
   ]
  },
  {
   "cell_type": "code",
   "execution_count": 7,
   "id": "0c426474",
   "metadata": {
    "execution": {
     "iopub.execute_input": "2024-08-24T07:06:13.853313Z",
     "iopub.status.busy": "2024-08-24T07:06:13.852976Z",
     "iopub.status.idle": "2024-08-24T07:06:13.862261Z",
     "shell.execute_reply": "2024-08-24T07:06:13.861362Z"
    },
    "papermill": {
     "duration": 0.026846,
     "end_time": "2024-08-24T07:06:13.864660",
     "exception": false,
     "start_time": "2024-08-24T07:06:13.837814",
     "status": "completed"
    },
    "tags": []
   },
   "outputs": [
    {
     "data": {
      "text/plain": [
       "9"
      ]
     },
     "execution_count": 7,
     "metadata": {},
     "output_type": "execute_result"
    }
   ],
   "source": [
    "num_classes = len(df['Label'].unique())\n",
    "num_classes"
   ]
  },
  {
   "cell_type": "code",
   "execution_count": 8,
   "id": "edd4342e",
   "metadata": {
    "execution": {
     "iopub.execute_input": "2024-08-24T07:06:13.891795Z",
     "iopub.status.busy": "2024-08-24T07:06:13.890956Z",
     "iopub.status.idle": "2024-08-24T07:06:13.906739Z",
     "shell.execute_reply": "2024-08-24T07:06:13.905407Z"
    },
    "papermill": {
     "duration": 0.030355,
     "end_time": "2024-08-24T07:06:13.909307",
     "exception": false,
     "start_time": "2024-08-24T07:06:13.878952",
     "status": "completed"
    },
    "tags": []
   },
   "outputs": [
    {
     "name": "stderr",
     "output_type": "stream",
     "text": [
      "/tmp/ipykernel_24/2892309576.py:2: SettingWithCopyWarning: \n",
      "A value is trying to be set on a copy of a slice from a DataFrame.\n",
      "Try using .loc[row_indexer,col_indexer] = value instead\n",
      "\n",
      "See the caveats in the documentation: https://pandas.pydata.org/pandas-docs/stable/user_guide/indexing.html#returning-a-view-versus-a-copy\n",
      "  df1['Label']=df['Label'].astype(int)\n"
     ]
    },
    {
     "data": {
      "text/html": [
       "<div>\n",
       "<style scoped>\n",
       "    .dataframe tbody tr th:only-of-type {\n",
       "        vertical-align: middle;\n",
       "    }\n",
       "\n",
       "    .dataframe tbody tr th {\n",
       "        vertical-align: top;\n",
       "    }\n",
       "\n",
       "    .dataframe thead th {\n",
       "        text-align: right;\n",
       "    }\n",
       "</style>\n",
       "<table border=\"1\" class=\"dataframe\">\n",
       "  <thead>\n",
       "    <tr style=\"text-align: right;\">\n",
       "      <th></th>\n",
       "      <th>Filename</th>\n",
       "      <th>Label</th>\n",
       "      <th>Species</th>\n",
       "    </tr>\n",
       "  </thead>\n",
       "  <tbody>\n",
       "    <tr>\n",
       "      <th>0</th>\n",
       "      <td>20160928-140314-0.jpg</td>\n",
       "      <td>0</td>\n",
       "      <td>Chinee apple</td>\n",
       "    </tr>\n",
       "    <tr>\n",
       "      <th>1</th>\n",
       "      <td>20160928-140337-0.jpg</td>\n",
       "      <td>0</td>\n",
       "      <td>Chinee apple</td>\n",
       "    </tr>\n",
       "    <tr>\n",
       "      <th>2</th>\n",
       "      <td>20160928-140731-0.jpg</td>\n",
       "      <td>0</td>\n",
       "      <td>Chinee apple</td>\n",
       "    </tr>\n",
       "    <tr>\n",
       "      <th>3</th>\n",
       "      <td>20160928-140747-0.jpg</td>\n",
       "      <td>0</td>\n",
       "      <td>Chinee apple</td>\n",
       "    </tr>\n",
       "    <tr>\n",
       "      <th>4</th>\n",
       "      <td>20160928-141107-0.jpg</td>\n",
       "      <td>0</td>\n",
       "      <td>Chinee apple</td>\n",
       "    </tr>\n",
       "  </tbody>\n",
       "</table>\n",
       "</div>"
      ],
      "text/plain": [
       "                Filename  Label       Species\n",
       "0  20160928-140314-0.jpg      0  Chinee apple\n",
       "1  20160928-140337-0.jpg      0  Chinee apple\n",
       "2  20160928-140731-0.jpg      0  Chinee apple\n",
       "3  20160928-140747-0.jpg      0  Chinee apple\n",
       "4  20160928-141107-0.jpg      0  Chinee apple"
      ]
     },
     "execution_count": 8,
     "metadata": {},
     "output_type": "execute_result"
    }
   ],
   "source": [
    "df1=df[['Filename','Label']]\n",
    "df1['Label']=df['Label'].astype(int)\n",
    "df1['Species'] = df1['Label'].map(id2label)\n",
    "df1.head()"
   ]
  },
  {
   "cell_type": "code",
   "execution_count": 9,
   "id": "58c6d3e4",
   "metadata": {
    "execution": {
     "iopub.execute_input": "2024-08-24T07:06:13.941601Z",
     "iopub.status.busy": "2024-08-24T07:06:13.941266Z",
     "iopub.status.idle": "2024-08-24T07:06:15.024278Z",
     "shell.execute_reply": "2024-08-24T07:06:15.023322Z"
    },
    "papermill": {
     "duration": 1.10601,
     "end_time": "2024-08-24T07:06:15.026491",
     "exception": false,
     "start_time": "2024-08-24T07:06:13.920481",
     "status": "completed"
    },
    "tags": []
   },
   "outputs": [
    {
     "data": {
      "text/plain": [
       "(12256, 5253)"
      ]
     },
     "execution_count": 9,
     "metadata": {},
     "output_type": "execute_result"
    }
   ],
   "source": [
    "from sklearn.model_selection import train_test_split\n",
    "train, test = train_test_split(df1, test_size=0.3, shuffle=True, random_state=23, stratify=df['Label'])\n",
    "train = train.reset_index(drop=True)\n",
    "test = test.reset_index(drop=True)\n",
    "len(train), len(test)"
   ]
  },
  {
   "cell_type": "code",
   "execution_count": 10,
   "id": "118c9a40",
   "metadata": {
    "execution": {
     "iopub.execute_input": "2024-08-24T07:06:15.049962Z",
     "iopub.status.busy": "2024-08-24T07:06:15.049105Z",
     "iopub.status.idle": "2024-08-24T07:06:15.060615Z",
     "shell.execute_reply": "2024-08-24T07:06:15.059611Z"
    },
    "papermill": {
     "duration": 0.02529,
     "end_time": "2024-08-24T07:06:15.062656",
     "exception": false,
     "start_time": "2024-08-24T07:06:15.037366",
     "status": "completed"
    },
    "tags": []
   },
   "outputs": [
    {
     "data": {
      "text/plain": [
       "Species\n",
       "Negative          9106\n",
       "Chinee apple      1125\n",
       "Siam weed         1074\n",
       "Lantana           1064\n",
       "Prickly acacia    1062\n",
       "Parkinsonia       1031\n",
       "Parthenium        1022\n",
       "Snake weed        1016\n",
       "Rubber vine       1009\n",
       "Name: count, dtype: int64"
      ]
     },
     "execution_count": 10,
     "metadata": {},
     "output_type": "execute_result"
    }
   ],
   "source": [
    "df1['Species'].value_counts()"
   ]
  },
  {
   "cell_type": "code",
   "execution_count": 11,
   "id": "fb0cefd3",
   "metadata": {
    "execution": {
     "iopub.execute_input": "2024-08-24T07:06:15.085883Z",
     "iopub.status.busy": "2024-08-24T07:06:15.085157Z",
     "iopub.status.idle": "2024-08-24T07:06:15.091190Z",
     "shell.execute_reply": "2024-08-24T07:06:15.090287Z"
    },
    "papermill": {
     "duration": 0.019466,
     "end_time": "2024-08-24T07:06:15.093087",
     "exception": false,
     "start_time": "2024-08-24T07:06:15.073621",
     "status": "completed"
    },
    "tags": []
   },
   "outputs": [],
   "source": [
    "from tensorflow.keras.preprocessing.image import ImageDataGenerator\n",
    "train_datagen = ImageDataGenerator(\n",
    "    #rescale=1./255,\n",
    "    shear_range=0.2,\n",
    "    zoom_range=0.2,\n",
    "    width_shift_range=0.2,\n",
    "    height_shift_range=0.2,\n",
    "    horizontal_flip=True,\n",
    "    vertical_flip=True,\n",
    "    fill_mode='nearest',\n",
    "    validation_split=0.2  # Set validation split\n",
    ")"
   ]
  },
  {
   "cell_type": "code",
   "execution_count": 12,
   "id": "a9f20a72",
   "metadata": {
    "execution": {
     "iopub.execute_input": "2024-08-24T07:06:15.116025Z",
     "iopub.status.busy": "2024-08-24T07:06:15.115245Z",
     "iopub.status.idle": "2024-08-24T07:06:15.119570Z",
     "shell.execute_reply": "2024-08-24T07:06:15.118685Z"
    },
    "papermill": {
     "duration": 0.017823,
     "end_time": "2024-08-24T07:06:15.121606",
     "exception": false,
     "start_time": "2024-08-24T07:06:15.103783",
     "status": "completed"
    },
    "tags": []
   },
   "outputs": [],
   "source": [
    "image_size = (224, 224)  # Change based on your model's requirements\n",
    "batch_size = 64"
   ]
  },
  {
   "cell_type": "code",
   "execution_count": 13,
   "id": "3d964a1a",
   "metadata": {
    "execution": {
     "iopub.execute_input": "2024-08-24T07:06:15.144738Z",
     "iopub.status.busy": "2024-08-24T07:06:15.143965Z",
     "iopub.status.idle": "2024-08-24T07:06:15.148239Z",
     "shell.execute_reply": "2024-08-24T07:06:15.147297Z"
    },
    "papermill": {
     "duration": 0.018162,
     "end_time": "2024-08-24T07:06:15.150550",
     "exception": false,
     "start_time": "2024-08-24T07:06:15.132388",
     "status": "completed"
    },
    "tags": []
   },
   "outputs": [],
   "source": [
    "img_dir='/kaggle/input/deepweeds/images'"
   ]
  },
  {
   "cell_type": "code",
   "execution_count": 14,
   "id": "8244111d",
   "metadata": {
    "execution": {
     "iopub.execute_input": "2024-08-24T07:06:15.173238Z",
     "iopub.status.busy": "2024-08-24T07:06:15.172662Z",
     "iopub.status.idle": "2024-08-24T07:06:51.364395Z",
     "shell.execute_reply": "2024-08-24T07:06:51.363485Z"
    },
    "papermill": {
     "duration": 36.205564,
     "end_time": "2024-08-24T07:06:51.366653",
     "exception": false,
     "start_time": "2024-08-24T07:06:15.161089",
     "status": "completed"
    },
    "tags": []
   },
   "outputs": [
    {
     "name": "stdout",
     "output_type": "stream",
     "text": [
      "Found 9805 validated image filenames belonging to 9 classes.\n"
     ]
    }
   ],
   "source": [
    "# Train Data Generator\n",
    "train_generator = train_datagen.flow_from_dataframe(\n",
    "    dataframe=train,\n",
    "    directory=img_dir,\n",
    "    x_col='Filename',\n",
    "    y_col='Species',\n",
    "    target_size=image_size,\n",
    "    batch_size=batch_size,\n",
    "    class_mode='categorical',\n",
    "    subset='training'  # Use subset for training\n",
    ")"
   ]
  },
  {
   "cell_type": "code",
   "execution_count": 15,
   "id": "003743a2",
   "metadata": {
    "execution": {
     "iopub.execute_input": "2024-08-24T07:06:51.389476Z",
     "iopub.status.busy": "2024-08-24T07:06:51.389108Z",
     "iopub.status.idle": "2024-08-24T07:06:51.393705Z",
     "shell.execute_reply": "2024-08-24T07:06:51.392887Z"
    },
    "papermill": {
     "duration": 0.018425,
     "end_time": "2024-08-24T07:06:51.395893",
     "exception": false,
     "start_time": "2024-08-24T07:06:51.377468",
     "status": "completed"
    },
    "tags": []
   },
   "outputs": [
    {
     "name": "stdout",
     "output_type": "stream",
     "text": [
      "Class indices: {'Chinee apple': 0, 'Lantana': 1, 'Negative': 2, 'Parkinsonia': 3, 'Parthenium': 4, 'Prickly acacia': 5, 'Rubber vine': 6, 'Siam weed': 7, 'Snake weed': 8}\n"
     ]
    }
   ],
   "source": [
    "print(\"Class indices:\", train_generator.class_indices)"
   ]
  },
  {
   "cell_type": "code",
   "execution_count": 16,
   "id": "6fa44331",
   "metadata": {
    "execution": {
     "iopub.execute_input": "2024-08-24T07:06:51.418425Z",
     "iopub.status.busy": "2024-08-24T07:06:51.418064Z",
     "iopub.status.idle": "2024-08-24T07:06:56.168528Z",
     "shell.execute_reply": "2024-08-24T07:06:56.167489Z"
    },
    "papermill": {
     "duration": 4.764176,
     "end_time": "2024-08-24T07:06:56.170655",
     "exception": false,
     "start_time": "2024-08-24T07:06:51.406479",
     "status": "completed"
    },
    "tags": []
   },
   "outputs": [
    {
     "name": "stdout",
     "output_type": "stream",
     "text": [
      "Found 2451 validated image filenames belonging to 9 classes.\n"
     ]
    }
   ],
   "source": [
    "# Validation Data Generator\n",
    "validation_generator = train_datagen.flow_from_dataframe(\n",
    "    dataframe=train,\n",
    "    directory=img_dir,\n",
    "    x_col='Filename',\n",
    "    y_col='Species',\n",
    "    target_size=image_size,\n",
    "    batch_size=batch_size,\n",
    "    class_mode='categorical',\n",
    "    subset='validation'  # Use subset for validation\n",
    ")"
   ]
  },
  {
   "cell_type": "code",
   "execution_count": 17,
   "id": "a0bc2139",
   "metadata": {
    "execution": {
     "iopub.execute_input": "2024-08-24T07:06:56.193991Z",
     "iopub.status.busy": "2024-08-24T07:06:56.193651Z",
     "iopub.status.idle": "2024-08-24T07:06:56.198793Z",
     "shell.execute_reply": "2024-08-24T07:06:56.197629Z"
    },
    "papermill": {
     "duration": 0.01885,
     "end_time": "2024-08-24T07:06:56.200621",
     "exception": false,
     "start_time": "2024-08-24T07:06:56.181771",
     "status": "completed"
    },
    "tags": []
   },
   "outputs": [
    {
     "name": "stdout",
     "output_type": "stream",
     "text": [
      "Class indices: {'Chinee apple': 0, 'Lantana': 1, 'Negative': 2, 'Parkinsonia': 3, 'Parthenium': 4, 'Prickly acacia': 5, 'Rubber vine': 6, 'Siam weed': 7, 'Snake weed': 8}\n"
     ]
    }
   ],
   "source": [
    "print(\"Class indices:\", validation_generator.class_indices)"
   ]
  },
  {
   "cell_type": "code",
   "execution_count": 18,
   "id": "6006b21f",
   "metadata": {
    "execution": {
     "iopub.execute_input": "2024-08-24T07:06:56.223931Z",
     "iopub.status.busy": "2024-08-24T07:06:56.223621Z",
     "iopub.status.idle": "2024-08-24T07:06:56.227815Z",
     "shell.execute_reply": "2024-08-24T07:06:56.226941Z"
    },
    "papermill": {
     "duration": 0.017987,
     "end_time": "2024-08-24T07:06:56.229800",
     "exception": false,
     "start_time": "2024-08-24T07:06:56.211813",
     "status": "completed"
    },
    "tags": []
   },
   "outputs": [],
   "source": [
    "# Create ImageDataGenerator for test (no augmentation)\n",
    "test_datagen = ImageDataGenerator(\n",
    "    #rescale=1./255\n",
    "    )"
   ]
  },
  {
   "cell_type": "code",
   "execution_count": 19,
   "id": "1cf5c47c",
   "metadata": {
    "execution": {
     "iopub.execute_input": "2024-08-24T07:06:56.252329Z",
     "iopub.status.busy": "2024-08-24T07:06:56.252035Z",
     "iopub.status.idle": "2024-08-24T07:07:10.636427Z",
     "shell.execute_reply": "2024-08-24T07:07:10.635494Z"
    },
    "papermill": {
     "duration": 14.398142,
     "end_time": "2024-08-24T07:07:10.638507",
     "exception": false,
     "start_time": "2024-08-24T07:06:56.240365",
     "status": "completed"
    },
    "tags": []
   },
   "outputs": [
    {
     "name": "stdout",
     "output_type": "stream",
     "text": [
      "Found 5253 validated image filenames belonging to 9 classes.\n"
     ]
    }
   ],
   "source": [
    "# Test Data Generator\n",
    "test_generator = test_datagen.flow_from_dataframe(\n",
    "    dataframe=test,\n",
    "    directory=img_dir,\n",
    "    x_col='Filename',\n",
    "    y_col='Species',  # Assuming test data might still have labels, if not, use None\n",
    "    target_size=image_size,\n",
    "    batch_size=batch_size,\n",
    "    class_mode='categorical',  # Use 'None' if no labels are available\n",
    "    shuffle=False  # Important for test data to maintain order\n",
    ")"
   ]
  },
  {
   "cell_type": "code",
   "execution_count": 20,
   "id": "e0e94c08",
   "metadata": {
    "execution": {
     "iopub.execute_input": "2024-08-24T07:07:10.662078Z",
     "iopub.status.busy": "2024-08-24T07:07:10.661757Z",
     "iopub.status.idle": "2024-08-24T07:07:10.675865Z",
     "shell.execute_reply": "2024-08-24T07:07:10.674961Z"
    },
    "papermill": {
     "duration": 0.028129,
     "end_time": "2024-08-24T07:07:10.677810",
     "exception": false,
     "start_time": "2024-08-24T07:07:10.649681",
     "status": "completed"
    },
    "tags": []
   },
   "outputs": [],
   "source": [
    "#from tensorflow.keras.applications.vgg16 import preprocess_input\n",
    "def buildModel(IMG_SIZE, trainable=True,base_model='Mobilenet',num_classes=num_classes):\n",
    "    # Load the MobileNet model with weights pre-trained on ImageNet.\n",
    "    #base_model, pooler = MobilenetV3Base((224,224,3), use='S')\n",
    "\n",
    "    if (base_model=='DenseNet121'):\n",
    "        base_model=DenseNet121(include_top=False, weights='imagenet',input_shape=IMG_SIZE)\n",
    "        inputs = keras.Input(shape=IMG_SIZE, name='input')\n",
    "        x=dense_preprocess_input(inputs)\n",
    "        #x=inputs\n",
    "        x = base_model(x)\n",
    "    if(base_model=='ResNet50'):\n",
    "        base_model=ResNet50(include_top=False, weights='imagenet',input_shape=IMG_SIZE)\n",
    "        inputs = keras.Input(shape=IMG_SIZE, name='input')\n",
    "        #x=vgg_preprocess_input(inputs)\n",
    "        #x=inputs\n",
    "        x = base_model(inputs)\n",
    "    if (base_model=='InceptionV3'):\n",
    "        base_model=InceptionV3(include_top=False, weights='imagenet',input_shape=IMG_SIZE)\n",
    "        inputs = keras.Input(shape=IMG_SIZE, name='input')\n",
    "        #x=vgg_preprocess_input(inputs)\n",
    "        #x=inputs\n",
    "        x = base_model(inputs,training=False)\n",
    "    if (base_model=='EfficientNetB0'):\n",
    "        base_model=EfficientNetB0(include_top=False, weights='imagenet',input_shape=IMG_SIZE)\n",
    "        inputs = keras.Input(shape=IMG_SIZE, name='input')\n",
    "        #x=vgg_preprocess_input(inputs)\n",
    "        #x=inputs\n",
    "        x = base_model(inputs)\n",
    "    if (base_model=='mobilenet'):\n",
    "        base_model=MobileNet(include_top=False, weights='imagenet',input_shape=IMG_SIZE)\n",
    "        inputs = keras.Input(shape=IMG_SIZE, name='input')\n",
    "        x=mob_preprocess_input(inputs)\n",
    "        x = base_model(x, training=False)\n",
    "    else:\n",
    "        base_model=VGG16(include_top=False, weights='imagenet',input_shape=IMG_SIZE)\n",
    "        inputs = keras.Input(shape=IMG_SIZE, name='input')\n",
    "        #x=vgg_preprocess_input(inputs)\n",
    "        x=inputs\n",
    "        x = base_model(x)\n",
    "\n",
    "    base_model.trainable = trainable\n",
    "\n",
    "\n",
    "    print(\"Base Model:\", base_model.name)\n",
    "    print(len(base_model.layers))\n",
    "    # Define the input layer.\n",
    "\n",
    "\n",
    "    # Pre-process the input.\n",
    "#     x = layers.Rescaling(1./255, name='PP_Rescale')(inputs)\n",
    "#     x = layers.Resizing(224, 224, name='PP_Resize')(x)\n",
    "\n",
    "    #x = augment(seed)(x)\n",
    "\n",
    "    x = GlobalAveragePooling2D()(x)\n",
    "    #x = Dropout(0.3)(x)\n",
    "    #x=Dense(256,activation='relu')(x)\n",
    "    outputs = Dense(num_classes, activation='softmax')(x)\n",
    "\n",
    "    model_name = \"Deepweed-\" + base_model.name\n",
    "    # Create the model.\n",
    "    model = Model(inputs=inputs, outputs=outputs, name=model_name)\n",
    "\n",
    "    return model"
   ]
  },
  {
   "cell_type": "code",
   "execution_count": 21,
   "id": "2ce3bdb4",
   "metadata": {
    "execution": {
     "iopub.execute_input": "2024-08-24T07:07:10.700871Z",
     "iopub.status.busy": "2024-08-24T07:07:10.700255Z",
     "iopub.status.idle": "2024-08-24T07:07:14.070870Z",
     "shell.execute_reply": "2024-08-24T07:07:14.069935Z"
    },
    "papermill": {
     "duration": 3.38432,
     "end_time": "2024-08-24T07:07:14.072876",
     "exception": false,
     "start_time": "2024-08-24T07:07:10.688556",
     "status": "completed"
    },
    "tags": []
   },
   "outputs": [
    {
     "name": "stdout",
     "output_type": "stream",
     "text": [
      "Downloading data from https://storage.googleapis.com/tensorflow/keras-applications/mobilenet/mobilenet_1_0_224_tf_no_top.h5\n",
      "\u001b[1m17225924/17225924\u001b[0m \u001b[32m━━━━━━━━━━━━━━━━━━━━\u001b[0m\u001b[37m\u001b[0m \u001b[1m1s\u001b[0m 0us/step\n",
      "Base Model: mobilenet_1.00_224\n",
      "86\n"
     ]
    },
    {
     "data": {
      "text/html": [
       "<pre style=\"white-space:pre;overflow-x:auto;line-height:normal;font-family:Menlo,'DejaVu Sans Mono',consolas,'Courier New',monospace\"><span style=\"font-weight: bold\">Model: \"Deepweed-mobilenet_1.00_224\"</span>\n",
       "</pre>\n"
      ],
      "text/plain": [
       "\u001b[1mModel: \"Deepweed-mobilenet_1.00_224\"\u001b[0m\n"
      ]
     },
     "metadata": {},
     "output_type": "display_data"
    },
    {
     "data": {
      "text/html": [
       "<pre style=\"white-space:pre;overflow-x:auto;line-height:normal;font-family:Menlo,'DejaVu Sans Mono',consolas,'Courier New',monospace\">┏━━━━━━━━━━━━━━━━━━━━━━━━━━━━━━━━━┳━━━━━━━━━━━━━━━━━━━━━━━━┳━━━━━━━━━━━━━━━┓\n",
       "┃<span style=\"font-weight: bold\"> Layer (type)                    </span>┃<span style=\"font-weight: bold\"> Output Shape           </span>┃<span style=\"font-weight: bold\">       Param # </span>┃\n",
       "┡━━━━━━━━━━━━━━━━━━━━━━━━━━━━━━━━━╇━━━━━━━━━━━━━━━━━━━━━━━━╇━━━━━━━━━━━━━━━┩\n",
       "│ input (<span style=\"color: #0087ff; text-decoration-color: #0087ff\">InputLayer</span>)              │ (<span style=\"color: #00d7ff; text-decoration-color: #00d7ff\">None</span>, <span style=\"color: #00af00; text-decoration-color: #00af00\">224</span>, <span style=\"color: #00af00; text-decoration-color: #00af00\">224</span>, <span style=\"color: #00af00; text-decoration-color: #00af00\">3</span>)    │             <span style=\"color: #00af00; text-decoration-color: #00af00\">0</span> │\n",
       "├─────────────────────────────────┼────────────────────────┼───────────────┤\n",
       "│ true_divide (<span style=\"color: #0087ff; text-decoration-color: #0087ff\">TrueDivide</span>)        │ (<span style=\"color: #00d7ff; text-decoration-color: #00d7ff\">None</span>, <span style=\"color: #00af00; text-decoration-color: #00af00\">224</span>, <span style=\"color: #00af00; text-decoration-color: #00af00\">224</span>, <span style=\"color: #00af00; text-decoration-color: #00af00\">3</span>)    │             <span style=\"color: #00af00; text-decoration-color: #00af00\">0</span> │\n",
       "├─────────────────────────────────┼────────────────────────┼───────────────┤\n",
       "│ subtract (<span style=\"color: #0087ff; text-decoration-color: #0087ff\">Subtract</span>)             │ (<span style=\"color: #00d7ff; text-decoration-color: #00d7ff\">None</span>, <span style=\"color: #00af00; text-decoration-color: #00af00\">224</span>, <span style=\"color: #00af00; text-decoration-color: #00af00\">224</span>, <span style=\"color: #00af00; text-decoration-color: #00af00\">3</span>)    │             <span style=\"color: #00af00; text-decoration-color: #00af00\">0</span> │\n",
       "├─────────────────────────────────┼────────────────────────┼───────────────┤\n",
       "│ mobilenet_1.00_224 (<span style=\"color: #0087ff; text-decoration-color: #0087ff\">Functional</span>) │ (<span style=\"color: #00d7ff; text-decoration-color: #00d7ff\">None</span>, <span style=\"color: #00af00; text-decoration-color: #00af00\">7</span>, <span style=\"color: #00af00; text-decoration-color: #00af00\">7</span>, <span style=\"color: #00af00; text-decoration-color: #00af00\">1024</span>)     │     <span style=\"color: #00af00; text-decoration-color: #00af00\">3,228,864</span> │\n",
       "├─────────────────────────────────┼────────────────────────┼───────────────┤\n",
       "│ global_average_pooling2d        │ (<span style=\"color: #00d7ff; text-decoration-color: #00d7ff\">None</span>, <span style=\"color: #00af00; text-decoration-color: #00af00\">1024</span>)           │             <span style=\"color: #00af00; text-decoration-color: #00af00\">0</span> │\n",
       "│ (<span style=\"color: #0087ff; text-decoration-color: #0087ff\">GlobalAveragePooling2D</span>)        │                        │               │\n",
       "├─────────────────────────────────┼────────────────────────┼───────────────┤\n",
       "│ dense (<span style=\"color: #0087ff; text-decoration-color: #0087ff\">Dense</span>)                   │ (<span style=\"color: #00d7ff; text-decoration-color: #00d7ff\">None</span>, <span style=\"color: #00af00; text-decoration-color: #00af00\">9</span>)              │         <span style=\"color: #00af00; text-decoration-color: #00af00\">9,225</span> │\n",
       "└─────────────────────────────────┴────────────────────────┴───────────────┘\n",
       "</pre>\n"
      ],
      "text/plain": [
       "┏━━━━━━━━━━━━━━━━━━━━━━━━━━━━━━━━━┳━━━━━━━━━━━━━━━━━━━━━━━━┳━━━━━━━━━━━━━━━┓\n",
       "┃\u001b[1m \u001b[0m\u001b[1mLayer (type)                   \u001b[0m\u001b[1m \u001b[0m┃\u001b[1m \u001b[0m\u001b[1mOutput Shape          \u001b[0m\u001b[1m \u001b[0m┃\u001b[1m \u001b[0m\u001b[1m      Param #\u001b[0m\u001b[1m \u001b[0m┃\n",
       "┡━━━━━━━━━━━━━━━━━━━━━━━━━━━━━━━━━╇━━━━━━━━━━━━━━━━━━━━━━━━╇━━━━━━━━━━━━━━━┩\n",
       "│ input (\u001b[38;5;33mInputLayer\u001b[0m)              │ (\u001b[38;5;45mNone\u001b[0m, \u001b[38;5;34m224\u001b[0m, \u001b[38;5;34m224\u001b[0m, \u001b[38;5;34m3\u001b[0m)    │             \u001b[38;5;34m0\u001b[0m │\n",
       "├─────────────────────────────────┼────────────────────────┼───────────────┤\n",
       "│ true_divide (\u001b[38;5;33mTrueDivide\u001b[0m)        │ (\u001b[38;5;45mNone\u001b[0m, \u001b[38;5;34m224\u001b[0m, \u001b[38;5;34m224\u001b[0m, \u001b[38;5;34m3\u001b[0m)    │             \u001b[38;5;34m0\u001b[0m │\n",
       "├─────────────────────────────────┼────────────────────────┼───────────────┤\n",
       "│ subtract (\u001b[38;5;33mSubtract\u001b[0m)             │ (\u001b[38;5;45mNone\u001b[0m, \u001b[38;5;34m224\u001b[0m, \u001b[38;5;34m224\u001b[0m, \u001b[38;5;34m3\u001b[0m)    │             \u001b[38;5;34m0\u001b[0m │\n",
       "├─────────────────────────────────┼────────────────────────┼───────────────┤\n",
       "│ mobilenet_1.00_224 (\u001b[38;5;33mFunctional\u001b[0m) │ (\u001b[38;5;45mNone\u001b[0m, \u001b[38;5;34m7\u001b[0m, \u001b[38;5;34m7\u001b[0m, \u001b[38;5;34m1024\u001b[0m)     │     \u001b[38;5;34m3,228,864\u001b[0m │\n",
       "├─────────────────────────────────┼────────────────────────┼───────────────┤\n",
       "│ global_average_pooling2d        │ (\u001b[38;5;45mNone\u001b[0m, \u001b[38;5;34m1024\u001b[0m)           │             \u001b[38;5;34m0\u001b[0m │\n",
       "│ (\u001b[38;5;33mGlobalAveragePooling2D\u001b[0m)        │                        │               │\n",
       "├─────────────────────────────────┼────────────────────────┼───────────────┤\n",
       "│ dense (\u001b[38;5;33mDense\u001b[0m)                   │ (\u001b[38;5;45mNone\u001b[0m, \u001b[38;5;34m9\u001b[0m)              │         \u001b[38;5;34m9,225\u001b[0m │\n",
       "└─────────────────────────────────┴────────────────────────┴───────────────┘\n"
      ]
     },
     "metadata": {},
     "output_type": "display_data"
    },
    {
     "data": {
      "text/html": [
       "<pre style=\"white-space:pre;overflow-x:auto;line-height:normal;font-family:Menlo,'DejaVu Sans Mono',consolas,'Courier New',monospace\"><span style=\"font-weight: bold\"> Total params: </span><span style=\"color: #00af00; text-decoration-color: #00af00\">3,238,089</span> (12.35 MB)\n",
       "</pre>\n"
      ],
      "text/plain": [
       "\u001b[1m Total params: \u001b[0m\u001b[38;5;34m3,238,089\u001b[0m (12.35 MB)\n"
      ]
     },
     "metadata": {},
     "output_type": "display_data"
    },
    {
     "data": {
      "text/html": [
       "<pre style=\"white-space:pre;overflow-x:auto;line-height:normal;font-family:Menlo,'DejaVu Sans Mono',consolas,'Courier New',monospace\"><span style=\"font-weight: bold\"> Trainable params: </span><span style=\"color: #00af00; text-decoration-color: #00af00\">3,216,201</span> (12.27 MB)\n",
       "</pre>\n"
      ],
      "text/plain": [
       "\u001b[1m Trainable params: \u001b[0m\u001b[38;5;34m3,216,201\u001b[0m (12.27 MB)\n"
      ]
     },
     "metadata": {},
     "output_type": "display_data"
    },
    {
     "data": {
      "text/html": [
       "<pre style=\"white-space:pre;overflow-x:auto;line-height:normal;font-family:Menlo,'DejaVu Sans Mono',consolas,'Courier New',monospace\"><span style=\"font-weight: bold\"> Non-trainable params: </span><span style=\"color: #00af00; text-decoration-color: #00af00\">21,888</span> (85.50 KB)\n",
       "</pre>\n"
      ],
      "text/plain": [
       "\u001b[1m Non-trainable params: \u001b[0m\u001b[38;5;34m21,888\u001b[0m (85.50 KB)\n"
      ]
     },
     "metadata": {},
     "output_type": "display_data"
    }
   ],
   "source": [
    "model = buildModel(image_size +(3,), trainable=True, base_model='mobilenet',num_classes=num_classes)\n",
    "model.summary()"
   ]
  },
  {
   "cell_type": "code",
   "execution_count": 22,
   "id": "2de69f6e",
   "metadata": {
    "execution": {
     "iopub.execute_input": "2024-08-24T07:07:14.102035Z",
     "iopub.status.busy": "2024-08-24T07:07:14.101723Z",
     "iopub.status.idle": "2024-08-24T07:07:14.107374Z",
     "shell.execute_reply": "2024-08-24T07:07:14.106496Z"
    },
    "papermill": {
     "duration": 0.022217,
     "end_time": "2024-08-24T07:07:14.109252",
     "exception": false,
     "start_time": "2024-08-24T07:07:14.087035",
     "status": "completed"
    },
    "tags": []
   },
   "outputs": [
    {
     "data": {
      "text/plain": [
       "'Deepweed-mobilenet_1.00_224'"
      ]
     },
     "execution_count": 22,
     "metadata": {},
     "output_type": "execute_result"
    }
   ],
   "source": [
    "model.name"
   ]
  },
  {
   "cell_type": "code",
   "execution_count": 23,
   "id": "f066e9df",
   "metadata": {
    "execution": {
     "iopub.execute_input": "2024-08-24T07:07:14.138025Z",
     "iopub.status.busy": "2024-08-24T07:07:14.137744Z",
     "iopub.status.idle": "2024-08-24T07:07:14.156910Z",
     "shell.execute_reply": "2024-08-24T07:07:14.156164Z"
    },
    "papermill": {
     "duration": 0.035861,
     "end_time": "2024-08-24T07:07:14.158880",
     "exception": false,
     "start_time": "2024-08-24T07:07:14.123019",
     "status": "completed"
    },
    "tags": []
   },
   "outputs": [],
   "source": [
    "from tensorflow.keras.optimizers import Adam, AdamW\n",
    "from tensorflow.keras.callbacks import EarlyStopping,ReduceLROnPlateau\n",
    "# Constant for epochs\n",
    "EPOCHS = 40\n",
    "\n",
    "pat_es = 5\n",
    "early_stopping = EarlyStopping(monitor='val_loss', patience=pat_es, verbose=1, restore_best_weights=True)\n",
    "reduce_lr =ReduceLROnPlateau(monitor='val_loss',factor=0.75, patience=3, verbose=1, min_lr=1e-6)\n",
    "\n",
    "model.compile(loss='categorical_crossentropy',\n",
    "          optimizer= AdamW(learning_rate=2e-4,  weight_decay=5e-2),\n",
    "          metrics=['accuracy'])"
   ]
  },
  {
   "cell_type": "code",
   "execution_count": 24,
   "id": "10d41d3d",
   "metadata": {
    "execution": {
     "iopub.execute_input": "2024-08-24T07:07:14.188433Z",
     "iopub.status.busy": "2024-08-24T07:07:14.187921Z",
     "iopub.status.idle": "2024-08-24T07:07:14.192595Z",
     "shell.execute_reply": "2024-08-24T07:07:14.191492Z"
    },
    "papermill": {
     "duration": 0.021285,
     "end_time": "2024-08-24T07:07:14.194431",
     "exception": false,
     "start_time": "2024-08-24T07:07:14.173146",
     "status": "completed"
    },
    "tags": []
   },
   "outputs": [],
   "source": [
    "# Define your folder to save results\n",
    "import os\n",
    "save_folder = model.name\n",
    "os.makedirs(save_folder, exist_ok=True)"
   ]
  },
  {
   "cell_type": "code",
   "execution_count": 25,
   "id": "cea80360",
   "metadata": {
    "execution": {
     "iopub.execute_input": "2024-08-24T07:07:14.223285Z",
     "iopub.status.busy": "2024-08-24T07:07:14.222988Z",
     "iopub.status.idle": "2024-08-24T07:07:14.229143Z",
     "shell.execute_reply": "2024-08-24T07:07:14.228251Z"
    },
    "papermill": {
     "duration": 0.022855,
     "end_time": "2024-08-24T07:07:14.231086",
     "exception": false,
     "start_time": "2024-08-24T07:07:14.208231",
     "status": "completed"
    },
    "tags": []
   },
   "outputs": [
    {
     "data": {
      "text/plain": [
       "'Deepweed-mobilenet_1.00_224/Deepweed-mobilenet_1.00_224.h5'"
      ]
     },
     "execution_count": 25,
     "metadata": {},
     "output_type": "execute_result"
    }
   ],
   "source": [
    "filename= model.name+'.h5'\n",
    "model_weight= os.path.join(save_folder, filename)\n",
    "model_weight"
   ]
  },
  {
   "cell_type": "code",
   "execution_count": 26,
   "id": "4209c064",
   "metadata": {
    "execution": {
     "iopub.execute_input": "2024-08-24T07:07:14.260352Z",
     "iopub.status.busy": "2024-08-24T07:07:14.259853Z",
     "iopub.status.idle": "2024-08-24T08:14:20.222697Z",
     "shell.execute_reply": "2024-08-24T08:14:20.221799Z"
    },
    "papermill": {
     "duration": 4026.258607,
     "end_time": "2024-08-24T08:14:20.503609",
     "exception": false,
     "start_time": "2024-08-24T07:07:14.245002",
     "status": "completed"
    },
    "tags": []
   },
   "outputs": [
    {
     "name": "stdout",
     "output_type": "stream",
     "text": [
      "Epoch 1/40\n"
     ]
    },
    {
     "name": "stderr",
     "output_type": "stream",
     "text": [
      "/opt/conda/lib/python3.10/site-packages/keras/src/trainers/data_adapters/py_dataset_adapter.py:121: UserWarning: Your `PyDataset` class should call `super().__init__(**kwargs)` in its constructor. `**kwargs` can include `workers`, `use_multiprocessing`, `max_queue_size`. Do not pass these arguments to `fit()`, as they will be ignored.\n",
      "  self._warn_if_super_not_called()\n",
      "WARNING: All log messages before absl::InitializeLog() is called are written to STDERR\n",
      "I0000 00:00:1724483258.568097      65 service.cc:145] XLA service 0x7df730002600 initialized for platform CUDA (this does not guarantee that XLA will be used). Devices:\n",
      "I0000 00:00:1724483258.568148      65 service.cc:153]   StreamExecutor device (0): Tesla P100-PCIE-16GB, Compute Capability 6.0\n"
     ]
    },
    {
     "name": "stdout",
     "output_type": "stream",
     "text": [
      "\u001b[1m  1/154\u001b[0m \u001b[37m━━━━━━━━━━━━━━━━━━━━\u001b[0m \u001b[1m1:32:40\u001b[0m 36s/step - accuracy: 0.1406 - loss: 2.4775"
     ]
    },
    {
     "name": "stderr",
     "output_type": "stream",
     "text": [
      "I0000 00:00:1724483272.721153      65 device_compiler.h:188] Compiled cluster using XLA!  This line is logged at most once for the lifetime of the process.\n"
     ]
    },
    {
     "name": "stdout",
     "output_type": "stream",
     "text": [
      "\u001b[1m154/154\u001b[0m \u001b[32m━━━━━━━━━━━━━━━━━━━━\u001b[0m\u001b[37m\u001b[0m \u001b[1m252s\u001b[0m 1s/step - accuracy: 0.6169 - loss: 1.1055 - val_accuracy: 0.7226 - val_loss: 0.9867 - learning_rate: 2.0000e-04\n",
      "Epoch 2/40\n",
      "\u001b[1m154/154\u001b[0m \u001b[32m━━━━━━━━━━━━━━━━━━━━\u001b[0m\u001b[37m\u001b[0m \u001b[1m142s\u001b[0m 889ms/step - accuracy: 0.8541 - loss: 0.4268 - val_accuracy: 0.8295 - val_loss: 0.5604 - learning_rate: 2.0000e-04\n",
      "Epoch 3/40\n",
      "\u001b[1m154/154\u001b[0m \u001b[32m━━━━━━━━━━━━━━━━━━━━\u001b[0m\u001b[37m\u001b[0m \u001b[1m142s\u001b[0m 886ms/step - accuracy: 0.8961 - loss: 0.3072 - val_accuracy: 0.8397 - val_loss: 0.4732 - learning_rate: 2.0000e-04\n",
      "Epoch 4/40\n",
      "\u001b[1m154/154\u001b[0m \u001b[32m━━━━━━━━━━━━━━━━━━━━\u001b[0m\u001b[37m\u001b[0m \u001b[1m142s\u001b[0m 888ms/step - accuracy: 0.9096 - loss: 0.2614 - val_accuracy: 0.8605 - val_loss: 0.4172 - learning_rate: 2.0000e-04\n",
      "Epoch 5/40\n",
      "\u001b[1m154/154\u001b[0m \u001b[32m━━━━━━━━━━━━━━━━━━━━\u001b[0m\u001b[37m\u001b[0m \u001b[1m143s\u001b[0m 893ms/step - accuracy: 0.9175 - loss: 0.2307 - val_accuracy: 0.8311 - val_loss: 0.5107 - learning_rate: 2.0000e-04\n",
      "Epoch 6/40\n",
      "\u001b[1m154/154\u001b[0m \u001b[32m━━━━━━━━━━━━━━━━━━━━\u001b[0m\u001b[37m\u001b[0m \u001b[1m142s\u001b[0m 890ms/step - accuracy: 0.9391 - loss: 0.1805 - val_accuracy: 0.8866 - val_loss: 0.3450 - learning_rate: 2.0000e-04\n",
      "Epoch 7/40\n",
      "\u001b[1m154/154\u001b[0m \u001b[32m━━━━━━━━━━━━━━━━━━━━\u001b[0m\u001b[37m\u001b[0m \u001b[1m142s\u001b[0m 890ms/step - accuracy: 0.9440 - loss: 0.1569 - val_accuracy: 0.8686 - val_loss: 0.3994 - learning_rate: 2.0000e-04\n",
      "Epoch 8/40\n",
      "\u001b[1m154/154\u001b[0m \u001b[32m━━━━━━━━━━━━━━━━━━━━\u001b[0m\u001b[37m\u001b[0m \u001b[1m144s\u001b[0m 900ms/step - accuracy: 0.9527 - loss: 0.1416 - val_accuracy: 0.9009 - val_loss: 0.3170 - learning_rate: 2.0000e-04\n",
      "Epoch 9/40\n",
      "\u001b[1m154/154\u001b[0m \u001b[32m━━━━━━━━━━━━━━━━━━━━\u001b[0m\u001b[37m\u001b[0m \u001b[1m144s\u001b[0m 903ms/step - accuracy: 0.9582 - loss: 0.1278 - val_accuracy: 0.8715 - val_loss: 0.4089 - learning_rate: 2.0000e-04\n",
      "Epoch 10/40\n",
      "\u001b[1m154/154\u001b[0m \u001b[32m━━━━━━━━━━━━━━━━━━━━\u001b[0m\u001b[37m\u001b[0m \u001b[1m143s\u001b[0m 898ms/step - accuracy: 0.9595 - loss: 0.1210 - val_accuracy: 0.9086 - val_loss: 0.2782 - learning_rate: 2.0000e-04\n",
      "Epoch 11/40\n",
      "\u001b[1m154/154\u001b[0m \u001b[32m━━━━━━━━━━━━━━━━━━━━\u001b[0m\u001b[37m\u001b[0m \u001b[1m143s\u001b[0m 895ms/step - accuracy: 0.9675 - loss: 0.1027 - val_accuracy: 0.8931 - val_loss: 0.3662 - learning_rate: 2.0000e-04\n",
      "Epoch 12/40\n",
      "\u001b[1m154/154\u001b[0m \u001b[32m━━━━━━━━━━━━━━━━━━━━\u001b[0m\u001b[37m\u001b[0m \u001b[1m204s\u001b[0m 908ms/step - accuracy: 0.9652 - loss: 0.1025 - val_accuracy: 0.9102 - val_loss: 0.2950 - learning_rate: 2.0000e-04\n",
      "Epoch 13/40\n",
      "\u001b[1m154/154\u001b[0m \u001b[32m━━━━━━━━━━━━━━━━━━━━\u001b[0m\u001b[37m\u001b[0m \u001b[1m0s\u001b[0m 718ms/step - accuracy: 0.9711 - loss: 0.0822\n",
      "Epoch 13: ReduceLROnPlateau reducing learning rate to 0.00014999999621068127.\n",
      "\u001b[1m154/154\u001b[0m \u001b[32m━━━━━━━━━━━━━━━━━━━━\u001b[0m\u001b[37m\u001b[0m \u001b[1m144s\u001b[0m 901ms/step - accuracy: 0.9711 - loss: 0.0823 - val_accuracy: 0.8870 - val_loss: 0.3937 - learning_rate: 2.0000e-04\n",
      "Epoch 14/40\n",
      "\u001b[1m154/154\u001b[0m \u001b[32m━━━━━━━━━━━━━━━━━━━━\u001b[0m\u001b[37m\u001b[0m \u001b[1m142s\u001b[0m 888ms/step - accuracy: 0.9708 - loss: 0.0821 - val_accuracy: 0.9319 - val_loss: 0.2179 - learning_rate: 1.5000e-04\n",
      "Epoch 15/40\n",
      "\u001b[1m154/154\u001b[0m \u001b[32m━━━━━━━━━━━━━━━━━━━━\u001b[0m\u001b[37m\u001b[0m \u001b[1m143s\u001b[0m 894ms/step - accuracy: 0.9790 - loss: 0.0643 - val_accuracy: 0.9278 - val_loss: 0.2398 - learning_rate: 1.5000e-04\n",
      "Epoch 16/40\n",
      "\u001b[1m154/154\u001b[0m \u001b[32m━━━━━━━━━━━━━━━━━━━━\u001b[0m\u001b[37m\u001b[0m \u001b[1m142s\u001b[0m 887ms/step - accuracy: 0.9805 - loss: 0.0618 - val_accuracy: 0.9049 - val_loss: 0.2940 - learning_rate: 1.5000e-04\n",
      "Epoch 17/40\n",
      "\u001b[1m154/154\u001b[0m \u001b[32m━━━━━━━━━━━━━━━━━━━━\u001b[0m\u001b[37m\u001b[0m \u001b[1m0s\u001b[0m 708ms/step - accuracy: 0.9860 - loss: 0.0445\n",
      "Epoch 17: ReduceLROnPlateau reducing learning rate to 0.00011249999442952685.\n",
      "\u001b[1m154/154\u001b[0m \u001b[32m━━━━━━━━━━━━━━━━━━━━\u001b[0m\u001b[37m\u001b[0m \u001b[1m142s\u001b[0m 891ms/step - accuracy: 0.9860 - loss: 0.0445 - val_accuracy: 0.9208 - val_loss: 0.2714 - learning_rate: 1.5000e-04\n",
      "Epoch 18/40\n",
      "\u001b[1m154/154\u001b[0m \u001b[32m━━━━━━━━━━━━━━━━━━━━\u001b[0m\u001b[37m\u001b[0m \u001b[1m142s\u001b[0m 889ms/step - accuracy: 0.9848 - loss: 0.0454 - val_accuracy: 0.9372 - val_loss: 0.2016 - learning_rate: 1.1250e-04\n",
      "Epoch 19/40\n",
      "\u001b[1m154/154\u001b[0m \u001b[32m━━━━━━━━━━━━━━━━━━━━\u001b[0m\u001b[37m\u001b[0m \u001b[1m142s\u001b[0m 891ms/step - accuracy: 0.9918 - loss: 0.0335 - val_accuracy: 0.9225 - val_loss: 0.2395 - learning_rate: 1.1250e-04\n",
      "Epoch 20/40\n",
      "\u001b[1m154/154\u001b[0m \u001b[32m━━━━━━━━━━━━━━━━━━━━\u001b[0m\u001b[37m\u001b[0m \u001b[1m144s\u001b[0m 904ms/step - accuracy: 0.9838 - loss: 0.0436 - val_accuracy: 0.9372 - val_loss: 0.2053 - learning_rate: 1.1250e-04\n",
      "Epoch 21/40\n",
      "\u001b[1m154/154\u001b[0m \u001b[32m━━━━━━━━━━━━━━━━━━━━\u001b[0m\u001b[37m\u001b[0m \u001b[1m0s\u001b[0m 728ms/step - accuracy: 0.9881 - loss: 0.0360\n",
      "Epoch 21: ReduceLROnPlateau reducing learning rate to 8.437499855062924e-05.\n",
      "\u001b[1m154/154\u001b[0m \u001b[32m━━━━━━━━━━━━━━━━━━━━\u001b[0m\u001b[37m\u001b[0m \u001b[1m145s\u001b[0m 911ms/step - accuracy: 0.9881 - loss: 0.0360 - val_accuracy: 0.9213 - val_loss: 0.2874 - learning_rate: 1.1250e-04\n",
      "Epoch 22/40\n",
      "\u001b[1m154/154\u001b[0m \u001b[32m━━━━━━━━━━━━━━━━━━━━\u001b[0m\u001b[37m\u001b[0m \u001b[1m142s\u001b[0m 891ms/step - accuracy: 0.9908 - loss: 0.0301 - val_accuracy: 0.9445 - val_loss: 0.1824 - learning_rate: 8.4375e-05\n",
      "Epoch 23/40\n",
      "\u001b[1m154/154\u001b[0m \u001b[32m━━━━━━━━━━━━━━━━━━━━\u001b[0m\u001b[37m\u001b[0m \u001b[1m142s\u001b[0m 890ms/step - accuracy: 0.9920 - loss: 0.0278 - val_accuracy: 0.9282 - val_loss: 0.2343 - learning_rate: 8.4375e-05\n",
      "Epoch 24/40\n",
      "\u001b[1m154/154\u001b[0m \u001b[32m━━━━━━━━━━━━━━━━━━━━\u001b[0m\u001b[37m\u001b[0m \u001b[1m142s\u001b[0m 888ms/step - accuracy: 0.9915 - loss: 0.0258 - val_accuracy: 0.9445 - val_loss: 0.1889 - learning_rate: 8.4375e-05\n",
      "Epoch 25/40\n",
      "\u001b[1m154/154\u001b[0m \u001b[32m━━━━━━━━━━━━━━━━━━━━\u001b[0m\u001b[37m\u001b[0m \u001b[1m0s\u001b[0m 705ms/step - accuracy: 0.9915 - loss: 0.0266\n",
      "Epoch 25: ReduceLROnPlateau reducing learning rate to 6.328125164145604e-05.\n",
      "\u001b[1m154/154\u001b[0m \u001b[32m━━━━━━━━━━━━━━━━━━━━\u001b[0m\u001b[37m\u001b[0m \u001b[1m142s\u001b[0m 890ms/step - accuracy: 0.9915 - loss: 0.0266 - val_accuracy: 0.9425 - val_loss: 0.2037 - learning_rate: 8.4375e-05\n",
      "Epoch 26/40\n",
      "\u001b[1m154/154\u001b[0m \u001b[32m━━━━━━━━━━━━━━━━━━━━\u001b[0m\u001b[37m\u001b[0m \u001b[1m143s\u001b[0m 896ms/step - accuracy: 0.9933 - loss: 0.0216 - val_accuracy: 0.9437 - val_loss: 0.1878 - learning_rate: 6.3281e-05\n",
      "Epoch 27/40\n",
      "\u001b[1m154/154\u001b[0m \u001b[32m━━━━━━━━━━━━━━━━━━━━\u001b[0m\u001b[37m\u001b[0m \u001b[1m143s\u001b[0m 893ms/step - accuracy: 0.9957 - loss: 0.0174 - val_accuracy: 0.9437 - val_loss: 0.1893 - learning_rate: 6.3281e-05\n",
      "Epoch 27: early stopping\n",
      "Restoring model weights from the end of the best epoch: 22.\n",
      "CPU times: user 1h 7min 5s, sys: 3min 51s, total: 1h 10min 57s\n",
      "Wall time: 1h 7min 5s\n"
     ]
    }
   ],
   "source": [
    "%%time\n",
    "# Train the model\n",
    "history1 = model.fit(\n",
    "      train_generator,\n",
    "      epochs=EPOCHS,\n",
    "      validation_data=validation_generator,\n",
    "      callbacks=[early_stopping, reduce_lr],\n",
    "    )"
   ]
  },
  {
   "cell_type": "code",
   "execution_count": 27,
   "id": "697b381b",
   "metadata": {
    "execution": {
     "iopub.execute_input": "2024-08-24T08:14:21.232022Z",
     "iopub.status.busy": "2024-08-24T08:14:21.231621Z",
     "iopub.status.idle": "2024-08-24T08:14:21.506216Z",
     "shell.execute_reply": "2024-08-24T08:14:21.505462Z"
    },
    "papermill": {
     "duration": 0.659523,
     "end_time": "2024-08-24T08:14:21.508216",
     "exception": false,
     "start_time": "2024-08-24T08:14:20.848693",
     "status": "completed"
    },
    "tags": []
   },
   "outputs": [
    {
     "name": "stdout",
     "output_type": "stream",
     "text": [
      "Saving the Model\n"
     ]
    }
   ],
   "source": [
    "print(\"Saving the Model\")\n",
    "model.save(model_weight)"
   ]
  },
  {
   "cell_type": "code",
   "execution_count": 28,
   "id": "b19815ca",
   "metadata": {
    "execution": {
     "iopub.execute_input": "2024-08-24T08:14:22.210358Z",
     "iopub.status.busy": "2024-08-24T08:14:22.209987Z",
     "iopub.status.idle": "2024-08-24T08:14:22.221715Z",
     "shell.execute_reply": "2024-08-24T08:14:22.220915Z"
    },
    "papermill": {
     "duration": 0.364499,
     "end_time": "2024-08-24T08:14:22.223558",
     "exception": false,
     "start_time": "2024-08-24T08:14:21.859059",
     "status": "completed"
    },
    "tags": []
   },
   "outputs": [],
   "source": [
    "#image visualization\n",
    "import matplotlib.pyplot as plt\n",
    "def plot_loss_acc(history):\n",
    "    '''Plots the training and validation loss and accuracy from a history object'''\n",
    "    acc = history['accuracy']\n",
    "    val_acc = history['val_accuracy']\n",
    "    loss = history['loss']\n",
    "    val_loss = history['val_loss']\n",
    "    if 'peaks' in history:\n",
    "        peaks = history['peaks']\n",
    "    else:\n",
    "        _min = np.argmin(val_loss)\n",
    "        peaks = [_min]\n",
    "\n",
    "    epochs = range(len(acc))\n",
    "    print(\"Total Epochs:\",epochs)\n",
    "\n",
    "    plt.figure(figsize=[16, 4])\n",
    "    plt.subplot(1,2,1)\n",
    "    p_value = [val_acc[p] for p in peaks]\n",
    "    plt.scatter(peaks, p_value, marker='o',s=50)\n",
    "    plt.plot(epochs, acc, label='Training accuracy', color='red')\n",
    "    plt.plot(epochs, val_acc, label='Validation accuracy', color='magenta')\n",
    "    plt.title('Training and validation accuracy')\n",
    "    plt.legend()\n",
    "\n",
    "    plt.subplot(1,2,2)\n",
    "    p_value = [val_loss[p] for p in peaks]\n",
    "    plt.scatter(peaks, p_value, marker='o',s=50)\n",
    "    plt.plot(epochs, loss, label='Training Loss', color='red')\n",
    "    plt.plot(epochs, val_loss, label='Validation Loss', color='magenta')\n",
    "    plt.title('Training and validation loss')\n",
    "    plt.legend()\n",
    "    plt.savefig(os.path.join(save_folder, 'training_chart.png'))\n",
    "    plt.show()"
   ]
  },
  {
   "cell_type": "code",
   "execution_count": 29,
   "id": "f617984a",
   "metadata": {
    "execution": {
     "iopub.execute_input": "2024-08-24T08:14:22.910569Z",
     "iopub.status.busy": "2024-08-24T08:14:22.910164Z",
     "iopub.status.idle": "2024-08-24T08:14:23.612092Z",
     "shell.execute_reply": "2024-08-24T08:14:23.611123Z"
    },
    "papermill": {
     "duration": 1.048502,
     "end_time": "2024-08-24T08:14:23.614548",
     "exception": false,
     "start_time": "2024-08-24T08:14:22.566046",
     "status": "completed"
    },
    "tags": []
   },
   "outputs": [
    {
     "name": "stdout",
     "output_type": "stream",
     "text": [
      "Total Epochs: range(0, 27)\n"
     ]
    },
    {
     "data": {
      "image/png": "[encoded data removed]",
      "text/plain": [
       "<Figure size 1600x400 with 2 Axes>"
      ]
     },
     "metadata": {},
     "output_type": "display_data"
    }
   ],
   "source": [
    "# Plot training results\n",
    "plot_loss_acc(history1.history)"
   ]
  },
  {
   "cell_type": "code",
   "execution_count": 30,
   "id": "76873faf",
   "metadata": {
    "execution": {
     "iopub.execute_input": "2024-08-24T08:14:24.346527Z",
     "iopub.status.busy": "2024-08-24T08:14:24.345756Z",
     "iopub.status.idle": "2024-08-24T08:14:24.350621Z",
     "shell.execute_reply": "2024-08-24T08:14:24.349708Z"
    },
    "papermill": {
     "duration": 0.35188,
     "end_time": "2024-08-24T08:14:24.352637",
     "exception": false,
     "start_time": "2024-08-24T08:14:24.000757",
     "status": "completed"
    },
    "tags": []
   },
   "outputs": [],
   "source": [
    "from sklearn.metrics import f1_score, precision_score, recall_score, accuracy_score\n",
    "from sklearn.metrics import ConfusionMatrixDisplay, classification_report\n",
    "import matplotlib.pyplot as plt"
   ]
  },
  {
   "cell_type": "code",
   "execution_count": 31,
   "id": "1902ef23",
   "metadata": {
    "execution": {
     "iopub.execute_input": "2024-08-24T08:14:25.046822Z",
     "iopub.status.busy": "2024-08-24T08:14:25.046429Z",
     "iopub.status.idle": "2024-08-24T08:15:15.803174Z",
     "shell.execute_reply": "2024-08-24T08:15:15.802344Z"
    },
    "papermill": {
     "duration": 51.107329,
     "end_time": "2024-08-24T08:15:15.805193",
     "exception": false,
     "start_time": "2024-08-24T08:14:24.697864",
     "status": "completed"
    },
    "tags": []
   },
   "outputs": [
    {
     "name": "stdout",
     "output_type": "stream",
     "text": [
      "\u001b[1m83/83\u001b[0m \u001b[32m━━━━━━━━━━━━━━━━━━━━\u001b[0m\u001b[37m\u001b[0m \u001b[1m49s\u001b[0m 582ms/step\n"
     ]
    }
   ],
   "source": [
    "predictions=model.predict(test_generator)"
   ]
  },
  {
   "cell_type": "code",
   "execution_count": 32,
   "id": "74252213",
   "metadata": {
    "execution": {
     "iopub.execute_input": "2024-08-24T08:15:16.555062Z",
     "iopub.status.busy": "2024-08-24T08:15:16.554288Z",
     "iopub.status.idle": "2024-08-24T08:15:16.949990Z",
     "shell.execute_reply": "2024-08-24T08:15:16.948960Z"
    },
    "papermill": {
     "duration": 0.753391,
     "end_time": "2024-08-24T08:15:16.952055",
     "exception": false,
     "start_time": "2024-08-24T08:15:16.198664",
     "status": "completed"
    },
    "tags": []
   },
   "outputs": [
    {
     "name": "stdout",
     "output_type": "stream",
     "text": [
      "Confusion Matrix:\n",
      "[[ 241   17   23    0   11    5    1    2   37]\n",
      " [   1  298    9    0    0    0    0    9    2]\n",
      " [   3   44 2572    2   19   23   23   33   13]\n",
      " [   0    0    9  276    4   20    0    0    0]\n",
      " [   0    3    6    1  293    4    0    0    0]\n",
      " [   0    0    7    0    3  306    2    1    0]\n",
      " [   0    0    8    0    0    0  293    1    1]\n",
      " [   0    0    9    0    0    0    0  313    0]\n",
      " [   3   18   20    0    1    3    0    5  255]]\n"
     ]
    }
   ],
   "source": [
    "import numpy as np\n",
    "from sklearn.metrics import confusion_matrix,ConfusionMatrixDisplay\n",
    "import seaborn as sns\n",
    "import matplotlib.pyplot as plt\n",
    "# Convert predictions to class labels\n",
    "predicted_classes = np.argmax(predictions, axis=1)\n",
    "# Get true labels from the test generator\n",
    "true_labels = test_generator.classes\n",
    "# Compute the confusion matrix\n",
    "conf_matrix = confusion_matrix(true_labels, predicted_classes)\n",
    "\n",
    "# Print the confusion matrix\n",
    "print(\"Confusion Matrix:\")\n",
    "print(conf_matrix)"
   ]
  },
  {
   "cell_type": "code",
   "execution_count": 33,
   "id": "e35a5ef4",
   "metadata": {
    "execution": {
     "iopub.execute_input": "2024-08-24T08:15:17.658808Z",
     "iopub.status.busy": "2024-08-24T08:15:17.657939Z",
     "iopub.status.idle": "2024-08-24T08:15:18.266672Z",
     "shell.execute_reply": "2024-08-24T08:15:18.265773Z"
    },
    "papermill": {
     "duration": 0.965086,
     "end_time": "2024-08-24T08:15:18.269277",
     "exception": false,
     "start_time": "2024-08-24T08:15:17.304191",
     "status": "completed"
    },
    "tags": []
   },
   "outputs": [
    {
     "data": {
      "image/png": "[encoded data removed]",
      "text/plain": [
       "<Figure size 640x480 with 2 Axes>"
      ]
     },
     "metadata": {},
     "output_type": "display_data"
    }
   ],
   "source": [
    "cmd = ConfusionMatrixDisplay.from_predictions(\n",
    "        true_labels, predicted_classes,\n",
    "        display_labels=list(test_generator.class_indices.keys()),\n",
    "        xticks_rotation=80, #'vertical',\n",
    "        # ax = ax\n",
    "    )\n",
    "    # fig, ax = plt.subplots(figsize=(25,5))\n",
    "    # cmd.plot(ax=ax)\n",
    "plt.savefig(os.path.join(save_folder, 'confusion-mat.png'))\n",
    "plt.show()"
   ]
  },
  {
   "cell_type": "code",
   "execution_count": 34,
   "id": "d63f0641",
   "metadata": {
    "execution": {
     "iopub.execute_input": "2024-08-24T08:15:18.982730Z",
     "iopub.status.busy": "2024-08-24T08:15:18.981888Z",
     "iopub.status.idle": "2024-08-24T08:15:19.016792Z",
     "shell.execute_reply": "2024-08-24T08:15:19.015800Z"
    },
    "papermill": {
     "duration": 0.392383,
     "end_time": "2024-08-24T08:15:19.018709",
     "exception": false,
     "start_time": "2024-08-24T08:15:18.626326",
     "status": "completed"
    },
    "tags": []
   },
   "outputs": [
    {
     "name": "stdout",
     "output_type": "stream",
     "text": [
      "                precision    recall  f1-score   support\n",
      "\n",
      "  Chinee apple    0.97177   0.71513   0.82393       337\n",
      "       Lantana    0.78421   0.93417   0.85265       319\n",
      "      Negative    0.96583   0.94143   0.95348      2732\n",
      "   Parkinsonia    0.98925   0.89320   0.93878       309\n",
      "    Parthenium    0.88520   0.95440   0.91850       307\n",
      "Prickly acacia    0.84765   0.95925   0.90000       319\n",
      "   Rubber vine    0.91850   0.96700   0.94212       303\n",
      "     Siam weed    0.85989   0.97205   0.91254       322\n",
      "    Snake weed    0.82792   0.83607   0.83197       305\n",
      "\n",
      "      accuracy                        0.92271      5253\n",
      "     macro avg    0.89447   0.90808   0.89711      5253\n",
      "  weighted avg    0.92744   0.92271   0.92267      5253\n",
      "\n"
     ]
    }
   ],
   "source": [
    "display_labels=list(test_generator.class_indices.keys())\n",
    "class_report=classification_report(true_labels, predicted_classes,digits=5, target_names=display_labels)\n",
    "print(class_report)\n",
    "with open(os.path.join(save_folder, 'classification_report.txt'), 'w') as f:\n",
    "    f.write(classification_report(true_labels, predicted_classes))"
   ]
  },
  {
   "cell_type": "code",
   "execution_count": null,
   "id": "5fae93af",
   "metadata": {
    "papermill": {
     "duration": 0.35362,
     "end_time": "2024-08-24T08:15:19.726469",
     "exception": false,
     "start_time": "2024-08-24T08:15:19.372849",
     "status": "completed"
    },
    "tags": []
   },
   "outputs": [],
   "source": []
  },
  {
   "cell_type": "code",
   "execution_count": null,
   "id": "be6a6443",
   "metadata": {
    "papermill": {
     "duration": 0.355879,
     "end_time": "2024-08-24T08:15:20.474129",
     "exception": false,
     "start_time": "2024-08-24T08:15:20.118250",
     "status": "completed"
    },
    "tags": []
   },
   "outputs": [],
   "source": []
  }
 ],
 "metadata": {
  "kaggle": {
   "accelerator": "gpu",
   "dataSources": [
    {
     "datasetId": 4419124,
     "sourceId": 7615277,
     "sourceType": "datasetVersion"
    }
   ],
   "dockerImageVersionId": 30762,
   "isGpuEnabled": true,
   "isInternetEnabled": true,
   "language": "python",
   "sourceType": "notebook"
  },
  "kernelspec": {
   "display_name": "Python 3",
   "language": "python",
   "name": "python3"
  },
  "language_info": {
   "codemirror_mode": {
    "name": "ipython",
    "version": 3
   },
   "file_extension": ".py",
   "mimetype": "text/x-python",
   "name": "python",
   "nbconvert_exporter": "python",
   "pygments_lexer": "ipython3",
   "version": "3.10.14"
  },
  "papermill": {
   "default_parameters": {},
   "duration": 4166.542873,
   "end_time": "2024-08-24T08:15:23.997160",
   "environment_variables": {},
   "exception": null,
   "input_path": "__notebook__.ipynb",
   "output_path": "__notebook__.ipynb",
   "parameters": {},
   "start_time": "2024-08-24T07:05:57.454287",
   "version": "2.6.0"
  }
 },
 "nbformat": 4,
 "nbformat_minor": 5
}
