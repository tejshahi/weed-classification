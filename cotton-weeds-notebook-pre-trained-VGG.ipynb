{
 "cells": [
  {
   "cell_type": "code",
   "execution_count": 1,
   "id": "93dbd3d5",
   "metadata": {
    "_cell_guid": "39b2b498-3b53-426f-a00f-84f2ed0810cf",
    "_uuid": "4965bb40-d57b-41bf-a086-1ca3592e0664",
    "collapsed": false,
    "execution": {
     "iopub.execute_input": "2024-09-05T08:12:24.193116Z",
     "iopub.status.busy": "2024-09-05T08:12:24.192748Z",
     "iopub.status.idle": "2024-09-05T08:12:38.625359Z",
     "shell.execute_reply": "2024-09-05T08:12:38.624151Z"
    },
    "jupyter": {
     "outputs_hidden": false
    },
    "papermill": {
     "duration": 14.451825,
     "end_time": "2024-09-05T08:12:38.627884",
     "exception": false,
     "start_time": "2024-09-05T08:12:24.176059",
     "status": "completed"
    },
    "tags": []
   },
   "outputs": [
    {
     "name": "stderr",
     "output_type": "stream",
     "text": [
      "2024-09-05 08:12:26.107245: E external/local_xla/xla/stream_executor/cuda/cuda_dnn.cc:9261] Unable to register cuDNN factory: Attempting to register factory for plugin cuDNN when one has already been registered\n",
      "2024-09-05 08:12:26.107351: E external/local_xla/xla/stream_executor/cuda/cuda_fft.cc:607] Unable to register cuFFT factory: Attempting to register factory for plugin cuFFT when one has already been registered\n",
      "2024-09-05 08:12:26.245223: E external/local_xla/xla/stream_executor/cuda/cuda_blas.cc:1515] Unable to register cuBLAS factory: Attempting to register factory for plugin cuBLAS when one has already been registered\n"
     ]
    },
    {
     "name": "stdout",
     "output_type": "stream",
     "text": [
      "GPUs are available:\n",
      "PhysicalDevice(name='/physical_device:GPU:0', device_type='GPU')\n"
     ]
    }
   ],
   "source": [
    "import tensorflow as tf\n",
    "\n",
    "# Check available GPUs\n",
    "gpus = tf.config.list_physical_devices('GPU')\n",
    "if gpus:\n",
    "    print(\"GPUs are available:\")\n",
    "    for gpu in gpus:\n",
    "        print(gpu)\n",
    "else:\n",
    "    print(\"No GPUs detected.\")"
   ]
  },
  {
   "cell_type": "code",
   "execution_count": 2,
   "id": "e170a28b",
   "metadata": {
    "_cell_guid": "25af4bba-4268-4eb8-96f2-5ea856918a9c",
    "_uuid": "99ee89a6-c4f3-47b8-8e27-f642a4e4e012",
    "collapsed": false,
    "execution": {
     "iopub.execute_input": "2024-09-05T08:12:38.659213Z",
     "iopub.status.busy": "2024-09-05T08:12:38.658256Z",
     "iopub.status.idle": "2024-09-05T08:12:38.663738Z",
     "shell.execute_reply": "2024-09-05T08:12:38.662717Z"
    },
    "jupyter": {
     "outputs_hidden": false
    },
    "papermill": {
     "duration": 0.023555,
     "end_time": "2024-09-05T08:12:38.665979",
     "exception": false,
     "start_time": "2024-09-05T08:12:38.642424",
     "status": "completed"
    },
    "tags": []
   },
   "outputs": [],
   "source": [
    "# This Python 3 environment comes with many helpful analytics libraries installed\n",
    "# It is defined by the kaggle/python Docker image: https://github.com/kaggle/docker-python\n",
    "# For example, here's several helpful packages to load\n",
    "\n",
    "import numpy as np # linear algebra\n",
    "import pandas as pd # data processing, CSV file I/O (e.g. pd.read_csv)\n",
    "from pathlib import Path\n",
    "from collections import Counter"
   ]
  },
  {
   "cell_type": "code",
   "execution_count": 3,
   "id": "4bc58548",
   "metadata": {
    "_cell_guid": "e39d1175-106b-4d22-b84d-f23aa77dc759",
    "_uuid": "61888487-6abf-4e7d-86e7-48c65253ea5a",
    "collapsed": false,
    "execution": {
     "iopub.execute_input": "2024-09-05T08:12:38.697078Z",
     "iopub.status.busy": "2024-09-05T08:12:38.696699Z",
     "iopub.status.idle": "2024-09-05T08:12:38.704472Z",
     "shell.execute_reply": "2024-09-05T08:12:38.703660Z"
    },
    "jupyter": {
     "outputs_hidden": false
    },
    "papermill": {
     "duration": 0.026072,
     "end_time": "2024-09-05T08:12:38.706765",
     "exception": false,
     "start_time": "2024-09-05T08:12:38.680693",
     "status": "completed"
    },
    "tags": []
   },
   "outputs": [],
   "source": [
    "ds_path = Path('/kaggle/input/cottonweed/CottonWeedID15_500_UM').resolve()"
   ]
  },
  {
   "cell_type": "code",
   "execution_count": 4,
   "id": "111bb77a",
   "metadata": {
    "_cell_guid": "49af4ad0-3ba7-4c20-b226-1bc4df529b62",
    "_uuid": "1a6c4311-b7ed-4122-a173-09c648f5b4c1",
    "collapsed": false,
    "execution": {
     "iopub.execute_input": "2024-09-05T08:12:38.738535Z",
     "iopub.status.busy": "2024-09-05T08:12:38.738119Z",
     "iopub.status.idle": "2024-09-05T08:12:38.745698Z",
     "shell.execute_reply": "2024-09-05T08:12:38.744695Z"
    },
    "jupyter": {
     "outputs_hidden": false
    },
    "papermill": {
     "duration": 0.025288,
     "end_time": "2024-09-05T08:12:38.747772",
     "exception": false,
     "start_time": "2024-09-05T08:12:38.722484",
     "status": "completed"
    },
    "tags": []
   },
   "outputs": [
    {
     "data": {
      "text/plain": [
       "PosixPath('/kaggle/input/cottonweed/CottonWeedID15_500_UM')"
      ]
     },
     "execution_count": 4,
     "metadata": {},
     "output_type": "execute_result"
    }
   ],
   "source": [
    "ds_path"
   ]
  },
  {
   "cell_type": "code",
   "execution_count": 5,
   "id": "12d980a9",
   "metadata": {
    "_cell_guid": "a211cf64-393f-4f17-85c7-47c812261b77",
    "_uuid": "22ecab68-2abf-4fba-80f5-34e5e60be095",
    "collapsed": false,
    "execution": {
     "iopub.execute_input": "2024-09-05T08:12:38.778441Z",
     "iopub.status.busy": "2024-09-05T08:12:38.778037Z",
     "iopub.status.idle": "2024-09-05T08:12:39.688784Z",
     "shell.execute_reply": "2024-09-05T08:12:39.687686Z"
    },
    "jupyter": {
     "outputs_hidden": false
    },
    "papermill": {
     "duration": 0.929051,
     "end_time": "2024-09-05T08:12:39.691379",
     "exception": false,
     "start_time": "2024-09-05T08:12:38.762328",
     "status": "completed"
    },
    "tags": []
   },
   "outputs": [],
   "source": [
    "paths = list(ds_path.glob('*/*'))\n",
    "classes = [path.parent.stem for path in paths]"
   ]
  },
  {
   "cell_type": "code",
   "execution_count": 6,
   "id": "a1a3bea4",
   "metadata": {
    "_cell_guid": "51ba7fa5-6110-43dc-810d-dd1bf3b16fe0",
    "_uuid": "4ea8d19d-61f0-4cf0-8af2-090de7de80e5",
    "collapsed": false,
    "execution": {
     "iopub.execute_input": "2024-09-05T08:12:39.722700Z",
     "iopub.status.busy": "2024-09-05T08:12:39.722007Z",
     "iopub.status.idle": "2024-09-05T08:12:39.729420Z",
     "shell.execute_reply": "2024-09-05T08:12:39.728547Z"
    },
    "jupyter": {
     "outputs_hidden": false
    },
    "papermill": {
     "duration": 0.025407,
     "end_time": "2024-09-05T08:12:39.731838",
     "exception": false,
     "start_time": "2024-09-05T08:12:39.706431",
     "status": "completed"
    },
    "tags": []
   },
   "outputs": [
    {
     "data": {
      "text/plain": [
       "Counter({'Nutsedge': 450,\n",
       "         'Sicklepod': 450,\n",
       "         'Morningglory': 450,\n",
       "         'Ragweed': 450,\n",
       "         'PalmerAmaranth': 450,\n",
       "         'Waterhemp': 450,\n",
       "         'Crabgrass': 450,\n",
       "         'Swinecress': 450,\n",
       "         'Prickly Sida': 450,\n",
       "         'Carpetweeds': 450,\n",
       "         'SpottedSpurge': 450,\n",
       "         'SpurredAnoda': 450,\n",
       "         'Eclipta': 450,\n",
       "         'Goosegrass': 450,\n",
       "         'Purslane': 450})"
      ]
     },
     "execution_count": 6,
     "metadata": {},
     "output_type": "execute_result"
    }
   ],
   "source": [
    "Counter(classes)"
   ]
  },
  {
   "cell_type": "code",
   "execution_count": 7,
   "id": "1da9f659",
   "metadata": {
    "_cell_guid": "2bc7ba59-c720-486e-aa2b-3154dc6aaf64",
    "_uuid": "d3893590-426c-4bbf-ba8b-5d27d5bcd250",
    "collapsed": false,
    "execution": {
     "iopub.execute_input": "2024-09-05T08:12:39.762358Z",
     "iopub.status.busy": "2024-09-05T08:12:39.761725Z",
     "iopub.status.idle": "2024-09-05T08:12:39.766335Z",
     "shell.execute_reply": "2024-09-05T08:12:39.765437Z"
    },
    "jupyter": {
     "outputs_hidden": false
    },
    "papermill": {
     "duration": 0.022147,
     "end_time": "2024-09-05T08:12:39.768359",
     "exception": false,
     "start_time": "2024-09-05T08:12:39.746212",
     "status": "completed"
    },
    "tags": []
   },
   "outputs": [],
   "source": [
    "# # label2id = {'Nutsedge': 0, 'Sicklepod': 1, 'Morningglory': 2, 'Ragweed': 3,\n",
    "# #             'PalmerAmaranth': 4, 'Waterhemp': 5, 'Crabgrass': 6, 'Swinecress': 7,\n",
    "# #             'Prickly Sida': 8, 'Carpetweeds': 9, 'SpottedSpurge': 10, 'SpurredAnoda': 11,\n",
    "# #             'Eclipta': 12, 'Goosegrass': 13, 'Purslane': 14}\n",
    "# id2label = {label2id[i]:i for i in label2id}\n",
    "# class_names = [id2label[i] for i in range(len(label2id))]\n",
    "\n",
    "# print(id2label)\n",
    "# print(label2id)\n",
    "# print(class_names)"
   ]
  },
  {
   "cell_type": "code",
   "execution_count": 8,
   "id": "14d68f0f",
   "metadata": {
    "_cell_guid": "e79740ab-e21e-4728-9942-1472f037eeb9",
    "_uuid": "81198205-a2ec-44e6-bcac-00cc56fdc2af",
    "collapsed": false,
    "execution": {
     "iopub.execute_input": "2024-09-05T08:12:39.797832Z",
     "iopub.status.busy": "2024-09-05T08:12:39.797456Z",
     "iopub.status.idle": "2024-09-05T08:12:39.852868Z",
     "shell.execute_reply": "2024-09-05T08:12:39.851533Z"
    },
    "jupyter": {
     "outputs_hidden": false
    },
    "papermill": {
     "duration": 0.072863,
     "end_time": "2024-09-05T08:12:39.855178",
     "exception": false,
     "start_time": "2024-09-05T08:12:39.782315",
     "status": "completed"
    },
    "tags": []
   },
   "outputs": [
    {
     "name": "stdout",
     "output_type": "stream",
     "text": [
      "<class 'pandas.core.frame.DataFrame'>\n",
      "RangeIndex: 6750 entries, 0 to 6749\n",
      "Data columns (total 3 columns):\n",
      " #   Column  Non-Null Count  Dtype   \n",
      "---  ------  --------------  -----   \n",
      " 0   img     6750 non-null   object  \n",
      " 1   class   6750 non-null   category\n",
      " 2   label   6750 non-null   int8    \n",
      "dtypes: category(1), int8(1), object(1)\n",
      "memory usage: 66.7+ KB\n"
     ]
    }
   ],
   "source": [
    "df = pd.DataFrame({'img':paths, 'class': classes})\n",
    "df['class'] = df['class'].astype('category')\n",
    "df['label'] = df['class'].cat.codes\n",
    "df.info()"
   ]
  },
  {
   "cell_type": "code",
   "execution_count": 9,
   "id": "9de885cf",
   "metadata": {
    "_cell_guid": "428905a1-1146-452e-9a36-df5a28f6522c",
    "_uuid": "53ca4008-a557-4246-a309-c40ecfb95ea8",
    "collapsed": false,
    "execution": {
     "iopub.execute_input": "2024-09-05T08:12:39.887169Z",
     "iopub.status.busy": "2024-09-05T08:12:39.886369Z",
     "iopub.status.idle": "2024-09-05T08:12:39.893693Z",
     "shell.execute_reply": "2024-09-05T08:12:39.892688Z"
    },
    "jupyter": {
     "outputs_hidden": false
    },
    "papermill": {
     "duration": 0.024854,
     "end_time": "2024-09-05T08:12:39.895669",
     "exception": false,
     "start_time": "2024-09-05T08:12:39.870815",
     "status": "completed"
    },
    "tags": []
   },
   "outputs": [
    {
     "data": {
      "text/plain": [
       "{0: 'Carpetweeds',\n",
       " 1: 'Crabgrass',\n",
       " 2: 'Eclipta',\n",
       " 3: 'Goosegrass',\n",
       " 4: 'Morningglory',\n",
       " 5: 'Nutsedge',\n",
       " 6: 'PalmerAmaranth',\n",
       " 7: 'Prickly Sida',\n",
       " 8: 'Purslane',\n",
       " 9: 'Ragweed',\n",
       " 10: 'Sicklepod',\n",
       " 11: 'SpottedSpurge',\n",
       " 12: 'SpurredAnoda',\n",
       " 13: 'Swinecress',\n",
       " 14: 'Waterhemp'}"
      ]
     },
     "execution_count": 9,
     "metadata": {},
     "output_type": "execute_result"
    }
   ],
   "source": [
    "class_labels = dict(zip(range(15), df['class'].cat.categories))\n",
    "class_labels"
   ]
  },
  {
   "cell_type": "code",
   "execution_count": 10,
   "id": "2dc26017",
   "metadata": {
    "_cell_guid": "e7e2740a-9e6a-4621-90dd-b52dfefe7412",
    "_uuid": "0cb450ea-6b3e-48d7-a3e6-b2e0a3e1bcd0",
    "collapsed": false,
    "execution": {
     "iopub.execute_input": "2024-09-05T08:12:39.926171Z",
     "iopub.status.busy": "2024-09-05T08:12:39.925593Z",
     "iopub.status.idle": "2024-09-05T08:12:39.931472Z",
     "shell.execute_reply": "2024-09-05T08:12:39.930574Z"
    },
    "jupyter": {
     "outputs_hidden": false
    },
    "papermill": {
     "duration": 0.023444,
     "end_time": "2024-09-05T08:12:39.933625",
     "exception": false,
     "start_time": "2024-09-05T08:12:39.910181",
     "status": "completed"
    },
    "tags": []
   },
   "outputs": [
    {
     "data": {
      "text/plain": [
       "15"
      ]
     },
     "execution_count": 10,
     "metadata": {},
     "output_type": "execute_result"
    }
   ],
   "source": [
    "num_classes = len(class_labels)\n",
    "num_classes"
   ]
  },
  {
   "cell_type": "code",
   "execution_count": 11,
   "id": "0c523a86",
   "metadata": {
    "_cell_guid": "61f6e6b2-da35-4725-bc3b-9a274fa52e5e",
    "_uuid": "a5f388e9-97a2-431c-8f6b-a2fb1c0574d9",
    "collapsed": false,
    "execution": {
     "iopub.execute_input": "2024-09-05T08:12:39.964000Z",
     "iopub.status.busy": "2024-09-05T08:12:39.963323Z",
     "iopub.status.idle": "2024-09-05T08:12:39.989609Z",
     "shell.execute_reply": "2024-09-05T08:12:39.988603Z"
    },
    "jupyter": {
     "outputs_hidden": false
    },
    "papermill": {
     "duration": 0.044285,
     "end_time": "2024-09-05T08:12:39.991884",
     "exception": false,
     "start_time": "2024-09-05T08:12:39.947599",
     "status": "completed"
    },
    "tags": []
   },
   "outputs": [],
   "source": [
    "df['img']=df['img'].astype(str)\n",
    "#df['label']=df['img'].astype(str)"
   ]
  },
  {
   "cell_type": "code",
   "execution_count": 12,
   "id": "66ddf7ad",
   "metadata": {
    "_cell_guid": "a0f950ba-7ec8-42c8-bc8b-dafbbe1a465f",
    "_uuid": "52774d4c-d4f9-42e1-9866-639acc40b56f",
    "collapsed": false,
    "execution": {
     "iopub.execute_input": "2024-09-05T08:12:40.022603Z",
     "iopub.status.busy": "2024-09-05T08:12:40.022193Z",
     "iopub.status.idle": "2024-09-05T08:12:40.918251Z",
     "shell.execute_reply": "2024-09-05T08:12:40.917159Z"
    },
    "jupyter": {
     "outputs_hidden": false
    },
    "papermill": {
     "duration": 0.914339,
     "end_time": "2024-09-05T08:12:40.920643",
     "exception": false,
     "start_time": "2024-09-05T08:12:40.006304",
     "status": "completed"
    },
    "tags": []
   },
   "outputs": [
    {
     "data": {
      "text/plain": [
       "(4725, 2025)"
      ]
     },
     "execution_count": 12,
     "metadata": {},
     "output_type": "execute_result"
    }
   ],
   "source": [
    "from sklearn.model_selection import train_test_split\n",
    "train, test = train_test_split(df, test_size=0.3, shuffle=True, random_state=1230, stratify=df['label'])\n",
    "train = train.reset_index(drop=True)\n",
    "test = test.reset_index(drop=True)\n",
    "len(train), len(test)"
   ]
  },
  {
   "cell_type": "code",
   "execution_count": 13,
   "id": "2ac4d426",
   "metadata": {
    "_cell_guid": "ddc39155-6e84-486a-9993-e30271777a47",
    "_uuid": "a5275ae7-5b45-4c30-b756-15217d858565",
    "collapsed": false,
    "execution": {
     "iopub.execute_input": "2024-09-05T08:12:40.952774Z",
     "iopub.status.busy": "2024-09-05T08:12:40.952092Z",
     "iopub.status.idle": "2024-09-05T08:12:40.958267Z",
     "shell.execute_reply": "2024-09-05T08:12:40.957262Z"
    },
    "jupyter": {
     "outputs_hidden": false
    },
    "papermill": {
     "duration": 0.024677,
     "end_time": "2024-09-05T08:12:40.960473",
     "exception": false,
     "start_time": "2024-09-05T08:12:40.935796",
     "status": "completed"
    },
    "tags": []
   },
   "outputs": [],
   "source": [
    "train.reset_index(inplace=True)\n",
    "test.reset_index(inplace=True)"
   ]
  },
  {
   "cell_type": "code",
   "execution_count": 14,
   "id": "0f59ecc0",
   "metadata": {
    "_cell_guid": "b82fd571-671d-44cf-8915-bc920e0219e2",
    "_uuid": "80be6a27-2b39-4173-b195-04b2774b9f9b",
    "collapsed": false,
    "execution": {
     "iopub.execute_input": "2024-09-05T08:12:40.991277Z",
     "iopub.status.busy": "2024-09-05T08:12:40.990912Z",
     "iopub.status.idle": "2024-09-05T08:12:41.006433Z",
     "shell.execute_reply": "2024-09-05T08:12:41.005292Z"
    },
    "jupyter": {
     "outputs_hidden": false
    },
    "papermill": {
     "duration": 0.033584,
     "end_time": "2024-09-05T08:12:41.009033",
     "exception": false,
     "start_time": "2024-09-05T08:12:40.975449",
     "status": "completed"
    },
    "tags": []
   },
   "outputs": [
    {
     "data": {
      "text/html": [
       "<div>\n",
       "<style scoped>\n",
       "    .dataframe tbody tr th:only-of-type {\n",
       "        vertical-align: middle;\n",
       "    }\n",
       "\n",
       "    .dataframe tbody tr th {\n",
       "        vertical-align: top;\n",
       "    }\n",
       "\n",
       "    .dataframe thead th {\n",
       "        text-align: right;\n",
       "    }\n",
       "</style>\n",
       "<table border=\"1\" class=\"dataframe\">\n",
       "  <thead>\n",
       "    <tr style=\"text-align: right;\">\n",
       "      <th></th>\n",
       "      <th>index</th>\n",
       "      <th>img</th>\n",
       "      <th>class</th>\n",
       "      <th>label</th>\n",
       "    </tr>\n",
       "  </thead>\n",
       "  <tbody>\n",
       "    <tr>\n",
       "      <th>0</th>\n",
       "      <td>0</td>\n",
       "      <td>/kaggle/input/cottonweed/CottonWeedID15_500_UM...</td>\n",
       "      <td>Purslane</td>\n",
       "      <td>8</td>\n",
       "    </tr>\n",
       "    <tr>\n",
       "      <th>1</th>\n",
       "      <td>1</td>\n",
       "      <td>/kaggle/input/cottonweed/CottonWeedID15_500_UM...</td>\n",
       "      <td>Morningglory</td>\n",
       "      <td>4</td>\n",
       "    </tr>\n",
       "    <tr>\n",
       "      <th>2</th>\n",
       "      <td>2</td>\n",
       "      <td>/kaggle/input/cottonweed/CottonWeedID15_500_UM...</td>\n",
       "      <td>Carpetweeds</td>\n",
       "      <td>0</td>\n",
       "    </tr>\n",
       "    <tr>\n",
       "      <th>3</th>\n",
       "      <td>3</td>\n",
       "      <td>/kaggle/input/cottonweed/CottonWeedID15_500_UM...</td>\n",
       "      <td>Nutsedge</td>\n",
       "      <td>5</td>\n",
       "    </tr>\n",
       "    <tr>\n",
       "      <th>4</th>\n",
       "      <td>4</td>\n",
       "      <td>/kaggle/input/cottonweed/CottonWeedID15_500_UM...</td>\n",
       "      <td>Waterhemp</td>\n",
       "      <td>14</td>\n",
       "    </tr>\n",
       "  </tbody>\n",
       "</table>\n",
       "</div>"
      ],
      "text/plain": [
       "   index                                                img         class  \\\n",
       "0      0  /kaggle/input/cottonweed/CottonWeedID15_500_UM...      Purslane   \n",
       "1      1  /kaggle/input/cottonweed/CottonWeedID15_500_UM...  Morningglory   \n",
       "2      2  /kaggle/input/cottonweed/CottonWeedID15_500_UM...   Carpetweeds   \n",
       "3      3  /kaggle/input/cottonweed/CottonWeedID15_500_UM...      Nutsedge   \n",
       "4      4  /kaggle/input/cottonweed/CottonWeedID15_500_UM...     Waterhemp   \n",
       "\n",
       "   label  \n",
       "0      8  \n",
       "1      4  \n",
       "2      0  \n",
       "3      5  \n",
       "4     14  "
      ]
     },
     "execution_count": 14,
     "metadata": {},
     "output_type": "execute_result"
    }
   ],
   "source": [
    "train.head()"
   ]
  },
  {
   "cell_type": "code",
   "execution_count": 15,
   "id": "ad6d471a",
   "metadata": {
    "_cell_guid": "826837c2-8c45-463f-b110-e9e96efe807f",
    "_uuid": "7589be24-2287-49ef-831f-40b3667c7d76",
    "collapsed": false,
    "execution": {
     "iopub.execute_input": "2024-09-05T08:12:41.044135Z",
     "iopub.status.busy": "2024-09-05T08:12:41.043499Z",
     "iopub.status.idle": "2024-09-05T08:12:41.078260Z",
     "shell.execute_reply": "2024-09-05T08:12:41.077402Z"
    },
    "jupyter": {
     "outputs_hidden": false
    },
    "papermill": {
     "duration": 0.054507,
     "end_time": "2024-09-05T08:12:41.080949",
     "exception": false,
     "start_time": "2024-09-05T08:12:41.026442",
     "status": "completed"
    },
    "tags": []
   },
   "outputs": [],
   "source": [
    "from tensorflow.keras.preprocessing.image import ImageDataGenerator\n",
    "train_datagen = ImageDataGenerator(\n",
    "    rescale=1./255,\n",
    "    shear_range=0.2,\n",
    "    zoom_range=0.2,\n",
    "    horizontal_flip=True,\n",
    "    vertical_flip=True,\n",
    "    validation_split=0.1  # Set validation split\n",
    ")"
   ]
  },
  {
   "cell_type": "code",
   "execution_count": 16,
   "id": "e3686c49",
   "metadata": {
    "_cell_guid": "65ca0fc1-10fc-47de-a366-203d5f41b7e3",
    "_uuid": "2ec9b27b-766e-45cc-b6dc-e5d490e9b4cc",
    "collapsed": false,
    "execution": {
     "iopub.execute_input": "2024-09-05T08:12:41.114174Z",
     "iopub.status.busy": "2024-09-05T08:12:41.113792Z",
     "iopub.status.idle": "2024-09-05T08:12:41.118536Z",
     "shell.execute_reply": "2024-09-05T08:12:41.117585Z"
    },
    "jupyter": {
     "outputs_hidden": false
    },
    "papermill": {
     "duration": 0.023764,
     "end_time": "2024-09-05T08:12:41.120687",
     "exception": false,
     "start_time": "2024-09-05T08:12:41.096923",
     "status": "completed"
    },
    "tags": []
   },
   "outputs": [],
   "source": [
    "image_size = (224, 224)  # Change based on your model's requirements\n",
    "batch_size = 32"
   ]
  },
  {
   "cell_type": "code",
   "execution_count": 17,
   "id": "b3bde061",
   "metadata": {
    "_cell_guid": "63dfc5c1-757c-4457-9e77-29d08a74f17d",
    "_uuid": "573467ca-3a42-44ef-a858-aba8bb7eb545",
    "collapsed": false,
    "execution": {
     "iopub.execute_input": "2024-09-05T08:12:41.153663Z",
     "iopub.status.busy": "2024-09-05T08:12:41.152880Z",
     "iopub.status.idle": "2024-09-05T08:12:41.227609Z",
     "shell.execute_reply": "2024-09-05T08:12:41.226465Z"
    },
    "jupyter": {
     "outputs_hidden": false
    },
    "papermill": {
     "duration": 0.093858,
     "end_time": "2024-09-05T08:12:41.229928",
     "exception": false,
     "start_time": "2024-09-05T08:12:41.136070",
     "status": "completed"
    },
    "tags": []
   },
   "outputs": [
    {
     "name": "stdout",
     "output_type": "stream",
     "text": [
      "Found 4253 validated image filenames belonging to 15 classes.\n"
     ]
    }
   ],
   "source": [
    "# Train Data Generator\n",
    "train_generator = train_datagen.flow_from_dataframe(\n",
    "    dataframe=train,\n",
    "    x_col='img',\n",
    "    y_col='class',\n",
    "    target_size=image_size,\n",
    "    batch_size=batch_size,\n",
    "    class_mode='categorical',\n",
    "    subset='training'  # Use subset for training\n",
    ")"
   ]
  },
  {
   "cell_type": "code",
   "execution_count": 18,
   "id": "f20db9e2",
   "metadata": {
    "_cell_guid": "70e7d9bc-84f5-4be1-b60d-cb9d1f249002",
    "_uuid": "fd5f609b-b7cd-4a72-8ae1-6de577fbf999",
    "collapsed": false,
    "execution": {
     "iopub.execute_input": "2024-09-05T08:12:41.262988Z",
     "iopub.status.busy": "2024-09-05T08:12:41.262276Z",
     "iopub.status.idle": "2024-09-05T08:12:41.267550Z",
     "shell.execute_reply": "2024-09-05T08:12:41.266584Z"
    },
    "jupyter": {
     "outputs_hidden": false
    },
    "papermill": {
     "duration": 0.024668,
     "end_time": "2024-09-05T08:12:41.269945",
     "exception": false,
     "start_time": "2024-09-05T08:12:41.245277",
     "status": "completed"
    },
    "tags": []
   },
   "outputs": [
    {
     "name": "stdout",
     "output_type": "stream",
     "text": [
      "Class indices: {'Carpetweeds': 0, 'Crabgrass': 1, 'Eclipta': 2, 'Goosegrass': 3, 'Morningglory': 4, 'Nutsedge': 5, 'PalmerAmaranth': 6, 'Prickly Sida': 7, 'Purslane': 8, 'Ragweed': 9, 'Sicklepod': 10, 'SpottedSpurge': 11, 'SpurredAnoda': 12, 'Swinecress': 13, 'Waterhemp': 14}\n"
     ]
    }
   ],
   "source": [
    "print(\"Class indices:\", train_generator.class_indices)"
   ]
  },
  {
   "cell_type": "code",
   "execution_count": 19,
   "id": "d6e69c2f",
   "metadata": {
    "_cell_guid": "8e79890c-ea3f-49f8-bbed-250c5a5ddb4d",
    "_uuid": "fef02653-c68a-4bc6-9e85-c28573b44b9d",
    "collapsed": false,
    "execution": {
     "iopub.execute_input": "2024-09-05T08:12:41.303195Z",
     "iopub.status.busy": "2024-09-05T08:12:41.302805Z",
     "iopub.status.idle": "2024-09-05T08:12:41.367917Z",
     "shell.execute_reply": "2024-09-05T08:12:41.366855Z"
    },
    "jupyter": {
     "outputs_hidden": false
    },
    "papermill": {
     "duration": 0.08465,
     "end_time": "2024-09-05T08:12:41.370372",
     "exception": false,
     "start_time": "2024-09-05T08:12:41.285722",
     "status": "completed"
    },
    "tags": []
   },
   "outputs": [
    {
     "name": "stdout",
     "output_type": "stream",
     "text": [
      "Found 472 validated image filenames belonging to 15 classes.\n"
     ]
    }
   ],
   "source": [
    "# Validation Data Generator\n",
    "validation_generator = train_datagen.flow_from_dataframe(\n",
    "    dataframe=train,\n",
    "    x_col='img',\n",
    "    y_col='class',\n",
    "    target_size=image_size,\n",
    "    batch_size=batch_size,\n",
    "    class_mode='categorical',\n",
    "    subset='validation'  # Use subset for validation\n",
    ")"
   ]
  },
  {
   "cell_type": "code",
   "execution_count": 20,
   "id": "6ab5e077",
   "metadata": {
    "_cell_guid": "36b5af21-cddf-4c99-aceb-ba4651b0c438",
    "_uuid": "87cd5870-5f24-4985-8483-1b96598124b3",
    "collapsed": false,
    "execution": {
     "iopub.execute_input": "2024-09-05T08:12:41.403495Z",
     "iopub.status.busy": "2024-09-05T08:12:41.403081Z",
     "iopub.status.idle": "2024-09-05T08:12:41.408503Z",
     "shell.execute_reply": "2024-09-05T08:12:41.407564Z"
    },
    "jupyter": {
     "outputs_hidden": false
    },
    "papermill": {
     "duration": 0.024637,
     "end_time": "2024-09-05T08:12:41.410668",
     "exception": false,
     "start_time": "2024-09-05T08:12:41.386031",
     "status": "completed"
    },
    "tags": []
   },
   "outputs": [
    {
     "name": "stdout",
     "output_type": "stream",
     "text": [
      "Class indices: {'Carpetweeds': 0, 'Crabgrass': 1, 'Eclipta': 2, 'Goosegrass': 3, 'Morningglory': 4, 'Nutsedge': 5, 'PalmerAmaranth': 6, 'Prickly Sida': 7, 'Purslane': 8, 'Ragweed': 9, 'Sicklepod': 10, 'SpottedSpurge': 11, 'SpurredAnoda': 12, 'Swinecress': 13, 'Waterhemp': 14}\n"
     ]
    }
   ],
   "source": [
    "print(\"Class indices:\", validation_generator.class_indices)"
   ]
  },
  {
   "cell_type": "code",
   "execution_count": 21,
   "id": "3b69a33e",
   "metadata": {
    "_cell_guid": "41806427-5b66-451d-a4a7-ad5c3c3f8b8c",
    "_uuid": "f2d1061c-f619-4ab0-8cba-1dcf170b825d",
    "collapsed": false,
    "execution": {
     "iopub.execute_input": "2024-09-05T08:12:41.443179Z",
     "iopub.status.busy": "2024-09-05T08:12:41.442795Z",
     "iopub.status.idle": "2024-09-05T08:12:41.447370Z",
     "shell.execute_reply": "2024-09-05T08:12:41.446392Z"
    },
    "jupyter": {
     "outputs_hidden": false
    },
    "papermill": {
     "duration": 0.023631,
     "end_time": "2024-09-05T08:12:41.449668",
     "exception": false,
     "start_time": "2024-09-05T08:12:41.426037",
     "status": "completed"
    },
    "tags": []
   },
   "outputs": [],
   "source": [
    "# Create ImageDataGenerator for test (no augmentation)\n",
    "test_datagen = ImageDataGenerator(rescale=1./255)"
   ]
  },
  {
   "cell_type": "code",
   "execution_count": 22,
   "id": "abfe36fc",
   "metadata": {
    "_cell_guid": "0f0c829c-9854-45a9-bc62-45890bc043bf",
    "_uuid": "a7b839f8-3b0d-436c-a8a3-2b9c520e8720",
    "collapsed": false,
    "execution": {
     "iopub.execute_input": "2024-09-05T08:12:41.536627Z",
     "iopub.status.busy": "2024-09-05T08:12:41.535714Z",
     "iopub.status.idle": "2024-09-05T08:12:41.575276Z",
     "shell.execute_reply": "2024-09-05T08:12:41.574475Z"
    },
    "jupyter": {
     "outputs_hidden": false
    },
    "papermill": {
     "duration": 0.112399,
     "end_time": "2024-09-05T08:12:41.577588",
     "exception": false,
     "start_time": "2024-09-05T08:12:41.465189",
     "status": "completed"
    },
    "tags": []
   },
   "outputs": [
    {
     "name": "stdout",
     "output_type": "stream",
     "text": [
      "Found 2025 validated image filenames belonging to 15 classes.\n"
     ]
    }
   ],
   "source": [
    "# Test Data Generator\n",
    "test_generator = test_datagen.flow_from_dataframe(\n",
    "    dataframe=test,\n",
    "    x_col='img',\n",
    "    y_col='class',  # Assuming test data might still have labels, if not, use None\n",
    "    target_size=image_size,\n",
    "    batch_size=batch_size,\n",
    "    class_mode='categorical',  # Use 'None' if no labels are available\n",
    "    shuffle=False  # Important for test data to maintain order\n",
    ")"
   ]
  },
  {
   "cell_type": "code",
   "execution_count": 23,
   "id": "979795b3",
   "metadata": {
    "_cell_guid": "67d29376-004d-47d9-b953-2b7298ff6390",
    "_uuid": "15f7558f-e9cc-48d1-acc4-93e0f428c635",
    "collapsed": false,
    "execution": {
     "iopub.execute_input": "2024-09-05T08:12:41.610837Z",
     "iopub.status.busy": "2024-09-05T08:12:41.610434Z",
     "iopub.status.idle": "2024-09-05T08:12:41.623049Z",
     "shell.execute_reply": "2024-09-05T08:12:41.621976Z"
    },
    "jupyter": {
     "outputs_hidden": false
    },
    "papermill": {
     "duration": 0.031778,
     "end_time": "2024-09-05T08:12:41.625321",
     "exception": false,
     "start_time": "2024-09-05T08:12:41.593543",
     "status": "completed"
    },
    "tags": []
   },
   "outputs": [],
   "source": [
    "from tensorflow.keras.applications import MobileNet, MobileNetV2, MobileNetV3Small, MobileNetV3Large, VGG16\n",
    "from tensorflow.keras.applications import EfficientNetV2S, ConvNeXtSmall\n",
    "from tensorflow.keras.layers import Input, Dense, GlobalAveragePooling2D,Flatten,Dropout\n",
    "from tensorflow.keras.models import Model\n",
    "from tensorflow import keras\n",
    "from tensorflow.keras.applications.mobilenet import preprocess_input"
   ]
  },
  {
   "cell_type": "code",
   "execution_count": 24,
   "id": "742b3d4f",
   "metadata": {
    "_cell_guid": "341e52ca-9e98-44d1-a1e1-fc54ac58187b",
    "_uuid": "2fa063c1-cee3-48d9-8631-2f543b383c49",
    "collapsed": false,
    "execution": {
     "iopub.execute_input": "2024-09-05T08:12:41.658931Z",
     "iopub.status.busy": "2024-09-05T08:12:41.658536Z",
     "iopub.status.idle": "2024-09-05T08:12:41.883679Z",
     "shell.execute_reply": "2024-09-05T08:12:41.882756Z"
    },
    "jupyter": {
     "outputs_hidden": false
    },
    "papermill": {
     "duration": 0.245015,
     "end_time": "2024-09-05T08:12:41.885931",
     "exception": false,
     "start_time": "2024-09-05T08:12:41.640916",
     "status": "completed"
    },
    "tags": []
   },
   "outputs": [],
   "source": [
    "#from tensorflow.keras.applications.vgg16 import preprocess_input\n",
    "def buildModel(IMG_SIZE, trainable=True, base_model='VGG16',num_classes=num_classes):\n",
    "    # Load the MobileNet model with weights pre-trained on ImageNet.\n",
    "    #base_model, pooler = MobilenetV3Base((224,224,3), use='S')\n",
    "\n",
    "    if (base_model=='DenseNet121'):\n",
    "        base_model=DenseNet121(include_top=False, weights='imagenet',input_shape=IMG_SIZE)\n",
    "        inputs = keras.Input(shape=IMG_SIZE, name='input')\n",
    "        x=dense_preprocess_input(inputs)\n",
    "        #x=inputs\n",
    "        x = base_model(x)\n",
    "    if(base_model=='ResNet50'):\n",
    "        base_model=ResNet50(include_top=False, weights='imagenet',input_shape=IMG_SIZE)\n",
    "        inputs = keras.Input(shape=IMG_SIZE, name='input')\n",
    "        #x=vgg_preprocess_input(inputs)\n",
    "        #x=inputs\n",
    "        x = base_model(inputs)\n",
    "    if (base_model=='InceptionV3'):\n",
    "        base_model=InceptionV3(include_top=False, weights='imagenet',input_shape=IMG_SIZE)\n",
    "        inputs = keras.Input(shape=IMG_SIZE, name='input')\n",
    "        #x=vgg_preprocess_input(inputs)\n",
    "        #x=inputs\n",
    "        x = base_model(inputs,training=False)\n",
    "    if (base_model=='EfficientNetB0'):\n",
    "        base_model=EfficientNetB0(include_top=False, weights='imagenet',input_shape=IMG_SIZE)\n",
    "        inputs = keras.Input(shape=IMG_SIZE, name='input')\n",
    "        #x=vgg_preprocess_input(inputs)\n",
    "        #x=inputs\n",
    "        x = base_model(inputs)\n",
    "    if (base_model=='mobilenet'):\n",
    "        base_model=MobileNet(include_top=False, weights='imagenet',input_shape=IMG_SIZE)\n",
    "        inputs = keras.Input(shape=IMG_SIZE, name='input')\n",
    "        x=mob_preprocess_input(inputs)\n",
    "        x = base_model(x, training=False)\n",
    "    if(base_model=='mobilenetv2'):\n",
    "        base_model=MobileNetV2(include_top=False, weights='imagenet',input_shape=IMG_SIZE)\n",
    "        inputs = keras.Input(shape=IMG_SIZE, name='input')\n",
    "        x=mob_preprocess_input(inputs)\n",
    "        x = base_model(x, training=False)\n",
    "    else:\n",
    "        base_model=VGG16(include_top=False, weights='imagenet',input_shape=IMG_SIZE)\n",
    "        inputs = keras.Input(shape=IMG_SIZE, name='input')\n",
    "        #x=vgg_preprocess_input(inputs) //VGG-preprocess input did not do job well\n",
    "        x = base_model(inputs)\n",
    "\n",
    "    base_model.trainable = trainable\n",
    "\n",
    "\n",
    "    print(\"Base Model:\", base_model.name)\n",
    "    print(len(base_model.layers))\n",
    "  \n",
    "    x = GlobalAveragePooling2D()(x)\n",
    "    outputs = Dense(num_classes, activation='softmax')(x)\n",
    "\n",
    "    model_name = \"CottonWeed-\" + base_model.name\n",
    "    # Create the model.\n",
    "    model = Model(inputs=inputs, outputs=outputs, name=model_name)\n",
    "\n",
    "    return model"
   ]
  },
  {
   "cell_type": "code",
   "execution_count": 25,
   "id": "4ed5275c",
   "metadata": {
    "_cell_guid": "54ee2a10-7e71-47ec-a50a-7b603076f8c0",
    "_uuid": "3cae159a-ee9b-407b-947d-3577aefd9dd3",
    "collapsed": false,
    "execution": {
     "iopub.execute_input": "2024-09-05T08:12:41.920005Z",
     "iopub.status.busy": "2024-09-05T08:12:41.919116Z",
     "iopub.status.idle": "2024-09-05T08:12:43.281908Z",
     "shell.execute_reply": "2024-09-05T08:12:43.280900Z"
    },
    "jupyter": {
     "outputs_hidden": false
    },
    "papermill": {
     "duration": 1.382254,
     "end_time": "2024-09-05T08:12:43.284083",
     "exception": false,
     "start_time": "2024-09-05T08:12:41.901829",
     "status": "completed"
    },
    "tags": []
   },
   "outputs": [
    {
     "name": "stdout",
     "output_type": "stream",
     "text": [
      "Downloading data from https://storage.googleapis.com/tensorflow/keras-applications/vgg16/vgg16_weights_tf_dim_ordering_tf_kernels_notop.h5\n",
      "\u001b[1m58889256/58889256\u001b[0m \u001b[32m━━━━━━━━━━━━━━━━━━━━\u001b[0m\u001b[37m\u001b[0m \u001b[1m0s\u001b[0m 0us/step\n",
      "Base Model: vgg16\n",
      "19\n"
     ]
    },
    {
     "data": {
      "text/html": [
       "<pre style=\"white-space:pre;overflow-x:auto;line-height:normal;font-family:Menlo,'DejaVu Sans Mono',consolas,'Courier New',monospace\"><span style=\"font-weight: bold\">Model: \"CottonWeed-vgg16\"</span>\n",
       "</pre>\n"
      ],
      "text/plain": [
       "\u001b[1mModel: \"CottonWeed-vgg16\"\u001b[0m\n"
      ]
     },
     "metadata": {},
     "output_type": "display_data"
    },
    {
     "data": {
      "text/html": [
       "<pre style=\"white-space:pre;overflow-x:auto;line-height:normal;font-family:Menlo,'DejaVu Sans Mono',consolas,'Courier New',monospace\">┏━━━━━━━━━━━━━━━━━━━━━━━━━━━━━━━━━┳━━━━━━━━━━━━━━━━━━━━━━━━┳━━━━━━━━━━━━━━━┓\n",
       "┃<span style=\"font-weight: bold\"> Layer (type)                    </span>┃<span style=\"font-weight: bold\"> Output Shape           </span>┃<span style=\"font-weight: bold\">       Param # </span>┃\n",
       "┡━━━━━━━━━━━━━━━━━━━━━━━━━━━━━━━━━╇━━━━━━━━━━━━━━━━━━━━━━━━╇━━━━━━━━━━━━━━━┩\n",
       "│ input (<span style=\"color: #0087ff; text-decoration-color: #0087ff\">InputLayer</span>)              │ (<span style=\"color: #00d7ff; text-decoration-color: #00d7ff\">None</span>, <span style=\"color: #00af00; text-decoration-color: #00af00\">224</span>, <span style=\"color: #00af00; text-decoration-color: #00af00\">224</span>, <span style=\"color: #00af00; text-decoration-color: #00af00\">3</span>)    │             <span style=\"color: #00af00; text-decoration-color: #00af00\">0</span> │\n",
       "├─────────────────────────────────┼────────────────────────┼───────────────┤\n",
       "│ vgg16 (<span style=\"color: #0087ff; text-decoration-color: #0087ff\">Functional</span>)              │ (<span style=\"color: #00d7ff; text-decoration-color: #00d7ff\">None</span>, <span style=\"color: #00af00; text-decoration-color: #00af00\">7</span>, <span style=\"color: #00af00; text-decoration-color: #00af00\">7</span>, <span style=\"color: #00af00; text-decoration-color: #00af00\">512</span>)      │    <span style=\"color: #00af00; text-decoration-color: #00af00\">14,714,688</span> │\n",
       "├─────────────────────────────────┼────────────────────────┼───────────────┤\n",
       "│ global_average_pooling2d        │ (<span style=\"color: #00d7ff; text-decoration-color: #00d7ff\">None</span>, <span style=\"color: #00af00; text-decoration-color: #00af00\">512</span>)            │             <span style=\"color: #00af00; text-decoration-color: #00af00\">0</span> │\n",
       "│ (<span style=\"color: #0087ff; text-decoration-color: #0087ff\">GlobalAveragePooling2D</span>)        │                        │               │\n",
       "├─────────────────────────────────┼────────────────────────┼───────────────┤\n",
       "│ dense (<span style=\"color: #0087ff; text-decoration-color: #0087ff\">Dense</span>)                   │ (<span style=\"color: #00d7ff; text-decoration-color: #00d7ff\">None</span>, <span style=\"color: #00af00; text-decoration-color: #00af00\">15</span>)             │         <span style=\"color: #00af00; text-decoration-color: #00af00\">7,695</span> │\n",
       "└─────────────────────────────────┴────────────────────────┴───────────────┘\n",
       "</pre>\n"
      ],
      "text/plain": [
       "┏━━━━━━━━━━━━━━━━━━━━━━━━━━━━━━━━━┳━━━━━━━━━━━━━━━━━━━━━━━━┳━━━━━━━━━━━━━━━┓\n",
       "┃\u001b[1m \u001b[0m\u001b[1mLayer (type)                   \u001b[0m\u001b[1m \u001b[0m┃\u001b[1m \u001b[0m\u001b[1mOutput Shape          \u001b[0m\u001b[1m \u001b[0m┃\u001b[1m \u001b[0m\u001b[1m      Param #\u001b[0m\u001b[1m \u001b[0m┃\n",
       "┡━━━━━━━━━━━━━━━━━━━━━━━━━━━━━━━━━╇━━━━━━━━━━━━━━━━━━━━━━━━╇━━━━━━━━━━━━━━━┩\n",
       "│ input (\u001b[38;5;33mInputLayer\u001b[0m)              │ (\u001b[38;5;45mNone\u001b[0m, \u001b[38;5;34m224\u001b[0m, \u001b[38;5;34m224\u001b[0m, \u001b[38;5;34m3\u001b[0m)    │             \u001b[38;5;34m0\u001b[0m │\n",
       "├─────────────────────────────────┼────────────────────────┼───────────────┤\n",
       "│ vgg16 (\u001b[38;5;33mFunctional\u001b[0m)              │ (\u001b[38;5;45mNone\u001b[0m, \u001b[38;5;34m7\u001b[0m, \u001b[38;5;34m7\u001b[0m, \u001b[38;5;34m512\u001b[0m)      │    \u001b[38;5;34m14,714,688\u001b[0m │\n",
       "├─────────────────────────────────┼────────────────────────┼───────────────┤\n",
       "│ global_average_pooling2d        │ (\u001b[38;5;45mNone\u001b[0m, \u001b[38;5;34m512\u001b[0m)            │             \u001b[38;5;34m0\u001b[0m │\n",
       "│ (\u001b[38;5;33mGlobalAveragePooling2D\u001b[0m)        │                        │               │\n",
       "├─────────────────────────────────┼────────────────────────┼───────────────┤\n",
       "│ dense (\u001b[38;5;33mDense\u001b[0m)                   │ (\u001b[38;5;45mNone\u001b[0m, \u001b[38;5;34m15\u001b[0m)             │         \u001b[38;5;34m7,695\u001b[0m │\n",
       "└─────────────────────────────────┴────────────────────────┴───────────────┘\n"
      ]
     },
     "metadata": {},
     "output_type": "display_data"
    },
    {
     "data": {
      "text/html": [
       "<pre style=\"white-space:pre;overflow-x:auto;line-height:normal;font-family:Menlo,'DejaVu Sans Mono',consolas,'Courier New',monospace\"><span style=\"font-weight: bold\"> Total params: </span><span style=\"color: #00af00; text-decoration-color: #00af00\">14,722,383</span> (56.16 MB)\n",
       "</pre>\n"
      ],
      "text/plain": [
       "\u001b[1m Total params: \u001b[0m\u001b[38;5;34m14,722,383\u001b[0m (56.16 MB)\n"
      ]
     },
     "metadata": {},
     "output_type": "display_data"
    },
    {
     "data": {
      "text/html": [
       "<pre style=\"white-space:pre;overflow-x:auto;line-height:normal;font-family:Menlo,'DejaVu Sans Mono',consolas,'Courier New',monospace\"><span style=\"font-weight: bold\"> Trainable params: </span><span style=\"color: #00af00; text-decoration-color: #00af00\">14,722,383</span> (56.16 MB)\n",
       "</pre>\n"
      ],
      "text/plain": [
       "\u001b[1m Trainable params: \u001b[0m\u001b[38;5;34m14,722,383\u001b[0m (56.16 MB)\n"
      ]
     },
     "metadata": {},
     "output_type": "display_data"
    },
    {
     "data": {
      "text/html": [
       "<pre style=\"white-space:pre;overflow-x:auto;line-height:normal;font-family:Menlo,'DejaVu Sans Mono',consolas,'Courier New',monospace\"><span style=\"font-weight: bold\"> Non-trainable params: </span><span style=\"color: #00af00; text-decoration-color: #00af00\">0</span> (0.00 B)\n",
       "</pre>\n"
      ],
      "text/plain": [
       "\u001b[1m Non-trainable params: \u001b[0m\u001b[38;5;34m0\u001b[0m (0.00 B)\n"
      ]
     },
     "metadata": {},
     "output_type": "display_data"
    }
   ],
   "source": [
    "model = buildModel(image_size +(3,), base_model='VGG16')\n",
    "model.summary()"
   ]
  },
  {
   "cell_type": "code",
   "execution_count": 26,
   "id": "06243eb5",
   "metadata": {
    "_cell_guid": "ca8e7df2-74e5-4bac-b5e1-2fca07533bea",
    "_uuid": "ea260972-18dd-4274-8741-e4142bc135f0",
    "collapsed": false,
    "execution": {
     "iopub.execute_input": "2024-09-05T08:12:43.321335Z",
     "iopub.status.busy": "2024-09-05T08:12:43.320905Z",
     "iopub.status.idle": "2024-09-05T08:12:43.342248Z",
     "shell.execute_reply": "2024-09-05T08:12:43.341208Z"
    },
    "jupyter": {
     "outputs_hidden": false
    },
    "papermill": {
     "duration": 0.042869,
     "end_time": "2024-09-05T08:12:43.344803",
     "exception": false,
     "start_time": "2024-09-05T08:12:43.301934",
     "status": "completed"
    },
    "tags": []
   },
   "outputs": [],
   "source": [
    "from tensorflow.keras.optimizers import Adam, AdamW\n",
    "from tensorflow.keras.callbacks import EarlyStopping,ReduceLROnPlateau\n",
    "# Constant for epochs\n",
    "EPOCHS = 50\n",
    "\n",
    "pat_es = 5\n",
    "early_stopping = EarlyStopping(monitor='val_loss', patience=pat_es, verbose=1, restore_best_weights=True)\n",
    "reduce_lr =ReduceLROnPlateau(monitor='val_loss',factor=0.75, patience=3, verbose=1, min_lr=1e-6)\n",
    "\n",
    "model.compile(loss='categorical_crossentropy',\n",
    "          optimizer= AdamW(learning_rate=2e-4,  weight_decay=5e-2),\n",
    "          metrics=['accuracy'])"
   ]
  },
  {
   "cell_type": "code",
   "execution_count": 27,
   "id": "1c8e0ff7",
   "metadata": {
    "_cell_guid": "3712ebca-5053-44c5-a7c7-03fac4e1327e",
    "_uuid": "4226ee33-4031-4128-9ea9-12a67bddd213",
    "collapsed": false,
    "execution": {
     "iopub.execute_input": "2024-09-05T08:12:43.381075Z",
     "iopub.status.busy": "2024-09-05T08:12:43.380684Z",
     "iopub.status.idle": "2024-09-05T08:38:09.136893Z",
     "shell.execute_reply": "2024-09-05T08:38:09.135540Z"
    },
    "jupyter": {
     "outputs_hidden": false
    },
    "papermill": {
     "duration": 1525.77704,
     "end_time": "2024-09-05T08:38:09.139257",
     "exception": false,
     "start_time": "2024-09-05T08:12:43.362217",
     "status": "completed"
    },
    "tags": []
   },
   "outputs": [
    {
     "name": "stdout",
     "output_type": "stream",
     "text": [
      "Epoch 1/50\n"
     ]
    },
    {
     "name": "stderr",
     "output_type": "stream",
     "text": [
      "/opt/conda/lib/python3.10/site-packages/keras/src/trainers/data_adapters/py_dataset_adapter.py:121: UserWarning: Your `PyDataset` class should call `super().__init__(**kwargs)` in its constructor. `**kwargs` can include `workers`, `use_multiprocessing`, `max_queue_size`. Do not pass these arguments to `fit()`, as they will be ignored.\n",
      "  self._warn_if_super_not_called()\n",
      "2024-09-05 08:12:56.424083: E external/local_xla/xla/service/gpu/buffer_comparator.cc:1137] Difference at 0: 4.63498, expected 3.85968\n",
      "2024-09-05 08:12:56.424159: E external/local_xla/xla/service/gpu/buffer_comparator.cc:1137] Difference at 3: 6.55784, expected 5.78254\n",
      "2024-09-05 08:12:56.424170: E external/local_xla/xla/service/gpu/buffer_comparator.cc:1137] Difference at 4: 6.61282, expected 5.83752\n",
      "2024-09-05 08:12:56.424179: E external/local_xla/xla/service/gpu/buffer_comparator.cc:1137] Difference at 6: 6.34499, expected 5.56968\n",
      "2024-09-05 08:12:56.424188: E external/local_xla/xla/service/gpu/buffer_comparator.cc:1137] Difference at 7: 6.25159, expected 5.47629\n",
      "2024-09-05 08:12:56.424197: E external/local_xla/xla/service/gpu/buffer_comparator.cc:1137] Difference at 8: 5.43964, expected 4.66434\n",
      "2024-09-05 08:12:56.424206: E external/local_xla/xla/service/gpu/buffer_comparator.cc:1137] Difference at 9: 6.54333, expected 5.76803\n",
      "2024-09-05 08:12:56.424216: E external/local_xla/xla/service/gpu/buffer_comparator.cc:1137] Difference at 10: 5.76049, expected 4.98519\n",
      "2024-09-05 08:12:56.424225: E external/local_xla/xla/service/gpu/buffer_comparator.cc:1137] Difference at 11: 5.33632, expected 4.56101\n",
      "2024-09-05 08:12:56.424234: E external/local_xla/xla/service/gpu/buffer_comparator.cc:1137] Difference at 12: 4.04081, expected 3.2655\n",
      "2024-09-05 08:12:56.475589: E external/local_xla/xla/service/gpu/conv_algorithm_picker.cc:705] Results mismatch between different convolution algorithms. This is likely a bug/unexpected loss of precision in cudnn.\n",
      "(f32[32,64,224,224]{3,2,1,0}, u8[0]{0}) custom-call(f32[32,3,224,224]{3,2,1,0}, f32[64,3,3,3]{3,2,1,0}, f32[64]{0}), window={size=3x3 pad=1_1x1_1}, dim_labels=bf01_oi01->bf01, custom_call_target=\"__cudnn$convBiasActivationForward\", backend_config={\"conv_result_scale\":1,\"activation_mode\":\"kRelu\",\"side_input_scale\":0,\"leakyrelu_alpha\":0} for eng20{k2=1,k4=1,k5=1,k6=0,k7=0} vs eng15{k5=1,k6=0,k7=1,k10=1}\n",
      "2024-09-05 08:12:56.475649: E external/local_xla/xla/service/gpu/conv_algorithm_picker.cc:270] Device: Tesla P100-PCIE-16GB\n",
      "2024-09-05 08:12:56.475659: E external/local_xla/xla/service/gpu/conv_algorithm_picker.cc:271] Platform: Compute Capability 6.0\n",
      "2024-09-05 08:12:56.475668: E external/local_xla/xla/service/gpu/conv_algorithm_picker.cc:272] Driver: 12040 (550.90.7)\n",
      "2024-09-05 08:12:56.475677: E external/local_xla/xla/service/gpu/conv_algorithm_picker.cc:273] Runtime: <undefined>\n",
      "2024-09-05 08:12:56.475695: E external/local_xla/xla/service/gpu/conv_algorithm_picker.cc:280] cudnn version: 8.9.0\n",
      "2024-09-05 08:12:57.727342: E external/local_xla/xla/service/gpu/buffer_comparator.cc:1137] Difference at 0: 4.63498, expected 3.85968\n",
      "2024-09-05 08:12:57.727408: E external/local_xla/xla/service/gpu/buffer_comparator.cc:1137] Difference at 3: 6.55784, expected 5.78254\n",
      "2024-09-05 08:12:57.727419: E external/local_xla/xla/service/gpu/buffer_comparator.cc:1137] Difference at 4: 6.61282, expected 5.83752\n",
      "2024-09-05 08:12:57.727428: E external/local_xla/xla/service/gpu/buffer_comparator.cc:1137] Difference at 6: 6.34499, expected 5.56968\n",
      "2024-09-05 08:12:57.727437: E external/local_xla/xla/service/gpu/buffer_comparator.cc:1137] Difference at 7: 6.25159, expected 5.47629\n",
      "2024-09-05 08:12:57.727445: E external/local_xla/xla/service/gpu/buffer_comparator.cc:1137] Difference at 8: 5.43964, expected 4.66434\n",
      "2024-09-05 08:12:57.727454: E external/local_xla/xla/service/gpu/buffer_comparator.cc:1137] Difference at 9: 6.54333, expected 5.76803\n",
      "2024-09-05 08:12:57.727463: E external/local_xla/xla/service/gpu/buffer_comparator.cc:1137] Difference at 10: 5.76049, expected 4.98519\n",
      "2024-09-05 08:12:57.727472: E external/local_xla/xla/service/gpu/buffer_comparator.cc:1137] Difference at 11: 5.33632, expected 4.56101\n",
      "2024-09-05 08:12:57.727480: E external/local_xla/xla/service/gpu/buffer_comparator.cc:1137] Difference at 12: 4.04081, expected 3.2655\n",
      "2024-09-05 08:12:57.777835: E external/local_xla/xla/service/gpu/conv_algorithm_picker.cc:705] Results mismatch between different convolution algorithms. This is likely a bug/unexpected loss of precision in cudnn.\n",
      "(f32[32,64,224,224]{3,2,1,0}, u8[0]{0}) custom-call(f32[32,3,224,224]{3,2,1,0}, f32[64,3,3,3]{3,2,1,0}, f32[64]{0}), window={size=3x3 pad=1_1x1_1}, dim_labels=bf01_oi01->bf01, custom_call_target=\"__cudnn$convBiasActivationForward\", backend_config={\"conv_result_scale\":1,\"activation_mode\":\"kRelu\",\"side_input_scale\":0,\"leakyrelu_alpha\":0} for eng20{k2=1,k4=1,k5=1,k6=0,k7=0} vs eng15{k5=1,k6=0,k7=1,k10=1}\n",
      "2024-09-05 08:12:57.777898: E external/local_xla/xla/service/gpu/conv_algorithm_picker.cc:270] Device: Tesla P100-PCIE-16GB\n",
      "2024-09-05 08:12:57.777907: E external/local_xla/xla/service/gpu/conv_algorithm_picker.cc:271] Platform: Compute Capability 6.0\n",
      "2024-09-05 08:12:57.777916: E external/local_xla/xla/service/gpu/conv_algorithm_picker.cc:272] Driver: 12040 (550.90.7)\n",
      "2024-09-05 08:12:57.777924: E external/local_xla/xla/service/gpu/conv_algorithm_picker.cc:273] Runtime: <undefined>\n",
      "2024-09-05 08:12:57.777941: E external/local_xla/xla/service/gpu/conv_algorithm_picker.cc:280] cudnn version: 8.9.0\n",
      "WARNING: All log messages before absl::InitializeLog() is called are written to STDERR\n",
      "I0000 00:00:1725524011.565284      66 device_compiler.h:186] Compiled cluster using XLA!  This line is logged at most once for the lifetime of the process.\n"
     ]
    },
    {
     "name": "stdout",
     "output_type": "stream",
     "text": [
      "\u001b[1m104/133\u001b[0m \u001b[32m━━━━━━━━━━━━━━━\u001b[0m\u001b[37m━━━━━\u001b[0m \u001b[1m17s\u001b[0m 594ms/step - accuracy: 0.1252 - loss: 2.6453"
     ]
    },
    {
     "name": "stderr",
     "output_type": "stream",
     "text": [
      "2024-09-05 08:14:34.846900: E external/local_xla/xla/service/gpu/buffer_comparator.cc:1137] Difference at 0: 3.5554, expected 3.07265\n",
      "2024-09-05 08:14:34.846969: E external/local_xla/xla/service/gpu/buffer_comparator.cc:1137] Difference at 12: 3.13778, expected 2.65504\n",
      "2024-09-05 08:14:34.846979: E external/local_xla/xla/service/gpu/buffer_comparator.cc:1137] Difference at 29: 3.34289, expected 2.86015\n",
      "2024-09-05 08:14:34.846988: E external/local_xla/xla/service/gpu/buffer_comparator.cc:1137] Difference at 181: 3.72137, expected 3.23862\n",
      "2024-09-05 08:14:34.846997: E external/local_xla/xla/service/gpu/buffer_comparator.cc:1137] Difference at 198: 3.32536, expected 2.84261\n",
      "2024-09-05 08:14:34.847005: E external/local_xla/xla/service/gpu/buffer_comparator.cc:1137] Difference at 199: 3.81774, expected 3.335\n",
      "2024-09-05 08:14:34.847013: E external/local_xla/xla/service/gpu/buffer_comparator.cc:1137] Difference at 223: 2.84685, expected 2.36411\n",
      "2024-09-05 08:14:34.847038: E external/local_xla/xla/service/gpu/buffer_comparator.cc:1137] Difference at 3808: 3.78401, expected 3.30126\n",
      "2024-09-05 08:14:34.847050: E external/local_xla/xla/service/gpu/buffer_comparator.cc:1137] Difference at 4927: 3.65987, expected 3.17712\n",
      "2024-09-05 08:14:34.847062: E external/local_xla/xla/service/gpu/buffer_comparator.cc:1137] Difference at 5600: 3.81283, expected 3.33008\n",
      "2024-09-05 08:14:34.892595: E external/local_xla/xla/service/gpu/conv_algorithm_picker.cc:705] Results mismatch between different convolution algorithms. This is likely a bug/unexpected loss of precision in cudnn.\n",
      "(f32[29,64,224,224]{3,2,1,0}, u8[0]{0}) custom-call(f32[29,3,224,224]{3,2,1,0}, f32[64,3,3,3]{3,2,1,0}, f32[64]{0}), window={size=3x3 pad=1_1x1_1}, dim_labels=bf01_oi01->bf01, custom_call_target=\"__cudnn$convBiasActivationForward\", backend_config={\"conv_result_scale\":1,\"activation_mode\":\"kRelu\",\"side_input_scale\":0,\"leakyrelu_alpha\":0} for eng20{k2=1,k4=1,k5=1,k6=0,k7=0} vs eng15{k5=1,k6=0,k7=1,k10=1}\n",
      "2024-09-05 08:14:34.892662: E external/local_xla/xla/service/gpu/conv_algorithm_picker.cc:270] Device: Tesla P100-PCIE-16GB\n",
      "2024-09-05 08:14:34.892673: E external/local_xla/xla/service/gpu/conv_algorithm_picker.cc:271] Platform: Compute Capability 6.0\n",
      "2024-09-05 08:14:34.892681: E external/local_xla/xla/service/gpu/conv_algorithm_picker.cc:272] Driver: 12040 (550.90.7)\n",
      "2024-09-05 08:14:34.892689: E external/local_xla/xla/service/gpu/conv_algorithm_picker.cc:273] Runtime: <undefined>\n",
      "2024-09-05 08:14:34.892708: E external/local_xla/xla/service/gpu/conv_algorithm_picker.cc:280] cudnn version: 8.9.0\n",
      "2024-09-05 08:14:35.837190: E external/local_xla/xla/service/gpu/buffer_comparator.cc:1137] Difference at 0: 3.5554, expected 3.07265\n",
      "2024-09-05 08:14:35.837265: E external/local_xla/xla/service/gpu/buffer_comparator.cc:1137] Difference at 12: 3.13778, expected 2.65504\n",
      "2024-09-05 08:14:35.837275: E external/local_xla/xla/service/gpu/buffer_comparator.cc:1137] Difference at 29: 3.34289, expected 2.86015\n",
      "2024-09-05 08:14:35.837285: E external/local_xla/xla/service/gpu/buffer_comparator.cc:1137] Difference at 181: 3.72137, expected 3.23862\n",
      "2024-09-05 08:14:35.837294: E external/local_xla/xla/service/gpu/buffer_comparator.cc:1137] Difference at 198: 3.32536, expected 2.84261\n",
      "2024-09-05 08:14:35.837303: E external/local_xla/xla/service/gpu/buffer_comparator.cc:1137] Difference at 199: 3.81774, expected 3.335\n",
      "2024-09-05 08:14:35.837312: E external/local_xla/xla/service/gpu/buffer_comparator.cc:1137] Difference at 223: 2.84685, expected 2.36411\n",
      "2024-09-05 08:14:35.837337: E external/local_xla/xla/service/gpu/buffer_comparator.cc:1137] Difference at 3808: 3.78401, expected 3.30126\n",
      "2024-09-05 08:14:35.837351: E external/local_xla/xla/service/gpu/buffer_comparator.cc:1137] Difference at 4927: 3.65987, expected 3.17712\n",
      "2024-09-05 08:14:35.837364: E external/local_xla/xla/service/gpu/buffer_comparator.cc:1137] Difference at 5600: 3.81283, expected 3.33008\n",
      "2024-09-05 08:14:35.883242: E external/local_xla/xla/service/gpu/conv_algorithm_picker.cc:705] Results mismatch between different convolution algorithms. This is likely a bug/unexpected loss of precision in cudnn.\n",
      "(f32[29,64,224,224]{3,2,1,0}, u8[0]{0}) custom-call(f32[29,3,224,224]{3,2,1,0}, f32[64,3,3,3]{3,2,1,0}, f32[64]{0}), window={size=3x3 pad=1_1x1_1}, dim_labels=bf01_oi01->bf01, custom_call_target=\"__cudnn$convBiasActivationForward\", backend_config={\"conv_result_scale\":1,\"activation_mode\":\"kRelu\",\"side_input_scale\":0,\"leakyrelu_alpha\":0} for eng20{k2=1,k4=1,k5=1,k6=0,k7=0} vs eng15{k5=1,k6=0,k7=1,k10=1}\n",
      "2024-09-05 08:14:35.883310: E external/local_xla/xla/service/gpu/conv_algorithm_picker.cc:270] Device: Tesla P100-PCIE-16GB\n",
      "2024-09-05 08:14:35.883321: E external/local_xla/xla/service/gpu/conv_algorithm_picker.cc:271] Platform: Compute Capability 6.0\n",
      "2024-09-05 08:14:35.883329: E external/local_xla/xla/service/gpu/conv_algorithm_picker.cc:272] Driver: 12040 (550.90.7)\n",
      "2024-09-05 08:14:35.883337: E external/local_xla/xla/service/gpu/conv_algorithm_picker.cc:273] Runtime: <undefined>\n",
      "2024-09-05 08:14:35.883356: E external/local_xla/xla/service/gpu/conv_algorithm_picker.cc:280] cudnn version: 8.9.0\n"
     ]
    },
    {
     "name": "stdout",
     "output_type": "stream",
     "text": [
      "\u001b[1m133/133\u001b[0m \u001b[32m━━━━━━━━━━━━━━━━━━━━\u001b[0m\u001b[37m\u001b[0m \u001b[1m0s\u001b[0m 805ms/step - accuracy: 0.1389 - loss: 2.5980"
     ]
    },
    {
     "name": "stderr",
     "output_type": "stream",
     "text": [
      "2024-09-05 08:15:29.044685: E external/local_xla/xla/service/gpu/buffer_comparator.cc:1137] Difference at 50188: 2.79675, expected 2.40555\n",
      "2024-09-05 08:15:29.044753: E external/local_xla/xla/service/gpu/buffer_comparator.cc:1137] Difference at 50357: 2.77153, expected 2.38033\n",
      "2024-09-05 08:15:29.044764: E external/local_xla/xla/service/gpu/buffer_comparator.cc:1137] Difference at 50399: 2.10715, expected 1.71595\n",
      "2024-09-05 08:15:29.044796: E external/local_xla/xla/service/gpu/buffer_comparator.cc:1137] Difference at 55327: 2.85302, expected 2.46182\n",
      "2024-09-05 08:15:29.045804: E external/local_xla/xla/service/gpu/buffer_comparator.cc:1137] Difference at 200704: 4.41732, expected 3.71194\n",
      "2024-09-05 08:15:29.045845: E external/local_xla/xla/service/gpu/buffer_comparator.cc:1137] Difference at 200705: 5.86452, expected 5.15914\n",
      "2024-09-05 08:15:29.045855: E external/local_xla/xla/service/gpu/buffer_comparator.cc:1137] Difference at 200706: 5.41314, expected 4.70776\n",
      "2024-09-05 08:15:29.045863: E external/local_xla/xla/service/gpu/buffer_comparator.cc:1137] Difference at 200707: 5.12437, expected 4.41899\n",
      "2024-09-05 08:15:29.045872: E external/local_xla/xla/service/gpu/buffer_comparator.cc:1137] Difference at 200708: 5.25965, expected 4.55427\n",
      "2024-09-05 08:15:29.045880: E external/local_xla/xla/service/gpu/buffer_comparator.cc:1137] Difference at 200709: 5.8228, expected 5.11742\n",
      "2024-09-05 08:15:29.084212: E external/local_xla/xla/service/gpu/conv_algorithm_picker.cc:705] Results mismatch between different convolution algorithms. This is likely a bug/unexpected loss of precision in cudnn.\n",
      "(f32[24,64,224,224]{3,2,1,0}, u8[0]{0}) custom-call(f32[24,3,224,224]{3,2,1,0}, f32[64,3,3,3]{3,2,1,0}, f32[64]{0}), window={size=3x3 pad=1_1x1_1}, dim_labels=bf01_oi01->bf01, custom_call_target=\"__cudnn$convBiasActivationForward\", backend_config={\"conv_result_scale\":1,\"activation_mode\":\"kRelu\",\"side_input_scale\":0,\"leakyrelu_alpha\":0} for eng20{k2=1,k4=1,k5=1,k6=0,k7=0} vs eng15{k5=1,k6=0,k7=1,k10=1}\n",
      "2024-09-05 08:15:29.084280: E external/local_xla/xla/service/gpu/conv_algorithm_picker.cc:270] Device: Tesla P100-PCIE-16GB\n",
      "2024-09-05 08:15:29.084290: E external/local_xla/xla/service/gpu/conv_algorithm_picker.cc:271] Platform: Compute Capability 6.0\n",
      "2024-09-05 08:15:29.084298: E external/local_xla/xla/service/gpu/conv_algorithm_picker.cc:272] Driver: 12040 (550.90.7)\n",
      "2024-09-05 08:15:29.084305: E external/local_xla/xla/service/gpu/conv_algorithm_picker.cc:273] Runtime: <undefined>\n",
      "2024-09-05 08:15:29.084324: E external/local_xla/xla/service/gpu/conv_algorithm_picker.cc:280] cudnn version: 8.9.0\n",
      "2024-09-05 08:15:29.945327: E external/local_xla/xla/service/gpu/buffer_comparator.cc:1137] Difference at 50188: 2.79675, expected 2.40555\n",
      "2024-09-05 08:15:29.945397: E external/local_xla/xla/service/gpu/buffer_comparator.cc:1137] Difference at 50357: 2.77153, expected 2.38033\n",
      "2024-09-05 08:15:29.945407: E external/local_xla/xla/service/gpu/buffer_comparator.cc:1137] Difference at 50399: 2.10715, expected 1.71595\n",
      "2024-09-05 08:15:29.945456: E external/local_xla/xla/service/gpu/buffer_comparator.cc:1137] Difference at 55327: 2.85302, expected 2.46182\n",
      "2024-09-05 08:15:29.946419: E external/local_xla/xla/service/gpu/buffer_comparator.cc:1137] Difference at 200704: 4.41732, expected 3.71194\n",
      "2024-09-05 08:15:29.946459: E external/local_xla/xla/service/gpu/buffer_comparator.cc:1137] Difference at 200705: 5.86452, expected 5.15914\n",
      "2024-09-05 08:15:29.946469: E external/local_xla/xla/service/gpu/buffer_comparator.cc:1137] Difference at 200706: 5.41314, expected 4.70776\n",
      "2024-09-05 08:15:29.946478: E external/local_xla/xla/service/gpu/buffer_comparator.cc:1137] Difference at 200707: 5.12437, expected 4.41899\n",
      "2024-09-05 08:15:29.946493: E external/local_xla/xla/service/gpu/buffer_comparator.cc:1137] Difference at 200708: 5.25965, expected 4.55427\n",
      "2024-09-05 08:15:29.946502: E external/local_xla/xla/service/gpu/buffer_comparator.cc:1137] Difference at 200709: 5.8228, expected 5.11742\n",
      "2024-09-05 08:15:29.984887: E external/local_xla/xla/service/gpu/conv_algorithm_picker.cc:705] Results mismatch between different convolution algorithms. This is likely a bug/unexpected loss of precision in cudnn.\n",
      "(f32[24,64,224,224]{3,2,1,0}, u8[0]{0}) custom-call(f32[24,3,224,224]{3,2,1,0}, f32[64,3,3,3]{3,2,1,0}, f32[64]{0}), window={size=3x3 pad=1_1x1_1}, dim_labels=bf01_oi01->bf01, custom_call_target=\"__cudnn$convBiasActivationForward\", backend_config={\"conv_result_scale\":1,\"activation_mode\":\"kRelu\",\"side_input_scale\":0,\"leakyrelu_alpha\":0} for eng20{k2=1,k4=1,k5=1,k6=0,k7=0} vs eng15{k5=1,k6=0,k7=1,k10=1}\n",
      "2024-09-05 08:15:29.984956: E external/local_xla/xla/service/gpu/conv_algorithm_picker.cc:270] Device: Tesla P100-PCIE-16GB\n",
      "2024-09-05 08:15:29.984966: E external/local_xla/xla/service/gpu/conv_algorithm_picker.cc:271] Platform: Compute Capability 6.0\n",
      "2024-09-05 08:15:29.984974: E external/local_xla/xla/service/gpu/conv_algorithm_picker.cc:272] Driver: 12040 (550.90.7)\n",
      "2024-09-05 08:15:29.984982: E external/local_xla/xla/service/gpu/conv_algorithm_picker.cc:273] Runtime: <undefined>\n",
      "2024-09-05 08:15:29.985002: E external/local_xla/xla/service/gpu/conv_algorithm_picker.cc:280] cudnn version: 8.9.0\n"
     ]
    },
    {
     "name": "stdout",
     "output_type": "stream",
     "text": [
      "\u001b[1m133/133\u001b[0m \u001b[32m━━━━━━━━━━━━━━━━━━━━\u001b[0m\u001b[37m\u001b[0m \u001b[1m176s\u001b[0m 981ms/step - accuracy: 0.1394 - loss: 2.5964 - val_accuracy: 0.3030 - val_loss: 1.9548 - learning_rate: 2.0000e-04\n",
      "Epoch 2/50\n"
     ]
    },
    {
     "name": "stderr",
     "output_type": "stream",
     "text": [
      "W0000 00:00:1725524141.095750      69 graph_launch.cc:671] Fallback to op-by-op mode because memset node breaks graph update\n"
     ]
    },
    {
     "name": "stdout",
     "output_type": "stream",
     "text": [
      "\u001b[1m133/133\u001b[0m \u001b[32m━━━━━━━━━━━━━━━━━━━━\u001b[0m\u001b[37m\u001b[0m \u001b[1m76s\u001b[0m 541ms/step - accuracy: 0.3968 - loss: 1.7740 - val_accuracy: 0.5360 - val_loss: 1.3250 - learning_rate: 2.0000e-04\n",
      "Epoch 3/50\n",
      "\u001b[1m133/133\u001b[0m \u001b[32m━━━━━━━━━━━━━━━━━━━━\u001b[0m\u001b[37m\u001b[0m \u001b[1m77s\u001b[0m 552ms/step - accuracy: 0.5639 - loss: 1.2887 - val_accuracy: 0.5911 - val_loss: 1.2358 - learning_rate: 2.0000e-04\n",
      "Epoch 4/50\n",
      "\u001b[1m133/133\u001b[0m \u001b[32m━━━━━━━━━━━━━━━━━━━━\u001b[0m\u001b[37m\u001b[0m \u001b[1m76s\u001b[0m 545ms/step - accuracy: 0.6213 - loss: 1.1301 - val_accuracy: 0.7034 - val_loss: 0.9019 - learning_rate: 2.0000e-04\n",
      "Epoch 5/50\n",
      "\u001b[1m133/133\u001b[0m \u001b[32m━━━━━━━━━━━━━━━━━━━━\u001b[0m\u001b[37m\u001b[0m \u001b[1m71s\u001b[0m 512ms/step - accuracy: 0.6973 - loss: 0.8767 - val_accuracy: 0.7034 - val_loss: 0.9260 - learning_rate: 2.0000e-04\n",
      "Epoch 6/50\n",
      "\u001b[1m133/133\u001b[0m \u001b[32m━━━━━━━━━━━━━━━━━━━━\u001b[0m\u001b[37m\u001b[0m \u001b[1m72s\u001b[0m 519ms/step - accuracy: 0.7487 - loss: 0.7772 - val_accuracy: 0.7691 - val_loss: 0.6967 - learning_rate: 2.0000e-04\n",
      "Epoch 7/50\n",
      "\u001b[1m133/133\u001b[0m \u001b[32m━━━━━━━━━━━━━━━━━━━━\u001b[0m\u001b[37m\u001b[0m \u001b[1m72s\u001b[0m 518ms/step - accuracy: 0.8010 - loss: 0.6114 - val_accuracy: 0.7797 - val_loss: 0.6877 - learning_rate: 2.0000e-04\n",
      "Epoch 8/50\n",
      "\u001b[1m133/133\u001b[0m \u001b[32m━━━━━━━━━━━━━━━━━━━━\u001b[0m\u001b[37m\u001b[0m \u001b[1m73s\u001b[0m 524ms/step - accuracy: 0.8322 - loss: 0.5270 - val_accuracy: 0.7966 - val_loss: 0.6325 - learning_rate: 2.0000e-04\n",
      "Epoch 9/50\n",
      "\u001b[1m133/133\u001b[0m \u001b[32m━━━━━━━━━━━━━━━━━━━━\u001b[0m\u001b[37m\u001b[0m \u001b[1m74s\u001b[0m 533ms/step - accuracy: 0.8231 - loss: 0.5461 - val_accuracy: 0.8665 - val_loss: 0.4724 - learning_rate: 2.0000e-04\n",
      "Epoch 10/50\n",
      "\u001b[1m133/133\u001b[0m \u001b[32m━━━━━━━━━━━━━━━━━━━━\u001b[0m\u001b[37m\u001b[0m \u001b[1m75s\u001b[0m 539ms/step - accuracy: 0.8681 - loss: 0.4133 - val_accuracy: 0.8517 - val_loss: 0.4453 - learning_rate: 2.0000e-04\n",
      "Epoch 11/50\n",
      "\u001b[1m133/133\u001b[0m \u001b[32m━━━━━━━━━━━━━━━━━━━━\u001b[0m\u001b[37m\u001b[0m \u001b[1m81s\u001b[0m 531ms/step - accuracy: 0.8353 - loss: 0.5127 - val_accuracy: 0.8305 - val_loss: 0.4746 - learning_rate: 2.0000e-04\n",
      "Epoch 12/50\n",
      "\u001b[1m133/133\u001b[0m \u001b[32m━━━━━━━━━━━━━━━━━━━━\u001b[0m\u001b[37m\u001b[0m \u001b[1m82s\u001b[0m 531ms/step - accuracy: 0.8681 - loss: 0.4102 - val_accuracy: 0.8411 - val_loss: 0.4705 - learning_rate: 2.0000e-04\n",
      "Epoch 13/50\n",
      "\u001b[1m133/133\u001b[0m \u001b[32m━━━━━━━━━━━━━━━━━━━━\u001b[0m\u001b[37m\u001b[0m \u001b[1m0s\u001b[0m 471ms/step - accuracy: 0.8809 - loss: 0.3832\n",
      "Epoch 13: ReduceLROnPlateau reducing learning rate to 0.00014999999621068127.\n",
      "\u001b[1m133/133\u001b[0m \u001b[32m━━━━━━━━━━━━━━━━━━━━\u001b[0m\u001b[37m\u001b[0m \u001b[1m73s\u001b[0m 525ms/step - accuracy: 0.8808 - loss: 0.3834 - val_accuracy: 0.8263 - val_loss: 0.5142 - learning_rate: 2.0000e-04\n",
      "Epoch 14/50\n",
      "\u001b[1m133/133\u001b[0m \u001b[32m━━━━━━━━━━━━━━━━━━━━\u001b[0m\u001b[37m\u001b[0m \u001b[1m75s\u001b[0m 539ms/step - accuracy: 0.9166 - loss: 0.2846 - val_accuracy: 0.9195 - val_loss: 0.2380 - learning_rate: 1.5000e-04\n",
      "Epoch 15/50\n",
      "\u001b[1m133/133\u001b[0m \u001b[32m━━━━━━━━━━━━━━━━━━━━\u001b[0m\u001b[37m\u001b[0m \u001b[1m76s\u001b[0m 545ms/step - accuracy: 0.9342 - loss: 0.1982 - val_accuracy: 0.9153 - val_loss: 0.2829 - learning_rate: 1.5000e-04\n",
      "Epoch 16/50\n",
      "\u001b[1m133/133\u001b[0m \u001b[32m━━━━━━━━━━━━━━━━━━━━\u001b[0m\u001b[37m\u001b[0m \u001b[1m75s\u001b[0m 536ms/step - accuracy: 0.9439 - loss: 0.1913 - val_accuracy: 0.8686 - val_loss: 0.4050 - learning_rate: 1.5000e-04\n",
      "Epoch 17/50\n",
      "\u001b[1m133/133\u001b[0m \u001b[32m━━━━━━━━━━━━━━━━━━━━\u001b[0m\u001b[37m\u001b[0m \u001b[1m0s\u001b[0m 459ms/step - accuracy: 0.9132 - loss: 0.2655\n",
      "Epoch 17: ReduceLROnPlateau reducing learning rate to 0.00011249999442952685.\n",
      "\u001b[1m133/133\u001b[0m \u001b[32m━━━━━━━━━━━━━━━━━━━━\u001b[0m\u001b[37m\u001b[0m \u001b[1m72s\u001b[0m 512ms/step - accuracy: 0.9133 - loss: 0.2651 - val_accuracy: 0.9110 - val_loss: 0.2693 - learning_rate: 1.5000e-04\n",
      "Epoch 18/50\n",
      "\u001b[1m133/133\u001b[0m \u001b[32m━━━━━━━━━━━━━━━━━━━━\u001b[0m\u001b[37m\u001b[0m \u001b[1m73s\u001b[0m 523ms/step - accuracy: 0.9577 - loss: 0.1276 - val_accuracy: 0.8919 - val_loss: 0.3588 - learning_rate: 1.1250e-04\n",
      "Epoch 19/50\n",
      "\u001b[1m133/133\u001b[0m \u001b[32m━━━━━━━━━━━━━━━━━━━━\u001b[0m\u001b[37m\u001b[0m \u001b[1m72s\u001b[0m 512ms/step - accuracy: 0.9508 - loss: 0.1447 - val_accuracy: 0.9237 - val_loss: 0.2496 - learning_rate: 1.1250e-04\n",
      "Epoch 19: early stopping\n",
      "Restoring model weights from the end of the best epoch: 14.\n",
      "Saving the Model\n",
      "CPU times: user 31min 51s, sys: 23.9 s, total: 32min 15s\n",
      "Wall time: 25min 25s\n"
     ]
    }
   ],
   "source": [
    "%%time\n",
    "\n",
    "# Train the model\n",
    "history1 = model.fit(\n",
    "      train_generator,\n",
    "      epochs=EPOCHS,\n",
    "      validation_data=validation_generator,\n",
    "      callbacks=[early_stopping, reduce_lr],\n",
    "    )\n",
    "\n",
    "print(\"Saving the Model\")\n",
    "model.save(model.name+\".keras\")"
   ]
  },
  {
   "cell_type": "code",
   "execution_count": 28,
   "id": "1f71a0f7",
   "metadata": {
    "_cell_guid": "50a89a02-9cae-45a5-8eff-7f2265340dad",
    "_uuid": "486028ef-9211-4c49-86ec-a05fa0e92464",
    "collapsed": false,
    "execution": {
     "iopub.execute_input": "2024-09-05T08:38:09.674229Z",
     "iopub.status.busy": "2024-09-05T08:38:09.672649Z",
     "iopub.status.idle": "2024-09-05T08:38:09.678834Z",
     "shell.execute_reply": "2024-09-05T08:38:09.678045Z"
    },
    "jupyter": {
     "outputs_hidden": false
    },
    "papermill": {
     "duration": 0.299696,
     "end_time": "2024-09-05T08:38:09.680999",
     "exception": false,
     "start_time": "2024-09-05T08:38:09.381303",
     "status": "completed"
    },
    "tags": []
   },
   "outputs": [],
   "source": [
    "# Define your folder to save results\n",
    "import os\n",
    "save_folder = model.name\n",
    "os.makedirs(save_folder, exist_ok=True)"
   ]
  },
  {
   "cell_type": "code",
   "execution_count": 29,
   "id": "da12b431",
   "metadata": {
    "_cell_guid": "f341ec0d-7e4a-4c88-877b-ca2cf181cb11",
    "_uuid": "7789895f-c67d-4e3d-809e-7901c205ab6e",
    "collapsed": false,
    "execution": {
     "iopub.execute_input": "2024-09-05T08:38:10.159018Z",
     "iopub.status.busy": "2024-09-05T08:38:10.158646Z",
     "iopub.status.idle": "2024-09-05T08:38:10.165057Z",
     "shell.execute_reply": "2024-09-05T08:38:10.164221Z"
    },
    "jupyter": {
     "outputs_hidden": false
    },
    "papermill": {
     "duration": 0.249707,
     "end_time": "2024-09-05T08:38:10.167169",
     "exception": false,
     "start_time": "2024-09-05T08:38:09.917462",
     "status": "completed"
    },
    "tags": []
   },
   "outputs": [
    {
     "data": {
      "text/plain": [
       "'CottonWeed-vgg16/CottonWeed-vgg16.h5'"
      ]
     },
     "execution_count": 29,
     "metadata": {},
     "output_type": "execute_result"
    }
   ],
   "source": [
    "filename= model.name+'.h5'\n",
    "model_weight= os.path.join(save_folder, filename)\n",
    "model_weight"
   ]
  },
  {
   "cell_type": "code",
   "execution_count": 30,
   "id": "1c353b82",
   "metadata": {
    "_cell_guid": "89938583-a561-4412-9d64-45bd35c32205",
    "_uuid": "7de87fdd-c363-4aa2-8f6a-0c6f8e1ab0b1",
    "collapsed": false,
    "execution": {
     "iopub.execute_input": "2024-09-05T08:38:10.632711Z",
     "iopub.status.busy": "2024-09-05T08:38:10.632342Z",
     "iopub.status.idle": "2024-09-05T08:38:10.947602Z",
     "shell.execute_reply": "2024-09-05T08:38:10.946814Z"
    },
    "jupyter": {
     "outputs_hidden": false
    },
    "papermill": {
     "duration": 0.552344,
     "end_time": "2024-09-05T08:38:10.950018",
     "exception": false,
     "start_time": "2024-09-05T08:38:10.397674",
     "status": "completed"
    },
    "tags": []
   },
   "outputs": [
    {
     "name": "stdout",
     "output_type": "stream",
     "text": [
      "Saving the Model\n"
     ]
    }
   ],
   "source": [
    "print(\"Saving the Model\")\n",
    "model.save(model_weight)"
   ]
  },
  {
   "cell_type": "code",
   "execution_count": 31,
   "id": "941430b5",
   "metadata": {
    "_cell_guid": "68fb5337-f08c-4600-bfc7-f0daa99f8471",
    "_uuid": "96b9d018-0e4d-47b6-87e9-2e5c96c8acb2",
    "collapsed": false,
    "execution": {
     "iopub.execute_input": "2024-09-05T08:38:11.434950Z",
     "iopub.status.busy": "2024-09-05T08:38:11.433987Z",
     "iopub.status.idle": "2024-09-05T08:38:11.445817Z",
     "shell.execute_reply": "2024-09-05T08:38:11.444856Z"
    },
    "jupyter": {
     "outputs_hidden": false
    },
    "papermill": {
     "duration": 0.260222,
     "end_time": "2024-09-05T08:38:11.448079",
     "exception": false,
     "start_time": "2024-09-05T08:38:11.187857",
     "status": "completed"
    },
    "tags": []
   },
   "outputs": [],
   "source": [
    "#image visualization\n",
    "import matplotlib.pyplot as plt\n",
    "def plot_loss_acc(history):\n",
    "    '''Plots the training and validation loss and accuracy from a history object'''\n",
    "    acc = history['accuracy']\n",
    "    val_acc = history['val_accuracy']\n",
    "    loss = history['loss']\n",
    "    val_loss = history['val_loss']\n",
    "    if 'peaks' in history:\n",
    "        peaks = history['peaks']\n",
    "    else:\n",
    "        _min = np.argmin(val_loss)\n",
    "        peaks = [_min]\n",
    "\n",
    "    epochs = range(len(acc))\n",
    "    print(\"Total Epochs:\",epochs)\n",
    "\n",
    "    plt.figure(figsize=[16, 4])\n",
    "    plt.subplot(1,2,1)\n",
    "    p_value = [val_acc[p] for p in peaks]\n",
    "    plt.scatter(peaks, p_value, marker='o',s=50)\n",
    "    plt.plot(epochs, acc, label='Training accuracy', color='red')\n",
    "    plt.plot(epochs, val_acc, label='Validation accuracy', color='magenta')\n",
    "    plt.title('Training and validation accuracy')\n",
    "    plt.legend()\n",
    "\n",
    "    plt.subplot(1,2,2)\n",
    "    p_value = [val_loss[p] for p in peaks]\n",
    "    plt.scatter(peaks, p_value, marker='o',s=50)\n",
    "    plt.plot(epochs, loss, label='Training Loss', color='red')\n",
    "    plt.plot(epochs, val_loss, label='Validation Loss', color='magenta')\n",
    "    plt.title('Training and validation loss')\n",
    "    plt.legend()\n",
    "    plt.savefig(os.path.join(save_folder, 'training_chart.png'))\n",
    "    plt.show()"
   ]
  },
  {
   "cell_type": "code",
   "execution_count": 32,
   "id": "8fe47c18",
   "metadata": {
    "_cell_guid": "06dfea6f-2ec1-44bd-ba5f-6683e5b64e3b",
    "_uuid": "c7d24b5c-3e9a-4043-905a-6e712274d345",
    "collapsed": false,
    "execution": {
     "iopub.execute_input": "2024-09-05T08:38:11.909970Z",
     "iopub.status.busy": "2024-09-05T08:38:11.909625Z",
     "iopub.status.idle": "2024-09-05T08:38:12.756456Z",
     "shell.execute_reply": "2024-09-05T08:38:12.755395Z"
    },
    "jupyter": {
     "outputs_hidden": false
    },
    "papermill": {
     "duration": 1.080461,
     "end_time": "2024-09-05T08:38:12.759391",
     "exception": false,
     "start_time": "2024-09-05T08:38:11.678930",
     "status": "completed"
    },
    "tags": []
   },
   "outputs": [
    {
     "name": "stdout",
     "output_type": "stream",
     "text": [
      "Total Epochs: range(0, 19)\n"
     ]
    },
    {
     "data": {
      "image/png": "[encoded data removed]",
      "text/plain": [
       "<Figure size 1600x400 with 2 Axes>"
      ]
     },
     "metadata": {},
     "output_type": "display_data"
    }
   ],
   "source": [
    "# Plot training results\n",
    "plot_loss_acc(history1.history)"
   ]
  },
  {
   "cell_type": "code",
   "execution_count": 33,
   "id": "6c3126a7",
   "metadata": {
    "_cell_guid": "225f6433-4094-4f1d-a759-b82877fd8359",
    "_uuid": "76ae0e9b-f615-4578-b130-699e43e04d89",
    "collapsed": false,
    "execution": {
     "iopub.execute_input": "2024-09-05T08:38:13.258809Z",
     "iopub.status.busy": "2024-09-05T08:38:13.258410Z",
     "iopub.status.idle": "2024-09-05T08:38:13.263351Z",
     "shell.execute_reply": "2024-09-05T08:38:13.262363Z"
    },
    "jupyter": {
     "outputs_hidden": false
    },
    "papermill": {
     "duration": 0.246514,
     "end_time": "2024-09-05T08:38:13.265373",
     "exception": false,
     "start_time": "2024-09-05T08:38:13.018859",
     "status": "completed"
    },
    "tags": []
   },
   "outputs": [],
   "source": [
    "from sklearn.metrics import f1_score, precision_score, recall_score, accuracy_score\n",
    "from sklearn.metrics import ConfusionMatrixDisplay, classification_report\n",
    "import matplotlib.pyplot as plt"
   ]
  },
  {
   "cell_type": "code",
   "execution_count": 34,
   "id": "7f0a6c67",
   "metadata": {
    "_cell_guid": "b463b6dd-1edb-4412-a191-6a728dfeca40",
    "_uuid": "b22703a3-9de3-43b9-9afc-8d08d8f5ff9e",
    "collapsed": false,
    "execution": {
     "iopub.execute_input": "2024-09-05T08:38:13.741033Z",
     "iopub.status.busy": "2024-09-05T08:38:13.740687Z",
     "iopub.status.idle": "2024-09-05T08:38:30.543888Z",
     "shell.execute_reply": "2024-09-05T08:38:30.543003Z"
    },
    "jupyter": {
     "outputs_hidden": false
    },
    "papermill": {
     "duration": 17.042687,
     "end_time": "2024-09-05T08:38:30.546230",
     "exception": false,
     "start_time": "2024-09-05T08:38:13.503543",
     "status": "completed"
    },
    "tags": []
   },
   "outputs": [
    {
     "name": "stdout",
     "output_type": "stream",
     "text": [
      "\u001b[1m63/64\u001b[0m \u001b[32m━━━━━━━━━━━━━━━━━━━\u001b[0m\u001b[37m━\u001b[0m \u001b[1m0s\u001b[0m 161ms/step"
     ]
    },
    {
     "name": "stderr",
     "output_type": "stream",
     "text": [
      "2024-09-05 08:38:25.461676: E external/local_xla/xla/service/gpu/buffer_comparator.cc:1137] Difference at 12: 2.40131, expected 2.00221\n",
      "2024-09-05 08:38:25.461741: E external/local_xla/xla/service/gpu/buffer_comparator.cc:1137] Difference at 63: 2.97198, expected 2.57289\n",
      "2024-09-05 08:38:25.461753: E external/local_xla/xla/service/gpu/buffer_comparator.cc:1137] Difference at 223: 2.88224, expected 2.48315\n",
      "2024-09-05 08:38:25.461788: E external/local_xla/xla/service/gpu/buffer_comparator.cc:1137] Difference at 5824: 2.95102, expected 2.55192\n",
      "2024-09-05 08:38:25.461997: E external/local_xla/xla/service/gpu/buffer_comparator.cc:1137] Difference at 50092: 2.95205, expected 2.55296\n",
      "2024-09-05 08:38:25.462384: E external/local_xla/xla/service/gpu/buffer_comparator.cc:1137] Difference at 100352: 4.55134, expected 3.66346\n",
      "2024-09-05 08:38:25.462431: E external/local_xla/xla/service/gpu/buffer_comparator.cc:1137] Difference at 100353: 6.08774, expected 5.19985\n",
      "2024-09-05 08:38:25.462446: E external/local_xla/xla/service/gpu/buffer_comparator.cc:1137] Difference at 100354: 6.46927, expected 5.58139\n",
      "2024-09-05 08:38:25.462460: E external/local_xla/xla/service/gpu/buffer_comparator.cc:1137] Difference at 100355: 6.10479, expected 5.21691\n",
      "2024-09-05 08:38:25.462474: E external/local_xla/xla/service/gpu/buffer_comparator.cc:1137] Difference at 100356: 5.41485, expected 4.52696\n",
      "2024-09-05 08:38:25.476750: E external/local_xla/xla/service/gpu/conv_algorithm_picker.cc:705] Results mismatch between different convolution algorithms. This is likely a bug/unexpected loss of precision in cudnn.\n",
      "(f32[9,64,224,224]{3,2,1,0}, u8[0]{0}) custom-call(f32[9,3,224,224]{3,2,1,0}, f32[64,3,3,3]{3,2,1,0}, f32[64]{0}), window={size=3x3 pad=1_1x1_1}, dim_labels=bf01_oi01->bf01, custom_call_target=\"__cudnn$convBiasActivationForward\", backend_config={\"conv_result_scale\":1,\"activation_mode\":\"kRelu\",\"side_input_scale\":0,\"leakyrelu_alpha\":0} for eng20{k2=1,k4=1,k5=1,k6=0,k7=0} vs eng15{k5=1,k6=0,k7=1,k10=1}\n",
      "2024-09-05 08:38:25.476797: E external/local_xla/xla/service/gpu/conv_algorithm_picker.cc:270] Device: Tesla P100-PCIE-16GB\n",
      "2024-09-05 08:38:25.476807: E external/local_xla/xla/service/gpu/conv_algorithm_picker.cc:271] Platform: Compute Capability 6.0\n",
      "2024-09-05 08:38:25.476814: E external/local_xla/xla/service/gpu/conv_algorithm_picker.cc:272] Driver: 12040 (550.90.7)\n",
      "2024-09-05 08:38:25.476822: E external/local_xla/xla/service/gpu/conv_algorithm_picker.cc:273] Runtime: <undefined>\n",
      "2024-09-05 08:38:25.476839: E external/local_xla/xla/service/gpu/conv_algorithm_picker.cc:280] cudnn version: 8.9.0\n",
      "2024-09-05 08:38:25.793751: E external/local_xla/xla/service/gpu/buffer_comparator.cc:1137] Difference at 12: 2.40131, expected 2.00221\n",
      "2024-09-05 08:38:25.793806: E external/local_xla/xla/service/gpu/buffer_comparator.cc:1137] Difference at 63: 2.97198, expected 2.57289\n",
      "2024-09-05 08:38:25.793816: E external/local_xla/xla/service/gpu/buffer_comparator.cc:1137] Difference at 223: 2.88224, expected 2.48315\n",
      "2024-09-05 08:38:25.793847: E external/local_xla/xla/service/gpu/buffer_comparator.cc:1137] Difference at 5824: 2.95102, expected 2.55192\n",
      "2024-09-05 08:38:25.794028: E external/local_xla/xla/service/gpu/buffer_comparator.cc:1137] Difference at 50092: 2.95205, expected 2.55296\n",
      "2024-09-05 08:38:25.794238: E external/local_xla/xla/service/gpu/buffer_comparator.cc:1137] Difference at 100352: 4.55134, expected 3.66346\n",
      "2024-09-05 08:38:25.794246: E external/local_xla/xla/service/gpu/buffer_comparator.cc:1137] Difference at 100353: 6.08774, expected 5.19985\n",
      "2024-09-05 08:38:25.794254: E external/local_xla/xla/service/gpu/buffer_comparator.cc:1137] Difference at 100354: 6.46927, expected 5.58139\n",
      "2024-09-05 08:38:25.794261: E external/local_xla/xla/service/gpu/buffer_comparator.cc:1137] Difference at 100355: 6.10479, expected 5.21691\n",
      "2024-09-05 08:38:25.794269: E external/local_xla/xla/service/gpu/buffer_comparator.cc:1137] Difference at 100356: 5.41485, expected 4.52696\n",
      "2024-09-05 08:38:25.808105: E external/local_xla/xla/service/gpu/conv_algorithm_picker.cc:705] Results mismatch between different convolution algorithms. This is likely a bug/unexpected loss of precision in cudnn.\n",
      "(f32[9,64,224,224]{3,2,1,0}, u8[0]{0}) custom-call(f32[9,3,224,224]{3,2,1,0}, f32[64,3,3,3]{3,2,1,0}, f32[64]{0}), window={size=3x3 pad=1_1x1_1}, dim_labels=bf01_oi01->bf01, custom_call_target=\"__cudnn$convBiasActivationForward\", backend_config={\"conv_result_scale\":1,\"activation_mode\":\"kRelu\",\"side_input_scale\":0,\"leakyrelu_alpha\":0} for eng20{k2=1,k4=1,k5=1,k6=0,k7=0} vs eng15{k5=1,k6=0,k7=1,k10=1}\n",
      "2024-09-05 08:38:25.808145: E external/local_xla/xla/service/gpu/conv_algorithm_picker.cc:270] Device: Tesla P100-PCIE-16GB\n",
      "2024-09-05 08:38:25.808155: E external/local_xla/xla/service/gpu/conv_algorithm_picker.cc:271] Platform: Compute Capability 6.0\n",
      "2024-09-05 08:38:25.808163: E external/local_xla/xla/service/gpu/conv_algorithm_picker.cc:272] Driver: 12040 (550.90.7)\n",
      "2024-09-05 08:38:25.808171: E external/local_xla/xla/service/gpu/conv_algorithm_picker.cc:273] Runtime: <undefined>\n",
      "2024-09-05 08:38:25.808186: E external/local_xla/xla/service/gpu/conv_algorithm_picker.cc:280] cudnn version: 8.9.0\n"
     ]
    },
    {
     "name": "stdout",
     "output_type": "stream",
     "text": [
      "\u001b[1m64/64\u001b[0m \u001b[32m━━━━━━━━━━━━━━━━━━━━\u001b[0m\u001b[37m\u001b[0m \u001b[1m16s\u001b[0m 247ms/step\n"
     ]
    }
   ],
   "source": [
    "predictions=model.predict(test_generator)"
   ]
  },
  {
   "cell_type": "code",
   "execution_count": 35,
   "id": "80be5e2e",
   "metadata": {
    "_cell_guid": "1005e4b5-e176-4895-8874-763acb025d39",
    "_uuid": "0dc70556-9384-4e37-8afa-5664c8a0f8ed",
    "collapsed": false,
    "execution": {
     "iopub.execute_input": "2024-09-05T08:38:31.040309Z",
     "iopub.status.busy": "2024-09-05T08:38:31.039920Z",
     "iopub.status.idle": "2024-09-05T08:38:31.337269Z",
     "shell.execute_reply": "2024-09-05T08:38:31.336178Z"
    },
    "jupyter": {
     "outputs_hidden": false
    },
    "papermill": {
     "duration": 0.542625,
     "end_time": "2024-09-05T08:38:31.339943",
     "exception": false,
     "start_time": "2024-09-05T08:38:30.797318",
     "status": "completed"
    },
    "tags": []
   },
   "outputs": [
    {
     "name": "stdout",
     "output_type": "stream",
     "text": [
      "Confusion Matrix:\n",
      "[[129   0   1   1   1   1   0   0   1   0   0   0   0   0   1]\n",
      " [  0 127   0   8   0   0   0   0   0   0   0   0   0   0   0]\n",
      " [  0   0 114   0   0   3   0   0   0   0   0   0   0   0  18]\n",
      " [  0   9   0 112   0  13   0   0   0   0   0   0   0   0   1]\n",
      " [  1   0   3   0 125   1   3   1   0   0   0   0   1   0   0]\n",
      " [  0   0   0   0   0 135   0   0   0   0   0   0   0   0   0]\n",
      " [  0   0   0   0   0   1 129   1   0   1   0   0   1   0   2]\n",
      " [  0   0   1   0   0   0  11 120   0   0   0   0   2   0   1]\n",
      " [  2   0   0   0   6   1   5   3 112   0   0   0   0   1   5]\n",
      " [  0   0   1   0   0   1   1   1   0 131   0   0   0   0   0]\n",
      " [  0   0   2   0   5   2  14   3   1   0 104   1   2   0   1]\n",
      " [  1   0   0   0   1   0   3   3   1   0   2 122   0   0   2]\n",
      " [  0   0   0   0   3   0   6   3   0   1   0   0 122   0   0]\n",
      " [  2   0   4   0   0   1   0   0   0   2   0   0   0 126   0]\n",
      " [  0   0   3   2   0   0   2   0   0   0   0   0   0   0 128]]\n"
     ]
    }
   ],
   "source": [
    "import numpy as np\n",
    "from sklearn.metrics import confusion_matrix,ConfusionMatrixDisplay\n",
    "import seaborn as sns\n",
    "import matplotlib.pyplot as plt\n",
    "# Convert predictions to class labels\n",
    "predicted_classes = np.argmax(predictions, axis=1)\n",
    "# Get true labels from the test generator\n",
    "true_labels = test_generator.classes\n",
    "# Compute the confusion matrix\n",
    "conf_matrix = confusion_matrix(true_labels, predicted_classes)\n",
    "\n",
    "# Print the confusion matrix\n",
    "print(\"Confusion Matrix:\")\n",
    "print(conf_matrix)"
   ]
  },
  {
   "cell_type": "code",
   "execution_count": 36,
   "id": "c2ffe98f",
   "metadata": {
    "_cell_guid": "e4b82eb3-63cd-4fff-a6c9-ebaa7ef3c670",
    "_uuid": "9539e7d3-0703-4289-bc62-894b51225e3d",
    "collapsed": false,
    "execution": {
     "iopub.execute_input": "2024-09-05T08:38:31.901850Z",
     "iopub.status.busy": "2024-09-05T08:38:31.901487Z",
     "iopub.status.idle": "2024-09-05T08:38:31.907820Z",
     "shell.execute_reply": "2024-09-05T08:38:31.906855Z"
    },
    "jupyter": {
     "outputs_hidden": false
    },
    "papermill": {
     "duration": 0.256577,
     "end_time": "2024-09-05T08:38:31.909929",
     "exception": false,
     "start_time": "2024-09-05T08:38:31.653352",
     "status": "completed"
    },
    "tags": []
   },
   "outputs": [],
   "source": [
    "def eval_model(model, data_gen, use_rand_guess=False):\n",
    "    print(\"model.evaluate\")\n",
    "    #model.evaluate(data_gen)\n",
    "\n",
    "    print(\"model.predict\")\n",
    "    actual_labels = []\n",
    "    pred_prob = []\n",
    "    for batch in tqdm(data_gen):\n",
    "        actual_labels.extend([np.argmax(z) for z in batch[1]])\n",
    "        pred_prob.extend(list(model(batch[0], training=False)))\n",
    "\n",
    "    return actual_labels, pred_prob"
   ]
  },
  {
   "cell_type": "code",
   "execution_count": 37,
   "id": "c199dc37",
   "metadata": {
    "_cell_guid": "d37682ab-8b79-4431-b232-435e27bfdeec",
    "_uuid": "f2656e6d-7773-4ce4-9453-560d8f348372",
    "collapsed": false,
    "execution": {
     "iopub.execute_input": "2024-09-05T08:38:32.398045Z",
     "iopub.status.busy": "2024-09-05T08:38:32.397254Z",
     "iopub.status.idle": "2024-09-05T08:38:33.576118Z",
     "shell.execute_reply": "2024-09-05T08:38:33.575215Z"
    },
    "jupyter": {
     "outputs_hidden": false
    },
    "papermill": {
     "duration": 1.427127,
     "end_time": "2024-09-05T08:38:33.579103",
     "exception": false,
     "start_time": "2024-09-05T08:38:32.151976",
     "status": "completed"
    },
    "tags": []
   },
   "outputs": [
    {
     "data": {
      "image/png": "[encoded data removed]",
      "text/plain": [
       "<Figure size 640x480 with 2 Axes>"
      ]
     },
     "metadata": {},
     "output_type": "display_data"
    }
   ],
   "source": [
    "cmd = ConfusionMatrixDisplay.from_predictions(\n",
    "        true_labels, predicted_classes,\n",
    "        display_labels=list(test_generator.class_indices.keys()),\n",
    "        xticks_rotation=80, #'vertical',\n",
    "        # ax = ax\n",
    "    )\n",
    "    # fig, ax = plt.subplots(figsize=(25,5))\n",
    "    # cmd.plot(ax=ax)\n",
    "plt.savefig(os.path.join(save_folder, 'confusion-mat.png'))\n",
    "plt.show()"
   ]
  },
  {
   "cell_type": "code",
   "execution_count": 38,
   "id": "62482af9",
   "metadata": {
    "_cell_guid": "712f8dea-7212-4a5b-a125-b608c0b76a45",
    "_uuid": "3dd276a0-9be5-44a6-8705-77643d9a7fb1",
    "collapsed": false,
    "execution": {
     "iopub.execute_input": "2024-09-05T08:38:34.056718Z",
     "iopub.status.busy": "2024-09-05T08:38:34.056294Z",
     "iopub.status.idle": "2024-09-05T08:38:34.085757Z",
     "shell.execute_reply": "2024-09-05T08:38:34.084664Z"
    },
    "jupyter": {
     "outputs_hidden": false
    },
    "papermill": {
     "duration": 0.270832,
     "end_time": "2024-09-05T08:38:34.088207",
     "exception": false,
     "start_time": "2024-09-05T08:38:33.817375",
     "status": "completed"
    },
    "tags": []
   },
   "outputs": [
    {
     "name": "stdout",
     "output_type": "stream",
     "text": [
      "                precision    recall  f1-score   support\n",
      "\n",
      "   Carpetweeds    0.95556   0.95556   0.95556       135\n",
      "     Crabgrass    0.93382   0.94074   0.93727       135\n",
      "       Eclipta    0.88372   0.84444   0.86364       135\n",
      "    Goosegrass    0.91057   0.82963   0.86822       135\n",
      "  Morningglory    0.88652   0.92593   0.90580       135\n",
      "      Nutsedge    0.84906   1.00000   0.91837       135\n",
      "PalmerAmaranth    0.74138   0.95556   0.83495       135\n",
      "  Prickly Sida    0.88889   0.88889   0.88889       135\n",
      "      Purslane    0.97391   0.82963   0.89600       135\n",
      "       Ragweed    0.97037   0.97037   0.97037       135\n",
      "     Sicklepod    0.98113   0.77037   0.86307       135\n",
      " SpottedSpurge    0.99187   0.90370   0.94574       135\n",
      "  SpurredAnoda    0.95312   0.90370   0.92776       135\n",
      "    Swinecress    0.99213   0.93333   0.96183       135\n",
      "     Waterhemp    0.80503   0.94815   0.87075       135\n",
      "\n",
      "      accuracy                        0.90667      2025\n",
      "     macro avg    0.91447   0.90667   0.90721      2025\n",
      "  weighted avg    0.91447   0.90667   0.90721      2025\n",
      "\n"
     ]
    }
   ],
   "source": [
    "display_labels=list(test_generator.class_indices.keys())\n",
    "class_report=classification_report(true_labels, predicted_classes,digits=5, target_names=display_labels)\n",
    "print(class_report)\n",
    "with open(os.path.join(save_folder, 'classification_report.txt'), 'w') as f:\n",
    "    f.write(classification_report(true_labels, predicted_classes))"
   ]
  },
  {
   "cell_type": "code",
   "execution_count": null,
   "id": "60163258",
   "metadata": {
    "_cell_guid": "6803da9f-1fc9-42ab-9d9f-a401fa6b04f8",
    "_uuid": "e4b8c2be-4099-465e-b11e-6c5c67eb4a76",
    "collapsed": false,
    "jupyter": {
     "outputs_hidden": false
    },
    "papermill": {
     "duration": 0.240245,
     "end_time": "2024-09-05T08:38:34.594174",
     "exception": false,
     "start_time": "2024-09-05T08:38:34.353929",
     "status": "completed"
    },
    "tags": []
   },
   "outputs": [],
   "source": []
  },
  {
   "cell_type": "code",
   "execution_count": null,
   "id": "9af8edb2",
   "metadata": {
    "_cell_guid": "9c858469-f2ee-496b-8ba7-d721aaae2a86",
    "_uuid": "777c4cd0-041e-4101-8ef3-0e265868efca",
    "collapsed": false,
    "jupyter": {
     "outputs_hidden": false
    },
    "papermill": {
     "duration": 0.239374,
     "end_time": "2024-09-05T08:38:35.081109",
     "exception": false,
     "start_time": "2024-09-05T08:38:34.841735",
     "status": "completed"
    },
    "tags": []
   },
   "outputs": [],
   "source": []
  }
 ],
 "metadata": {
  "kaggle": {
   "accelerator": "gpu",
   "dataSources": [
    {
     "datasetId": 5607522,
     "sourceId": 9266314,
     "sourceType": "datasetVersion"
    }
   ],
   "dockerImageVersionId": 30747,
   "isGpuEnabled": true,
   "isInternetEnabled": true,
   "language": "python",
   "sourceType": "notebook"
  },
  "kernelspec": {
   "display_name": "Python 3",
   "language": "python",
   "name": "python3"
  },
  "language_info": {
   "codemirror_mode": {
    "name": "ipython",
    "version": 3
   },
   "file_extension": ".py",
   "mimetype": "text/x-python",
   "name": "python",
   "nbconvert_exporter": "python",
   "pygments_lexer": "ipython3",
   "version": "3.10.13"
  },
  "papermill": {
   "default_parameters": {},
   "duration": 1577.258908,
   "end_time": "2024-09-05T08:38:38.311031",
   "environment_variables": {},
   "exception": null,
   "input_path": "__notebook__.ipynb",
   "output_path": "__notebook__.ipynb",
   "parameters": {},
   "start_time": "2024-09-05T08:12:21.052123",
   "version": "2.5.0"
  }
 },
 "nbformat": 4,
 "nbformat_minor": 5
}
