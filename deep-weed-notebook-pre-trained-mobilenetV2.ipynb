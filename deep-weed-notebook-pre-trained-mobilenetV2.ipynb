{
 "cells": [
  {
   "cell_type": "code",
   "execution_count": 1,
   "id": "54e58ba9",
   "metadata": {
    "_cell_guid": "b1076dfc-b9ad-4769-8c92-a6c4dae69d19",
    "_uuid": "8f2839f25d086af736a60e9eeb907d3b93b6e0e5",
    "execution": {
     "iopub.execute_input": "2024-08-25T06:21:35.306998Z",
     "iopub.status.busy": "2024-08-25T06:21:35.306307Z",
     "iopub.status.idle": "2024-08-25T06:21:36.045188Z",
     "shell.execute_reply": "2024-08-25T06:21:36.044367Z"
    },
    "papermill": {
     "duration": 0.753264,
     "end_time": "2024-08-25T06:21:36.047447",
     "exception": false,
     "start_time": "2024-08-25T06:21:35.294183",
     "status": "completed"
    },
    "tags": []
   },
   "outputs": [],
   "source": [
    "# This Python 3 environment comes with many helpful analytics libraries installed\n",
    "# It is defined by the kaggle/python Docker image: https://github.com/kaggle/docker-python\n",
    "# For example, here's several helpful packages to load\n",
    "\n",
    "import numpy as np # linear algebra\n",
    "import pandas as pd # data processing, CSV file I/O (e.g. pd.read_csv)\n",
    "\n",
    "# Input data files are available in the read-only \"../input/\" directory\n",
    "# For example, running this (by clicking run or pressing Shift+Enter) will list all files under the input directory\n",
    "\n",
    "#import the necessary packages\n",
    "import numpy as np # linear algebra\n",
    "import pandas as pd # data processing, CSV file I/O (e.g. pd.read_csv)\n",
    "from pathlib import Path\n",
    "from collections import Counter"
   ]
  },
  {
   "cell_type": "code",
   "execution_count": 2,
   "id": "6975418f",
   "metadata": {
    "execution": {
     "iopub.execute_input": "2024-08-25T06:21:36.068587Z",
     "iopub.status.busy": "2024-08-25T06:21:36.068183Z",
     "iopub.status.idle": "2024-08-25T06:21:48.418811Z",
     "shell.execute_reply": "2024-08-25T06:21:48.417860Z"
    },
    "papermill": {
     "duration": 12.363474,
     "end_time": "2024-08-25T06:21:48.421298",
     "exception": false,
     "start_time": "2024-08-25T06:21:36.057824",
     "status": "completed"
    },
    "tags": []
   },
   "outputs": [],
   "source": [
    "from tensorflow.keras.applications import MobileNet, MobileNetV2, MobileNetV3Small, MobileNetV3Large, VGG16\n",
    "from tensorflow.keras.applications import EfficientNetV2S, ConvNeXtSmall, DenseNet121,ResNet50,InceptionV3,EfficientNetB0\n",
    "from tensorflow.keras.layers import Input, Dense, GlobalAveragePooling2D,Flatten,Dropout\n",
    "from tensorflow.keras.models import Model\n",
    "from tensorflow import keras\n",
    "from tensorflow.keras.applications.mobilenet import preprocess_input as mob_preprocess_input\n",
    "from tensorflow.keras.applications.mobilenet_v2 import preprocess_input as mob2_preprocess_input\n",
    "from tensorflow.keras.applications.efficientnet import preprocess_input as eff_preprocess_input\n",
    "from tensorflow.keras.applications.convnext import preprocess_input as conv_preprocess_input\n",
    "from tensorflow.keras.applications.vgg16 import preprocess_input as vgg_preprocess_input\n"
   ]
  },
  {
   "cell_type": "code",
   "execution_count": 3,
   "id": "16916278",
   "metadata": {
    "execution": {
     "iopub.execute_input": "2024-08-25T06:21:48.442143Z",
     "iopub.status.busy": "2024-08-25T06:21:48.441564Z",
     "iopub.status.idle": "2024-08-25T06:21:48.676798Z",
     "shell.execute_reply": "2024-08-25T06:21:48.675880Z"
    },
    "papermill": {
     "duration": 0.247955,
     "end_time": "2024-08-25T06:21:48.679005",
     "exception": false,
     "start_time": "2024-08-25T06:21:48.431050",
     "status": "completed"
    },
    "tags": []
   },
   "outputs": [
    {
     "name": "stdout",
     "output_type": "stream",
     "text": [
      "GPUs are available:\n",
      "PhysicalDevice(name='/physical_device:GPU:0', device_type='GPU')\n"
     ]
    }
   ],
   "source": [
    "import tensorflow as tf\n",
    "\n",
    "# Check available GPUs\n",
    "gpus = tf.config.list_physical_devices('GPU')\n",
    "if gpus:\n",
    "    print(\"GPUs are available:\")\n",
    "    for gpu in gpus:\n",
    "        print(gpu)\n",
    "else:\n",
    "    print(\"No GPUs detected.\")"
   ]
  },
  {
   "cell_type": "code",
   "execution_count": 4,
   "id": "545501fe",
   "metadata": {
    "execution": {
     "iopub.execute_input": "2024-08-25T06:21:48.700420Z",
     "iopub.status.busy": "2024-08-25T06:21:48.699366Z",
     "iopub.status.idle": "2024-08-25T06:21:48.760240Z",
     "shell.execute_reply": "2024-08-25T06:21:48.759285Z"
    },
    "papermill": {
     "duration": 0.073721,
     "end_time": "2024-08-25T06:21:48.762391",
     "exception": false,
     "start_time": "2024-08-25T06:21:48.688670",
     "status": "completed"
    },
    "tags": []
   },
   "outputs": [
    {
     "data": {
      "text/html": [
       "<div>\n",
       "<style scoped>\n",
       "    .dataframe tbody tr th:only-of-type {\n",
       "        vertical-align: middle;\n",
       "    }\n",
       "\n",
       "    .dataframe tbody tr th {\n",
       "        vertical-align: top;\n",
       "    }\n",
       "\n",
       "    .dataframe thead th {\n",
       "        text-align: right;\n",
       "    }\n",
       "</style>\n",
       "<table border=\"1\" class=\"dataframe\">\n",
       "  <thead>\n",
       "    <tr style=\"text-align: right;\">\n",
       "      <th></th>\n",
       "      <th>Filename</th>\n",
       "      <th>Label</th>\n",
       "      <th>Species</th>\n",
       "    </tr>\n",
       "  </thead>\n",
       "  <tbody>\n",
       "    <tr>\n",
       "      <th>0</th>\n",
       "      <td>20160928-140314-0.jpg</td>\n",
       "      <td>0</td>\n",
       "      <td>Chinee apple</td>\n",
       "    </tr>\n",
       "    <tr>\n",
       "      <th>1</th>\n",
       "      <td>20160928-140337-0.jpg</td>\n",
       "      <td>0</td>\n",
       "      <td>Chinee apple</td>\n",
       "    </tr>\n",
       "    <tr>\n",
       "      <th>2</th>\n",
       "      <td>20160928-140731-0.jpg</td>\n",
       "      <td>0</td>\n",
       "      <td>Chinee apple</td>\n",
       "    </tr>\n",
       "    <tr>\n",
       "      <th>3</th>\n",
       "      <td>20160928-140747-0.jpg</td>\n",
       "      <td>0</td>\n",
       "      <td>Chinee apple</td>\n",
       "    </tr>\n",
       "    <tr>\n",
       "      <th>4</th>\n",
       "      <td>20160928-141107-0.jpg</td>\n",
       "      <td>0</td>\n",
       "      <td>Chinee apple</td>\n",
       "    </tr>\n",
       "  </tbody>\n",
       "</table>\n",
       "</div>"
      ],
      "text/plain": [
       "                Filename  Label       Species\n",
       "0  20160928-140314-0.jpg      0  Chinee apple\n",
       "1  20160928-140337-0.jpg      0  Chinee apple\n",
       "2  20160928-140731-0.jpg      0  Chinee apple\n",
       "3  20160928-140747-0.jpg      0  Chinee apple\n",
       "4  20160928-141107-0.jpg      0  Chinee apple"
      ]
     },
     "execution_count": 4,
     "metadata": {},
     "output_type": "execute_result"
    }
   ],
   "source": [
    "#read label information\n",
    "df = pd.read_csv('/kaggle/input/deepweeds/labels.csv')\n",
    "df.head()"
   ]
  },
  {
   "cell_type": "code",
   "execution_count": 5,
   "id": "4360c634",
   "metadata": {
    "execution": {
     "iopub.execute_input": "2024-08-25T06:21:48.785206Z",
     "iopub.status.busy": "2024-08-25T06:21:48.784286Z",
     "iopub.status.idle": "2024-08-25T06:21:48.808325Z",
     "shell.execute_reply": "2024-08-25T06:21:48.807440Z"
    },
    "papermill": {
     "duration": 0.037495,
     "end_time": "2024-08-25T06:21:48.810428",
     "exception": false,
     "start_time": "2024-08-25T06:21:48.772933",
     "status": "completed"
    },
    "tags": []
   },
   "outputs": [
    {
     "data": {
      "text/html": [
       "<div>\n",
       "<style scoped>\n",
       "    .dataframe tbody tr th:only-of-type {\n",
       "        vertical-align: middle;\n",
       "    }\n",
       "\n",
       "    .dataframe tbody tr th {\n",
       "        vertical-align: top;\n",
       "    }\n",
       "\n",
       "    .dataframe thead th {\n",
       "        text-align: right;\n",
       "    }\n",
       "</style>\n",
       "<table border=\"1\" class=\"dataframe\">\n",
       "  <thead>\n",
       "    <tr style=\"text-align: right;\">\n",
       "      <th>Species</th>\n",
       "      <th>Chinee apple</th>\n",
       "      <th>Lantana</th>\n",
       "      <th>Negative</th>\n",
       "      <th>Parkinsonia</th>\n",
       "      <th>Parthenium</th>\n",
       "      <th>Prickly acacia</th>\n",
       "      <th>Rubber vine</th>\n",
       "      <th>Siam weed</th>\n",
       "      <th>Snake weed</th>\n",
       "    </tr>\n",
       "  </thead>\n",
       "  <tbody>\n",
       "    <tr>\n",
       "      <th>Label</th>\n",
       "      <td>1125</td>\n",
       "      <td>1064</td>\n",
       "      <td>9106</td>\n",
       "      <td>1031</td>\n",
       "      <td>1022</td>\n",
       "      <td>1062</td>\n",
       "      <td>1009</td>\n",
       "      <td>1074</td>\n",
       "      <td>1016</td>\n",
       "    </tr>\n",
       "  </tbody>\n",
       "</table>\n",
       "</div>"
      ],
      "text/plain": [
       "Species  Chinee apple  Lantana  Negative  Parkinsonia  Parthenium  \\\n",
       "Label            1125     1064      9106         1031        1022   \n",
       "\n",
       "Species  Prickly acacia  Rubber vine  Siam weed  Snake weed  \n",
       "Label              1062         1009       1074        1016  "
      ]
     },
     "execution_count": 5,
     "metadata": {},
     "output_type": "execute_result"
    }
   ],
   "source": [
    "df[['Species','Label']].groupby(by='Species').count().T"
   ]
  },
  {
   "cell_type": "code",
   "execution_count": 6,
   "id": "604f7e6c",
   "metadata": {
    "execution": {
     "iopub.execute_input": "2024-08-25T06:21:48.832342Z",
     "iopub.status.busy": "2024-08-25T06:21:48.831651Z",
     "iopub.status.idle": "2024-08-25T06:21:48.847087Z",
     "shell.execute_reply": "2024-08-25T06:21:48.846154Z"
    },
    "papermill": {
     "duration": 0.028507,
     "end_time": "2024-08-25T06:21:48.849022",
     "exception": false,
     "start_time": "2024-08-25T06:21:48.820515",
     "status": "completed"
    },
    "tags": []
   },
   "outputs": [
    {
     "data": {
      "text/plain": [
       "{0: 'Chinee apple',\n",
       " 1: 'Lantana',\n",
       " 8: 'Negative',\n",
       " 2: 'Parkinsonia',\n",
       " 3: 'Parthenium',\n",
       " 4: 'Prickly acacia',\n",
       " 5: 'Rubber vine',\n",
       " 6: 'Siam weed',\n",
       " 7: 'Snake weed'}"
      ]
     },
     "execution_count": 6,
     "metadata": {},
     "output_type": "execute_result"
    }
   ],
   "source": [
    "label2id = df[['Species','Label']].groupby(by='Species').min().to_dict()['Label']\n",
    "id2label = {label2id[i]:i for i in label2id}\n",
    "id2label"
   ]
  },
  {
   "cell_type": "code",
   "execution_count": 7,
   "id": "81e646e2",
   "metadata": {
    "execution": {
     "iopub.execute_input": "2024-08-25T06:21:48.871411Z",
     "iopub.status.busy": "2024-08-25T06:21:48.870568Z",
     "iopub.status.idle": "2024-08-25T06:21:48.878278Z",
     "shell.execute_reply": "2024-08-25T06:21:48.877412Z"
    },
    "papermill": {
     "duration": 0.021125,
     "end_time": "2024-08-25T06:21:48.880302",
     "exception": false,
     "start_time": "2024-08-25T06:21:48.859177",
     "status": "completed"
    },
    "tags": []
   },
   "outputs": [
    {
     "data": {
      "text/plain": [
       "9"
      ]
     },
     "execution_count": 7,
     "metadata": {},
     "output_type": "execute_result"
    }
   ],
   "source": [
    "num_classes = len(df['Label'].unique())\n",
    "num_classes"
   ]
  },
  {
   "cell_type": "code",
   "execution_count": 8,
   "id": "9120337a",
   "metadata": {
    "execution": {
     "iopub.execute_input": "2024-08-25T06:21:48.902944Z",
     "iopub.status.busy": "2024-08-25T06:21:48.902299Z",
     "iopub.status.idle": "2024-08-25T06:21:48.917017Z",
     "shell.execute_reply": "2024-08-25T06:21:48.916042Z"
    },
    "papermill": {
     "duration": 0.028321,
     "end_time": "2024-08-25T06:21:48.919247",
     "exception": false,
     "start_time": "2024-08-25T06:21:48.890926",
     "status": "completed"
    },
    "tags": []
   },
   "outputs": [
    {
     "name": "stderr",
     "output_type": "stream",
     "text": [
      "/tmp/ipykernel_23/2892309576.py:2: SettingWithCopyWarning: \n",
      "A value is trying to be set on a copy of a slice from a DataFrame.\n",
      "Try using .loc[row_indexer,col_indexer] = value instead\n",
      "\n",
      "See the caveats in the documentation: https://pandas.pydata.org/pandas-docs/stable/user_guide/indexing.html#returning-a-view-versus-a-copy\n",
      "  df1['Label']=df['Label'].astype(int)\n"
     ]
    },
    {
     "data": {
      "text/html": [
       "<div>\n",
       "<style scoped>\n",
       "    .dataframe tbody tr th:only-of-type {\n",
       "        vertical-align: middle;\n",
       "    }\n",
       "\n",
       "    .dataframe tbody tr th {\n",
       "        vertical-align: top;\n",
       "    }\n",
       "\n",
       "    .dataframe thead th {\n",
       "        text-align: right;\n",
       "    }\n",
       "</style>\n",
       "<table border=\"1\" class=\"dataframe\">\n",
       "  <thead>\n",
       "    <tr style=\"text-align: right;\">\n",
       "      <th></th>\n",
       "      <th>Filename</th>\n",
       "      <th>Label</th>\n",
       "      <th>Species</th>\n",
       "    </tr>\n",
       "  </thead>\n",
       "  <tbody>\n",
       "    <tr>\n",
       "      <th>0</th>\n",
       "      <td>20160928-140314-0.jpg</td>\n",
       "      <td>0</td>\n",
       "      <td>Chinee apple</td>\n",
       "    </tr>\n",
       "    <tr>\n",
       "      <th>1</th>\n",
       "      <td>20160928-140337-0.jpg</td>\n",
       "      <td>0</td>\n",
       "      <td>Chinee apple</td>\n",
       "    </tr>\n",
       "    <tr>\n",
       "      <th>2</th>\n",
       "      <td>20160928-140731-0.jpg</td>\n",
       "      <td>0</td>\n",
       "      <td>Chinee apple</td>\n",
       "    </tr>\n",
       "    <tr>\n",
       "      <th>3</th>\n",
       "      <td>20160928-140747-0.jpg</td>\n",
       "      <td>0</td>\n",
       "      <td>Chinee apple</td>\n",
       "    </tr>\n",
       "    <tr>\n",
       "      <th>4</th>\n",
       "      <td>20160928-141107-0.jpg</td>\n",
       "      <td>0</td>\n",
       "      <td>Chinee apple</td>\n",
       "    </tr>\n",
       "  </tbody>\n",
       "</table>\n",
       "</div>"
      ],
      "text/plain": [
       "                Filename  Label       Species\n",
       "0  20160928-140314-0.jpg      0  Chinee apple\n",
       "1  20160928-140337-0.jpg      0  Chinee apple\n",
       "2  20160928-140731-0.jpg      0  Chinee apple\n",
       "3  20160928-140747-0.jpg      0  Chinee apple\n",
       "4  20160928-141107-0.jpg      0  Chinee apple"
      ]
     },
     "execution_count": 8,
     "metadata": {},
     "output_type": "execute_result"
    }
   ],
   "source": [
    "df1=df[['Filename','Label']]\n",
    "df1['Label']=df['Label'].astype(int)\n",
    "df1['Species'] = df1['Label'].map(id2label)\n",
    "df1.head()"
   ]
  },
  {
   "cell_type": "code",
   "execution_count": 9,
   "id": "0e36bb4d",
   "metadata": {
    "execution": {
     "iopub.execute_input": "2024-08-25T06:21:48.942470Z",
     "iopub.status.busy": "2024-08-25T06:21:48.941862Z",
     "iopub.status.idle": "2024-08-25T06:21:49.963579Z",
     "shell.execute_reply": "2024-08-25T06:21:49.962659Z"
    },
    "papermill": {
     "duration": 1.036154,
     "end_time": "2024-08-25T06:21:49.965942",
     "exception": false,
     "start_time": "2024-08-25T06:21:48.929788",
     "status": "completed"
    },
    "tags": []
   },
   "outputs": [
    {
     "data": {
      "text/plain": [
       "(12256, 5253)"
      ]
     },
     "execution_count": 9,
     "metadata": {},
     "output_type": "execute_result"
    }
   ],
   "source": [
    "from sklearn.model_selection import train_test_split\n",
    "train, test = train_test_split(df1, test_size=0.3, shuffle=True, random_state=23, stratify=df['Label'])\n",
    "train = train.reset_index(drop=True)\n",
    "test = test.reset_index(drop=True)\n",
    "len(train), len(test)"
   ]
  },
  {
   "cell_type": "code",
   "execution_count": 10,
   "id": "1ee6a575",
   "metadata": {
    "execution": {
     "iopub.execute_input": "2024-08-25T06:21:49.989321Z",
     "iopub.status.busy": "2024-08-25T06:21:49.988754Z",
     "iopub.status.idle": "2024-08-25T06:21:49.999581Z",
     "shell.execute_reply": "2024-08-25T06:21:49.998759Z"
    },
    "papermill": {
     "duration": 0.02432,
     "end_time": "2024-08-25T06:21:50.001644",
     "exception": false,
     "start_time": "2024-08-25T06:21:49.977324",
     "status": "completed"
    },
    "tags": []
   },
   "outputs": [
    {
     "data": {
      "text/plain": [
       "Species\n",
       "Negative          9106\n",
       "Chinee apple      1125\n",
       "Siam weed         1074\n",
       "Lantana           1064\n",
       "Prickly acacia    1062\n",
       "Parkinsonia       1031\n",
       "Parthenium        1022\n",
       "Snake weed        1016\n",
       "Rubber vine       1009\n",
       "Name: count, dtype: int64"
      ]
     },
     "execution_count": 10,
     "metadata": {},
     "output_type": "execute_result"
    }
   ],
   "source": [
    "df1['Species'].value_counts()"
   ]
  },
  {
   "cell_type": "code",
   "execution_count": 11,
   "id": "4397f0a6",
   "metadata": {
    "execution": {
     "iopub.execute_input": "2024-08-25T06:21:50.024921Z",
     "iopub.status.busy": "2024-08-25T06:21:50.024320Z",
     "iopub.status.idle": "2024-08-25T06:21:50.030098Z",
     "shell.execute_reply": "2024-08-25T06:21:50.029375Z"
    },
    "papermill": {
     "duration": 0.019294,
     "end_time": "2024-08-25T06:21:50.031920",
     "exception": false,
     "start_time": "2024-08-25T06:21:50.012626",
     "status": "completed"
    },
    "tags": []
   },
   "outputs": [],
   "source": [
    "from tensorflow.keras.preprocessing.image import ImageDataGenerator\n",
    "train_datagen = ImageDataGenerator(\n",
    "    #rescale=1./255,\n",
    "    shear_range=0.2,\n",
    "    zoom_range=0.2,\n",
    "    width_shift_range=0.2,\n",
    "    height_shift_range=0.2,\n",
    "    horizontal_flip=True,\n",
    "    vertical_flip=True,\n",
    "    fill_mode='nearest',\n",
    "    validation_split=0.2  # Set validation split\n",
    ")"
   ]
  },
  {
   "cell_type": "code",
   "execution_count": 12,
   "id": "72d806bc",
   "metadata": {
    "execution": {
     "iopub.execute_input": "2024-08-25T06:21:50.055071Z",
     "iopub.status.busy": "2024-08-25T06:21:50.054482Z",
     "iopub.status.idle": "2024-08-25T06:21:50.058726Z",
     "shell.execute_reply": "2024-08-25T06:21:50.057825Z"
    },
    "papermill": {
     "duration": 0.017941,
     "end_time": "2024-08-25T06:21:50.060585",
     "exception": false,
     "start_time": "2024-08-25T06:21:50.042644",
     "status": "completed"
    },
    "tags": []
   },
   "outputs": [],
   "source": [
    "image_size = (224, 224)  # Change based on your model's requirements\n",
    "batch_size = 64"
   ]
  },
  {
   "cell_type": "code",
   "execution_count": 13,
   "id": "6e6865b6",
   "metadata": {
    "execution": {
     "iopub.execute_input": "2024-08-25T06:21:50.083797Z",
     "iopub.status.busy": "2024-08-25T06:21:50.083219Z",
     "iopub.status.idle": "2024-08-25T06:21:50.087429Z",
     "shell.execute_reply": "2024-08-25T06:21:50.086616Z"
    },
    "papermill": {
     "duration": 0.017989,
     "end_time": "2024-08-25T06:21:50.089360",
     "exception": false,
     "start_time": "2024-08-25T06:21:50.071371",
     "status": "completed"
    },
    "tags": []
   },
   "outputs": [],
   "source": [
    "img_dir='/kaggle/input/deepweeds/images'"
   ]
  },
  {
   "cell_type": "code",
   "execution_count": 14,
   "id": "d78792a7",
   "metadata": {
    "execution": {
     "iopub.execute_input": "2024-08-25T06:21:50.112571Z",
     "iopub.status.busy": "2024-08-25T06:21:50.112215Z",
     "iopub.status.idle": "2024-08-25T06:22:28.858711Z",
     "shell.execute_reply": "2024-08-25T06:22:28.857856Z"
    },
    "papermill": {
     "duration": 38.76366,
     "end_time": "2024-08-25T06:22:28.863864",
     "exception": false,
     "start_time": "2024-08-25T06:21:50.100204",
     "status": "completed"
    },
    "tags": []
   },
   "outputs": [
    {
     "name": "stdout",
     "output_type": "stream",
     "text": [
      "Found 9805 validated image filenames belonging to 9 classes.\n"
     ]
    }
   ],
   "source": [
    "# Train Data Generator\n",
    "train_generator = train_datagen.flow_from_dataframe(\n",
    "    dataframe=train,\n",
    "    directory=img_dir,\n",
    "    x_col='Filename',\n",
    "    y_col='Species',\n",
    "    target_size=image_size,\n",
    "    batch_size=batch_size,\n",
    "    class_mode='categorical',\n",
    "    subset='training'  # Use subset for training\n",
    ")"
   ]
  },
  {
   "cell_type": "code",
   "execution_count": 15,
   "id": "2b9690b3",
   "metadata": {
    "execution": {
     "iopub.execute_input": "2024-08-25T06:22:28.887756Z",
     "iopub.status.busy": "2024-08-25T06:22:28.887409Z",
     "iopub.status.idle": "2024-08-25T06:22:28.892144Z",
     "shell.execute_reply": "2024-08-25T06:22:28.891284Z"
    },
    "papermill": {
     "duration": 0.019633,
     "end_time": "2024-08-25T06:22:28.894219",
     "exception": false,
     "start_time": "2024-08-25T06:22:28.874586",
     "status": "completed"
    },
    "tags": []
   },
   "outputs": [
    {
     "name": "stdout",
     "output_type": "stream",
     "text": [
      "Class indices: {'Chinee apple': 0, 'Lantana': 1, 'Negative': 2, 'Parkinsonia': 3, 'Parthenium': 4, 'Prickly acacia': 5, 'Rubber vine': 6, 'Siam weed': 7, 'Snake weed': 8}\n"
     ]
    }
   ],
   "source": [
    "print(\"Class indices:\", train_generator.class_indices)"
   ]
  },
  {
   "cell_type": "code",
   "execution_count": 16,
   "id": "0137facb",
   "metadata": {
    "execution": {
     "iopub.execute_input": "2024-08-25T06:22:28.916980Z",
     "iopub.status.busy": "2024-08-25T06:22:28.916634Z",
     "iopub.status.idle": "2024-08-25T06:22:34.345006Z",
     "shell.execute_reply": "2024-08-25T06:22:34.343485Z"
    },
    "papermill": {
     "duration": 5.442401,
     "end_time": "2024-08-25T06:22:34.347338",
     "exception": false,
     "start_time": "2024-08-25T06:22:28.904937",
     "status": "completed"
    },
    "tags": []
   },
   "outputs": [
    {
     "name": "stdout",
     "output_type": "stream",
     "text": [
      "Found 2451 validated image filenames belonging to 9 classes.\n"
     ]
    }
   ],
   "source": [
    "# Validation Data Generator\n",
    "validation_generator = train_datagen.flow_from_dataframe(\n",
    "    dataframe=train,\n",
    "    directory=img_dir,\n",
    "    x_col='Filename',\n",
    "    y_col='Species',\n",
    "    target_size=image_size,\n",
    "    batch_size=batch_size,\n",
    "    class_mode='categorical',\n",
    "    subset='validation'  # Use subset for validation\n",
    ")"
   ]
  },
  {
   "cell_type": "code",
   "execution_count": 17,
   "id": "76ff8eb5",
   "metadata": {
    "execution": {
     "iopub.execute_input": "2024-08-25T06:22:34.373302Z",
     "iopub.status.busy": "2024-08-25T06:22:34.372959Z",
     "iopub.status.idle": "2024-08-25T06:22:34.377756Z",
     "shell.execute_reply": "2024-08-25T06:22:34.376887Z"
    },
    "papermill": {
     "duration": 0.020158,
     "end_time": "2024-08-25T06:22:34.379772",
     "exception": false,
     "start_time": "2024-08-25T06:22:34.359614",
     "status": "completed"
    },
    "tags": []
   },
   "outputs": [
    {
     "name": "stdout",
     "output_type": "stream",
     "text": [
      "Class indices: {'Chinee apple': 0, 'Lantana': 1, 'Negative': 2, 'Parkinsonia': 3, 'Parthenium': 4, 'Prickly acacia': 5, 'Rubber vine': 6, 'Siam weed': 7, 'Snake weed': 8}\n"
     ]
    }
   ],
   "source": [
    "print(\"Class indices:\", validation_generator.class_indices)"
   ]
  },
  {
   "cell_type": "code",
   "execution_count": 18,
   "id": "4b15bd34",
   "metadata": {
    "execution": {
     "iopub.execute_input": "2024-08-25T06:22:34.404711Z",
     "iopub.status.busy": "2024-08-25T06:22:34.404374Z",
     "iopub.status.idle": "2024-08-25T06:22:34.408524Z",
     "shell.execute_reply": "2024-08-25T06:22:34.407623Z"
    },
    "papermill": {
     "duration": 0.018545,
     "end_time": "2024-08-25T06:22:34.410436",
     "exception": false,
     "start_time": "2024-08-25T06:22:34.391891",
     "status": "completed"
    },
    "tags": []
   },
   "outputs": [],
   "source": [
    "# Create ImageDataGenerator for test (no augmentation)\n",
    "test_datagen = ImageDataGenerator(\n",
    "    #rescale=1./255\n",
    "    )"
   ]
  },
  {
   "cell_type": "code",
   "execution_count": 19,
   "id": "b86004d4",
   "metadata": {
    "execution": {
     "iopub.execute_input": "2024-08-25T06:22:34.434123Z",
     "iopub.status.busy": "2024-08-25T06:22:34.433398Z",
     "iopub.status.idle": "2024-08-25T06:22:49.400511Z",
     "shell.execute_reply": "2024-08-25T06:22:49.399576Z"
    },
    "papermill": {
     "duration": 14.981306,
     "end_time": "2024-08-25T06:22:49.402590",
     "exception": false,
     "start_time": "2024-08-25T06:22:34.421284",
     "status": "completed"
    },
    "tags": []
   },
   "outputs": [
    {
     "name": "stdout",
     "output_type": "stream",
     "text": [
      "Found 5253 validated image filenames belonging to 9 classes.\n"
     ]
    }
   ],
   "source": [
    "# Test Data Generator\n",
    "test_generator = test_datagen.flow_from_dataframe(\n",
    "    dataframe=test,\n",
    "    directory=img_dir,\n",
    "    x_col='Filename',\n",
    "    y_col='Species',  # Assuming test data might still have labels, if not, use None\n",
    "    target_size=image_size,\n",
    "    batch_size=batch_size,\n",
    "    class_mode='categorical',  # Use 'None' if no labels are available\n",
    "    shuffle=False  # Important for test data to maintain order\n",
    ")"
   ]
  },
  {
   "cell_type": "code",
   "execution_count": 20,
   "id": "71e01e41",
   "metadata": {
    "execution": {
     "iopub.execute_input": "2024-08-25T06:22:49.426713Z",
     "iopub.status.busy": "2024-08-25T06:22:49.425932Z",
     "iopub.status.idle": "2024-08-25T06:22:49.441741Z",
     "shell.execute_reply": "2024-08-25T06:22:49.440873Z"
    },
    "papermill": {
     "duration": 0.029962,
     "end_time": "2024-08-25T06:22:49.443678",
     "exception": false,
     "start_time": "2024-08-25T06:22:49.413716",
     "status": "completed"
    },
    "tags": []
   },
   "outputs": [],
   "source": [
    "#from tensorflow.keras.applications.vgg16 import preprocess_input\n",
    "def buildModel(IMG_SIZE, trainable=True,base_model='Mobilenet',num_classes=num_classes):\n",
    "    # Load the MobileNet model with weights pre-trained on ImageNet.\n",
    "    #base_model, pooler = MobilenetV3Base((224,224,3), use='S')\n",
    "\n",
    "    if (base_model=='DenseNet121'):\n",
    "        base_model=DenseNet121(include_top=False, weights='imagenet',input_shape=IMG_SIZE)\n",
    "        inputs = keras.Input(shape=IMG_SIZE, name='input')\n",
    "        x=dense_preprocess_input(inputs)\n",
    "        #x=inputs\n",
    "        x = base_model(x)\n",
    "    if(base_model=='ResNet50'):\n",
    "        base_model=ResNet50(include_top=False, weights='imagenet',input_shape=IMG_SIZE)\n",
    "        inputs = keras.Input(shape=IMG_SIZE, name='input')\n",
    "        #x=vgg_preprocess_input(inputs)\n",
    "        #x=inputs\n",
    "        x = base_model(inputs)\n",
    "    if (base_model=='InceptionV3'):\n",
    "        base_model=InceptionV3(include_top=False, weights='imagenet',input_shape=IMG_SIZE)\n",
    "        inputs = keras.Input(shape=IMG_SIZE, name='input')\n",
    "        #x=vgg_preprocess_input(inputs)\n",
    "        #x=inputs\n",
    "        x = base_model(inputs,training=False)\n",
    "    if (base_model=='EfficientNetB0'):\n",
    "        base_model=EfficientNetB0(include_top=False, weights='imagenet',input_shape=IMG_SIZE)\n",
    "        inputs = keras.Input(shape=IMG_SIZE, name='input')\n",
    "        #x=vgg_preprocess_input(inputs)\n",
    "        #x=inputs\n",
    "        x = base_model(inputs)\n",
    "    if (base_model=='mobilenet'):\n",
    "        base_model=MobileNet(include_top=False, weights='imagenet',input_shape=IMG_SIZE)\n",
    "        inputs = keras.Input(shape=IMG_SIZE, name='input')\n",
    "        x=mob_preprocess_input(inputs)\n",
    "        x = base_model(x, training=False)\n",
    "    if(base_model=='mobilenetv2'):\n",
    "        base_model=MobileNetV2(include_top=False, weights='imagenet',input_shape=IMG_SIZE)\n",
    "        inputs = keras.Input(shape=IMG_SIZE, name='input')\n",
    "        x=mob_preprocess_input(inputs)\n",
    "        x = base_model(x, training=False)\n",
    "    else:\n",
    "        base_model=VGG16(include_top=False, weights='imagenet',input_shape=IMG_SIZE)\n",
    "        inputs = keras.Input(shape=IMG_SIZE, name='input')\n",
    "        x=vgg_preprocess_input(inputs)\n",
    "        x = base_model(x)\n",
    "\n",
    "    base_model.trainable = trainable\n",
    "\n",
    "\n",
    "    print(\"Base Model:\", base_model.name)\n",
    "    print(len(base_model.layers))\n",
    "    #base_model.summary(show_trainable=True)\n",
    "    # Define the input layer.\n",
    "\n",
    "\n",
    "    # Pre-process the input.\n",
    "#     x = layers.Rescaling(1./255, name='PP_Rescale')(inputs)\n",
    "#     x = layers.Resizing(224, 224, name='PP_Resize')(x)\n",
    "\n",
    "    #x = augment(seed)(x)\n",
    "\n",
    "    x = GlobalAveragePooling2D()(x)\n",
    "    #x = Dropout(0.3)(x)\n",
    "    #x=Dense(256,activation='relu')(x)\n",
    "    outputs = Dense(num_classes, activation='softmax')(x)\n",
    "\n",
    "    model_name = \"Deepweed-\" + base_model.name\n",
    "    # Create the model.\n",
    "    model = Model(inputs=inputs, outputs=outputs, name=model_name)\n",
    "\n",
    "    return model"
   ]
  },
  {
   "cell_type": "code",
   "execution_count": 21,
   "id": "b0265192",
   "metadata": {
    "execution": {
     "iopub.execute_input": "2024-08-25T06:22:49.466897Z",
     "iopub.status.busy": "2024-08-25T06:22:49.466572Z",
     "iopub.status.idle": "2024-08-25T06:22:52.816223Z",
     "shell.execute_reply": "2024-08-25T06:22:52.815302Z"
    },
    "papermill": {
     "duration": 3.363618,
     "end_time": "2024-08-25T06:22:52.818293",
     "exception": false,
     "start_time": "2024-08-25T06:22:49.454675",
     "status": "completed"
    },
    "tags": []
   },
   "outputs": [
    {
     "name": "stdout",
     "output_type": "stream",
     "text": [
      "Downloading data from https://storage.googleapis.com/tensorflow/keras-applications/mobilenet_v2/mobilenet_v2_weights_tf_dim_ordering_tf_kernels_1.0_224_no_top.h5\n",
      "\u001b[1m9406464/9406464\u001b[0m \u001b[32m━━━━━━━━━━━━━━━━━━━━\u001b[0m\u001b[37m\u001b[0m \u001b[1m2s\u001b[0m 0us/step\n",
      "Base Model: mobilenetv2_1.00_224\n",
      "154\n"
     ]
    },
    {
     "data": {
      "text/html": [
       "<pre style=\"white-space:pre;overflow-x:auto;line-height:normal;font-family:Menlo,'DejaVu Sans Mono',consolas,'Courier New',monospace\"><span style=\"font-weight: bold\">Model: \"Deepweed-mobilenetv2_1.00_224\"</span>\n",
       "</pre>\n"
      ],
      "text/plain": [
       "\u001b[1mModel: \"Deepweed-mobilenetv2_1.00_224\"\u001b[0m\n"
      ]
     },
     "metadata": {},
     "output_type": "display_data"
    },
    {
     "data": {
      "text/html": [
       "<pre style=\"white-space:pre;overflow-x:auto;line-height:normal;font-family:Menlo,'DejaVu Sans Mono',consolas,'Courier New',monospace\">┏━━━━━━━━━━━━━━━━━━━━━━━━━━━━━━━━━┳━━━━━━━━━━━━━━━━━━━━━━━━┳━━━━━━━━━━━━━━━┓\n",
       "┃<span style=\"font-weight: bold\"> Layer (type)                    </span>┃<span style=\"font-weight: bold\"> Output Shape           </span>┃<span style=\"font-weight: bold\">       Param # </span>┃\n",
       "┡━━━━━━━━━━━━━━━━━━━━━━━━━━━━━━━━━╇━━━━━━━━━━━━━━━━━━━━━━━━╇━━━━━━━━━━━━━━━┩\n",
       "│ input (<span style=\"color: #0087ff; text-decoration-color: #0087ff\">InputLayer</span>)              │ (<span style=\"color: #00d7ff; text-decoration-color: #00d7ff\">None</span>, <span style=\"color: #00af00; text-decoration-color: #00af00\">224</span>, <span style=\"color: #00af00; text-decoration-color: #00af00\">224</span>, <span style=\"color: #00af00; text-decoration-color: #00af00\">3</span>)    │             <span style=\"color: #00af00; text-decoration-color: #00af00\">0</span> │\n",
       "├─────────────────────────────────┼────────────────────────┼───────────────┤\n",
       "│ true_divide (<span style=\"color: #0087ff; text-decoration-color: #0087ff\">TrueDivide</span>)        │ (<span style=\"color: #00d7ff; text-decoration-color: #00d7ff\">None</span>, <span style=\"color: #00af00; text-decoration-color: #00af00\">224</span>, <span style=\"color: #00af00; text-decoration-color: #00af00\">224</span>, <span style=\"color: #00af00; text-decoration-color: #00af00\">3</span>)    │             <span style=\"color: #00af00; text-decoration-color: #00af00\">0</span> │\n",
       "├─────────────────────────────────┼────────────────────────┼───────────────┤\n",
       "│ subtract (<span style=\"color: #0087ff; text-decoration-color: #0087ff\">Subtract</span>)             │ (<span style=\"color: #00d7ff; text-decoration-color: #00d7ff\">None</span>, <span style=\"color: #00af00; text-decoration-color: #00af00\">224</span>, <span style=\"color: #00af00; text-decoration-color: #00af00\">224</span>, <span style=\"color: #00af00; text-decoration-color: #00af00\">3</span>)    │             <span style=\"color: #00af00; text-decoration-color: #00af00\">0</span> │\n",
       "├─────────────────────────────────┼────────────────────────┼───────────────┤\n",
       "│ mobilenetv2_1.00_224            │ (<span style=\"color: #00d7ff; text-decoration-color: #00d7ff\">None</span>, <span style=\"color: #00af00; text-decoration-color: #00af00\">7</span>, <span style=\"color: #00af00; text-decoration-color: #00af00\">7</span>, <span style=\"color: #00af00; text-decoration-color: #00af00\">1280</span>)     │     <span style=\"color: #00af00; text-decoration-color: #00af00\">2,257,984</span> │\n",
       "│ (<span style=\"color: #0087ff; text-decoration-color: #0087ff\">Functional</span>)                    │                        │               │\n",
       "├─────────────────────────────────┼────────────────────────┼───────────────┤\n",
       "│ global_average_pooling2d        │ (<span style=\"color: #00d7ff; text-decoration-color: #00d7ff\">None</span>, <span style=\"color: #00af00; text-decoration-color: #00af00\">1280</span>)           │             <span style=\"color: #00af00; text-decoration-color: #00af00\">0</span> │\n",
       "│ (<span style=\"color: #0087ff; text-decoration-color: #0087ff\">GlobalAveragePooling2D</span>)        │                        │               │\n",
       "├─────────────────────────────────┼────────────────────────┼───────────────┤\n",
       "│ dense (<span style=\"color: #0087ff; text-decoration-color: #0087ff\">Dense</span>)                   │ (<span style=\"color: #00d7ff; text-decoration-color: #00d7ff\">None</span>, <span style=\"color: #00af00; text-decoration-color: #00af00\">9</span>)              │        <span style=\"color: #00af00; text-decoration-color: #00af00\">11,529</span> │\n",
       "└─────────────────────────────────┴────────────────────────┴───────────────┘\n",
       "</pre>\n"
      ],
      "text/plain": [
       "┏━━━━━━━━━━━━━━━━━━━━━━━━━━━━━━━━━┳━━━━━━━━━━━━━━━━━━━━━━━━┳━━━━━━━━━━━━━━━┓\n",
       "┃\u001b[1m \u001b[0m\u001b[1mLayer (type)                   \u001b[0m\u001b[1m \u001b[0m┃\u001b[1m \u001b[0m\u001b[1mOutput Shape          \u001b[0m\u001b[1m \u001b[0m┃\u001b[1m \u001b[0m\u001b[1m      Param #\u001b[0m\u001b[1m \u001b[0m┃\n",
       "┡━━━━━━━━━━━━━━━━━━━━━━━━━━━━━━━━━╇━━━━━━━━━━━━━━━━━━━━━━━━╇━━━━━━━━━━━━━━━┩\n",
       "│ input (\u001b[38;5;33mInputLayer\u001b[0m)              │ (\u001b[38;5;45mNone\u001b[0m, \u001b[38;5;34m224\u001b[0m, \u001b[38;5;34m224\u001b[0m, \u001b[38;5;34m3\u001b[0m)    │             \u001b[38;5;34m0\u001b[0m │\n",
       "├─────────────────────────────────┼────────────────────────┼───────────────┤\n",
       "│ true_divide (\u001b[38;5;33mTrueDivide\u001b[0m)        │ (\u001b[38;5;45mNone\u001b[0m, \u001b[38;5;34m224\u001b[0m, \u001b[38;5;34m224\u001b[0m, \u001b[38;5;34m3\u001b[0m)    │             \u001b[38;5;34m0\u001b[0m │\n",
       "├─────────────────────────────────┼────────────────────────┼───────────────┤\n",
       "│ subtract (\u001b[38;5;33mSubtract\u001b[0m)             │ (\u001b[38;5;45mNone\u001b[0m, \u001b[38;5;34m224\u001b[0m, \u001b[38;5;34m224\u001b[0m, \u001b[38;5;34m3\u001b[0m)    │             \u001b[38;5;34m0\u001b[0m │\n",
       "├─────────────────────────────────┼────────────────────────┼───────────────┤\n",
       "│ mobilenetv2_1.00_224            │ (\u001b[38;5;45mNone\u001b[0m, \u001b[38;5;34m7\u001b[0m, \u001b[38;5;34m7\u001b[0m, \u001b[38;5;34m1280\u001b[0m)     │     \u001b[38;5;34m2,257,984\u001b[0m │\n",
       "│ (\u001b[38;5;33mFunctional\u001b[0m)                    │                        │               │\n",
       "├─────────────────────────────────┼────────────────────────┼───────────────┤\n",
       "│ global_average_pooling2d        │ (\u001b[38;5;45mNone\u001b[0m, \u001b[38;5;34m1280\u001b[0m)           │             \u001b[38;5;34m0\u001b[0m │\n",
       "│ (\u001b[38;5;33mGlobalAveragePooling2D\u001b[0m)        │                        │               │\n",
       "├─────────────────────────────────┼────────────────────────┼───────────────┤\n",
       "│ dense (\u001b[38;5;33mDense\u001b[0m)                   │ (\u001b[38;5;45mNone\u001b[0m, \u001b[38;5;34m9\u001b[0m)              │        \u001b[38;5;34m11,529\u001b[0m │\n",
       "└─────────────────────────────────┴────────────────────────┴───────────────┘\n"
      ]
     },
     "metadata": {},
     "output_type": "display_data"
    },
    {
     "data": {
      "text/html": [
       "<pre style=\"white-space:pre;overflow-x:auto;line-height:normal;font-family:Menlo,'DejaVu Sans Mono',consolas,'Courier New',monospace\"><span style=\"font-weight: bold\"> Total params: </span><span style=\"color: #00af00; text-decoration-color: #00af00\">2,269,513</span> (8.66 MB)\n",
       "</pre>\n"
      ],
      "text/plain": [
       "\u001b[1m Total params: \u001b[0m\u001b[38;5;34m2,269,513\u001b[0m (8.66 MB)\n"
      ]
     },
     "metadata": {},
     "output_type": "display_data"
    },
    {
     "data": {
      "text/html": [
       "<pre style=\"white-space:pre;overflow-x:auto;line-height:normal;font-family:Menlo,'DejaVu Sans Mono',consolas,'Courier New',monospace\"><span style=\"font-weight: bold\"> Trainable params: </span><span style=\"color: #00af00; text-decoration-color: #00af00\">2,235,401</span> (8.53 MB)\n",
       "</pre>\n"
      ],
      "text/plain": [
       "\u001b[1m Trainable params: \u001b[0m\u001b[38;5;34m2,235,401\u001b[0m (8.53 MB)\n"
      ]
     },
     "metadata": {},
     "output_type": "display_data"
    },
    {
     "data": {
      "text/html": [
       "<pre style=\"white-space:pre;overflow-x:auto;line-height:normal;font-family:Menlo,'DejaVu Sans Mono',consolas,'Courier New',monospace\"><span style=\"font-weight: bold\"> Non-trainable params: </span><span style=\"color: #00af00; text-decoration-color: #00af00\">34,112</span> (133.25 KB)\n",
       "</pre>\n"
      ],
      "text/plain": [
       "\u001b[1m Non-trainable params: \u001b[0m\u001b[38;5;34m34,112\u001b[0m (133.25 KB)\n"
      ]
     },
     "metadata": {},
     "output_type": "display_data"
    }
   ],
   "source": [
    "model = buildModel(image_size +(3,), trainable=True, base_model='mobilenetv2',num_classes=num_classes)\n",
    "model.summary()"
   ]
  },
  {
   "cell_type": "code",
   "execution_count": 22,
   "id": "5d09944a",
   "metadata": {
    "execution": {
     "iopub.execute_input": "2024-08-25T06:22:52.848670Z",
     "iopub.status.busy": "2024-08-25T06:22:52.848324Z",
     "iopub.status.idle": "2024-08-25T06:22:52.853986Z",
     "shell.execute_reply": "2024-08-25T06:22:52.853121Z"
    },
    "papermill": {
     "duration": 0.023025,
     "end_time": "2024-08-25T06:22:52.855956",
     "exception": false,
     "start_time": "2024-08-25T06:22:52.832931",
     "status": "completed"
    },
    "tags": []
   },
   "outputs": [
    {
     "data": {
      "text/plain": [
       "'Deepweed-mobilenetv2_1.00_224'"
      ]
     },
     "execution_count": 22,
     "metadata": {},
     "output_type": "execute_result"
    }
   ],
   "source": [
    "model.name"
   ]
  },
  {
   "cell_type": "code",
   "execution_count": 23,
   "id": "f40006cd",
   "metadata": {
    "execution": {
     "iopub.execute_input": "2024-08-25T06:22:52.885995Z",
     "iopub.status.busy": "2024-08-25T06:22:52.885656Z",
     "iopub.status.idle": "2024-08-25T06:22:52.905800Z",
     "shell.execute_reply": "2024-08-25T06:22:52.905095Z"
    },
    "papermill": {
     "duration": 0.037462,
     "end_time": "2024-08-25T06:22:52.907766",
     "exception": false,
     "start_time": "2024-08-25T06:22:52.870304",
     "status": "completed"
    },
    "tags": []
   },
   "outputs": [],
   "source": [
    "from tensorflow.keras.optimizers import Adam, AdamW\n",
    "from tensorflow.keras.callbacks import EarlyStopping,ReduceLROnPlateau\n",
    "# Constant for epochs\n",
    "EPOCHS = 50\n",
    "\n",
    "pat_es = 5\n",
    "early_stopping = EarlyStopping(monitor='val_loss', patience=pat_es, verbose=1, restore_best_weights=True)\n",
    "reduce_lr =ReduceLROnPlateau(monitor='val_loss',factor=0.75, patience=3, verbose=1, min_lr=1e-6)\n",
    "\n",
    "model.compile(loss='categorical_crossentropy',\n",
    "          optimizer= AdamW(learning_rate=2e-4,  weight_decay=5e-2),\n",
    "          metrics=['accuracy'])"
   ]
  },
  {
   "cell_type": "code",
   "execution_count": 24,
   "id": "fbeb37fb",
   "metadata": {
    "execution": {
     "iopub.execute_input": "2024-08-25T06:22:52.937891Z",
     "iopub.status.busy": "2024-08-25T06:22:52.937542Z",
     "iopub.status.idle": "2024-08-25T06:22:52.942036Z",
     "shell.execute_reply": "2024-08-25T06:22:52.941113Z"
    },
    "papermill": {
     "duration": 0.021566,
     "end_time": "2024-08-25T06:22:52.943816",
     "exception": false,
     "start_time": "2024-08-25T06:22:52.922250",
     "status": "completed"
    },
    "tags": []
   },
   "outputs": [],
   "source": [
    "# Define your folder to save results\n",
    "import os\n",
    "save_folder = model.name\n",
    "os.makedirs(save_folder, exist_ok=True)"
   ]
  },
  {
   "cell_type": "code",
   "execution_count": 25,
   "id": "8c7c9e63",
   "metadata": {
    "execution": {
     "iopub.execute_input": "2024-08-25T06:22:52.974917Z",
     "iopub.status.busy": "2024-08-25T06:22:52.974584Z",
     "iopub.status.idle": "2024-08-25T06:22:52.980499Z",
     "shell.execute_reply": "2024-08-25T06:22:52.979697Z"
    },
    "papermill": {
     "duration": 0.0244,
     "end_time": "2024-08-25T06:22:52.982633",
     "exception": false,
     "start_time": "2024-08-25T06:22:52.958233",
     "status": "completed"
    },
    "tags": []
   },
   "outputs": [
    {
     "data": {
      "text/plain": [
       "'Deepweed-mobilenetv2_1.00_224/Deepweed-mobilenetv2_1.00_224.h5'"
      ]
     },
     "execution_count": 25,
     "metadata": {},
     "output_type": "execute_result"
    }
   ],
   "source": [
    "filename= model.name+'.h5'\n",
    "model_weight= os.path.join(save_folder, filename)\n",
    "model_weight"
   ]
  },
  {
   "cell_type": "code",
   "execution_count": 26,
   "id": "dd2585c9",
   "metadata": {
    "execution": {
     "iopub.execute_input": "2024-08-25T06:22:53.013625Z",
     "iopub.status.busy": "2024-08-25T06:22:53.012823Z",
     "iopub.status.idle": "2024-08-25T07:55:32.825928Z",
     "shell.execute_reply": "2024-08-25T07:55:32.824901Z"
    },
    "papermill": {
     "duration": 5560.174506,
     "end_time": "2024-08-25T07:55:33.171581",
     "exception": false,
     "start_time": "2024-08-25T06:22:52.997075",
     "status": "completed"
    },
    "tags": []
   },
   "outputs": [
    {
     "name": "stdout",
     "output_type": "stream",
     "text": [
      "Epoch 1/50\n"
     ]
    },
    {
     "name": "stderr",
     "output_type": "stream",
     "text": [
      "/opt/conda/lib/python3.10/site-packages/keras/src/trainers/data_adapters/py_dataset_adapter.py:121: UserWarning: Your `PyDataset` class should call `super().__init__(**kwargs)` in its constructor. `**kwargs` can include `workers`, `use_multiprocessing`, `max_queue_size`. Do not pass these arguments to `fit()`, as they will be ignored.\n",
      "  self._warn_if_super_not_called()\n",
      "WARNING: All log messages before absl::InitializeLog() is called are written to STDERR\n",
      "I0000 00:00:1724567011.474361      64 service.cc:145] XLA service 0x78c504004180 initialized for platform CUDA (this does not guarantee that XLA will be used). Devices:\n",
      "I0000 00:00:1724567011.474424      64 service.cc:153]   StreamExecutor device (0): Tesla P100-PCIE-16GB, Compute Capability 6.0\n"
     ]
    },
    {
     "name": "stdout",
     "output_type": "stream",
     "text": [
      "\u001b[1m  1/154\u001b[0m \u001b[37m━━━━━━━━━━━━━━━━━━━━\u001b[0m \u001b[1m2:31:47\u001b[0m 60s/step - accuracy: 0.0312 - loss: 3.1361"
     ]
    },
    {
     "name": "stderr",
     "output_type": "stream",
     "text": [
      "I0000 00:00:1724567034.861955      64 device_compiler.h:188] Compiled cluster using XLA!  This line is logged at most once for the lifetime of the process.\n"
     ]
    },
    {
     "name": "stdout",
     "output_type": "stream",
     "text": [
      "\u001b[1m 21/154\u001b[0m \u001b[32m━━\u001b[0m\u001b[37m━━━━━━━━━━━━━━━━━━\u001b[0m \u001b[1m4:29\u001b[0m 2s/step - accuracy: 0.2913 - loss: 2.0731"
     ]
    },
    {
     "name": "stderr",
     "output_type": "stream",
     "text": [
      "WARNING: All log messages before absl::InitializeLog() is called are written to STDERR\n",
      "I0000 00:00:1724567075.422072      66 asm_compiler.cc:369] ptxas warning : Registers are spilled to local memory in function 'loop_add_divide_multiply_subtract_fusion_49', 8 bytes spill stores, 8 bytes spill loads\n",
      "\n"
     ]
    },
    {
     "name": "stdout",
     "output_type": "stream",
     "text": [
      "\u001b[1m154/154\u001b[0m \u001b[32m━━━━━━━━━━━━━━━━━━━━\u001b[0m\u001b[37m\u001b[0m \u001b[1m319s\u001b[0m 2s/step - accuracy: 0.5978 - loss: 1.1753 - val_accuracy: 0.2105 - val_loss: 4.2492 - learning_rate: 2.0000e-04\n",
      "Epoch 2/50\n",
      "\u001b[1m154/154\u001b[0m \u001b[32m━━━━━━━━━━━━━━━━━━━━\u001b[0m\u001b[37m\u001b[0m \u001b[1m173s\u001b[0m 1s/step - accuracy: 0.8593 - loss: 0.4208 - val_accuracy: 0.2868 - val_loss: 4.4753 - learning_rate: 2.0000e-04\n",
      "Epoch 3/50\n",
      "\u001b[1m154/154\u001b[0m \u001b[32m━━━━━━━━━━━━━━━━━━━━\u001b[0m\u001b[37m\u001b[0m \u001b[1m170s\u001b[0m 1s/step - accuracy: 0.8895 - loss: 0.3148 - val_accuracy: 0.4459 - val_loss: 3.3195 - learning_rate: 2.0000e-04\n",
      "Epoch 4/50\n",
      "\u001b[1m154/154\u001b[0m \u001b[32m━━━━━━━━━━━━━━━━━━━━\u001b[0m\u001b[37m\u001b[0m \u001b[1m170s\u001b[0m 1s/step - accuracy: 0.9238 - loss: 0.2330 - val_accuracy: 0.4741 - val_loss: 3.4103 - learning_rate: 2.0000e-04\n",
      "Epoch 5/50\n",
      "\u001b[1m154/154\u001b[0m \u001b[32m━━━━━━━━━━━━━━━━━━━━\u001b[0m\u001b[37m\u001b[0m \u001b[1m168s\u001b[0m 1s/step - accuracy: 0.9250 - loss: 0.2132 - val_accuracy: 0.4443 - val_loss: 3.4401 - learning_rate: 2.0000e-04\n",
      "Epoch 6/50\n",
      "\u001b[1m154/154\u001b[0m \u001b[32m━━━━━━━━━━━━━━━━━━━━\u001b[0m\u001b[37m\u001b[0m \u001b[1m0s\u001b[0m 838ms/step - accuracy: 0.9370 - loss: 0.1798\n",
      "Epoch 6: ReduceLROnPlateau reducing learning rate to 0.00014999999621068127.\n",
      "\u001b[1m154/154\u001b[0m \u001b[32m━━━━━━━━━━━━━━━━━━━━\u001b[0m\u001b[37m\u001b[0m \u001b[1m168s\u001b[0m 1s/step - accuracy: 0.9369 - loss: 0.1798 - val_accuracy: 0.4149 - val_loss: 3.6549 - learning_rate: 2.0000e-04\n",
      "Epoch 7/50\n",
      "\u001b[1m154/154\u001b[0m \u001b[32m━━━━━━━━━━━━━━━━━━━━\u001b[0m\u001b[37m\u001b[0m \u001b[1m167s\u001b[0m 1s/step - accuracy: 0.9528 - loss: 0.1365 - val_accuracy: 0.5141 - val_loss: 2.8792 - learning_rate: 1.5000e-04\n",
      "Epoch 8/50\n",
      "\u001b[1m154/154\u001b[0m \u001b[32m━━━━━━━━━━━━━━━━━━━━\u001b[0m\u001b[37m\u001b[0m \u001b[1m169s\u001b[0m 1s/step - accuracy: 0.9604 - loss: 0.1169 - val_accuracy: 0.6067 - val_loss: 1.9757 - learning_rate: 1.5000e-04\n",
      "Epoch 9/50\n",
      "\u001b[1m154/154\u001b[0m \u001b[32m━━━━━━━━━━━━━━━━━━━━\u001b[0m\u001b[37m\u001b[0m \u001b[1m168s\u001b[0m 1s/step - accuracy: 0.9650 - loss: 0.1049 - val_accuracy: 0.6577 - val_loss: 1.5102 - learning_rate: 1.5000e-04\n",
      "Epoch 10/50\n",
      "\u001b[1m154/154\u001b[0m \u001b[32m━━━━━━━━━━━━━━━━━━━━\u001b[0m\u001b[37m\u001b[0m \u001b[1m166s\u001b[0m 1s/step - accuracy: 0.9691 - loss: 0.0865 - val_accuracy: 0.5218 - val_loss: 2.3229 - learning_rate: 1.5000e-04\n",
      "Epoch 11/50\n",
      "\u001b[1m154/154\u001b[0m \u001b[32m━━━━━━━━━━━━━━━━━━━━\u001b[0m\u001b[37m\u001b[0m \u001b[1m167s\u001b[0m 1s/step - accuracy: 0.9680 - loss: 0.0928 - val_accuracy: 0.5585 - val_loss: 2.0320 - learning_rate: 1.5000e-04\n",
      "Epoch 12/50\n",
      "\u001b[1m154/154\u001b[0m \u001b[32m━━━━━━━━━━━━━━━━━━━━\u001b[0m\u001b[37m\u001b[0m \u001b[1m168s\u001b[0m 1s/step - accuracy: 0.9731 - loss: 0.0819 - val_accuracy: 0.6491 - val_loss: 1.4964 - learning_rate: 1.5000e-04\n",
      "Epoch 13/50\n",
      "\u001b[1m154/154\u001b[0m \u001b[32m━━━━━━━━━━━━━━━━━━━━\u001b[0m\u001b[37m\u001b[0m \u001b[1m167s\u001b[0m 1s/step - accuracy: 0.9717 - loss: 0.0879 - val_accuracy: 0.7169 - val_loss: 1.2481 - learning_rate: 1.5000e-04\n",
      "Epoch 14/50\n",
      "\u001b[1m154/154\u001b[0m \u001b[32m━━━━━━━━━━━━━━━━━━━━\u001b[0m\u001b[37m\u001b[0m \u001b[1m168s\u001b[0m 1s/step - accuracy: 0.9750 - loss: 0.0664 - val_accuracy: 0.7385 - val_loss: 1.0758 - learning_rate: 1.5000e-04\n",
      "Epoch 15/50\n",
      "\u001b[1m154/154\u001b[0m \u001b[32m━━━━━━━━━━━━━━━━━━━━\u001b[0m\u001b[37m\u001b[0m \u001b[1m169s\u001b[0m 1s/step - accuracy: 0.9740 - loss: 0.0668 - val_accuracy: 0.7638 - val_loss: 0.9724 - learning_rate: 1.5000e-04\n",
      "Epoch 16/50\n",
      "\u001b[1m154/154\u001b[0m \u001b[32m━━━━━━━━━━━━━━━━━━━━\u001b[0m\u001b[37m\u001b[0m \u001b[1m169s\u001b[0m 1s/step - accuracy: 0.9779 - loss: 0.0666 - val_accuracy: 0.7560 - val_loss: 1.0302 - learning_rate: 1.5000e-04\n",
      "Epoch 17/50\n",
      "\u001b[1m154/154\u001b[0m \u001b[32m━━━━━━━━━━━━━━━━━━━━\u001b[0m\u001b[37m\u001b[0m \u001b[1m172s\u001b[0m 1s/step - accuracy: 0.9785 - loss: 0.0619 - val_accuracy: 0.7532 - val_loss: 1.0019 - learning_rate: 1.5000e-04\n",
      "Epoch 18/50\n",
      "\u001b[1m154/154\u001b[0m \u001b[32m━━━━━━━━━━━━━━━━━━━━\u001b[0m\u001b[37m\u001b[0m \u001b[1m0s\u001b[0m 841ms/step - accuracy: 0.9818 - loss: 0.0579\n",
      "Epoch 18: ReduceLROnPlateau reducing learning rate to 0.00011249999442952685.\n",
      "\u001b[1m154/154\u001b[0m \u001b[32m━━━━━━━━━━━━━━━━━━━━\u001b[0m\u001b[37m\u001b[0m \u001b[1m169s\u001b[0m 1s/step - accuracy: 0.9818 - loss: 0.0579 - val_accuracy: 0.6626 - val_loss: 1.3714 - learning_rate: 1.5000e-04\n",
      "Epoch 19/50\n",
      "\u001b[1m154/154\u001b[0m \u001b[32m━━━━━━━━━━━━━━━━━━━━\u001b[0m\u001b[37m\u001b[0m \u001b[1m168s\u001b[0m 1s/step - accuracy: 0.9863 - loss: 0.0432 - val_accuracy: 0.7968 - val_loss: 0.8114 - learning_rate: 1.1250e-04\n",
      "Epoch 20/50\n",
      "\u001b[1m154/154\u001b[0m \u001b[32m━━━━━━━━━━━━━━━━━━━━\u001b[0m\u001b[37m\u001b[0m \u001b[1m168s\u001b[0m 1s/step - accuracy: 0.9876 - loss: 0.0399 - val_accuracy: 0.8617 - val_loss: 0.5351 - learning_rate: 1.1250e-04\n",
      "Epoch 21/50\n",
      "\u001b[1m154/154\u001b[0m \u001b[32m━━━━━━━━━━━━━━━━━━━━\u001b[0m\u001b[37m\u001b[0m \u001b[1m170s\u001b[0m 1s/step - accuracy: 0.9879 - loss: 0.0359 - val_accuracy: 0.8723 - val_loss: 0.4482 - learning_rate: 1.1250e-04\n",
      "Epoch 22/50\n",
      "\u001b[1m154/154\u001b[0m \u001b[32m━━━━━━━━━━━━━━━━━━━━\u001b[0m\u001b[37m\u001b[0m \u001b[1m171s\u001b[0m 1s/step - accuracy: 0.9855 - loss: 0.0426 - val_accuracy: 0.8858 - val_loss: 0.4524 - learning_rate: 1.1250e-04\n",
      "Epoch 23/50\n",
      "\u001b[1m154/154\u001b[0m \u001b[32m━━━━━━━━━━━━━━━━━━━━\u001b[0m\u001b[37m\u001b[0m \u001b[1m168s\u001b[0m 1s/step - accuracy: 0.9867 - loss: 0.0409 - val_accuracy: 0.8539 - val_loss: 0.5657 - learning_rate: 1.1250e-04\n",
      "Epoch 24/50\n",
      "\u001b[1m154/154\u001b[0m \u001b[32m━━━━━━━━━━━━━━━━━━━━\u001b[0m\u001b[37m\u001b[0m \u001b[1m169s\u001b[0m 1s/step - accuracy: 0.9865 - loss: 0.0388 - val_accuracy: 0.8919 - val_loss: 0.4275 - learning_rate: 1.1250e-04\n",
      "Epoch 25/50\n",
      "\u001b[1m154/154\u001b[0m \u001b[32m━━━━━━━━━━━━━━━━━━━━\u001b[0m\u001b[37m\u001b[0m \u001b[1m170s\u001b[0m 1s/step - accuracy: 0.9867 - loss: 0.0348 - val_accuracy: 0.9147 - val_loss: 0.3293 - learning_rate: 1.1250e-04\n",
      "Epoch 26/50\n",
      "\u001b[1m154/154\u001b[0m \u001b[32m━━━━━━━━━━━━━━━━━━━━\u001b[0m\u001b[37m\u001b[0m \u001b[1m169s\u001b[0m 1s/step - accuracy: 0.9839 - loss: 0.0512 - val_accuracy: 0.9213 - val_loss: 0.3009 - learning_rate: 1.1250e-04\n",
      "Epoch 27/50\n",
      "\u001b[1m154/154\u001b[0m \u001b[32m━━━━━━━━━━━━━━━━━━━━\u001b[0m\u001b[37m\u001b[0m \u001b[1m169s\u001b[0m 1s/step - accuracy: 0.9891 - loss: 0.0329 - val_accuracy: 0.9364 - val_loss: 0.2458 - learning_rate: 1.1250e-04\n",
      "Epoch 28/50\n",
      "\u001b[1m154/154\u001b[0m \u001b[32m━━━━━━━━━━━━━━━━━━━━\u001b[0m\u001b[37m\u001b[0m \u001b[1m167s\u001b[0m 1s/step - accuracy: 0.9912 - loss: 0.0283 - val_accuracy: 0.9127 - val_loss: 0.3807 - learning_rate: 1.1250e-04\n",
      "Epoch 29/50\n",
      "\u001b[1m154/154\u001b[0m \u001b[32m━━━━━━━━━━━━━━━━━━━━\u001b[0m\u001b[37m\u001b[0m \u001b[1m167s\u001b[0m 1s/step - accuracy: 0.9889 - loss: 0.0306 - val_accuracy: 0.9000 - val_loss: 0.4248 - learning_rate: 1.1250e-04\n",
      "Epoch 30/50\n",
      "\u001b[1m154/154\u001b[0m \u001b[32m━━━━━━━━━━━━━━━━━━━━\u001b[0m\u001b[37m\u001b[0m \u001b[1m0s\u001b[0m 838ms/step - accuracy: 0.9867 - loss: 0.0328\n",
      "Epoch 30: ReduceLROnPlateau reducing learning rate to 8.437499855062924e-05.\n",
      "\u001b[1m154/154\u001b[0m \u001b[32m━━━━━━━━━━━━━━━━━━━━\u001b[0m\u001b[37m\u001b[0m \u001b[1m169s\u001b[0m 1s/step - accuracy: 0.9867 - loss: 0.0328 - val_accuracy: 0.8992 - val_loss: 0.3798 - learning_rate: 1.1250e-04\n",
      "Epoch 31/50\n",
      "\u001b[1m154/154\u001b[0m \u001b[32m━━━━━━━━━━━━━━━━━━━━\u001b[0m\u001b[37m\u001b[0m \u001b[1m173s\u001b[0m 1s/step - accuracy: 0.9908 - loss: 0.0282 - val_accuracy: 0.9274 - val_loss: 0.2817 - learning_rate: 8.4375e-05\n",
      "Epoch 32/50\n",
      "\u001b[1m154/154\u001b[0m \u001b[32m━━━━━━━━━━━━━━━━━━━━\u001b[0m\u001b[37m\u001b[0m \u001b[1m172s\u001b[0m 1s/step - accuracy: 0.9919 - loss: 0.0232 - val_accuracy: 0.9241 - val_loss: 0.3108 - learning_rate: 8.4375e-05\n",
      "Epoch 32: early stopping\n",
      "Restoring model weights from the end of the best epoch: 27.\n",
      "CPU times: user 1h 34min 58s, sys: 4min 39s, total: 1h 39min 37s\n",
      "Wall time: 1h 32min 39s\n"
     ]
    }
   ],
   "source": [
    "%%time\n",
    "# Train the model\n",
    "history1 = model.fit(\n",
    "      train_generator,\n",
    "      epochs=EPOCHS,\n",
    "      validation_data=validation_generator,\n",
    "      callbacks=[early_stopping, reduce_lr],\n",
    "    )"
   ]
  },
  {
   "cell_type": "code",
   "execution_count": 27,
   "id": "77328228",
   "metadata": {
    "execution": {
     "iopub.execute_input": "2024-08-25T07:55:34.009847Z",
     "iopub.status.busy": "2024-08-25T07:55:34.009052Z",
     "iopub.status.idle": "2024-08-25T07:55:34.459406Z",
     "shell.execute_reply": "2024-08-25T07:55:34.458365Z"
    },
    "papermill": {
     "duration": 0.870116,
     "end_time": "2024-08-25T07:55:34.461811",
     "exception": false,
     "start_time": "2024-08-25T07:55:33.591695",
     "status": "completed"
    },
    "tags": []
   },
   "outputs": [
    {
     "name": "stdout",
     "output_type": "stream",
     "text": [
      "Saving the Model\n"
     ]
    }
   ],
   "source": [
    "print(\"Saving the Model\")\n",
    "model.save(model_weight)"
   ]
  },
  {
   "cell_type": "code",
   "execution_count": 28,
   "id": "b36242dc",
   "metadata": {
    "execution": {
     "iopub.execute_input": "2024-08-25T07:55:35.299077Z",
     "iopub.status.busy": "2024-08-25T07:55:35.298269Z",
     "iopub.status.idle": "2024-08-25T07:55:35.309086Z",
     "shell.execute_reply": "2024-08-25T07:55:35.308154Z"
    },
    "papermill": {
     "duration": 0.431989,
     "end_time": "2024-08-25T07:55:35.310988",
     "exception": false,
     "start_time": "2024-08-25T07:55:34.878999",
     "status": "completed"
    },
    "tags": []
   },
   "outputs": [],
   "source": [
    "#image visualization\n",
    "import matplotlib.pyplot as plt\n",
    "def plot_loss_acc(history):\n",
    "    '''Plots the training and validation loss and accuracy from a history object'''\n",
    "    acc = history['accuracy']\n",
    "    val_acc = history['val_accuracy']\n",
    "    loss = history['loss']\n",
    "    val_loss = history['val_loss']\n",
    "    if 'peaks' in history:\n",
    "        peaks = history['peaks']\n",
    "    else:\n",
    "        _min = np.argmin(val_loss)\n",
    "        peaks = [_min]\n",
    "\n",
    "    epochs = range(len(acc))\n",
    "    print(\"Total Epochs:\",epochs)\n",
    "\n",
    "    plt.figure(figsize=[16, 4])\n",
    "    plt.subplot(1,2,1)\n",
    "    p_value = [val_acc[p] for p in peaks]\n",
    "    plt.scatter(peaks, p_value, marker='o',s=50)\n",
    "    plt.plot(epochs, acc, label='Training accuracy', color='red')\n",
    "    plt.plot(epochs, val_acc, label='Validation accuracy', color='magenta')\n",
    "    plt.title('Training and validation accuracy')\n",
    "    plt.legend()\n",
    "\n",
    "    plt.subplot(1,2,2)\n",
    "    p_value = [val_loss[p] for p in peaks]\n",
    "    plt.scatter(peaks, p_value, marker='o',s=50)\n",
    "    plt.plot(epochs, loss, label='Training Loss', color='red')\n",
    "    plt.plot(epochs, val_loss, label='Validation Loss', color='magenta')\n",
    "    plt.title('Training and validation loss')\n",
    "    plt.legend()\n",
    "    plt.savefig(os.path.join(save_folder, 'training_chart.png'))\n",
    "    plt.show()"
   ]
  },
  {
   "cell_type": "code",
   "execution_count": 29,
   "id": "94311f4b",
   "metadata": {
    "execution": {
     "iopub.execute_input": "2024-08-25T07:55:36.192571Z",
     "iopub.status.busy": "2024-08-25T07:55:36.192199Z",
     "iopub.status.idle": "2024-08-25T07:55:37.001950Z",
     "shell.execute_reply": "2024-08-25T07:55:37.000796Z"
    },
    "papermill": {
     "duration": 1.233235,
     "end_time": "2024-08-25T07:55:37.004924",
     "exception": false,
     "start_time": "2024-08-25T07:55:35.771689",
     "status": "completed"
    },
    "tags": []
   },
   "outputs": [
    {
     "name": "stdout",
     "output_type": "stream",
     "text": [
      "Total Epochs: range(0, 32)\n"
     ]
    },
    {
     "data": {
      "image/png": "[encoded data removed]",
      "text/plain": [
       "<Figure size 1600x400 with 2 Axes>"
      ]
     },
     "metadata": {},
     "output_type": "display_data"
    }
   ],
   "source": [
    "# Plot training results\n",
    "plot_loss_acc(history1.history)"
   ]
  },
  {
   "cell_type": "code",
   "execution_count": 30,
   "id": "e73d1c17",
   "metadata": {
    "execution": {
     "iopub.execute_input": "2024-08-25T07:55:37.888833Z",
     "iopub.status.busy": "2024-08-25T07:55:37.888432Z",
     "iopub.status.idle": "2024-08-25T07:55:37.893349Z",
     "shell.execute_reply": "2024-08-25T07:55:37.892424Z"
    },
    "papermill": {
     "duration": 0.435855,
     "end_time": "2024-08-25T07:55:37.895281",
     "exception": false,
     "start_time": "2024-08-25T07:55:37.459426",
     "status": "completed"
    },
    "tags": []
   },
   "outputs": [],
   "source": [
    "from sklearn.metrics import f1_score, precision_score, recall_score, accuracy_score\n",
    "from sklearn.metrics import ConfusionMatrixDisplay, classification_report\n",
    "import matplotlib.pyplot as plt"
   ]
  },
  {
   "cell_type": "code",
   "execution_count": 31,
   "id": "e418575d",
   "metadata": {
    "execution": {
     "iopub.execute_input": "2024-08-25T07:55:38.782629Z",
     "iopub.status.busy": "2024-08-25T07:55:38.781754Z",
     "iopub.status.idle": "2024-08-25T07:56:34.753153Z",
     "shell.execute_reply": "2024-08-25T07:56:34.752056Z"
    },
    "papermill": {
     "duration": 56.394636,
     "end_time": "2024-08-25T07:56:34.755829",
     "exception": false,
     "start_time": "2024-08-25T07:55:38.361193",
     "status": "completed"
    },
    "tags": []
   },
   "outputs": [
    {
     "name": "stdout",
     "output_type": "stream",
     "text": [
      "\u001b[1m83/83\u001b[0m \u001b[32m━━━━━━━━━━━━━━━━━━━━\u001b[0m\u001b[37m\u001b[0m \u001b[1m55s\u001b[0m 632ms/step\n"
     ]
    }
   ],
   "source": [
    "predictions=model.predict(test_generator)"
   ]
  },
  {
   "cell_type": "code",
   "execution_count": 32,
   "id": "dc801885",
   "metadata": {
    "execution": {
     "iopub.execute_input": "2024-08-25T07:56:35.606638Z",
     "iopub.status.busy": "2024-08-25T07:56:35.606228Z",
     "iopub.status.idle": "2024-08-25T07:56:36.022126Z",
     "shell.execute_reply": "2024-08-25T07:56:36.020972Z"
    },
    "papermill": {
     "duration": 0.843705,
     "end_time": "2024-08-25T07:56:36.024235",
     "exception": false,
     "start_time": "2024-08-25T07:56:35.180530",
     "status": "completed"
    },
    "tags": []
   },
   "outputs": [
    {
     "name": "stdout",
     "output_type": "stream",
     "text": [
      "Confusion Matrix:\n",
      "[[ 254   27   38    1    4    0    0    0   13]\n",
      " [   0  313    3    0    0    0    1    1    1]\n",
      " [  13   38 2643    2    2   14    7    6    7]\n",
      " [   1    0   23  254    0   31    0    0    0]\n",
      " [   1    0   41    5  253    4    2    0    1]\n",
      " [   0    2   42    4    3  268    0    0    0]\n",
      " [   1    2   14    0    0    1  284    1    0]\n",
      " [   0   15   14    0    0    0    1  292    0]\n",
      " [  11   23   28    0    2    1    0    1  239]]\n"
     ]
    }
   ],
   "source": [
    "import numpy as np\n",
    "from sklearn.metrics import confusion_matrix,ConfusionMatrixDisplay\n",
    "import seaborn as sns\n",
    "import matplotlib.pyplot as plt\n",
    "# Convert predictions to class labels\n",
    "predicted_classes = np.argmax(predictions, axis=1)\n",
    "# Get true labels from the test generator\n",
    "true_labels = test_generator.classes\n",
    "# Compute the confusion matrix\n",
    "conf_matrix = confusion_matrix(true_labels, predicted_classes)\n",
    "\n",
    "# Print the confusion matrix\n",
    "print(\"Confusion Matrix:\")\n",
    "print(conf_matrix)"
   ]
  },
  {
   "cell_type": "code",
   "execution_count": 33,
   "id": "f2f2928a",
   "metadata": {
    "execution": {
     "iopub.execute_input": "2024-08-25T07:56:36.937065Z",
     "iopub.status.busy": "2024-08-25T07:56:36.936431Z",
     "iopub.status.idle": "2024-08-25T07:56:37.581960Z",
     "shell.execute_reply": "2024-08-25T07:56:37.580986Z"
    },
    "papermill": {
     "duration": 1.073021,
     "end_time": "2024-08-25T07:56:37.584569",
     "exception": false,
     "start_time": "2024-08-25T07:56:36.511548",
     "status": "completed"
    },
    "tags": []
   },
   "outputs": [
    {
     "data": {
      "image/png": "[encoded data removed]",
      "text/plain": [
       "<Figure size 640x480 with 2 Axes>"
      ]
     },
     "metadata": {},
     "output_type": "display_data"
    }
   ],
   "source": [
    "cmd = ConfusionMatrixDisplay.from_predictions(\n",
    "        true_labels, predicted_classes,\n",
    "        display_labels=list(test_generator.class_indices.keys()),\n",
    "        xticks_rotation=80, #'vertical',\n",
    "        # ax = ax\n",
    "    )\n",
    "    # fig, ax = plt.subplots(figsize=(25,5))\n",
    "    # cmd.plot(ax=ax)\n",
    "plt.savefig(os.path.join(save_folder, 'confusion-mat.png'))\n",
    "plt.show()"
   ]
  },
  {
   "cell_type": "code",
   "execution_count": 34,
   "id": "76251f06",
   "metadata": {
    "execution": {
     "iopub.execute_input": "2024-08-25T07:56:38.443770Z",
     "iopub.status.busy": "2024-08-25T07:56:38.442892Z",
     "iopub.status.idle": "2024-08-25T07:56:38.479751Z",
     "shell.execute_reply": "2024-08-25T07:56:38.478678Z"
    },
    "papermill": {
     "duration": 0.465032,
     "end_time": "2024-08-25T07:56:38.482102",
     "exception": false,
     "start_time": "2024-08-25T07:56:38.017070",
     "status": "completed"
    },
    "tags": []
   },
   "outputs": [
    {
     "name": "stdout",
     "output_type": "stream",
     "text": [
      "                precision    recall  f1-score   support\n",
      "\n",
      "  Chinee apple    0.90391   0.75371   0.82201       337\n",
      "       Lantana    0.74524   0.98119   0.84709       319\n",
      "      Negative    0.92867   0.96742   0.94765      2732\n",
      "   Parkinsonia    0.95489   0.82201   0.88348       309\n",
      "    Parthenium    0.95833   0.82410   0.88616       307\n",
      "Prickly acacia    0.84013   0.84013   0.84013       319\n",
      "   Rubber vine    0.96271   0.93729   0.94983       303\n",
      "     Siam weed    0.97010   0.90683   0.93740       322\n",
      "    Snake weed    0.91571   0.78361   0.84452       305\n",
      "\n",
      "      accuracy                        0.91376      5253\n",
      "     macro avg    0.90885   0.86848   0.88425      5253\n",
      "  weighted avg    0.91759   0.91376   0.91310      5253\n",
      "\n"
     ]
    }
   ],
   "source": [
    "display_labels=list(test_generator.class_indices.keys())\n",
    "class_report=classification_report(true_labels, predicted_classes,digits=5, target_names=display_labels)\n",
    "print(class_report)\n",
    "with open(os.path.join(save_folder, 'classification_report.txt'), 'w') as f:\n",
    "    f.write(classification_report(true_labels, predicted_classes))"
   ]
  },
  {
   "cell_type": "code",
   "execution_count": null,
   "id": "d1f26d65",
   "metadata": {
    "papermill": {
     "duration": 0.477989,
     "end_time": "2024-08-25T07:56:39.412341",
     "exception": false,
     "start_time": "2024-08-25T07:56:38.934352",
     "status": "completed"
    },
    "tags": []
   },
   "outputs": [],
   "source": []
  },
  {
   "cell_type": "code",
   "execution_count": null,
   "id": "8be1a626",
   "metadata": {
    "papermill": {
     "duration": 0.461991,
     "end_time": "2024-08-25T07:56:40.302797",
     "exception": false,
     "start_time": "2024-08-25T07:56:39.840806",
     "status": "completed"
    },
    "tags": []
   },
   "outputs": [],
   "source": []
  }
 ],
 "metadata": {
  "kaggle": {
   "accelerator": "gpu",
   "dataSources": [
    {
     "datasetId": 4419124,
     "sourceId": 7615277,
     "sourceType": "datasetVersion"
    }
   ],
   "dockerImageVersionId": 30762,
   "isGpuEnabled": true,
   "isInternetEnabled": true,
   "language": "python",
   "sourceType": "notebook"
  },
  "kernelspec": {
   "display_name": "Python 3",
   "language": "python",
   "name": "python3"
  },
  "language_info": {
   "codemirror_mode": {
    "name": "ipython",
    "version": 3
   },
   "file_extension": ".py",
   "mimetype": "text/x-python",
   "name": "python",
   "nbconvert_exporter": "python",
   "pygments_lexer": "ipython3",
   "version": "3.10.14"
  },
  "papermill": {
   "default_parameters": {},
   "duration": 5711.440649,
   "end_time": "2024-08-25T07:56:43.973491",
   "environment_variables": {},
   "exception": null,
   "input_path": "__notebook__.ipynb",
   "output_path": "__notebook__.ipynb",
   "parameters": {},
   "start_time": "2024-08-25T06:21:32.532842",
   "version": "2.6.0"
  }
 },
 "nbformat": 4,
 "nbformat_minor": 5
}
