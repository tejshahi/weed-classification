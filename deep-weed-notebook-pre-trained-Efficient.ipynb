{
 "cells": [
  {
   "cell_type": "code",
   "execution_count": 1,
   "id": "41ce7da0",
   "metadata": {
    "_cell_guid": "b1076dfc-b9ad-4769-8c92-a6c4dae69d19",
    "_uuid": "8f2839f25d086af736a60e9eeb907d3b93b6e0e5",
    "execution": {
     "iopub.execute_input": "2024-08-24T02:08:46.324462Z",
     "iopub.status.busy": "2024-08-24T02:08:46.324115Z",
     "iopub.status.idle": "2024-08-24T02:08:47.103576Z",
     "shell.execute_reply": "2024-08-24T02:08:47.102551Z"
    },
    "papermill": {
     "duration": 0.793414,
     "end_time": "2024-08-24T02:08:47.105868",
     "exception": false,
     "start_time": "2024-08-24T02:08:46.312454",
     "status": "completed"
    },
    "tags": []
   },
   "outputs": [],
   "source": [
    "# This Python 3 environment comes with many helpful analytics libraries installed\n",
    "# It is defined by the kaggle/python Docker image: https://github.com/kaggle/docker-python\n",
    "# For example, here's several helpful packages to load\n",
    "\n",
    "import numpy as np # linear algebra\n",
    "import pandas as pd # data processing, CSV file I/O (e.g. pd.read_csv)\n",
    "\n",
    "# Input data files are available in the read-only \"../input/\" directory\n",
    "# For example, running this (by clicking run or pressing Shift+Enter) will list all files under the input directory\n",
    "\n",
    "#import the necessary packages\n",
    "import numpy as np # linear algebra\n",
    "import pandas as pd # data processing, CSV file I/O (e.g. pd.read_csv)\n",
    "from pathlib import Path\n",
    "from collections import Counter"
   ]
  },
  {
   "cell_type": "code",
   "execution_count": 2,
   "id": "216621c1",
   "metadata": {
    "execution": {
     "iopub.execute_input": "2024-08-24T02:08:47.126834Z",
     "iopub.status.busy": "2024-08-24T02:08:47.125959Z",
     "iopub.status.idle": "2024-08-24T02:09:00.130028Z",
     "shell.execute_reply": "2024-08-24T02:09:00.128983Z"
    },
    "papermill": {
     "duration": 13.016886,
     "end_time": "2024-08-24T02:09:00.132389",
     "exception": false,
     "start_time": "2024-08-24T02:08:47.115503",
     "status": "completed"
    },
    "tags": []
   },
   "outputs": [],
   "source": [
    "from tensorflow.keras.applications import MobileNet, MobileNetV2, MobileNetV3Small, MobileNetV3Large, VGG16\n",
    "from tensorflow.keras.applications import EfficientNetV2S, ConvNeXtSmall, DenseNet121,ResNet50,InceptionV3,EfficientNetB0\n",
    "from tensorflow.keras.layers import Input, Dense, GlobalAveragePooling2D,Flatten,Dropout\n",
    "from tensorflow.keras.models import Model\n",
    "from tensorflow import keras\n",
    "from tensorflow.keras.applications.mobilenet import preprocess_input as mob_preprocess_input\n",
    "from tensorflow.keras.applications.efficientnet import preprocess_input as eff_preprocess_input\n",
    "from tensorflow.keras.applications.convnext import preprocess_input as conv_preprocess_input\n",
    "from tensorflow.keras.applications.vgg16 import preprocess_input as vgg_preprocess_input\n"
   ]
  },
  {
   "cell_type": "code",
   "execution_count": 3,
   "id": "0fee8cf4",
   "metadata": {
    "execution": {
     "iopub.execute_input": "2024-08-24T02:09:00.153820Z",
     "iopub.status.busy": "2024-08-24T02:09:00.153168Z",
     "iopub.status.idle": "2024-08-24T02:09:00.377933Z",
     "shell.execute_reply": "2024-08-24T02:09:00.376891Z"
    },
    "papermill": {
     "duration": 0.238908,
     "end_time": "2024-08-24T02:09:00.380843",
     "exception": false,
     "start_time": "2024-08-24T02:09:00.141935",
     "status": "completed"
    },
    "tags": []
   },
   "outputs": [
    {
     "name": "stdout",
     "output_type": "stream",
     "text": [
      "GPUs are available:\n",
      "PhysicalDevice(name='/physical_device:GPU:0', device_type='GPU')\n"
     ]
    }
   ],
   "source": [
    "import tensorflow as tf\n",
    "\n",
    "# Check available GPUs\n",
    "gpus = tf.config.list_physical_devices('GPU')\n",
    "if gpus:\n",
    "    print(\"GPUs are available:\")\n",
    "    for gpu in gpus:\n",
    "        print(gpu)\n",
    "else:\n",
    "    print(\"No GPUs detected.\")"
   ]
  },
  {
   "cell_type": "code",
   "execution_count": 4,
   "id": "eccbea75",
   "metadata": {
    "execution": {
     "iopub.execute_input": "2024-08-24T02:09:00.412704Z",
     "iopub.status.busy": "2024-08-24T02:09:00.411876Z",
     "iopub.status.idle": "2024-08-24T02:09:00.469572Z",
     "shell.execute_reply": "2024-08-24T02:09:00.468567Z"
    },
    "papermill": {
     "duration": 0.075505,
     "end_time": "2024-08-24T02:09:00.471936",
     "exception": false,
     "start_time": "2024-08-24T02:09:00.396431",
     "status": "completed"
    },
    "tags": []
   },
   "outputs": [
    {
     "data": {
      "text/html": [
       "<div>\n",
       "<style scoped>\n",
       "    .dataframe tbody tr th:only-of-type {\n",
       "        vertical-align: middle;\n",
       "    }\n",
       "\n",
       "    .dataframe tbody tr th {\n",
       "        vertical-align: top;\n",
       "    }\n",
       "\n",
       "    .dataframe thead th {\n",
       "        text-align: right;\n",
       "    }\n",
       "</style>\n",
       "<table border=\"1\" class=\"dataframe\">\n",
       "  <thead>\n",
       "    <tr style=\"text-align: right;\">\n",
       "      <th></th>\n",
       "      <th>Filename</th>\n",
       "      <th>Label</th>\n",
       "      <th>Species</th>\n",
       "    </tr>\n",
       "  </thead>\n",
       "  <tbody>\n",
       "    <tr>\n",
       "      <th>0</th>\n",
       "      <td>20160928-140314-0.jpg</td>\n",
       "      <td>0</td>\n",
       "      <td>Chinee apple</td>\n",
       "    </tr>\n",
       "    <tr>\n",
       "      <th>1</th>\n",
       "      <td>20160928-140337-0.jpg</td>\n",
       "      <td>0</td>\n",
       "      <td>Chinee apple</td>\n",
       "    </tr>\n",
       "    <tr>\n",
       "      <th>2</th>\n",
       "      <td>20160928-140731-0.jpg</td>\n",
       "      <td>0</td>\n",
       "      <td>Chinee apple</td>\n",
       "    </tr>\n",
       "    <tr>\n",
       "      <th>3</th>\n",
       "      <td>20160928-140747-0.jpg</td>\n",
       "      <td>0</td>\n",
       "      <td>Chinee apple</td>\n",
       "    </tr>\n",
       "    <tr>\n",
       "      <th>4</th>\n",
       "      <td>20160928-141107-0.jpg</td>\n",
       "      <td>0</td>\n",
       "      <td>Chinee apple</td>\n",
       "    </tr>\n",
       "  </tbody>\n",
       "</table>\n",
       "</div>"
      ],
      "text/plain": [
       "                Filename  Label       Species\n",
       "0  20160928-140314-0.jpg      0  Chinee apple\n",
       "1  20160928-140337-0.jpg      0  Chinee apple\n",
       "2  20160928-140731-0.jpg      0  Chinee apple\n",
       "3  20160928-140747-0.jpg      0  Chinee apple\n",
       "4  20160928-141107-0.jpg      0  Chinee apple"
      ]
     },
     "execution_count": 4,
     "metadata": {},
     "output_type": "execute_result"
    }
   ],
   "source": [
    "#read label information\n",
    "df = pd.read_csv('/kaggle/input/deepweeds/labels.csv')\n",
    "df.head()"
   ]
  },
  {
   "cell_type": "code",
   "execution_count": 5,
   "id": "5ec2b369",
   "metadata": {
    "execution": {
     "iopub.execute_input": "2024-08-24T02:09:00.497454Z",
     "iopub.status.busy": "2024-08-24T02:09:00.496584Z",
     "iopub.status.idle": "2024-08-24T02:09:00.520631Z",
     "shell.execute_reply": "2024-08-24T02:09:00.519678Z"
    },
    "papermill": {
     "duration": 0.03804,
     "end_time": "2024-08-24T02:09:00.522601",
     "exception": false,
     "start_time": "2024-08-24T02:09:00.484561",
     "status": "completed"
    },
    "tags": []
   },
   "outputs": [
    {
     "data": {
      "text/html": [
       "<div>\n",
       "<style scoped>\n",
       "    .dataframe tbody tr th:only-of-type {\n",
       "        vertical-align: middle;\n",
       "    }\n",
       "\n",
       "    .dataframe tbody tr th {\n",
       "        vertical-align: top;\n",
       "    }\n",
       "\n",
       "    .dataframe thead th {\n",
       "        text-align: right;\n",
       "    }\n",
       "</style>\n",
       "<table border=\"1\" class=\"dataframe\">\n",
       "  <thead>\n",
       "    <tr style=\"text-align: right;\">\n",
       "      <th>Species</th>\n",
       "      <th>Chinee apple</th>\n",
       "      <th>Lantana</th>\n",
       "      <th>Negative</th>\n",
       "      <th>Parkinsonia</th>\n",
       "      <th>Parthenium</th>\n",
       "      <th>Prickly acacia</th>\n",
       "      <th>Rubber vine</th>\n",
       "      <th>Siam weed</th>\n",
       "      <th>Snake weed</th>\n",
       "    </tr>\n",
       "  </thead>\n",
       "  <tbody>\n",
       "    <tr>\n",
       "      <th>Label</th>\n",
       "      <td>1125</td>\n",
       "      <td>1064</td>\n",
       "      <td>9106</td>\n",
       "      <td>1031</td>\n",
       "      <td>1022</td>\n",
       "      <td>1062</td>\n",
       "      <td>1009</td>\n",
       "      <td>1074</td>\n",
       "      <td>1016</td>\n",
       "    </tr>\n",
       "  </tbody>\n",
       "</table>\n",
       "</div>"
      ],
      "text/plain": [
       "Species  Chinee apple  Lantana  Negative  Parkinsonia  Parthenium  \\\n",
       "Label            1125     1064      9106         1031        1022   \n",
       "\n",
       "Species  Prickly acacia  Rubber vine  Siam weed  Snake weed  \n",
       "Label              1062         1009       1074        1016  "
      ]
     },
     "execution_count": 5,
     "metadata": {},
     "output_type": "execute_result"
    }
   ],
   "source": [
    "df[['Species','Label']].groupby(by='Species').count().T"
   ]
  },
  {
   "cell_type": "code",
   "execution_count": 6,
   "id": "b5afcd58",
   "metadata": {
    "execution": {
     "iopub.execute_input": "2024-08-24T02:09:00.543793Z",
     "iopub.status.busy": "2024-08-24T02:09:00.543462Z",
     "iopub.status.idle": "2024-08-24T02:09:00.559197Z",
     "shell.execute_reply": "2024-08-24T02:09:00.558228Z"
    },
    "papermill": {
     "duration": 0.028607,
     "end_time": "2024-08-24T02:09:00.561049",
     "exception": false,
     "start_time": "2024-08-24T02:09:00.532442",
     "status": "completed"
    },
    "tags": []
   },
   "outputs": [
    {
     "data": {
      "text/plain": [
       "{0: 'Chinee apple',\n",
       " 1: 'Lantana',\n",
       " 8: 'Negative',\n",
       " 2: 'Parkinsonia',\n",
       " 3: 'Parthenium',\n",
       " 4: 'Prickly acacia',\n",
       " 5: 'Rubber vine',\n",
       " 6: 'Siam weed',\n",
       " 7: 'Snake weed'}"
      ]
     },
     "execution_count": 6,
     "metadata": {},
     "output_type": "execute_result"
    }
   ],
   "source": [
    "label2id = df[['Species','Label']].groupby(by='Species').min().to_dict()['Label']\n",
    "id2label = {label2id[i]:i for i in label2id}\n",
    "id2label"
   ]
  },
  {
   "cell_type": "code",
   "execution_count": 7,
   "id": "ef27ff00",
   "metadata": {
    "execution": {
     "iopub.execute_input": "2024-08-24T02:09:00.582866Z",
     "iopub.status.busy": "2024-08-24T02:09:00.582475Z",
     "iopub.status.idle": "2024-08-24T02:09:00.589966Z",
     "shell.execute_reply": "2024-08-24T02:09:00.589072Z"
    },
    "papermill": {
     "duration": 0.02071,
     "end_time": "2024-08-24T02:09:00.591849",
     "exception": false,
     "start_time": "2024-08-24T02:09:00.571139",
     "status": "completed"
    },
    "tags": []
   },
   "outputs": [
    {
     "data": {
      "text/plain": [
       "9"
      ]
     },
     "execution_count": 7,
     "metadata": {},
     "output_type": "execute_result"
    }
   ],
   "source": [
    "num_classes = len(df['Label'].unique())\n",
    "num_classes"
   ]
  },
  {
   "cell_type": "code",
   "execution_count": 8,
   "id": "4c595815",
   "metadata": {
    "execution": {
     "iopub.execute_input": "2024-08-24T02:09:00.616821Z",
     "iopub.status.busy": "2024-08-24T02:09:00.615729Z",
     "iopub.status.idle": "2024-08-24T02:09:00.632903Z",
     "shell.execute_reply": "2024-08-24T02:09:00.631811Z"
    },
    "papermill": {
     "duration": 0.03372,
     "end_time": "2024-08-24T02:09:00.635679",
     "exception": false,
     "start_time": "2024-08-24T02:09:00.601959",
     "status": "completed"
    },
    "tags": []
   },
   "outputs": [
    {
     "name": "stderr",
     "output_type": "stream",
     "text": [
      "/tmp/ipykernel_23/2892309576.py:2: SettingWithCopyWarning: \n",
      "A value is trying to be set on a copy of a slice from a DataFrame.\n",
      "Try using .loc[row_indexer,col_indexer] = value instead\n",
      "\n",
      "See the caveats in the documentation: https://pandas.pydata.org/pandas-docs/stable/user_guide/indexing.html#returning-a-view-versus-a-copy\n",
      "  df1['Label']=df['Label'].astype(int)\n"
     ]
    },
    {
     "data": {
      "text/html": [
       "<div>\n",
       "<style scoped>\n",
       "    .dataframe tbody tr th:only-of-type {\n",
       "        vertical-align: middle;\n",
       "    }\n",
       "\n",
       "    .dataframe tbody tr th {\n",
       "        vertical-align: top;\n",
       "    }\n",
       "\n",
       "    .dataframe thead th {\n",
       "        text-align: right;\n",
       "    }\n",
       "</style>\n",
       "<table border=\"1\" class=\"dataframe\">\n",
       "  <thead>\n",
       "    <tr style=\"text-align: right;\">\n",
       "      <th></th>\n",
       "      <th>Filename</th>\n",
       "      <th>Label</th>\n",
       "      <th>Species</th>\n",
       "    </tr>\n",
       "  </thead>\n",
       "  <tbody>\n",
       "    <tr>\n",
       "      <th>0</th>\n",
       "      <td>20160928-140314-0.jpg</td>\n",
       "      <td>0</td>\n",
       "      <td>Chinee apple</td>\n",
       "    </tr>\n",
       "    <tr>\n",
       "      <th>1</th>\n",
       "      <td>20160928-140337-0.jpg</td>\n",
       "      <td>0</td>\n",
       "      <td>Chinee apple</td>\n",
       "    </tr>\n",
       "    <tr>\n",
       "      <th>2</th>\n",
       "      <td>20160928-140731-0.jpg</td>\n",
       "      <td>0</td>\n",
       "      <td>Chinee apple</td>\n",
       "    </tr>\n",
       "    <tr>\n",
       "      <th>3</th>\n",
       "      <td>20160928-140747-0.jpg</td>\n",
       "      <td>0</td>\n",
       "      <td>Chinee apple</td>\n",
       "    </tr>\n",
       "    <tr>\n",
       "      <th>4</th>\n",
       "      <td>20160928-141107-0.jpg</td>\n",
       "      <td>0</td>\n",
       "      <td>Chinee apple</td>\n",
       "    </tr>\n",
       "  </tbody>\n",
       "</table>\n",
       "</div>"
      ],
      "text/plain": [
       "                Filename  Label       Species\n",
       "0  20160928-140314-0.jpg      0  Chinee apple\n",
       "1  20160928-140337-0.jpg      0  Chinee apple\n",
       "2  20160928-140731-0.jpg      0  Chinee apple\n",
       "3  20160928-140747-0.jpg      0  Chinee apple\n",
       "4  20160928-141107-0.jpg      0  Chinee apple"
      ]
     },
     "execution_count": 8,
     "metadata": {},
     "output_type": "execute_result"
    }
   ],
   "source": [
    "df1=df[['Filename','Label']]\n",
    "df1['Label']=df['Label'].astype(int)\n",
    "df1['Species'] = df1['Label'].map(id2label)\n",
    "df1.head()"
   ]
  },
  {
   "cell_type": "code",
   "execution_count": 9,
   "id": "d1107721",
   "metadata": {
    "execution": {
     "iopub.execute_input": "2024-08-24T02:09:00.672372Z",
     "iopub.status.busy": "2024-08-24T02:09:00.671104Z",
     "iopub.status.idle": "2024-08-24T02:09:01.780617Z",
     "shell.execute_reply": "2024-08-24T02:09:01.779712Z"
    },
    "papermill": {
     "duration": 1.128239,
     "end_time": "2024-08-24T02:09:01.782942",
     "exception": false,
     "start_time": "2024-08-24T02:09:00.654703",
     "status": "completed"
    },
    "tags": []
   },
   "outputs": [
    {
     "data": {
      "text/plain": [
       "(12256, 5253)"
      ]
     },
     "execution_count": 9,
     "metadata": {},
     "output_type": "execute_result"
    }
   ],
   "source": [
    "from sklearn.model_selection import train_test_split\n",
    "train, test = train_test_split(df1, test_size=0.3, shuffle=True, random_state=23, stratify=df['Label'])\n",
    "train = train.reset_index(drop=True)\n",
    "test = test.reset_index(drop=True)\n",
    "len(train), len(test)"
   ]
  },
  {
   "cell_type": "code",
   "execution_count": 10,
   "id": "8ba83f1c",
   "metadata": {
    "execution": {
     "iopub.execute_input": "2024-08-24T02:09:01.809029Z",
     "iopub.status.busy": "2024-08-24T02:09:01.807579Z",
     "iopub.status.idle": "2024-08-24T02:09:01.819882Z",
     "shell.execute_reply": "2024-08-24T02:09:01.818901Z"
    },
    "papermill": {
     "duration": 0.027127,
     "end_time": "2024-08-24T02:09:01.821910",
     "exception": false,
     "start_time": "2024-08-24T02:09:01.794783",
     "status": "completed"
    },
    "tags": []
   },
   "outputs": [
    {
     "data": {
      "text/plain": [
       "Species\n",
       "Negative          9106\n",
       "Chinee apple      1125\n",
       "Siam weed         1074\n",
       "Lantana           1064\n",
       "Prickly acacia    1062\n",
       "Parkinsonia       1031\n",
       "Parthenium        1022\n",
       "Snake weed        1016\n",
       "Rubber vine       1009\n",
       "Name: count, dtype: int64"
      ]
     },
     "execution_count": 10,
     "metadata": {},
     "output_type": "execute_result"
    }
   ],
   "source": [
    "df1['Species'].value_counts()"
   ]
  },
  {
   "cell_type": "code",
   "execution_count": 11,
   "id": "7ddeefd9",
   "metadata": {
    "execution": {
     "iopub.execute_input": "2024-08-24T02:09:01.846321Z",
     "iopub.status.busy": "2024-08-24T02:09:01.845472Z",
     "iopub.status.idle": "2024-08-24T02:09:01.851848Z",
     "shell.execute_reply": "2024-08-24T02:09:01.851074Z"
    },
    "papermill": {
     "duration": 0.020518,
     "end_time": "2024-08-24T02:09:01.853831",
     "exception": false,
     "start_time": "2024-08-24T02:09:01.833313",
     "status": "completed"
    },
    "tags": []
   },
   "outputs": [],
   "source": [
    "from tensorflow.keras.preprocessing.image import ImageDataGenerator\n",
    "train_datagen = ImageDataGenerator(\n",
    "    #rescale=1./255,\n",
    "    shear_range=0.2,\n",
    "    zoom_range=0.2,\n",
    "    width_shift_range=0.2,\n",
    "    height_shift_range=0.2,\n",
    "    horizontal_flip=True,\n",
    "    vertical_flip=True,\n",
    "    fill_mode='nearest',\n",
    "    validation_split=0.2  # Set validation split\n",
    ")"
   ]
  },
  {
   "cell_type": "code",
   "execution_count": 12,
   "id": "7195a6d0",
   "metadata": {
    "execution": {
     "iopub.execute_input": "2024-08-24T02:09:01.876789Z",
     "iopub.status.busy": "2024-08-24T02:09:01.875969Z",
     "iopub.status.idle": "2024-08-24T02:09:01.880389Z",
     "shell.execute_reply": "2024-08-24T02:09:01.879469Z"
    },
    "papermill": {
     "duration": 0.018114,
     "end_time": "2024-08-24T02:09:01.882550",
     "exception": false,
     "start_time": "2024-08-24T02:09:01.864436",
     "status": "completed"
    },
    "tags": []
   },
   "outputs": [],
   "source": [
    "image_size = (224, 224)  # Change based on your model's requirements\n",
    "batch_size = 64"
   ]
  },
  {
   "cell_type": "code",
   "execution_count": 13,
   "id": "299b61e2",
   "metadata": {
    "execution": {
     "iopub.execute_input": "2024-08-24T02:09:01.906292Z",
     "iopub.status.busy": "2024-08-24T02:09:01.905892Z",
     "iopub.status.idle": "2024-08-24T02:09:01.910433Z",
     "shell.execute_reply": "2024-08-24T02:09:01.909553Z"
    },
    "papermill": {
     "duration": 0.01849,
     "end_time": "2024-08-24T02:09:01.912334",
     "exception": false,
     "start_time": "2024-08-24T02:09:01.893844",
     "status": "completed"
    },
    "tags": []
   },
   "outputs": [],
   "source": [
    "img_dir='/kaggle/input/deepweeds/images'"
   ]
  },
  {
   "cell_type": "code",
   "execution_count": 14,
   "id": "46f4bec0",
   "metadata": {
    "execution": {
     "iopub.execute_input": "2024-08-24T02:09:01.935951Z",
     "iopub.status.busy": "2024-08-24T02:09:01.935561Z",
     "iopub.status.idle": "2024-08-24T02:09:26.451046Z",
     "shell.execute_reply": "2024-08-24T02:09:26.450030Z"
    },
    "papermill": {
     "duration": 24.530056,
     "end_time": "2024-08-24T02:09:26.453437",
     "exception": false,
     "start_time": "2024-08-24T02:09:01.923381",
     "status": "completed"
    },
    "tags": []
   },
   "outputs": [
    {
     "name": "stdout",
     "output_type": "stream",
     "text": [
      "Found 9805 validated image filenames belonging to 9 classes.\n"
     ]
    }
   ],
   "source": [
    "# Train Data Generator\n",
    "train_generator = train_datagen.flow_from_dataframe(\n",
    "    dataframe=train,\n",
    "    directory=img_dir,\n",
    "    x_col='Filename',\n",
    "    y_col='Species',\n",
    "    target_size=image_size,\n",
    "    batch_size=batch_size,\n",
    "    class_mode='categorical',\n",
    "    subset='training'  # Use subset for training\n",
    ")"
   ]
  },
  {
   "cell_type": "code",
   "execution_count": 15,
   "id": "866b0fab",
   "metadata": {
    "execution": {
     "iopub.execute_input": "2024-08-24T02:09:26.476802Z",
     "iopub.status.busy": "2024-08-24T02:09:26.476414Z",
     "iopub.status.idle": "2024-08-24T02:09:26.481381Z",
     "shell.execute_reply": "2024-08-24T02:09:26.480438Z"
    },
    "papermill": {
     "duration": 0.019189,
     "end_time": "2024-08-24T02:09:26.483724",
     "exception": false,
     "start_time": "2024-08-24T02:09:26.464535",
     "status": "completed"
    },
    "tags": []
   },
   "outputs": [
    {
     "name": "stdout",
     "output_type": "stream",
     "text": [
      "Class indices: {'Chinee apple': 0, 'Lantana': 1, 'Negative': 2, 'Parkinsonia': 3, 'Parthenium': 4, 'Prickly acacia': 5, 'Rubber vine': 6, 'Siam weed': 7, 'Snake weed': 8}\n"
     ]
    }
   ],
   "source": [
    "print(\"Class indices:\", train_generator.class_indices)"
   ]
  },
  {
   "cell_type": "code",
   "execution_count": 16,
   "id": "467636ca",
   "metadata": {
    "execution": {
     "iopub.execute_input": "2024-08-24T02:09:26.507238Z",
     "iopub.status.busy": "2024-08-24T02:09:26.506383Z",
     "iopub.status.idle": "2024-08-24T02:09:31.653558Z",
     "shell.execute_reply": "2024-08-24T02:09:31.652469Z"
    },
    "papermill": {
     "duration": 5.16203,
     "end_time": "2024-08-24T02:09:31.656648",
     "exception": false,
     "start_time": "2024-08-24T02:09:26.494618",
     "status": "completed"
    },
    "tags": []
   },
   "outputs": [
    {
     "name": "stdout",
     "output_type": "stream",
     "text": [
      "Found 2451 validated image filenames belonging to 9 classes.\n"
     ]
    }
   ],
   "source": [
    "# Validation Data Generator\n",
    "validation_generator = train_datagen.flow_from_dataframe(\n",
    "    dataframe=train,\n",
    "    directory=img_dir,\n",
    "    x_col='Filename',\n",
    "    y_col='Species',\n",
    "    target_size=image_size,\n",
    "    batch_size=batch_size,\n",
    "    class_mode='categorical',\n",
    "    subset='validation'  # Use subset for validation\n",
    ")"
   ]
  },
  {
   "cell_type": "code",
   "execution_count": 17,
   "id": "a799bab5",
   "metadata": {
    "execution": {
     "iopub.execute_input": "2024-08-24T02:09:31.683409Z",
     "iopub.status.busy": "2024-08-24T02:09:31.682732Z",
     "iopub.status.idle": "2024-08-24T02:09:31.688455Z",
     "shell.execute_reply": "2024-08-24T02:09:31.687345Z"
    },
    "papermill": {
     "duration": 0.021897,
     "end_time": "2024-08-24T02:09:31.690884",
     "exception": false,
     "start_time": "2024-08-24T02:09:31.668987",
     "status": "completed"
    },
    "tags": []
   },
   "outputs": [
    {
     "name": "stdout",
     "output_type": "stream",
     "text": [
      "Class indices: {'Chinee apple': 0, 'Lantana': 1, 'Negative': 2, 'Parkinsonia': 3, 'Parthenium': 4, 'Prickly acacia': 5, 'Rubber vine': 6, 'Siam weed': 7, 'Snake weed': 8}\n"
     ]
    }
   ],
   "source": [
    "print(\"Class indices:\", validation_generator.class_indices)"
   ]
  },
  {
   "cell_type": "code",
   "execution_count": 18,
   "id": "083e8571",
   "metadata": {
    "execution": {
     "iopub.execute_input": "2024-08-24T02:09:31.716623Z",
     "iopub.status.busy": "2024-08-24T02:09:31.715732Z",
     "iopub.status.idle": "2024-08-24T02:09:31.720405Z",
     "shell.execute_reply": "2024-08-24T02:09:31.719438Z"
    },
    "papermill": {
     "duration": 0.019697,
     "end_time": "2024-08-24T02:09:31.722584",
     "exception": false,
     "start_time": "2024-08-24T02:09:31.702887",
     "status": "completed"
    },
    "tags": []
   },
   "outputs": [],
   "source": [
    "# Create ImageDataGenerator for test (no augmentation)\n",
    "test_datagen = ImageDataGenerator(\n",
    "    #rescale=1./255\n",
    "    )"
   ]
  },
  {
   "cell_type": "code",
   "execution_count": 19,
   "id": "b7ca6cb2",
   "metadata": {
    "execution": {
     "iopub.execute_input": "2024-08-24T02:09:31.746991Z",
     "iopub.status.busy": "2024-08-24T02:09:31.746044Z",
     "iopub.status.idle": "2024-08-24T02:09:41.412067Z",
     "shell.execute_reply": "2024-08-24T02:09:41.410964Z"
    },
    "papermill": {
     "duration": 9.680336,
     "end_time": "2024-08-24T02:09:41.414100",
     "exception": false,
     "start_time": "2024-08-24T02:09:31.733764",
     "status": "completed"
    },
    "tags": []
   },
   "outputs": [
    {
     "name": "stdout",
     "output_type": "stream",
     "text": [
      "Found 5253 validated image filenames belonging to 9 classes.\n"
     ]
    }
   ],
   "source": [
    "# Test Data Generator\n",
    "test_generator = test_datagen.flow_from_dataframe(\n",
    "    dataframe=test,\n",
    "    directory=img_dir,\n",
    "    x_col='Filename',\n",
    "    y_col='Species',  # Assuming test data might still have labels, if not, use None\n",
    "    target_size=image_size,\n",
    "    batch_size=batch_size,\n",
    "    class_mode='categorical',  # Use 'None' if no labels are available\n",
    "    shuffle=False  # Important for test data to maintain order\n",
    ")"
   ]
  },
  {
   "cell_type": "code",
   "execution_count": 20,
   "id": "22cc2cf5",
   "metadata": {
    "execution": {
     "iopub.execute_input": "2024-08-24T02:09:41.438041Z",
     "iopub.status.busy": "2024-08-24T02:09:41.437420Z",
     "iopub.status.idle": "2024-08-24T02:09:41.452090Z",
     "shell.execute_reply": "2024-08-24T02:09:41.451206Z"
    },
    "papermill": {
     "duration": 0.028881,
     "end_time": "2024-08-24T02:09:41.454014",
     "exception": false,
     "start_time": "2024-08-24T02:09:41.425133",
     "status": "completed"
    },
    "tags": []
   },
   "outputs": [],
   "source": [
    "#from tensorflow.keras.applications.vgg16 import preprocess_input\n",
    "def buildModel(IMG_SIZE, trainable=True,base_model='VGG',num_classes=num_classes):\n",
    "    # Load the MobileNet model with weights pre-trained on ImageNet.\n",
    "    #base_model, pooler = MobilenetV3Base((224,224,3), use='S')\n",
    "    if(base_model=='Mobilenet'):\n",
    "        base_model=MobileNet(IMG_SIZE, include_top=False, weights='imagenet')\n",
    "        inputs = keras.Input(shape=IMG_SIZE, name='input')\n",
    "        x=mob_preprocess_input(inputs)\n",
    "        x = base_model(x, training=False)\n",
    "    if (base_model=='DenseNet121'):\n",
    "        base_model=DenseNet121(include_top=False, weights='imagenet',input_shape=IMG_SIZE)\n",
    "        inputs = keras.Input(shape=IMG_SIZE, name='input')\n",
    "        #x=vgg_preprocess_input(inputs)\n",
    "        #x=inputs\n",
    "        x = base_model(inputs)\n",
    "    if(base_model=='ResNet50'):\n",
    "        base_model=ResNet50(include_top=False, weights='imagenet',input_shape=IMG_SIZE)\n",
    "        inputs = keras.Input(shape=IMG_SIZE, name='input')\n",
    "        #x=vgg_preprocess_input(inputs)\n",
    "        #x=inputs\n",
    "        x = base_model(inputs)\n",
    "    if (base_model=='InceptionV3'):\n",
    "        base_model=InceptionV3(include_top=False, weights='imagenet',input_shape=IMG_SIZE)\n",
    "        inputs = keras.Input(shape=IMG_SIZE, name='input')\n",
    "        #x=vgg_preprocess_input(inputs)\n",
    "        #x=inputs\n",
    "        x = base_model(inputs)\n",
    "    if (base_model=='EfficientNetB0'):\n",
    "        base_model=EfficientNetB0(include_top=False, weights='imagenet',input_shape=IMG_SIZE)\n",
    "        inputs = keras.Input(shape=IMG_SIZE, name='input')\n",
    "        #x=vgg_preprocess_input(inputs)\n",
    "        #x=inputs\n",
    "        x = base_model(inputs)\n",
    "    else:\n",
    "        base_model=VGG16(include_top=False, weights='imagenet',input_shape=IMG_SIZE)\n",
    "        inputs = keras.Input(shape=IMG_SIZE, name='input')\n",
    "        #x=vgg_preprocess_input(inputs)\n",
    "        x=inputs\n",
    "        x = base_model(x)\n",
    "\n",
    "    base_model.trainable = trainable\n",
    "\n",
    "\n",
    "    print(\"Base Model:\", base_model.name)\n",
    "    print(len(base_model.layers))\n",
    "    # Define the input layer.\n",
    "\n",
    "\n",
    "    # Pre-process the input.\n",
    "#     x = layers.Rescaling(1./255, name='PP_Rescale')(inputs)\n",
    "#     x = layers.Resizing(224, 224, name='PP_Resize')(x)\n",
    "\n",
    "    #x = augment(seed)(x)\n",
    "\n",
    "    x = GlobalAveragePooling2D()(x)\n",
    "    #x = Dropout(0.3)(x)\n",
    "    #x=Dense(256,activation='relu')(x)\n",
    "    outputs = Dense(num_classes, activation='softmax')(x)\n",
    "\n",
    "    model_name = \"Deepweed-\" + base_model.name\n",
    "    # Create the model.\n",
    "    model = Model(inputs=inputs, outputs=outputs, name=model_name)\n",
    "\n",
    "    return model"
   ]
  },
  {
   "cell_type": "code",
   "execution_count": 21,
   "id": "88c36c89",
   "metadata": {
    "execution": {
     "iopub.execute_input": "2024-08-24T02:09:41.477552Z",
     "iopub.status.busy": "2024-08-24T02:09:41.477182Z",
     "iopub.status.idle": "2024-08-24T02:09:43.796592Z",
     "shell.execute_reply": "2024-08-24T02:09:43.795598Z"
    },
    "papermill": {
     "duration": 2.333439,
     "end_time": "2024-08-24T02:09:43.798655",
     "exception": false,
     "start_time": "2024-08-24T02:09:41.465216",
     "status": "completed"
    },
    "tags": []
   },
   "outputs": [
    {
     "name": "stdout",
     "output_type": "stream",
     "text": [
      "Downloading data from https://storage.googleapis.com/keras-applications/efficientnetb0_notop.h5\n",
      "\u001b[1m16705208/16705208\u001b[0m \u001b[32m━━━━━━━━━━━━━━━━━━━━\u001b[0m\u001b[37m\u001b[0m \u001b[1m0s\u001b[0m 0us/step\n",
      "Base Model: efficientnetb0\n",
      "238\n"
     ]
    },
    {
     "data": {
      "text/html": [
       "<pre style=\"white-space:pre;overflow-x:auto;line-height:normal;font-family:Menlo,'DejaVu Sans Mono',consolas,'Courier New',monospace\"><span style=\"font-weight: bold\">Model: \"Deepweed-efficientnetb0\"</span>\n",
       "</pre>\n"
      ],
      "text/plain": [
       "\u001b[1mModel: \"Deepweed-efficientnetb0\"\u001b[0m\n"
      ]
     },
     "metadata": {},
     "output_type": "display_data"
    },
    {
     "data": {
      "text/html": [
       "<pre style=\"white-space:pre;overflow-x:auto;line-height:normal;font-family:Menlo,'DejaVu Sans Mono',consolas,'Courier New',monospace\">┏━━━━━━━━━━━━━━━━━━━━━━━━━━━━━━━━━┳━━━━━━━━━━━━━━━━━━━━━━━━┳━━━━━━━━━━━━━━━┓\n",
       "┃<span style=\"font-weight: bold\"> Layer (type)                    </span>┃<span style=\"font-weight: bold\"> Output Shape           </span>┃<span style=\"font-weight: bold\">       Param # </span>┃\n",
       "┡━━━━━━━━━━━━━━━━━━━━━━━━━━━━━━━━━╇━━━━━━━━━━━━━━━━━━━━━━━━╇━━━━━━━━━━━━━━━┩\n",
       "│ input (<span style=\"color: #0087ff; text-decoration-color: #0087ff\">InputLayer</span>)              │ (<span style=\"color: #00d7ff; text-decoration-color: #00d7ff\">None</span>, <span style=\"color: #00af00; text-decoration-color: #00af00\">224</span>, <span style=\"color: #00af00; text-decoration-color: #00af00\">224</span>, <span style=\"color: #00af00; text-decoration-color: #00af00\">3</span>)    │             <span style=\"color: #00af00; text-decoration-color: #00af00\">0</span> │\n",
       "├─────────────────────────────────┼────────────────────────┼───────────────┤\n",
       "│ efficientnetb0 (<span style=\"color: #0087ff; text-decoration-color: #0087ff\">Functional</span>)     │ (<span style=\"color: #00d7ff; text-decoration-color: #00d7ff\">None</span>, <span style=\"color: #00af00; text-decoration-color: #00af00\">7</span>, <span style=\"color: #00af00; text-decoration-color: #00af00\">7</span>, <span style=\"color: #00af00; text-decoration-color: #00af00\">1280</span>)     │     <span style=\"color: #00af00; text-decoration-color: #00af00\">4,049,571</span> │\n",
       "├─────────────────────────────────┼────────────────────────┼───────────────┤\n",
       "│ global_average_pooling2d        │ (<span style=\"color: #00d7ff; text-decoration-color: #00d7ff\">None</span>, <span style=\"color: #00af00; text-decoration-color: #00af00\">1280</span>)           │             <span style=\"color: #00af00; text-decoration-color: #00af00\">0</span> │\n",
       "│ (<span style=\"color: #0087ff; text-decoration-color: #0087ff\">GlobalAveragePooling2D</span>)        │                        │               │\n",
       "├─────────────────────────────────┼────────────────────────┼───────────────┤\n",
       "│ dense (<span style=\"color: #0087ff; text-decoration-color: #0087ff\">Dense</span>)                   │ (<span style=\"color: #00d7ff; text-decoration-color: #00d7ff\">None</span>, <span style=\"color: #00af00; text-decoration-color: #00af00\">9</span>)              │        <span style=\"color: #00af00; text-decoration-color: #00af00\">11,529</span> │\n",
       "└─────────────────────────────────┴────────────────────────┴───────────────┘\n",
       "</pre>\n"
      ],
      "text/plain": [
       "┏━━━━━━━━━━━━━━━━━━━━━━━━━━━━━━━━━┳━━━━━━━━━━━━━━━━━━━━━━━━┳━━━━━━━━━━━━━━━┓\n",
       "┃\u001b[1m \u001b[0m\u001b[1mLayer (type)                   \u001b[0m\u001b[1m \u001b[0m┃\u001b[1m \u001b[0m\u001b[1mOutput Shape          \u001b[0m\u001b[1m \u001b[0m┃\u001b[1m \u001b[0m\u001b[1m      Param #\u001b[0m\u001b[1m \u001b[0m┃\n",
       "┡━━━━━━━━━━━━━━━━━━━━━━━━━━━━━━━━━╇━━━━━━━━━━━━━━━━━━━━━━━━╇━━━━━━━━━━━━━━━┩\n",
       "│ input (\u001b[38;5;33mInputLayer\u001b[0m)              │ (\u001b[38;5;45mNone\u001b[0m, \u001b[38;5;34m224\u001b[0m, \u001b[38;5;34m224\u001b[0m, \u001b[38;5;34m3\u001b[0m)    │             \u001b[38;5;34m0\u001b[0m │\n",
       "├─────────────────────────────────┼────────────────────────┼───────────────┤\n",
       "│ efficientnetb0 (\u001b[38;5;33mFunctional\u001b[0m)     │ (\u001b[38;5;45mNone\u001b[0m, \u001b[38;5;34m7\u001b[0m, \u001b[38;5;34m7\u001b[0m, \u001b[38;5;34m1280\u001b[0m)     │     \u001b[38;5;34m4,049,571\u001b[0m │\n",
       "├─────────────────────────────────┼────────────────────────┼───────────────┤\n",
       "│ global_average_pooling2d        │ (\u001b[38;5;45mNone\u001b[0m, \u001b[38;5;34m1280\u001b[0m)           │             \u001b[38;5;34m0\u001b[0m │\n",
       "│ (\u001b[38;5;33mGlobalAveragePooling2D\u001b[0m)        │                        │               │\n",
       "├─────────────────────────────────┼────────────────────────┼───────────────┤\n",
       "│ dense (\u001b[38;5;33mDense\u001b[0m)                   │ (\u001b[38;5;45mNone\u001b[0m, \u001b[38;5;34m9\u001b[0m)              │        \u001b[38;5;34m11,529\u001b[0m │\n",
       "└─────────────────────────────────┴────────────────────────┴───────────────┘\n"
      ]
     },
     "metadata": {},
     "output_type": "display_data"
    },
    {
     "data": {
      "text/html": [
       "<pre style=\"white-space:pre;overflow-x:auto;line-height:normal;font-family:Menlo,'DejaVu Sans Mono',consolas,'Courier New',monospace\"><span style=\"font-weight: bold\"> Total params: </span><span style=\"color: #00af00; text-decoration-color: #00af00\">4,061,100</span> (15.49 MB)\n",
       "</pre>\n"
      ],
      "text/plain": [
       "\u001b[1m Total params: \u001b[0m\u001b[38;5;34m4,061,100\u001b[0m (15.49 MB)\n"
      ]
     },
     "metadata": {},
     "output_type": "display_data"
    },
    {
     "data": {
      "text/html": [
       "<pre style=\"white-space:pre;overflow-x:auto;line-height:normal;font-family:Menlo,'DejaVu Sans Mono',consolas,'Courier New',monospace\"><span style=\"font-weight: bold\"> Trainable params: </span><span style=\"color: #00af00; text-decoration-color: #00af00\">4,019,077</span> (15.33 MB)\n",
       "</pre>\n"
      ],
      "text/plain": [
       "\u001b[1m Trainable params: \u001b[0m\u001b[38;5;34m4,019,077\u001b[0m (15.33 MB)\n"
      ]
     },
     "metadata": {},
     "output_type": "display_data"
    },
    {
     "data": {
      "text/html": [
       "<pre style=\"white-space:pre;overflow-x:auto;line-height:normal;font-family:Menlo,'DejaVu Sans Mono',consolas,'Courier New',monospace\"><span style=\"font-weight: bold\"> Non-trainable params: </span><span style=\"color: #00af00; text-decoration-color: #00af00\">42,023</span> (164.16 KB)\n",
       "</pre>\n"
      ],
      "text/plain": [
       "\u001b[1m Non-trainable params: \u001b[0m\u001b[38;5;34m42,023\u001b[0m (164.16 KB)\n"
      ]
     },
     "metadata": {},
     "output_type": "display_data"
    }
   ],
   "source": [
    "model = buildModel(image_size +(3,), trainable=True,base_model='EfficientNetB0',num_classes=num_classes)\n",
    "model.summary()"
   ]
  },
  {
   "cell_type": "code",
   "execution_count": 22,
   "id": "849b92bd",
   "metadata": {
    "execution": {
     "iopub.execute_input": "2024-08-24T02:09:43.825710Z",
     "iopub.status.busy": "2024-08-24T02:09:43.825078Z",
     "iopub.status.idle": "2024-08-24T02:09:43.831186Z",
     "shell.execute_reply": "2024-08-24T02:09:43.830237Z"
    },
    "papermill": {
     "duration": 0.021705,
     "end_time": "2024-08-24T02:09:43.833135",
     "exception": false,
     "start_time": "2024-08-24T02:09:43.811430",
     "status": "completed"
    },
    "tags": []
   },
   "outputs": [
    {
     "data": {
      "text/plain": [
       "'Deepweed-efficientnetb0'"
      ]
     },
     "execution_count": 22,
     "metadata": {},
     "output_type": "execute_result"
    }
   ],
   "source": [
    "model.name"
   ]
  },
  {
   "cell_type": "code",
   "execution_count": 23,
   "id": "056e3b59",
   "metadata": {
    "execution": {
     "iopub.execute_input": "2024-08-24T02:09:43.860577Z",
     "iopub.status.busy": "2024-08-24T02:09:43.860194Z",
     "iopub.status.idle": "2024-08-24T02:09:43.879067Z",
     "shell.execute_reply": "2024-08-24T02:09:43.878329Z"
    },
    "papermill": {
     "duration": 0.035111,
     "end_time": "2024-08-24T02:09:43.881094",
     "exception": false,
     "start_time": "2024-08-24T02:09:43.845983",
     "status": "completed"
    },
    "tags": []
   },
   "outputs": [],
   "source": [
    "from tensorflow.keras.optimizers import Adam, AdamW\n",
    "from tensorflow.keras.callbacks import EarlyStopping,ReduceLROnPlateau\n",
    "# Constant for epochs\n",
    "EPOCHS = 40\n",
    "\n",
    "pat_es = 5\n",
    "early_stopping = EarlyStopping(monitor='val_loss', patience=pat_es, verbose=1, restore_best_weights=True)\n",
    "reduce_lr =ReduceLROnPlateau(monitor='val_loss',factor=0.75, patience=3, verbose=1, min_lr=1e-6)\n",
    "\n",
    "model.compile(loss='categorical_crossentropy',\n",
    "          optimizer= AdamW(learning_rate=2e-4,  weight_decay=5e-2),\n",
    "          metrics=['accuracy'])"
   ]
  },
  {
   "cell_type": "code",
   "execution_count": 24,
   "id": "46503cf3",
   "metadata": {
    "execution": {
     "iopub.execute_input": "2024-08-24T02:09:43.908212Z",
     "iopub.status.busy": "2024-08-24T02:09:43.907840Z",
     "iopub.status.idle": "2024-08-24T02:09:43.912697Z",
     "shell.execute_reply": "2024-08-24T02:09:43.911753Z"
    },
    "papermill": {
     "duration": 0.020558,
     "end_time": "2024-08-24T02:09:43.914602",
     "exception": false,
     "start_time": "2024-08-24T02:09:43.894044",
     "status": "completed"
    },
    "tags": []
   },
   "outputs": [],
   "source": [
    "# Define your folder to save results\n",
    "import os\n",
    "save_folder = model.name\n",
    "os.makedirs(save_folder, exist_ok=True)"
   ]
  },
  {
   "cell_type": "code",
   "execution_count": 25,
   "id": "ba89b7fc",
   "metadata": {
    "execution": {
     "iopub.execute_input": "2024-08-24T02:09:43.941430Z",
     "iopub.status.busy": "2024-08-24T02:09:43.941070Z",
     "iopub.status.idle": "2024-08-24T02:09:43.947374Z",
     "shell.execute_reply": "2024-08-24T02:09:43.946431Z"
    },
    "papermill": {
     "duration": 0.021852,
     "end_time": "2024-08-24T02:09:43.949288",
     "exception": false,
     "start_time": "2024-08-24T02:09:43.927436",
     "status": "completed"
    },
    "tags": []
   },
   "outputs": [
    {
     "data": {
      "text/plain": [
       "'Deepweed-efficientnetb0/Deepweed-efficientnetb0.h5'"
      ]
     },
     "execution_count": 25,
     "metadata": {},
     "output_type": "execute_result"
    }
   ],
   "source": [
    "filename= model.name+'.h5'\n",
    "model_weight= os.path.join(save_folder, filename)\n",
    "model_weight"
   ]
  },
  {
   "cell_type": "code",
   "execution_count": 26,
   "id": "09866d1a",
   "metadata": {
    "execution": {
     "iopub.execute_input": "2024-08-24T02:09:43.976393Z",
     "iopub.status.busy": "2024-08-24T02:09:43.975989Z",
     "iopub.status.idle": "2024-08-24T03:34:34.924401Z",
     "shell.execute_reply": "2024-08-24T03:34:34.923394Z"
    },
    "papermill": {
     "duration": 5091.188452,
     "end_time": "2024-08-24T03:34:35.150727",
     "exception": false,
     "start_time": "2024-08-24T02:09:43.962275",
     "status": "completed"
    },
    "tags": []
   },
   "outputs": [
    {
     "name": "stdout",
     "output_type": "stream",
     "text": [
      "Epoch 1/40\n"
     ]
    },
    {
     "name": "stderr",
     "output_type": "stream",
     "text": [
      "/opt/conda/lib/python3.10/site-packages/keras/src/trainers/data_adapters/py_dataset_adapter.py:121: UserWarning: Your `PyDataset` class should call `super().__init__(**kwargs)` in its constructor. `**kwargs` can include `workers`, `use_multiprocessing`, `max_queue_size`. Do not pass these arguments to `fit()`, as they will be ignored.\n",
      "  self._warn_if_super_not_called()\n",
      "WARNING: All log messages before absl::InitializeLog() is called are written to STDERR\n",
      "I0000 00:00:1724465434.148908      66 service.cc:145] XLA service 0x7967a0003720 initialized for platform CUDA (this does not guarantee that XLA will be used). Devices:\n",
      "I0000 00:00:1724465434.148973      66 service.cc:153]   StreamExecutor device (0): Tesla P100-PCIE-16GB, Compute Capability 6.0\n",
      "I0000 00:00:1724465488.683945      66 device_compiler.h:188] Compiled cluster using XLA!  This line is logged at most once for the lifetime of the process.\n"
     ]
    },
    {
     "name": "stdout",
     "output_type": "stream",
     "text": [
      "\u001b[1m154/154\u001b[0m \u001b[32m━━━━━━━━━━━━━━━━━━━━\u001b[0m\u001b[37m\u001b[0m \u001b[1m364s\u001b[0m 2s/step - accuracy: 0.5482 - loss: 1.3398 - val_accuracy: 0.6520 - val_loss: 1.4638 - learning_rate: 2.0000e-04\n",
      "Epoch 2/40\n",
      "\u001b[1m154/154\u001b[0m \u001b[32m━━━━━━━━━━━━━━━━━━━━\u001b[0m\u001b[37m\u001b[0m \u001b[1m178s\u001b[0m 1s/step - accuracy: 0.8754 - loss: 0.3853 - val_accuracy: 0.7936 - val_loss: 0.7880 - learning_rate: 2.0000e-04\n",
      "Epoch 3/40\n",
      "\u001b[1m154/154\u001b[0m \u001b[32m━━━━━━━━━━━━━━━━━━━━\u001b[0m\u001b[37m\u001b[0m \u001b[1m177s\u001b[0m 1s/step - accuracy: 0.9157 - loss: 0.2492 - val_accuracy: 0.9155 - val_loss: 0.2339 - learning_rate: 2.0000e-04\n",
      "Epoch 4/40\n",
      "\u001b[1m154/154\u001b[0m \u001b[32m━━━━━━━━━━━━━━━━━━━━\u001b[0m\u001b[37m\u001b[0m \u001b[1m178s\u001b[0m 1s/step - accuracy: 0.9325 - loss: 0.1897 - val_accuracy: 0.9270 - val_loss: 0.2272 - learning_rate: 2.0000e-04\n",
      "Epoch 5/40\n",
      "\u001b[1m154/154\u001b[0m \u001b[32m━━━━━━━━━━━━━━━━━━━━\u001b[0m\u001b[37m\u001b[0m \u001b[1m173s\u001b[0m 1s/step - accuracy: 0.9455 - loss: 0.1530 - val_accuracy: 0.9396 - val_loss: 0.1802 - learning_rate: 2.0000e-04\n",
      "Epoch 6/40\n",
      "\u001b[1m154/154\u001b[0m \u001b[32m━━━━━━━━━━━━━━━━━━━━\u001b[0m\u001b[37m\u001b[0m \u001b[1m175s\u001b[0m 1s/step - accuracy: 0.9572 - loss: 0.1248 - val_accuracy: 0.9319 - val_loss: 0.1951 - learning_rate: 2.0000e-04\n",
      "Epoch 7/40\n",
      "\u001b[1m154/154\u001b[0m \u001b[32m━━━━━━━━━━━━━━━━━━━━\u001b[0m\u001b[37m\u001b[0m \u001b[1m173s\u001b[0m 1s/step - accuracy: 0.9634 - loss: 0.1065 - val_accuracy: 0.9417 - val_loss: 0.1985 - learning_rate: 2.0000e-04\n",
      "Epoch 8/40\n",
      "\u001b[1m154/154\u001b[0m \u001b[32m━━━━━━━━━━━━━━━━━━━━\u001b[0m\u001b[37m\u001b[0m \u001b[1m0s\u001b[0m 855ms/step - accuracy: 0.9699 - loss: 0.0932\n",
      "Epoch 8: ReduceLROnPlateau reducing learning rate to 0.00014999999621068127.\n",
      "\u001b[1m154/154\u001b[0m \u001b[32m━━━━━━━━━━━━━━━━━━━━\u001b[0m\u001b[37m\u001b[0m \u001b[1m172s\u001b[0m 1s/step - accuracy: 0.9699 - loss: 0.0932 - val_accuracy: 0.9437 - val_loss: 0.1877 - learning_rate: 2.0000e-04\n",
      "Epoch 9/40\n",
      "\u001b[1m154/154\u001b[0m \u001b[32m━━━━━━━━━━━━━━━━━━━━\u001b[0m\u001b[37m\u001b[0m \u001b[1m173s\u001b[0m 1s/step - accuracy: 0.9782 - loss: 0.0692 - val_accuracy: 0.9502 - val_loss: 0.1656 - learning_rate: 1.5000e-04\n",
      "Epoch 10/40\n",
      "\u001b[1m154/154\u001b[0m \u001b[32m━━━━━━━━━━━━━━━━━━━━\u001b[0m\u001b[37m\u001b[0m \u001b[1m172s\u001b[0m 1s/step - accuracy: 0.9794 - loss: 0.0639 - val_accuracy: 0.9490 - val_loss: 0.1737 - learning_rate: 1.5000e-04\n",
      "Epoch 11/40\n",
      "\u001b[1m154/154\u001b[0m \u001b[32m━━━━━━━━━━━━━━━━━━━━\u001b[0m\u001b[37m\u001b[0m \u001b[1m173s\u001b[0m 1s/step - accuracy: 0.9841 - loss: 0.0468 - val_accuracy: 0.9531 - val_loss: 0.1541 - learning_rate: 1.5000e-04\n",
      "Epoch 12/40\n",
      "\u001b[1m154/154\u001b[0m \u001b[32m━━━━━━━━━━━━━━━━━━━━\u001b[0m\u001b[37m\u001b[0m \u001b[1m173s\u001b[0m 1s/step - accuracy: 0.9808 - loss: 0.0539 - val_accuracy: 0.9506 - val_loss: 0.1608 - learning_rate: 1.5000e-04\n",
      "Epoch 13/40\n",
      "\u001b[1m154/154\u001b[0m \u001b[32m━━━━━━━━━━━━━━━━━━━━\u001b[0m\u001b[37m\u001b[0m \u001b[1m173s\u001b[0m 1s/step - accuracy: 0.9849 - loss: 0.0451 - val_accuracy: 0.9510 - val_loss: 0.1621 - learning_rate: 1.5000e-04\n",
      "Epoch 14/40\n",
      "\u001b[1m154/154\u001b[0m \u001b[32m━━━━━━━━━━━━━━━━━━━━\u001b[0m\u001b[37m\u001b[0m \u001b[1m173s\u001b[0m 1s/step - accuracy: 0.9870 - loss: 0.0398 - val_accuracy: 0.9576 - val_loss: 0.1478 - learning_rate: 1.5000e-04\n",
      "Epoch 15/40\n",
      "\u001b[1m154/154\u001b[0m \u001b[32m━━━━━━━━━━━━━━━━━━━━\u001b[0m\u001b[37m\u001b[0m \u001b[1m174s\u001b[0m 1s/step - accuracy: 0.9862 - loss: 0.0393 - val_accuracy: 0.9514 - val_loss: 0.1606 - learning_rate: 1.5000e-04\n",
      "Epoch 16/40\n",
      "\u001b[1m154/154\u001b[0m \u001b[32m━━━━━━━━━━━━━━━━━━━━\u001b[0m\u001b[37m\u001b[0m \u001b[1m177s\u001b[0m 1s/step - accuracy: 0.9882 - loss: 0.0369 - val_accuracy: 0.9514 - val_loss: 0.1621 - learning_rate: 1.5000e-04\n",
      "Epoch 17/40\n",
      "\u001b[1m154/154\u001b[0m \u001b[32m━━━━━━━━━━━━━━━━━━━━\u001b[0m\u001b[37m\u001b[0m \u001b[1m0s\u001b[0m 883ms/step - accuracy: 0.9881 - loss: 0.0356\n",
      "Epoch 17: ReduceLROnPlateau reducing learning rate to 0.00011249999442952685.\n",
      "\u001b[1m154/154\u001b[0m \u001b[32m━━━━━━━━━━━━━━━━━━━━\u001b[0m\u001b[37m\u001b[0m \u001b[1m177s\u001b[0m 1s/step - accuracy: 0.9881 - loss: 0.0356 - val_accuracy: 0.9519 - val_loss: 0.1823 - learning_rate: 1.5000e-04\n",
      "Epoch 18/40\n",
      "\u001b[1m154/154\u001b[0m \u001b[32m━━━━━━━━━━━━━━━━━━━━\u001b[0m\u001b[37m\u001b[0m \u001b[1m178s\u001b[0m 1s/step - accuracy: 0.9879 - loss: 0.0359 - val_accuracy: 0.9563 - val_loss: 0.1604 - learning_rate: 1.1250e-04\n",
      "Epoch 19/40\n",
      "\u001b[1m154/154\u001b[0m \u001b[32m━━━━━━━━━━━━━━━━━━━━\u001b[0m\u001b[37m\u001b[0m \u001b[1m179s\u001b[0m 1s/step - accuracy: 0.9896 - loss: 0.0297 - val_accuracy: 0.9608 - val_loss: 0.1427 - learning_rate: 1.1250e-04\n",
      "Epoch 20/40\n",
      "\u001b[1m154/154\u001b[0m \u001b[32m━━━━━━━━━━━━━━━━━━━━\u001b[0m\u001b[37m\u001b[0m \u001b[1m175s\u001b[0m 1s/step - accuracy: 0.9914 - loss: 0.0247 - val_accuracy: 0.9576 - val_loss: 0.1591 - learning_rate: 1.1250e-04\n",
      "Epoch 21/40\n",
      "\u001b[1m154/154\u001b[0m \u001b[32m━━━━━━━━━━━━━━━━━━━━\u001b[0m\u001b[37m\u001b[0m \u001b[1m176s\u001b[0m 1s/step - accuracy: 0.9943 - loss: 0.0196 - val_accuracy: 0.9588 - val_loss: 0.1665 - learning_rate: 1.1250e-04\n",
      "Epoch 22/40\n",
      "\u001b[1m154/154\u001b[0m \u001b[32m━━━━━━━━━━━━━━━━━━━━\u001b[0m\u001b[37m\u001b[0m \u001b[1m0s\u001b[0m 886ms/step - accuracy: 0.9943 - loss: 0.0216\n",
      "Epoch 22: ReduceLROnPlateau reducing learning rate to 8.437499855062924e-05.\n",
      "\u001b[1m154/154\u001b[0m \u001b[32m━━━━━━━━━━━━━━━━━━━━\u001b[0m\u001b[37m\u001b[0m \u001b[1m178s\u001b[0m 1s/step - accuracy: 0.9943 - loss: 0.0216 - val_accuracy: 0.9596 - val_loss: 0.1498 - learning_rate: 1.1250e-04\n",
      "Epoch 23/40\n",
      "\u001b[1m154/154\u001b[0m \u001b[32m━━━━━━━━━━━━━━━━━━━━\u001b[0m\u001b[37m\u001b[0m \u001b[1m175s\u001b[0m 1s/step - accuracy: 0.9948 - loss: 0.0186 - val_accuracy: 0.9637 - val_loss: 0.1367 - learning_rate: 8.4375e-05\n",
      "Epoch 24/40\n",
      "\u001b[1m154/154\u001b[0m \u001b[32m━━━━━━━━━━━━━━━━━━━━\u001b[0m\u001b[37m\u001b[0m \u001b[1m174s\u001b[0m 1s/step - accuracy: 0.9939 - loss: 0.0203 - val_accuracy: 0.9629 - val_loss: 0.1387 - learning_rate: 8.4375e-05\n",
      "Epoch 25/40\n",
      "\u001b[1m154/154\u001b[0m \u001b[32m━━━━━━━━━━━━━━━━━━━━\u001b[0m\u001b[37m\u001b[0m \u001b[1m175s\u001b[0m 1s/step - accuracy: 0.9945 - loss: 0.0169 - val_accuracy: 0.9621 - val_loss: 0.1470 - learning_rate: 8.4375e-05\n",
      "Epoch 26/40\n",
      "\u001b[1m154/154\u001b[0m \u001b[32m━━━━━━━━━━━━━━━━━━━━\u001b[0m\u001b[37m\u001b[0m \u001b[1m0s\u001b[0m 863ms/step - accuracy: 0.9942 - loss: 0.0183\n",
      "Epoch 26: ReduceLROnPlateau reducing learning rate to 6.328125164145604e-05.\n",
      "\u001b[1m154/154\u001b[0m \u001b[32m━━━━━━━━━━━━━━━━━━━━\u001b[0m\u001b[37m\u001b[0m \u001b[1m173s\u001b[0m 1s/step - accuracy: 0.9942 - loss: 0.0183 - val_accuracy: 0.9604 - val_loss: 0.1469 - learning_rate: 8.4375e-05\n",
      "Epoch 27/40\n",
      "\u001b[1m154/154\u001b[0m \u001b[32m━━━━━━━━━━━━━━━━━━━━\u001b[0m\u001b[37m\u001b[0m \u001b[1m175s\u001b[0m 1s/step - accuracy: 0.9953 - loss: 0.0170 - val_accuracy: 0.9588 - val_loss: 0.1443 - learning_rate: 6.3281e-05\n",
      "Epoch 28/40\n",
      "\u001b[1m154/154\u001b[0m \u001b[32m━━━━━━━━━━━━━━━━━━━━\u001b[0m\u001b[37m\u001b[0m \u001b[1m175s\u001b[0m 1s/step - accuracy: 0.9917 - loss: 0.0234 - val_accuracy: 0.9568 - val_loss: 0.1630 - learning_rate: 6.3281e-05\n",
      "Epoch 28: early stopping\n",
      "Restoring model weights from the end of the best epoch: 23.\n",
      "CPU times: user 1h 31min 56s, sys: 4min 17s, total: 1h 36min 13s\n",
      "Wall time: 1h 24min 50s\n"
     ]
    }
   ],
   "source": [
    "%%time\n",
    "# Train the model\n",
    "history1 = model.fit(\n",
    "      train_generator,\n",
    "      epochs=EPOCHS,\n",
    "      validation_data=validation_generator,\n",
    "      callbacks=[early_stopping, reduce_lr],\n",
    "    )"
   ]
  },
  {
   "cell_type": "code",
   "execution_count": 27,
   "id": "69909040",
   "metadata": {
    "execution": {
     "iopub.execute_input": "2024-08-24T03:34:35.886735Z",
     "iopub.status.busy": "2024-08-24T03:34:35.885822Z",
     "iopub.status.idle": "2024-08-24T03:34:36.500544Z",
     "shell.execute_reply": "2024-08-24T03:34:36.499704Z"
    },
    "papermill": {
     "duration": 0.984018,
     "end_time": "2024-08-24T03:34:36.502732",
     "exception": false,
     "start_time": "2024-08-24T03:34:35.518714",
     "status": "completed"
    },
    "tags": []
   },
   "outputs": [
    {
     "name": "stdout",
     "output_type": "stream",
     "text": [
      "Saving the Model\n"
     ]
    }
   ],
   "source": [
    "print(\"Saving the Model\")\n",
    "model.save(model_weight)"
   ]
  },
  {
   "cell_type": "code",
   "execution_count": 28,
   "id": "b2a094b1",
   "metadata": {
    "execution": {
     "iopub.execute_input": "2024-08-24T03:34:37.294607Z",
     "iopub.status.busy": "2024-08-24T03:34:37.293818Z",
     "iopub.status.idle": "2024-08-24T03:34:37.305394Z",
     "shell.execute_reply": "2024-08-24T03:34:37.304327Z"
    },
    "papermill": {
     "duration": 0.432657,
     "end_time": "2024-08-24T03:34:37.307308",
     "exception": false,
     "start_time": "2024-08-24T03:34:36.874651",
     "status": "completed"
    },
    "tags": []
   },
   "outputs": [],
   "source": [
    "#image visualization\n",
    "import matplotlib.pyplot as plt\n",
    "def plot_loss_acc(history):\n",
    "    '''Plots the training and validation loss and accuracy from a history object'''\n",
    "    acc = history['accuracy']\n",
    "    val_acc = history['val_accuracy']\n",
    "    loss = history['loss']\n",
    "    val_loss = history['val_loss']\n",
    "    if 'peaks' in history:\n",
    "        peaks = history['peaks']\n",
    "    else:\n",
    "        _min = np.argmin(val_loss)\n",
    "        peaks = [_min]\n",
    "\n",
    "    epochs = range(len(acc))\n",
    "    print(\"Total Epochs:\",epochs)\n",
    "\n",
    "    plt.figure(figsize=[16, 4])\n",
    "    plt.subplot(1,2,1)\n",
    "    p_value = [val_acc[p] for p in peaks]\n",
    "    plt.scatter(peaks, p_value, marker='o',s=50)\n",
    "    plt.plot(epochs, acc, label='Training accuracy', color='red')\n",
    "    plt.plot(epochs, val_acc, label='Validation accuracy', color='magenta')\n",
    "    plt.title('Training and validation accuracy')\n",
    "    plt.legend()\n",
    "\n",
    "    plt.subplot(1,2,2)\n",
    "    p_value = [val_loss[p] for p in peaks]\n",
    "    plt.scatter(peaks, p_value, marker='o',s=50)\n",
    "    plt.plot(epochs, loss, label='Training Loss', color='red')\n",
    "    plt.plot(epochs, val_loss, label='Validation Loss', color='magenta')\n",
    "    plt.title('Training and validation loss')\n",
    "    plt.legend()\n",
    "    plt.savefig(os.path.join(save_folder, 'training_chart.png'))\n",
    "    plt.show()"
   ]
  },
  {
   "cell_type": "code",
   "execution_count": 29,
   "id": "a2d5ea24",
   "metadata": {
    "execution": {
     "iopub.execute_input": "2024-08-24T03:34:38.045471Z",
     "iopub.status.busy": "2024-08-24T03:34:38.045066Z",
     "iopub.status.idle": "2024-08-24T03:34:38.794995Z",
     "shell.execute_reply": "2024-08-24T03:34:38.794017Z"
    },
    "papermill": {
     "duration": 1.120099,
     "end_time": "2024-08-24T03:34:38.797518",
     "exception": false,
     "start_time": "2024-08-24T03:34:37.677419",
     "status": "completed"
    },
    "tags": []
   },
   "outputs": [
    {
     "name": "stdout",
     "output_type": "stream",
     "text": [
      "Total Epochs: range(0, 28)\n"
     ]
    },
    {
     "data": {
      "image/png": "[encoded data removed]",
      "text/plain": [
       "<Figure size 1600x400 with 2 Axes>"
      ]
     },
     "metadata": {},
     "output_type": "display_data"
    }
   ],
   "source": [
    "# Plot training results\n",
    "plot_loss_acc(history1.history)"
   ]
  },
  {
   "cell_type": "code",
   "execution_count": 30,
   "id": "c310fba3",
   "metadata": {
    "execution": {
     "iopub.execute_input": "2024-08-24T03:34:39.581321Z",
     "iopub.status.busy": "2024-08-24T03:34:39.580330Z",
     "iopub.status.idle": "2024-08-24T03:34:39.585543Z",
     "shell.execute_reply": "2024-08-24T03:34:39.584567Z"
    },
    "papermill": {
     "duration": 0.39833,
     "end_time": "2024-08-24T03:34:39.587521",
     "exception": false,
     "start_time": "2024-08-24T03:34:39.189191",
     "status": "completed"
    },
    "tags": []
   },
   "outputs": [],
   "source": [
    "from sklearn.metrics import f1_score, precision_score, recall_score, accuracy_score\n",
    "from sklearn.metrics import ConfusionMatrixDisplay, classification_report\n",
    "import matplotlib.pyplot as plt"
   ]
  },
  {
   "cell_type": "code",
   "execution_count": 31,
   "id": "7990299d",
   "metadata": {
    "execution": {
     "iopub.execute_input": "2024-08-24T03:34:40.379649Z",
     "iopub.status.busy": "2024-08-24T03:34:40.378906Z",
     "iopub.status.idle": "2024-08-24T03:35:31.298755Z",
     "shell.execute_reply": "2024-08-24T03:35:31.297605Z"
    },
    "papermill": {
     "duration": 51.293622,
     "end_time": "2024-08-24T03:35:31.301385",
     "exception": false,
     "start_time": "2024-08-24T03:34:40.007763",
     "status": "completed"
    },
    "tags": []
   },
   "outputs": [
    {
     "name": "stdout",
     "output_type": "stream",
     "text": [
      "\u001b[1m83/83\u001b[0m \u001b[32m━━━━━━━━━━━━━━━━━━━━\u001b[0m\u001b[37m\u001b[0m \u001b[1m50s\u001b[0m 545ms/step\n"
     ]
    }
   ],
   "source": [
    "predictions=model.predict(test_generator)"
   ]
  },
  {
   "cell_type": "code",
   "execution_count": 32,
   "id": "e009b8e5",
   "metadata": {
    "execution": {
     "iopub.execute_input": "2024-08-24T03:35:32.056551Z",
     "iopub.status.busy": "2024-08-24T03:35:32.055856Z",
     "iopub.status.idle": "2024-08-24T03:35:32.478198Z",
     "shell.execute_reply": "2024-08-24T03:35:32.477044Z"
    },
    "papermill": {
     "duration": 0.798648,
     "end_time": "2024-08-24T03:35:32.480327",
     "exception": false,
     "start_time": "2024-08-24T03:35:31.681679",
     "status": "completed"
    },
    "tags": []
   },
   "outputs": [
    {
     "name": "stdout",
     "output_type": "stream",
     "text": [
      "Confusion Matrix:\n",
      "[[ 288   14    9    0    8    1    0    3   14]\n",
      " [   1  314    1    0    0    0    0    0    3]\n",
      " [  21  109 2541    3    8    7    4   24   15]\n",
      " [   0    1    5  290    1   12    0    0    0]\n",
      " [   1    0    2    2  300    1    1    0    0]\n",
      " [   1    2   16    1    9  287    1    0    2]\n",
      " [   2    9   11    0    0    0  281    0    0]\n",
      " [   0    3    0    0    0    0    1  318    0]\n",
      " [   6   25   11    0    0    0    0    2  261]]\n"
     ]
    }
   ],
   "source": [
    "import numpy as np\n",
    "from sklearn.metrics import confusion_matrix,ConfusionMatrixDisplay\n",
    "import seaborn as sns\n",
    "import matplotlib.pyplot as plt\n",
    "# Convert predictions to class labels\n",
    "predicted_classes = np.argmax(predictions, axis=1)\n",
    "# Get true labels from the test generator\n",
    "true_labels = test_generator.classes\n",
    "# Compute the confusion matrix\n",
    "conf_matrix = confusion_matrix(true_labels, predicted_classes)\n",
    "\n",
    "# Print the confusion matrix\n",
    "print(\"Confusion Matrix:\")\n",
    "print(conf_matrix)"
   ]
  },
  {
   "cell_type": "code",
   "execution_count": 33,
   "id": "558f5a3a",
   "metadata": {
    "execution": {
     "iopub.execute_input": "2024-08-24T03:35:33.291272Z",
     "iopub.status.busy": "2024-08-24T03:35:33.290665Z",
     "iopub.status.idle": "2024-08-24T03:35:33.920672Z",
     "shell.execute_reply": "2024-08-24T03:35:33.919602Z"
    },
    "papermill": {
     "duration": 1.011551,
     "end_time": "2024-08-24T03:35:33.922781",
     "exception": false,
     "start_time": "2024-08-24T03:35:32.911230",
     "status": "completed"
    },
    "tags": []
   },
   "outputs": [
    {
     "data": {
      "image/png": "[encoded data removed]",
      "text/plain": [
       "<Figure size 640x480 with 2 Axes>"
      ]
     },
     "metadata": {},
     "output_type": "display_data"
    }
   ],
   "source": [
    "cmd = ConfusionMatrixDisplay.from_predictions(\n",
    "        true_labels, predicted_classes,\n",
    "        display_labels=list(test_generator.class_indices.keys()),\n",
    "        xticks_rotation=80, #'vertical',\n",
    "        # ax = ax\n",
    "    )\n",
    "    # fig, ax = plt.subplots(figsize=(25,5))\n",
    "    # cmd.plot(ax=ax)\n",
    "plt.savefig(os.path.join(save_folder, 'confusion-mat.png'))\n",
    "plt.show()"
   ]
  },
  {
   "cell_type": "code",
   "execution_count": 34,
   "id": "91d85727",
   "metadata": {
    "execution": {
     "iopub.execute_input": "2024-08-24T03:35:34.696064Z",
     "iopub.status.busy": "2024-08-24T03:35:34.695670Z",
     "iopub.status.idle": "2024-08-24T03:35:34.733795Z",
     "shell.execute_reply": "2024-08-24T03:35:34.732723Z"
    },
    "papermill": {
     "duration": 0.423705,
     "end_time": "2024-08-24T03:35:34.736313",
     "exception": false,
     "start_time": "2024-08-24T03:35:34.312608",
     "status": "completed"
    },
    "tags": []
   },
   "outputs": [
    {
     "name": "stdout",
     "output_type": "stream",
     "text": [
      "                precision    recall  f1-score   support\n",
      "\n",
      "  Chinee apple    0.90000   0.85460   0.87671       337\n",
      "       Lantana    0.65828   0.98433   0.78894       319\n",
      "      Negative    0.97881   0.93009   0.95383      2732\n",
      "   Parkinsonia    0.97973   0.93851   0.95868       309\n",
      "    Parthenium    0.92025   0.97720   0.94787       307\n",
      "Prickly acacia    0.93182   0.89969   0.91547       319\n",
      "   Rubber vine    0.97569   0.92739   0.95093       303\n",
      "     Siam weed    0.91643   0.98758   0.95067       322\n",
      "    Snake weed    0.88475   0.85574   0.87000       305\n",
      "\n",
      "      accuracy                        0.92899      5253\n",
      "     macro avg    0.90508   0.92835   0.91257      5253\n",
      "  weighted avg    0.93860   0.92899   0.93125      5253\n",
      "\n"
     ]
    }
   ],
   "source": [
    "display_labels=list(test_generator.class_indices.keys())\n",
    "class_report=classification_report(true_labels, predicted_classes,digits=5, target_names=display_labels)\n",
    "print(class_report)\n",
    "with open(os.path.join(save_folder, 'classification_report.txt'), 'w') as f:\n",
    "    f.write(classification_report(true_labels, predicted_classes))"
   ]
  },
  {
   "cell_type": "code",
   "execution_count": null,
   "id": "410df407",
   "metadata": {
    "papermill": {
     "duration": 0.379344,
     "end_time": "2024-08-24T03:35:35.523612",
     "exception": false,
     "start_time": "2024-08-24T03:35:35.144268",
     "status": "completed"
    },
    "tags": []
   },
   "outputs": [],
   "source": []
  },
  {
   "cell_type": "code",
   "execution_count": null,
   "id": "dfeb8a4f",
   "metadata": {
    "papermill": {
     "duration": 0.375951,
     "end_time": "2024-08-24T03:35:36.330092",
     "exception": false,
     "start_time": "2024-08-24T03:35:35.954141",
     "status": "completed"
    },
    "tags": []
   },
   "outputs": [],
   "source": []
  }
 ],
 "metadata": {
  "kaggle": {
   "accelerator": "gpu",
   "dataSources": [
    {
     "datasetId": 4419124,
     "sourceId": 7615277,
     "sourceType": "datasetVersion"
    }
   ],
   "dockerImageVersionId": 30762,
   "isGpuEnabled": true,
   "isInternetEnabled": true,
   "language": "python",
   "sourceType": "notebook"
  },
  "kernelspec": {
   "display_name": "Python 3",
   "language": "python",
   "name": "python3"
  },
  "language_info": {
   "codemirror_mode": {
    "name": "ipython",
    "version": 3
   },
   "file_extension": ".py",
   "mimetype": "text/x-python",
   "name": "python",
   "nbconvert_exporter": "python",
   "pygments_lexer": "ipython3",
   "version": "3.10.14"
  },
  "papermill": {
   "default_parameters": {},
   "duration": 5216.257465,
   "end_time": "2024-08-24T03:35:39.707972",
   "environment_variables": {},
   "exception": null,
   "input_path": "__notebook__.ipynb",
   "output_path": "__notebook__.ipynb",
   "parameters": {},
   "start_time": "2024-08-24T02:08:43.450507",
   "version": "2.6.0"
  }
 },
 "nbformat": 4,
 "nbformat_minor": 5
}
