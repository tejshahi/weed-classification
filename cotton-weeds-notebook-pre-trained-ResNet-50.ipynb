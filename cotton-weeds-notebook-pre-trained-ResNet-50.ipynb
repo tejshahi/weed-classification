{
 "cells": [
  {
   "cell_type": "code",
   "execution_count": 1,
   "id": "03256240",
   "metadata": {
    "_cell_guid": "39b2b498-3b53-426f-a00f-84f2ed0810cf",
    "_uuid": "4965bb40-d57b-41bf-a086-1ca3592e0664",
    "collapsed": false,
    "execution": {
     "iopub.execute_input": "2024-09-07T09:20:10.660712Z",
     "iopub.status.busy": "2024-09-07T09:20:10.660318Z",
     "iopub.status.idle": "2024-09-07T09:20:23.256167Z",
     "shell.execute_reply": "2024-09-07T09:20:23.255191Z"
    },
    "jupyter": {
     "outputs_hidden": false
    },
    "papermill": {
     "duration": 12.611853,
     "end_time": "2024-09-07T09:20:23.258249",
     "exception": false,
     "start_time": "2024-09-07T09:20:10.646396",
     "status": "completed"
    },
    "tags": []
   },
   "outputs": [
    {
     "name": "stderr",
     "output_type": "stream",
     "text": [
      "2024-09-07 09:20:12.382275: E external/local_xla/xla/stream_executor/cuda/cuda_dnn.cc:9261] Unable to register cuDNN factory: Attempting to register factory for plugin cuDNN when one has already been registered\n",
      "2024-09-07 09:20:12.382403: E external/local_xla/xla/stream_executor/cuda/cuda_fft.cc:607] Unable to register cuFFT factory: Attempting to register factory for plugin cuFFT when one has already been registered\n",
      "2024-09-07 09:20:12.515852: E external/local_xla/xla/stream_executor/cuda/cuda_blas.cc:1515] Unable to register cuBLAS factory: Attempting to register factory for plugin cuBLAS when one has already been registered\n"
     ]
    },
    {
     "name": "stdout",
     "output_type": "stream",
     "text": [
      "GPUs are available:\n",
      "PhysicalDevice(name='/physical_device:GPU:0', device_type='GPU')\n"
     ]
    }
   ],
   "source": [
    "import tensorflow as tf\n",
    "\n",
    "# Check available GPUs\n",
    "gpus = tf.config.list_physical_devices('GPU')\n",
    "if gpus:\n",
    "    print(\"GPUs are available:\")\n",
    "    for gpu in gpus:\n",
    "        print(gpu)\n",
    "else:\n",
    "    print(\"No GPUs detected.\")"
   ]
  },
  {
   "cell_type": "code",
   "execution_count": 2,
   "id": "b8e3edc3",
   "metadata": {
    "_cell_guid": "25af4bba-4268-4eb8-96f2-5ea856918a9c",
    "_uuid": "99ee89a6-c4f3-47b8-8e27-f642a4e4e012",
    "collapsed": false,
    "execution": {
     "iopub.execute_input": "2024-09-07T09:20:23.285089Z",
     "iopub.status.busy": "2024-09-07T09:20:23.284036Z",
     "iopub.status.idle": "2024-09-07T09:20:23.289089Z",
     "shell.execute_reply": "2024-09-07T09:20:23.288234Z"
    },
    "jupyter": {
     "outputs_hidden": false
    },
    "papermill": {
     "duration": 0.020114,
     "end_time": "2024-09-07T09:20:23.290924",
     "exception": false,
     "start_time": "2024-09-07T09:20:23.270810",
     "status": "completed"
    },
    "tags": []
   },
   "outputs": [],
   "source": [
    "# This Python 3 environment comes with many helpful analytics libraries installed\n",
    "# It is defined by the kaggle/python Docker image: https://github.com/kaggle/docker-python\n",
    "# For example, here's several helpful packages to load\n",
    "\n",
    "import numpy as np # linear algebra\n",
    "import pandas as pd # data processing, CSV file I/O (e.g. pd.read_csv)\n",
    "from pathlib import Path\n",
    "from collections import Counter"
   ]
  },
  {
   "cell_type": "code",
   "execution_count": 3,
   "id": "6cfd27d2",
   "metadata": {
    "_cell_guid": "e39d1175-106b-4d22-b84d-f23aa77dc759",
    "_uuid": "61888487-6abf-4e7d-86e7-48c65253ea5a",
    "collapsed": false,
    "execution": {
     "iopub.execute_input": "2024-09-07T09:20:23.316346Z",
     "iopub.status.busy": "2024-09-07T09:20:23.316079Z",
     "iopub.status.idle": "2024-09-07T09:20:23.321062Z",
     "shell.execute_reply": "2024-09-07T09:20:23.320334Z"
    },
    "jupyter": {
     "outputs_hidden": false
    },
    "papermill": {
     "duration": 0.019753,
     "end_time": "2024-09-07T09:20:23.322878",
     "exception": false,
     "start_time": "2024-09-07T09:20:23.303125",
     "status": "completed"
    },
    "tags": []
   },
   "outputs": [],
   "source": [
    "ds_path = Path('/kaggle/input/cottonweed/CottonWeedID15_500_UM').resolve()"
   ]
  },
  {
   "cell_type": "code",
   "execution_count": 4,
   "id": "73ee228a",
   "metadata": {
    "_cell_guid": "49af4ad0-3ba7-4c20-b226-1bc4df529b62",
    "_uuid": "1a6c4311-b7ed-4122-a173-09c648f5b4c1",
    "collapsed": false,
    "execution": {
     "iopub.execute_input": "2024-09-07T09:20:23.349412Z",
     "iopub.status.busy": "2024-09-07T09:20:23.349143Z",
     "iopub.status.idle": "2024-09-07T09:20:23.355393Z",
     "shell.execute_reply": "2024-09-07T09:20:23.354619Z"
    },
    "jupyter": {
     "outputs_hidden": false
    },
    "papermill": {
     "duration": 0.02143,
     "end_time": "2024-09-07T09:20:23.357417",
     "exception": false,
     "start_time": "2024-09-07T09:20:23.335987",
     "status": "completed"
    },
    "tags": []
   },
   "outputs": [
    {
     "data": {
      "text/plain": [
       "PosixPath('/kaggle/input/cottonweed/CottonWeedID15_500_UM')"
      ]
     },
     "execution_count": 4,
     "metadata": {},
     "output_type": "execute_result"
    }
   ],
   "source": [
    "ds_path"
   ]
  },
  {
   "cell_type": "code",
   "execution_count": 5,
   "id": "2c2e5c95",
   "metadata": {
    "_cell_guid": "a211cf64-393f-4f17-85c7-47c812261b77",
    "_uuid": "22ecab68-2abf-4fba-80f5-34e5e60be095",
    "collapsed": false,
    "execution": {
     "iopub.execute_input": "2024-09-07T09:20:23.383292Z",
     "iopub.status.busy": "2024-09-07T09:20:23.383018Z",
     "iopub.status.idle": "2024-09-07T09:20:24.274488Z",
     "shell.execute_reply": "2024-09-07T09:20:24.273460Z"
    },
    "jupyter": {
     "outputs_hidden": false
    },
    "papermill": {
     "duration": 0.907172,
     "end_time": "2024-09-07T09:20:24.276924",
     "exception": false,
     "start_time": "2024-09-07T09:20:23.369752",
     "status": "completed"
    },
    "tags": []
   },
   "outputs": [],
   "source": [
    "paths = list(ds_path.glob('*/*'))\n",
    "classes = [path.parent.stem for path in paths]"
   ]
  },
  {
   "cell_type": "code",
   "execution_count": 6,
   "id": "1c3f0058",
   "metadata": {
    "_cell_guid": "51ba7fa5-6110-43dc-810d-dd1bf3b16fe0",
    "_uuid": "4ea8d19d-61f0-4cf0-8af2-090de7de80e5",
    "collapsed": false,
    "execution": {
     "iopub.execute_input": "2024-09-07T09:20:24.303733Z",
     "iopub.status.busy": "2024-09-07T09:20:24.303099Z",
     "iopub.status.idle": "2024-09-07T09:20:24.310200Z",
     "shell.execute_reply": "2024-09-07T09:20:24.309329Z"
    },
    "jupyter": {
     "outputs_hidden": false
    },
    "papermill": {
     "duration": 0.022593,
     "end_time": "2024-09-07T09:20:24.312206",
     "exception": false,
     "start_time": "2024-09-07T09:20:24.289613",
     "status": "completed"
    },
    "tags": []
   },
   "outputs": [
    {
     "data": {
      "text/plain": [
       "Counter({'Nutsedge': 450,\n",
       "         'Sicklepod': 450,\n",
       "         'Morningglory': 450,\n",
       "         'Ragweed': 450,\n",
       "         'PalmerAmaranth': 450,\n",
       "         'Waterhemp': 450,\n",
       "         'Crabgrass': 450,\n",
       "         'Swinecress': 450,\n",
       "         'Prickly Sida': 450,\n",
       "         'Carpetweeds': 450,\n",
       "         'SpottedSpurge': 450,\n",
       "         'SpurredAnoda': 450,\n",
       "         'Eclipta': 450,\n",
       "         'Goosegrass': 450,\n",
       "         'Purslane': 450})"
      ]
     },
     "execution_count": 6,
     "metadata": {},
     "output_type": "execute_result"
    }
   ],
   "source": [
    "Counter(classes)"
   ]
  },
  {
   "cell_type": "code",
   "execution_count": 7,
   "id": "8dc2a214",
   "metadata": {
    "_cell_guid": "2bc7ba59-c720-486e-aa2b-3154dc6aaf64",
    "_uuid": "d3893590-426c-4bbf-ba8b-5d27d5bcd250",
    "collapsed": false,
    "execution": {
     "iopub.execute_input": "2024-09-07T09:20:24.338230Z",
     "iopub.status.busy": "2024-09-07T09:20:24.337975Z",
     "iopub.status.idle": "2024-09-07T09:20:24.341784Z",
     "shell.execute_reply": "2024-09-07T09:20:24.340962Z"
    },
    "jupyter": {
     "outputs_hidden": false
    },
    "papermill": {
     "duration": 0.018973,
     "end_time": "2024-09-07T09:20:24.343663",
     "exception": false,
     "start_time": "2024-09-07T09:20:24.324690",
     "status": "completed"
    },
    "tags": []
   },
   "outputs": [],
   "source": [
    "# # label2id = {'Nutsedge': 0, 'Sicklepod': 1, 'Morningglory': 2, 'Ragweed': 3,\n",
    "# #             'PalmerAmaranth': 4, 'Waterhemp': 5, 'Crabgrass': 6, 'Swinecress': 7,\n",
    "# #             'Prickly Sida': 8, 'Carpetweeds': 9, 'SpottedSpurge': 10, 'SpurredAnoda': 11,\n",
    "# #             'Eclipta': 12, 'Goosegrass': 13, 'Purslane': 14}\n",
    "# id2label = {label2id[i]:i for i in label2id}\n",
    "# class_names = [id2label[i] for i in range(len(label2id))]\n",
    "\n",
    "# print(id2label)\n",
    "# print(label2id)\n",
    "# print(class_names)"
   ]
  },
  {
   "cell_type": "code",
   "execution_count": 8,
   "id": "49fc9820",
   "metadata": {
    "_cell_guid": "e79740ab-e21e-4728-9942-1472f037eeb9",
    "_uuid": "81198205-a2ec-44e6-bcac-00cc56fdc2af",
    "collapsed": false,
    "execution": {
     "iopub.execute_input": "2024-09-07T09:20:24.369508Z",
     "iopub.status.busy": "2024-09-07T09:20:24.369258Z",
     "iopub.status.idle": "2024-09-07T09:20:24.416191Z",
     "shell.execute_reply": "2024-09-07T09:20:24.415116Z"
    },
    "jupyter": {
     "outputs_hidden": false
    },
    "papermill": {
     "duration": 0.062091,
     "end_time": "2024-09-07T09:20:24.418208",
     "exception": false,
     "start_time": "2024-09-07T09:20:24.356117",
     "status": "completed"
    },
    "tags": []
   },
   "outputs": [
    {
     "name": "stdout",
     "output_type": "stream",
     "text": [
      "<class 'pandas.core.frame.DataFrame'>\n",
      "RangeIndex: 6750 entries, 0 to 6749\n",
      "Data columns (total 3 columns):\n",
      " #   Column  Non-Null Count  Dtype   \n",
      "---  ------  --------------  -----   \n",
      " 0   img     6750 non-null   object  \n",
      " 1   class   6750 non-null   category\n",
      " 2   label   6750 non-null   int8    \n",
      "dtypes: category(1), int8(1), object(1)\n",
      "memory usage: 66.7+ KB\n"
     ]
    }
   ],
   "source": [
    "df = pd.DataFrame({'img':paths, 'class': classes})\n",
    "df['class'] = df['class'].astype('category')\n",
    "df['label'] = df['class'].cat.codes\n",
    "df.info()"
   ]
  },
  {
   "cell_type": "code",
   "execution_count": 9,
   "id": "b5825a75",
   "metadata": {
    "_cell_guid": "428905a1-1146-452e-9a36-df5a28f6522c",
    "_uuid": "53ca4008-a557-4246-a309-c40ecfb95ea8",
    "collapsed": false,
    "execution": {
     "iopub.execute_input": "2024-09-07T09:20:24.444867Z",
     "iopub.status.busy": "2024-09-07T09:20:24.444575Z",
     "iopub.status.idle": "2024-09-07T09:20:24.450825Z",
     "shell.execute_reply": "2024-09-07T09:20:24.450037Z"
    },
    "jupyter": {
     "outputs_hidden": false
    },
    "papermill": {
     "duration": 0.021711,
     "end_time": "2024-09-07T09:20:24.452776",
     "exception": false,
     "start_time": "2024-09-07T09:20:24.431065",
     "status": "completed"
    },
    "tags": []
   },
   "outputs": [
    {
     "data": {
      "text/plain": [
       "{0: 'Carpetweeds',\n",
       " 1: 'Crabgrass',\n",
       " 2: 'Eclipta',\n",
       " 3: 'Goosegrass',\n",
       " 4: 'Morningglory',\n",
       " 5: 'Nutsedge',\n",
       " 6: 'PalmerAmaranth',\n",
       " 7: 'Prickly Sida',\n",
       " 8: 'Purslane',\n",
       " 9: 'Ragweed',\n",
       " 10: 'Sicklepod',\n",
       " 11: 'SpottedSpurge',\n",
       " 12: 'SpurredAnoda',\n",
       " 13: 'Swinecress',\n",
       " 14: 'Waterhemp'}"
      ]
     },
     "execution_count": 9,
     "metadata": {},
     "output_type": "execute_result"
    }
   ],
   "source": [
    "class_labels = dict(zip(range(15), df['class'].cat.categories))\n",
    "class_labels"
   ]
  },
  {
   "cell_type": "code",
   "execution_count": 10,
   "id": "63ed9ec9",
   "metadata": {
    "_cell_guid": "e7e2740a-9e6a-4621-90dd-b52dfefe7412",
    "_uuid": "0cb450ea-6b3e-48d7-a3e6-b2e0a3e1bcd0",
    "collapsed": false,
    "execution": {
     "iopub.execute_input": "2024-09-07T09:20:24.479344Z",
     "iopub.status.busy": "2024-09-07T09:20:24.478781Z",
     "iopub.status.idle": "2024-09-07T09:20:24.484490Z",
     "shell.execute_reply": "2024-09-07T09:20:24.483538Z"
    },
    "jupyter": {
     "outputs_hidden": false
    },
    "papermill": {
     "duration": 0.021033,
     "end_time": "2024-09-07T09:20:24.486444",
     "exception": false,
     "start_time": "2024-09-07T09:20:24.465411",
     "status": "completed"
    },
    "tags": []
   },
   "outputs": [
    {
     "data": {
      "text/plain": [
       "15"
      ]
     },
     "execution_count": 10,
     "metadata": {},
     "output_type": "execute_result"
    }
   ],
   "source": [
    "num_classes = len(class_labels)\n",
    "num_classes"
   ]
  },
  {
   "cell_type": "code",
   "execution_count": 11,
   "id": "6c496d5e",
   "metadata": {
    "_cell_guid": "61f6e6b2-da35-4725-bc3b-9a274fa52e5e",
    "_uuid": "a5f388e9-97a2-431c-8f6b-a2fb1c0574d9",
    "collapsed": false,
    "execution": {
     "iopub.execute_input": "2024-09-07T09:20:24.517168Z",
     "iopub.status.busy": "2024-09-07T09:20:24.516505Z",
     "iopub.status.idle": "2024-09-07T09:20:24.539769Z",
     "shell.execute_reply": "2024-09-07T09:20:24.538937Z"
    },
    "jupyter": {
     "outputs_hidden": false
    },
    "papermill": {
     "duration": 0.04235,
     "end_time": "2024-09-07T09:20:24.541685",
     "exception": false,
     "start_time": "2024-09-07T09:20:24.499335",
     "status": "completed"
    },
    "tags": []
   },
   "outputs": [],
   "source": [
    "df['img']=df['img'].astype(str)\n",
    "#df['label']=df['img'].astype(str)"
   ]
  },
  {
   "cell_type": "code",
   "execution_count": 12,
   "id": "c4c77ac4",
   "metadata": {
    "_cell_guid": "a0f950ba-7ec8-42c8-bc8b-dafbbe1a465f",
    "_uuid": "52774d4c-d4f9-42e1-9866-639acc40b56f",
    "collapsed": false,
    "execution": {
     "iopub.execute_input": "2024-09-07T09:20:24.568695Z",
     "iopub.status.busy": "2024-09-07T09:20:24.568428Z",
     "iopub.status.idle": "2024-09-07T09:20:25.395062Z",
     "shell.execute_reply": "2024-09-07T09:20:25.394126Z"
    },
    "jupyter": {
     "outputs_hidden": false
    },
    "papermill": {
     "duration": 0.842609,
     "end_time": "2024-09-07T09:20:25.397178",
     "exception": false,
     "start_time": "2024-09-07T09:20:24.554569",
     "status": "completed"
    },
    "tags": []
   },
   "outputs": [
    {
     "data": {
      "text/plain": [
       "(4725, 2025)"
      ]
     },
     "execution_count": 12,
     "metadata": {},
     "output_type": "execute_result"
    }
   ],
   "source": [
    "from sklearn.model_selection import train_test_split\n",
    "train, test = train_test_split(df, test_size=0.3, shuffle=True, random_state=1230, stratify=df['label'])\n",
    "train = train.reset_index(drop=True)\n",
    "test = test.reset_index(drop=True)\n",
    "len(train), len(test)"
   ]
  },
  {
   "cell_type": "code",
   "execution_count": 13,
   "id": "e2bb94ce",
   "metadata": {
    "_cell_guid": "ddc39155-6e84-486a-9993-e30271777a47",
    "_uuid": "a5275ae7-5b45-4c30-b756-15217d858565",
    "collapsed": false,
    "execution": {
     "iopub.execute_input": "2024-09-07T09:20:25.424839Z",
     "iopub.status.busy": "2024-09-07T09:20:25.424548Z",
     "iopub.status.idle": "2024-09-07T09:20:25.429783Z",
     "shell.execute_reply": "2024-09-07T09:20:25.428917Z"
    },
    "jupyter": {
     "outputs_hidden": false
    },
    "papermill": {
     "duration": 0.021439,
     "end_time": "2024-09-07T09:20:25.431805",
     "exception": false,
     "start_time": "2024-09-07T09:20:25.410366",
     "status": "completed"
    },
    "tags": []
   },
   "outputs": [],
   "source": [
    "train.reset_index(inplace=True)\n",
    "test.reset_index(inplace=True)"
   ]
  },
  {
   "cell_type": "code",
   "execution_count": 14,
   "id": "361d894e",
   "metadata": {
    "_cell_guid": "b82fd571-671d-44cf-8915-bc920e0219e2",
    "_uuid": "80be6a27-2b39-4173-b195-04b2774b9f9b",
    "collapsed": false,
    "execution": {
     "iopub.execute_input": "2024-09-07T09:20:25.459028Z",
     "iopub.status.busy": "2024-09-07T09:20:25.458319Z",
     "iopub.status.idle": "2024-09-07T09:20:25.471730Z",
     "shell.execute_reply": "2024-09-07T09:20:25.470728Z"
    },
    "jupyter": {
     "outputs_hidden": false
    },
    "papermill": {
     "duration": 0.028996,
     "end_time": "2024-09-07T09:20:25.473716",
     "exception": false,
     "start_time": "2024-09-07T09:20:25.444720",
     "status": "completed"
    },
    "tags": []
   },
   "outputs": [
    {
     "data": {
      "text/html": [
       "<div>\n",
       "<style scoped>\n",
       "    .dataframe tbody tr th:only-of-type {\n",
       "        vertical-align: middle;\n",
       "    }\n",
       "\n",
       "    .dataframe tbody tr th {\n",
       "        vertical-align: top;\n",
       "    }\n",
       "\n",
       "    .dataframe thead th {\n",
       "        text-align: right;\n",
       "    }\n",
       "</style>\n",
       "<table border=\"1\" class=\"dataframe\">\n",
       "  <thead>\n",
       "    <tr style=\"text-align: right;\">\n",
       "      <th></th>\n",
       "      <th>index</th>\n",
       "      <th>img</th>\n",
       "      <th>class</th>\n",
       "      <th>label</th>\n",
       "    </tr>\n",
       "  </thead>\n",
       "  <tbody>\n",
       "    <tr>\n",
       "      <th>0</th>\n",
       "      <td>0</td>\n",
       "      <td>/kaggle/input/cottonweed/CottonWeedID15_500_UM...</td>\n",
       "      <td>Purslane</td>\n",
       "      <td>8</td>\n",
       "    </tr>\n",
       "    <tr>\n",
       "      <th>1</th>\n",
       "      <td>1</td>\n",
       "      <td>/kaggle/input/cottonweed/CottonWeedID15_500_UM...</td>\n",
       "      <td>Morningglory</td>\n",
       "      <td>4</td>\n",
       "    </tr>\n",
       "    <tr>\n",
       "      <th>2</th>\n",
       "      <td>2</td>\n",
       "      <td>/kaggle/input/cottonweed/CottonWeedID15_500_UM...</td>\n",
       "      <td>Carpetweeds</td>\n",
       "      <td>0</td>\n",
       "    </tr>\n",
       "    <tr>\n",
       "      <th>3</th>\n",
       "      <td>3</td>\n",
       "      <td>/kaggle/input/cottonweed/CottonWeedID15_500_UM...</td>\n",
       "      <td>Nutsedge</td>\n",
       "      <td>5</td>\n",
       "    </tr>\n",
       "    <tr>\n",
       "      <th>4</th>\n",
       "      <td>4</td>\n",
       "      <td>/kaggle/input/cottonweed/CottonWeedID15_500_UM...</td>\n",
       "      <td>Waterhemp</td>\n",
       "      <td>14</td>\n",
       "    </tr>\n",
       "  </tbody>\n",
       "</table>\n",
       "</div>"
      ],
      "text/plain": [
       "   index                                                img         class  \\\n",
       "0      0  /kaggle/input/cottonweed/CottonWeedID15_500_UM...      Purslane   \n",
       "1      1  /kaggle/input/cottonweed/CottonWeedID15_500_UM...  Morningglory   \n",
       "2      2  /kaggle/input/cottonweed/CottonWeedID15_500_UM...   Carpetweeds   \n",
       "3      3  /kaggle/input/cottonweed/CottonWeedID15_500_UM...      Nutsedge   \n",
       "4      4  /kaggle/input/cottonweed/CottonWeedID15_500_UM...     Waterhemp   \n",
       "\n",
       "   label  \n",
       "0      8  \n",
       "1      4  \n",
       "2      0  \n",
       "3      5  \n",
       "4     14  "
      ]
     },
     "execution_count": 14,
     "metadata": {},
     "output_type": "execute_result"
    }
   ],
   "source": [
    "train.head()"
   ]
  },
  {
   "cell_type": "code",
   "execution_count": 15,
   "id": "64e05182",
   "metadata": {
    "_cell_guid": "826837c2-8c45-463f-b110-e9e96efe807f",
    "_uuid": "7589be24-2287-49ef-831f-40b3667c7d76",
    "collapsed": false,
    "execution": {
     "iopub.execute_input": "2024-09-07T09:20:25.501203Z",
     "iopub.status.busy": "2024-09-07T09:20:25.500870Z",
     "iopub.status.idle": "2024-09-07T09:20:25.529108Z",
     "shell.execute_reply": "2024-09-07T09:20:25.528220Z"
    },
    "jupyter": {
     "outputs_hidden": false
    },
    "papermill": {
     "duration": 0.044321,
     "end_time": "2024-09-07T09:20:25.531283",
     "exception": false,
     "start_time": "2024-09-07T09:20:25.486962",
     "status": "completed"
    },
    "tags": []
   },
   "outputs": [],
   "source": [
    "from tensorflow.keras.preprocessing.image import ImageDataGenerator\n",
    "train_datagen = ImageDataGenerator(\n",
    "    rescale=1./255,\n",
    "    shear_range=0.2,\n",
    "    zoom_range=0.2,\n",
    "    horizontal_flip=True,\n",
    "    vertical_flip=True,\n",
    "    validation_split=0.1  # Set validation split\n",
    ")"
   ]
  },
  {
   "cell_type": "code",
   "execution_count": 16,
   "id": "d78eb0bb",
   "metadata": {
    "_cell_guid": "65ca0fc1-10fc-47de-a366-203d5f41b7e3",
    "_uuid": "2ec9b27b-766e-45cc-b6dc-e5d490e9b4cc",
    "collapsed": false,
    "execution": {
     "iopub.execute_input": "2024-09-07T09:20:25.559073Z",
     "iopub.status.busy": "2024-09-07T09:20:25.558761Z",
     "iopub.status.idle": "2024-09-07T09:20:25.563064Z",
     "shell.execute_reply": "2024-09-07T09:20:25.562195Z"
    },
    "jupyter": {
     "outputs_hidden": false
    },
    "papermill": {
     "duration": 0.020228,
     "end_time": "2024-09-07T09:20:25.564948",
     "exception": false,
     "start_time": "2024-09-07T09:20:25.544720",
     "status": "completed"
    },
    "tags": []
   },
   "outputs": [],
   "source": [
    "image_size = (224, 224)  # Change based on your model's requirements\n",
    "batch_size = 32"
   ]
  },
  {
   "cell_type": "code",
   "execution_count": 17,
   "id": "5b5d5464",
   "metadata": {
    "_cell_guid": "63dfc5c1-757c-4457-9e77-29d08a74f17d",
    "_uuid": "573467ca-3a42-44ef-a858-aba8bb7eb545",
    "collapsed": false,
    "execution": {
     "iopub.execute_input": "2024-09-07T09:20:25.592770Z",
     "iopub.status.busy": "2024-09-07T09:20:25.592249Z",
     "iopub.status.idle": "2024-09-07T09:20:25.656440Z",
     "shell.execute_reply": "2024-09-07T09:20:25.655724Z"
    },
    "jupyter": {
     "outputs_hidden": false
    },
    "papermill": {
     "duration": 0.080348,
     "end_time": "2024-09-07T09:20:25.658376",
     "exception": false,
     "start_time": "2024-09-07T09:20:25.578028",
     "status": "completed"
    },
    "tags": []
   },
   "outputs": [
    {
     "name": "stdout",
     "output_type": "stream",
     "text": [
      "Found 4253 validated image filenames belonging to 15 classes.\n"
     ]
    }
   ],
   "source": [
    "# Train Data Generator\n",
    "train_generator = train_datagen.flow_from_dataframe(\n",
    "    dataframe=train,\n",
    "    x_col='img',\n",
    "    y_col='class',\n",
    "    target_size=image_size,\n",
    "    batch_size=batch_size,\n",
    "    class_mode='categorical',\n",
    "    subset='training'  # Use subset for training\n",
    ")"
   ]
  },
  {
   "cell_type": "code",
   "execution_count": 18,
   "id": "532938df",
   "metadata": {
    "_cell_guid": "70e7d9bc-84f5-4be1-b60d-cb9d1f249002",
    "_uuid": "fd5f609b-b7cd-4a72-8ae1-6de577fbf999",
    "collapsed": false,
    "execution": {
     "iopub.execute_input": "2024-09-07T09:20:25.686458Z",
     "iopub.status.busy": "2024-09-07T09:20:25.686154Z",
     "iopub.status.idle": "2024-09-07T09:20:25.690637Z",
     "shell.execute_reply": "2024-09-07T09:20:25.689808Z"
    },
    "jupyter": {
     "outputs_hidden": false
    },
    "papermill": {
     "duration": 0.021102,
     "end_time": "2024-09-07T09:20:25.692918",
     "exception": false,
     "start_time": "2024-09-07T09:20:25.671816",
     "status": "completed"
    },
    "tags": []
   },
   "outputs": [
    {
     "name": "stdout",
     "output_type": "stream",
     "text": [
      "Class indices: {'Carpetweeds': 0, 'Crabgrass': 1, 'Eclipta': 2, 'Goosegrass': 3, 'Morningglory': 4, 'Nutsedge': 5, 'PalmerAmaranth': 6, 'Prickly Sida': 7, 'Purslane': 8, 'Ragweed': 9, 'Sicklepod': 10, 'SpottedSpurge': 11, 'SpurredAnoda': 12, 'Swinecress': 13, 'Waterhemp': 14}\n"
     ]
    }
   ],
   "source": [
    "print(\"Class indices:\", train_generator.class_indices)"
   ]
  },
  {
   "cell_type": "code",
   "execution_count": 19,
   "id": "33bbbf62",
   "metadata": {
    "_cell_guid": "8e79890c-ea3f-49f8-bbed-250c5a5ddb4d",
    "_uuid": "fef02653-c68a-4bc6-9e85-c28573b44b9d",
    "collapsed": false,
    "execution": {
     "iopub.execute_input": "2024-09-07T09:20:25.720789Z",
     "iopub.status.busy": "2024-09-07T09:20:25.720489Z",
     "iopub.status.idle": "2024-09-07T09:20:25.776089Z",
     "shell.execute_reply": "2024-09-07T09:20:25.775142Z"
    },
    "jupyter": {
     "outputs_hidden": false
    },
    "papermill": {
     "duration": 0.072004,
     "end_time": "2024-09-07T09:20:25.778123",
     "exception": false,
     "start_time": "2024-09-07T09:20:25.706119",
     "status": "completed"
    },
    "tags": []
   },
   "outputs": [
    {
     "name": "stdout",
     "output_type": "stream",
     "text": [
      "Found 472 validated image filenames belonging to 15 classes.\n"
     ]
    }
   ],
   "source": [
    "# Validation Data Generator\n",
    "validation_generator = train_datagen.flow_from_dataframe(\n",
    "    dataframe=train,\n",
    "    x_col='img',\n",
    "    y_col='class',\n",
    "    target_size=image_size,\n",
    "    batch_size=batch_size,\n",
    "    class_mode='categorical',\n",
    "    subset='validation'  # Use subset for validation\n",
    ")"
   ]
  },
  {
   "cell_type": "code",
   "execution_count": 20,
   "id": "4cd48254",
   "metadata": {
    "_cell_guid": "36b5af21-cddf-4c99-aceb-ba4651b0c438",
    "_uuid": "87cd5870-5f24-4985-8483-1b96598124b3",
    "collapsed": false,
    "execution": {
     "iopub.execute_input": "2024-09-07T09:20:25.806019Z",
     "iopub.status.busy": "2024-09-07T09:20:25.805705Z",
     "iopub.status.idle": "2024-09-07T09:20:25.810347Z",
     "shell.execute_reply": "2024-09-07T09:20:25.809502Z"
    },
    "jupyter": {
     "outputs_hidden": false
    },
    "papermill": {
     "duration": 0.020669,
     "end_time": "2024-09-07T09:20:25.812348",
     "exception": false,
     "start_time": "2024-09-07T09:20:25.791679",
     "status": "completed"
    },
    "tags": []
   },
   "outputs": [
    {
     "name": "stdout",
     "output_type": "stream",
     "text": [
      "Class indices: {'Carpetweeds': 0, 'Crabgrass': 1, 'Eclipta': 2, 'Goosegrass': 3, 'Morningglory': 4, 'Nutsedge': 5, 'PalmerAmaranth': 6, 'Prickly Sida': 7, 'Purslane': 8, 'Ragweed': 9, 'Sicklepod': 10, 'SpottedSpurge': 11, 'SpurredAnoda': 12, 'Swinecress': 13, 'Waterhemp': 14}\n"
     ]
    }
   ],
   "source": [
    "print(\"Class indices:\", validation_generator.class_indices)"
   ]
  },
  {
   "cell_type": "code",
   "execution_count": 21,
   "id": "f73491e9",
   "metadata": {
    "_cell_guid": "41806427-5b66-451d-a4a7-ad5c3c3f8b8c",
    "_uuid": "f2d1061c-f619-4ab0-8cba-1dcf170b825d",
    "collapsed": false,
    "execution": {
     "iopub.execute_input": "2024-09-07T09:20:25.840206Z",
     "iopub.status.busy": "2024-09-07T09:20:25.839918Z",
     "iopub.status.idle": "2024-09-07T09:20:25.843936Z",
     "shell.execute_reply": "2024-09-07T09:20:25.843130Z"
    },
    "jupyter": {
     "outputs_hidden": false
    },
    "papermill": {
     "duration": 0.02006,
     "end_time": "2024-09-07T09:20:25.845862",
     "exception": false,
     "start_time": "2024-09-07T09:20:25.825802",
     "status": "completed"
    },
    "tags": []
   },
   "outputs": [],
   "source": [
    "# Create ImageDataGenerator for test (no augmentation)\n",
    "test_datagen = ImageDataGenerator(rescale=1./255)"
   ]
  },
  {
   "cell_type": "code",
   "execution_count": 22,
   "id": "de9c4753",
   "metadata": {
    "_cell_guid": "0f0c829c-9854-45a9-bc62-45890bc043bf",
    "_uuid": "a7b839f8-3b0d-436c-a8a3-2b9c520e8720",
    "collapsed": false,
    "execution": {
     "iopub.execute_input": "2024-09-07T09:20:25.918806Z",
     "iopub.status.busy": "2024-09-07T09:20:25.917932Z",
     "iopub.status.idle": "2024-09-07T09:20:25.951442Z",
     "shell.execute_reply": "2024-09-07T09:20:25.950723Z"
    },
    "jupyter": {
     "outputs_hidden": false
    },
    "papermill": {
     "duration": 0.094208,
     "end_time": "2024-09-07T09:20:25.953344",
     "exception": false,
     "start_time": "2024-09-07T09:20:25.859136",
     "status": "completed"
    },
    "tags": []
   },
   "outputs": [
    {
     "name": "stdout",
     "output_type": "stream",
     "text": [
      "Found 2025 validated image filenames belonging to 15 classes.\n"
     ]
    }
   ],
   "source": [
    "# Test Data Generator\n",
    "test_generator = test_datagen.flow_from_dataframe(\n",
    "    dataframe=test,\n",
    "    x_col='img',\n",
    "    y_col='class',  # Assuming test data might still have labels, if not, use None\n",
    "    target_size=image_size,\n",
    "    batch_size=batch_size,\n",
    "    class_mode='categorical',  # Use 'None' if no labels are available\n",
    "    shuffle=False  # Important for test data to maintain order\n",
    ")"
   ]
  },
  {
   "cell_type": "code",
   "execution_count": 23,
   "id": "85cfe188",
   "metadata": {
    "_cell_guid": "67d29376-004d-47d9-b953-2b7298ff6390",
    "_uuid": "15f7558f-e9cc-48d1-acc4-93e0f428c635",
    "collapsed": false,
    "execution": {
     "iopub.execute_input": "2024-09-07T09:20:25.982430Z",
     "iopub.status.busy": "2024-09-07T09:20:25.982101Z",
     "iopub.status.idle": "2024-09-07T09:20:25.994801Z",
     "shell.execute_reply": "2024-09-07T09:20:25.993939Z"
    },
    "jupyter": {
     "outputs_hidden": false
    },
    "papermill": {
     "duration": 0.029569,
     "end_time": "2024-09-07T09:20:25.996870",
     "exception": false,
     "start_time": "2024-09-07T09:20:25.967301",
     "status": "completed"
    },
    "tags": []
   },
   "outputs": [],
   "source": [
    "from tensorflow.keras.applications import MobileNet, MobileNetV2, MobileNetV3Small, MobileNetV3Large, VGG16,DenseNet121,ResNet50\n",
    "from tensorflow.keras.applications import EfficientNetV2S, ConvNeXtSmall\n",
    "from tensorflow.keras.layers import Input, Dense, GlobalAveragePooling2D,Flatten,Dropout\n",
    "from tensorflow.keras.models import Model\n",
    "from tensorflow import keras\n",
    "from tensorflow.keras.applications.mobilenet import preprocess_input as mob_preprocess_input\n",
    "from tensorflow.keras.applications.densenet import preprocess_input as dense_preprocess_input"
   ]
  },
  {
   "cell_type": "code",
   "execution_count": 24,
   "id": "157519a6",
   "metadata": {
    "_cell_guid": "341e52ca-9e98-44d1-a1e1-fc54ac58187b",
    "_uuid": "2fa063c1-cee3-48d9-8631-2f543b383c49",
    "collapsed": false,
    "execution": {
     "iopub.execute_input": "2024-09-07T09:20:26.026513Z",
     "iopub.status.busy": "2024-09-07T09:20:26.025986Z",
     "iopub.status.idle": "2024-09-07T09:20:26.231810Z",
     "shell.execute_reply": "2024-09-07T09:20:26.230845Z"
    },
    "jupyter": {
     "outputs_hidden": false
    },
    "papermill": {
     "duration": 0.222585,
     "end_time": "2024-09-07T09:20:26.233808",
     "exception": false,
     "start_time": "2024-09-07T09:20:26.011223",
     "status": "completed"
    },
    "tags": []
   },
   "outputs": [],
   "source": [
    "#from tensorflow.keras.applications.vgg16 import preprocess_input\n",
    "def buildModel(IMG_SIZE,base_model, num_classes, trainable=True):\n",
    "    # Load the MobileNet model with weights pre-trained on ImageNet.\n",
    "    #base_model, pooler = MobilenetV3Base((224,224,3), use='S')\n",
    "\n",
    "    if (base_model=='DenseNet121'):\n",
    "        base_model=DenseNet121(include_top=False, weights='imagenet',input_shape=IMG_SIZE)\n",
    "        inputs = keras.Input(shape=IMG_SIZE, name='input')\n",
    "        x = base_model(inputs)\n",
    "    if(base_model=='ResNet50'):\n",
    "        base_model=ResNet50(include_top=False, weights='imagenet',input_shape=IMG_SIZE)\n",
    "        inputs = keras.Input(shape=IMG_SIZE, name='input')\n",
    "        #x=vgg_preprocess_input(inputs)\n",
    "        #x=inputs\n",
    "        x = base_model(inputs)\n",
    "    if (base_model=='InceptionV3'):\n",
    "        base_model=InceptionV3(include_top=False, weights='imagenet',input_shape=IMG_SIZE)\n",
    "        inputs = keras.Input(shape=IMG_SIZE, name='input')\n",
    "        #x=vgg_preprocess_input(inputs)\n",
    "        #x=inputs\n",
    "        x = base_model(inputs,training=False)\n",
    "    if (base_model=='EfficientNetB0'):\n",
    "        base_model=EfficientNetB0(include_top=False, weights='imagenet',input_shape=IMG_SIZE)\n",
    "        inputs = keras.Input(shape=IMG_SIZE, name='input')\n",
    "        #x=vgg_preprocess_input(inputs)\n",
    "        #x=inputs\n",
    "        x = base_model(inputs)\n",
    "    if (base_model=='mobilenet'):\n",
    "        base_model=MobileNet(include_top=False, weights='imagenet',input_shape=IMG_SIZE)\n",
    "        inputs = keras.Input(shape=IMG_SIZE, name='input')\n",
    "        x=mob_preprocess_input(inputs)\n",
    "        x = base_model(x, training=False)\n",
    "    if(base_model=='mobilenetv2'):\n",
    "        base_model=MobileNetV2(include_top=False, weights='imagenet',input_shape=IMG_SIZE)\n",
    "        inputs = keras.Input(shape=IMG_SIZE, name='input')\n",
    "        x=mob_preprocess_input(inputs)\n",
    "        x = base_model(x, training=False)\n",
    "    if(base_model=='VGG16'):\n",
    "        base_model=VGG16(include_top=False, weights='imagenet',input_shape=IMG_SIZE)\n",
    "        inputs = keras.Input(shape=IMG_SIZE, name='input')\n",
    "        x=vgg_preprocess_input(inputs) #VGG-preprocess input did not do job well\n",
    "        x = base_model(inputs)\n",
    "    else:\n",
    "        print(\"Select the correct models : VGG16, DenseNet121, mobilenet, mobilenetv2,EfficientNetB0,ResNet50,InceptionV3\")\n",
    "\n",
    "    base_model.trainable = trainable\n",
    "\n",
    "\n",
    "    print(\"Base Model:\", base_model.name)\n",
    "    print(len(base_model.layers))\n",
    "  \n",
    "    x = GlobalAveragePooling2D()(x)\n",
    "    outputs = Dense(num_classes, activation='softmax')(x)\n",
    "\n",
    "    model_name = \"CottonWeed-\" + base_model.name\n",
    "    # Create the model.\n",
    "    model = Model(inputs=inputs, outputs=outputs, name=model_name)\n",
    "\n",
    "    return model"
   ]
  },
  {
   "cell_type": "code",
   "execution_count": 25,
   "id": "8733c4c4",
   "metadata": {
    "_cell_guid": "54ee2a10-7e71-47ec-a50a-7b603076f8c0",
    "_uuid": "3cae159a-ee9b-407b-947d-3577aefd9dd3",
    "collapsed": false,
    "execution": {
     "iopub.execute_input": "2024-09-07T09:20:26.262458Z",
     "iopub.status.busy": "2024-09-07T09:20:26.262139Z",
     "iopub.status.idle": "2024-09-07T09:20:28.673664Z",
     "shell.execute_reply": "2024-09-07T09:20:28.672792Z"
    },
    "jupyter": {
     "outputs_hidden": false
    },
    "papermill": {
     "duration": 2.427952,
     "end_time": "2024-09-07T09:20:28.675723",
     "exception": false,
     "start_time": "2024-09-07T09:20:26.247771",
     "status": "completed"
    },
    "tags": []
   },
   "outputs": [
    {
     "name": "stdout",
     "output_type": "stream",
     "text": [
      "Downloading data from https://storage.googleapis.com/tensorflow/keras-applications/resnet/resnet50_weights_tf_dim_ordering_tf_kernels_notop.h5\n",
      "\u001b[1m94765736/94765736\u001b[0m \u001b[32m━━━━━━━━━━━━━━━━━━━━\u001b[0m\u001b[37m\u001b[0m \u001b[1m0s\u001b[0m 0us/step\n",
      "Select the correct models : VGG16, DenseNet121, mobilenet, mobilenetv2,EfficientNetB0,ResNet50,InceptionV3\n",
      "Base Model: resnet50\n",
      "175\n"
     ]
    },
    {
     "data": {
      "text/html": [
       "<pre style=\"white-space:pre;overflow-x:auto;line-height:normal;font-family:Menlo,'DejaVu Sans Mono',consolas,'Courier New',monospace\"><span style=\"font-weight: bold\">Model: \"CottonWeed-resnet50\"</span>\n",
       "</pre>\n"
      ],
      "text/plain": [
       "\u001b[1mModel: \"CottonWeed-resnet50\"\u001b[0m\n"
      ]
     },
     "metadata": {},
     "output_type": "display_data"
    },
    {
     "data": {
      "text/html": [
       "<pre style=\"white-space:pre;overflow-x:auto;line-height:normal;font-family:Menlo,'DejaVu Sans Mono',consolas,'Courier New',monospace\">┏━━━━━━━━━━━━━━━━━━━━━━━━━━━━━━━━━┳━━━━━━━━━━━━━━━━━━━━━━━━┳━━━━━━━━━━━━━━━┓\n",
       "┃<span style=\"font-weight: bold\"> Layer (type)                    </span>┃<span style=\"font-weight: bold\"> Output Shape           </span>┃<span style=\"font-weight: bold\">       Param # </span>┃\n",
       "┡━━━━━━━━━━━━━━━━━━━━━━━━━━━━━━━━━╇━━━━━━━━━━━━━━━━━━━━━━━━╇━━━━━━━━━━━━━━━┩\n",
       "│ input (<span style=\"color: #0087ff; text-decoration-color: #0087ff\">InputLayer</span>)              │ (<span style=\"color: #00d7ff; text-decoration-color: #00d7ff\">None</span>, <span style=\"color: #00af00; text-decoration-color: #00af00\">224</span>, <span style=\"color: #00af00; text-decoration-color: #00af00\">224</span>, <span style=\"color: #00af00; text-decoration-color: #00af00\">3</span>)    │             <span style=\"color: #00af00; text-decoration-color: #00af00\">0</span> │\n",
       "├─────────────────────────────────┼────────────────────────┼───────────────┤\n",
       "│ resnet50 (<span style=\"color: #0087ff; text-decoration-color: #0087ff\">Functional</span>)           │ (<span style=\"color: #00d7ff; text-decoration-color: #00d7ff\">None</span>, <span style=\"color: #00af00; text-decoration-color: #00af00\">7</span>, <span style=\"color: #00af00; text-decoration-color: #00af00\">7</span>, <span style=\"color: #00af00; text-decoration-color: #00af00\">2048</span>)     │    <span style=\"color: #00af00; text-decoration-color: #00af00\">23,587,712</span> │\n",
       "├─────────────────────────────────┼────────────────────────┼───────────────┤\n",
       "│ global_average_pooling2d        │ (<span style=\"color: #00d7ff; text-decoration-color: #00d7ff\">None</span>, <span style=\"color: #00af00; text-decoration-color: #00af00\">2048</span>)           │             <span style=\"color: #00af00; text-decoration-color: #00af00\">0</span> │\n",
       "│ (<span style=\"color: #0087ff; text-decoration-color: #0087ff\">GlobalAveragePooling2D</span>)        │                        │               │\n",
       "├─────────────────────────────────┼────────────────────────┼───────────────┤\n",
       "│ dense (<span style=\"color: #0087ff; text-decoration-color: #0087ff\">Dense</span>)                   │ (<span style=\"color: #00d7ff; text-decoration-color: #00d7ff\">None</span>, <span style=\"color: #00af00; text-decoration-color: #00af00\">15</span>)             │        <span style=\"color: #00af00; text-decoration-color: #00af00\">30,735</span> │\n",
       "└─────────────────────────────────┴────────────────────────┴───────────────┘\n",
       "</pre>\n"
      ],
      "text/plain": [
       "┏━━━━━━━━━━━━━━━━━━━━━━━━━━━━━━━━━┳━━━━━━━━━━━━━━━━━━━━━━━━┳━━━━━━━━━━━━━━━┓\n",
       "┃\u001b[1m \u001b[0m\u001b[1mLayer (type)                   \u001b[0m\u001b[1m \u001b[0m┃\u001b[1m \u001b[0m\u001b[1mOutput Shape          \u001b[0m\u001b[1m \u001b[0m┃\u001b[1m \u001b[0m\u001b[1m      Param #\u001b[0m\u001b[1m \u001b[0m┃\n",
       "┡━━━━━━━━━━━━━━━━━━━━━━━━━━━━━━━━━╇━━━━━━━━━━━━━━━━━━━━━━━━╇━━━━━━━━━━━━━━━┩\n",
       "│ input (\u001b[38;5;33mInputLayer\u001b[0m)              │ (\u001b[38;5;45mNone\u001b[0m, \u001b[38;5;34m224\u001b[0m, \u001b[38;5;34m224\u001b[0m, \u001b[38;5;34m3\u001b[0m)    │             \u001b[38;5;34m0\u001b[0m │\n",
       "├─────────────────────────────────┼────────────────────────┼───────────────┤\n",
       "│ resnet50 (\u001b[38;5;33mFunctional\u001b[0m)           │ (\u001b[38;5;45mNone\u001b[0m, \u001b[38;5;34m7\u001b[0m, \u001b[38;5;34m7\u001b[0m, \u001b[38;5;34m2048\u001b[0m)     │    \u001b[38;5;34m23,587,712\u001b[0m │\n",
       "├─────────────────────────────────┼────────────────────────┼───────────────┤\n",
       "│ global_average_pooling2d        │ (\u001b[38;5;45mNone\u001b[0m, \u001b[38;5;34m2048\u001b[0m)           │             \u001b[38;5;34m0\u001b[0m │\n",
       "│ (\u001b[38;5;33mGlobalAveragePooling2D\u001b[0m)        │                        │               │\n",
       "├─────────────────────────────────┼────────────────────────┼───────────────┤\n",
       "│ dense (\u001b[38;5;33mDense\u001b[0m)                   │ (\u001b[38;5;45mNone\u001b[0m, \u001b[38;5;34m15\u001b[0m)             │        \u001b[38;5;34m30,735\u001b[0m │\n",
       "└─────────────────────────────────┴────────────────────────┴───────────────┘\n"
      ]
     },
     "metadata": {},
     "output_type": "display_data"
    },
    {
     "data": {
      "text/html": [
       "<pre style=\"white-space:pre;overflow-x:auto;line-height:normal;font-family:Menlo,'DejaVu Sans Mono',consolas,'Courier New',monospace\"><span style=\"font-weight: bold\"> Total params: </span><span style=\"color: #00af00; text-decoration-color: #00af00\">23,618,447</span> (90.10 MB)\n",
       "</pre>\n"
      ],
      "text/plain": [
       "\u001b[1m Total params: \u001b[0m\u001b[38;5;34m23,618,447\u001b[0m (90.10 MB)\n"
      ]
     },
     "metadata": {},
     "output_type": "display_data"
    },
    {
     "data": {
      "text/html": [
       "<pre style=\"white-space:pre;overflow-x:auto;line-height:normal;font-family:Menlo,'DejaVu Sans Mono',consolas,'Courier New',monospace\"><span style=\"font-weight: bold\"> Trainable params: </span><span style=\"color: #00af00; text-decoration-color: #00af00\">23,565,327</span> (89.89 MB)\n",
       "</pre>\n"
      ],
      "text/plain": [
       "\u001b[1m Trainable params: \u001b[0m\u001b[38;5;34m23,565,327\u001b[0m (89.89 MB)\n"
      ]
     },
     "metadata": {},
     "output_type": "display_data"
    },
    {
     "data": {
      "text/html": [
       "<pre style=\"white-space:pre;overflow-x:auto;line-height:normal;font-family:Menlo,'DejaVu Sans Mono',consolas,'Courier New',monospace\"><span style=\"font-weight: bold\"> Non-trainable params: </span><span style=\"color: #00af00; text-decoration-color: #00af00\">53,120</span> (207.50 KB)\n",
       "</pre>\n"
      ],
      "text/plain": [
       "\u001b[1m Non-trainable params: \u001b[0m\u001b[38;5;34m53,120\u001b[0m (207.50 KB)\n"
      ]
     },
     "metadata": {},
     "output_type": "display_data"
    }
   ],
   "source": [
    "model = buildModel(image_size +(3,), base_model='ResNet50', num_classes=num_classes)\n",
    "model.summary()"
   ]
  },
  {
   "cell_type": "code",
   "execution_count": 26,
   "id": "a8db0cb0",
   "metadata": {
    "_cell_guid": "ca8e7df2-74e5-4bac-b5e1-2fca07533bea",
    "_uuid": "ea260972-18dd-4274-8741-e4142bc135f0",
    "collapsed": false,
    "execution": {
     "iopub.execute_input": "2024-09-07T09:20:28.708628Z",
     "iopub.status.busy": "2024-09-07T09:20:28.708078Z",
     "iopub.status.idle": "2024-09-07T09:20:28.727570Z",
     "shell.execute_reply": "2024-09-07T09:20:28.726613Z"
    },
    "jupyter": {
     "outputs_hidden": false
    },
    "papermill": {
     "duration": 0.037938,
     "end_time": "2024-09-07T09:20:28.729489",
     "exception": false,
     "start_time": "2024-09-07T09:20:28.691551",
     "status": "completed"
    },
    "tags": []
   },
   "outputs": [],
   "source": [
    "from tensorflow.keras.optimizers import Adam, AdamW\n",
    "from tensorflow.keras.callbacks import EarlyStopping,ReduceLROnPlateau\n",
    "# Constant for epochs\n",
    "EPOCHS = 50\n",
    "\n",
    "pat_es = 5\n",
    "early_stopping = EarlyStopping(monitor='val_loss', patience=pat_es, verbose=1, restore_best_weights=True)\n",
    "reduce_lr =ReduceLROnPlateau(monitor='val_loss',factor=0.75, patience=3, verbose=1, min_lr=1e-6)\n",
    "\n",
    "model.compile(loss='categorical_crossentropy',\n",
    "          optimizer= AdamW(learning_rate=2e-4,  weight_decay=5e-2),\n",
    "          metrics=['accuracy'])"
   ]
  },
  {
   "cell_type": "code",
   "execution_count": 27,
   "id": "23bf166b",
   "metadata": {
    "_cell_guid": "3712ebca-5053-44c5-a7c7-03fac4e1327e",
    "_uuid": "4226ee33-4031-4128-9ea9-12a67bddd213",
    "collapsed": false,
    "execution": {
     "iopub.execute_input": "2024-09-07T09:20:28.761507Z",
     "iopub.status.busy": "2024-09-07T09:20:28.760696Z",
     "iopub.status.idle": "2024-09-07T09:46:19.216870Z",
     "shell.execute_reply": "2024-09-07T09:46:19.215756Z"
    },
    "jupyter": {
     "outputs_hidden": false
    },
    "papermill": {
     "duration": 1550.474567,
     "end_time": "2024-09-07T09:46:19.219296",
     "exception": false,
     "start_time": "2024-09-07T09:20:28.744729",
     "status": "completed"
    },
    "tags": []
   },
   "outputs": [
    {
     "name": "stdout",
     "output_type": "stream",
     "text": [
      "Epoch 1/50\n"
     ]
    },
    {
     "name": "stderr",
     "output_type": "stream",
     "text": [
      "/opt/conda/lib/python3.10/site-packages/keras/src/trainers/data_adapters/py_dataset_adapter.py:121: UserWarning: Your `PyDataset` class should call `super().__init__(**kwargs)` in its constructor. `**kwargs` can include `workers`, `use_multiprocessing`, `max_queue_size`. Do not pass these arguments to `fit()`, as they will be ignored.\n",
      "  self._warn_if_super_not_called()\n",
      "WARNING: All log messages before absl::InitializeLog() is called are written to STDERR\n",
      "I0000 00:00:1725700902.947904      67 device_compiler.h:186] Compiled cluster using XLA!  This line is logged at most once for the lifetime of the process.\n",
      "W0000 00:00:1725700903.060415      67 graph_launch.cc:671] Fallback to op-by-op mode because memset node breaks graph update\n"
     ]
    },
    {
     "name": "stdout",
     "output_type": "stream",
     "text": [
      "\u001b[1m133/133\u001b[0m \u001b[32m━━━━━━━━━━━━━━━━━━━━\u001b[0m\u001b[37m\u001b[0m \u001b[1m0s\u001b[0m 763ms/step - accuracy: 0.6645 - loss: 1.0834"
     ]
    },
    {
     "name": "stderr",
     "output_type": "stream",
     "text": [
      "W0000 00:00:1725701009.314790      69 graph_launch.cc:671] Fallback to op-by-op mode because memset node breaks graph update\n"
     ]
    },
    {
     "name": "stdout",
     "output_type": "stream",
     "text": [
      "\u001b[1m133/133\u001b[0m \u001b[32m━━━━━━━━━━━━━━━━━━━━\u001b[0m\u001b[37m\u001b[0m \u001b[1m191s\u001b[0m 892ms/step - accuracy: 0.6655 - loss: 1.0801 - val_accuracy: 0.0657 - val_loss: 19.2566 - learning_rate: 2.0000e-04\n",
      "Epoch 2/50\n",
      "\u001b[1m133/133\u001b[0m \u001b[32m━━━━━━━━━━━━━━━━━━━━\u001b[0m\u001b[37m\u001b[0m \u001b[1m54s\u001b[0m 386ms/step - accuracy: 0.9050 - loss: 0.3080 - val_accuracy: 0.0657 - val_loss: 6.2532 - learning_rate: 2.0000e-04\n",
      "Epoch 3/50\n",
      "\u001b[1m133/133\u001b[0m \u001b[32m━━━━━━━━━━━━━━━━━━━━\u001b[0m\u001b[37m\u001b[0m \u001b[1m54s\u001b[0m 387ms/step - accuracy: 0.9388 - loss: 0.1900 - val_accuracy: 0.0699 - val_loss: 4.2705 - learning_rate: 2.0000e-04\n",
      "Epoch 4/50\n",
      "\u001b[1m133/133\u001b[0m \u001b[32m━━━━━━━━━━━━━━━━━━━━\u001b[0m\u001b[37m\u001b[0m \u001b[1m54s\u001b[0m 388ms/step - accuracy: 0.9621 - loss: 0.1161 - val_accuracy: 0.1059 - val_loss: 3.3972 - learning_rate: 2.0000e-04\n",
      "Epoch 5/50\n",
      "\u001b[1m133/133\u001b[0m \u001b[32m━━━━━━━━━━━━━━━━━━━━\u001b[0m\u001b[37m\u001b[0m \u001b[1m54s\u001b[0m 388ms/step - accuracy: 0.9685 - loss: 0.0954 - val_accuracy: 0.0742 - val_loss: 4.5247 - learning_rate: 2.0000e-04\n",
      "Epoch 6/50\n",
      "\u001b[1m133/133\u001b[0m \u001b[32m━━━━━━━━━━━━━━━━━━━━\u001b[0m\u001b[37m\u001b[0m \u001b[1m55s\u001b[0m 393ms/step - accuracy: 0.9621 - loss: 0.1297 - val_accuracy: 0.1780 - val_loss: 3.7158 - learning_rate: 2.0000e-04\n",
      "Epoch 7/50\n",
      "\u001b[1m133/133\u001b[0m \u001b[32m━━━━━━━━━━━━━━━━━━━━\u001b[0m\u001b[37m\u001b[0m \u001b[1m54s\u001b[0m 389ms/step - accuracy: 0.9687 - loss: 0.0946 - val_accuracy: 0.3856 - val_loss: 2.8295 - learning_rate: 2.0000e-04\n",
      "Epoch 8/50\n",
      "\u001b[1m133/133\u001b[0m \u001b[32m━━━━━━━━━━━━━━━━━━━━\u001b[0m\u001b[37m\u001b[0m \u001b[1m54s\u001b[0m 389ms/step - accuracy: 0.9694 - loss: 0.0868 - val_accuracy: 0.7436 - val_loss: 1.0974 - learning_rate: 2.0000e-04\n",
      "Epoch 9/50\n",
      "\u001b[1m133/133\u001b[0m \u001b[32m━━━━━━━━━━━━━━━━━━━━\u001b[0m\u001b[37m\u001b[0m \u001b[1m54s\u001b[0m 390ms/step - accuracy: 0.9856 - loss: 0.0493 - val_accuracy: 0.8877 - val_loss: 0.4206 - learning_rate: 2.0000e-04\n",
      "Epoch 10/50\n",
      "\u001b[1m133/133\u001b[0m \u001b[32m━━━━━━━━━━━━━━━━━━━━\u001b[0m\u001b[37m\u001b[0m \u001b[1m55s\u001b[0m 391ms/step - accuracy: 0.9830 - loss: 0.0587 - val_accuracy: 0.9089 - val_loss: 0.2810 - learning_rate: 2.0000e-04\n",
      "Epoch 11/50\n",
      "\u001b[1m133/133\u001b[0m \u001b[32m━━━━━━━━━━━━━━━━━━━━\u001b[0m\u001b[37m\u001b[0m \u001b[1m54s\u001b[0m 390ms/step - accuracy: 0.9772 - loss: 0.0624 - val_accuracy: 0.7987 - val_loss: 1.0615 - learning_rate: 2.0000e-04\n",
      "Epoch 12/50\n",
      "\u001b[1m133/133\u001b[0m \u001b[32m━━━━━━━━━━━━━━━━━━━━\u001b[0m\u001b[37m\u001b[0m \u001b[1m54s\u001b[0m 387ms/step - accuracy: 0.9751 - loss: 0.0771 - val_accuracy: 0.8877 - val_loss: 0.4007 - learning_rate: 2.0000e-04\n",
      "Epoch 13/50\n",
      "\u001b[1m133/133\u001b[0m \u001b[32m━━━━━━━━━━━━━━━━━━━━\u001b[0m\u001b[37m\u001b[0m \u001b[1m54s\u001b[0m 390ms/step - accuracy: 0.9721 - loss: 0.0850 - val_accuracy: 0.9322 - val_loss: 0.2021 - learning_rate: 2.0000e-04\n",
      "Epoch 14/50\n",
      "\u001b[1m133/133\u001b[0m \u001b[32m━━━━━━━━━━━━━━━━━━━━\u001b[0m\u001b[37m\u001b[0m \u001b[1m54s\u001b[0m 388ms/step - accuracy: 0.9885 - loss: 0.0363 - val_accuracy: 0.9322 - val_loss: 0.2315 - learning_rate: 2.0000e-04\n",
      "Epoch 15/50\n",
      "\u001b[1m133/133\u001b[0m \u001b[32m━━━━━━━━━━━━━━━━━━━━\u001b[0m\u001b[37m\u001b[0m \u001b[1m53s\u001b[0m 382ms/step - accuracy: 0.9797 - loss: 0.0643 - val_accuracy: 0.9301 - val_loss: 0.2549 - learning_rate: 2.0000e-04\n",
      "Epoch 16/50\n",
      "\u001b[1m133/133\u001b[0m \u001b[32m━━━━━━━━━━━━━━━━━━━━\u001b[0m\u001b[37m\u001b[0m \u001b[1m0s\u001b[0m 348ms/step - accuracy: 0.9886 - loss: 0.0408\n",
      "Epoch 16: ReduceLROnPlateau reducing learning rate to 0.00014999999621068127.\n",
      "\u001b[1m133/133\u001b[0m \u001b[32m━━━━━━━━━━━━━━━━━━━━\u001b[0m\u001b[37m\u001b[0m \u001b[1m54s\u001b[0m 388ms/step - accuracy: 0.9886 - loss: 0.0408 - val_accuracy: 0.9068 - val_loss: 0.3045 - learning_rate: 2.0000e-04\n",
      "Epoch 17/50\n",
      "\u001b[1m133/133\u001b[0m \u001b[32m━━━━━━━━━━━━━━━━━━━━\u001b[0m\u001b[37m\u001b[0m \u001b[1m54s\u001b[0m 388ms/step - accuracy: 0.9921 - loss: 0.0263 - val_accuracy: 0.9597 - val_loss: 0.1102 - learning_rate: 1.5000e-04\n",
      "Epoch 18/50\n",
      "\u001b[1m133/133\u001b[0m \u001b[32m━━━━━━━━━━━━━━━━━━━━\u001b[0m\u001b[37m\u001b[0m \u001b[1m54s\u001b[0m 389ms/step - accuracy: 0.9852 - loss: 0.0370 - val_accuracy: 0.9343 - val_loss: 0.2261 - learning_rate: 1.5000e-04\n",
      "Epoch 19/50\n",
      "\u001b[1m133/133\u001b[0m \u001b[32m━━━━━━━━━━━━━━━━━━━━\u001b[0m\u001b[37m\u001b[0m \u001b[1m54s\u001b[0m 383ms/step - accuracy: 0.9876 - loss: 0.0388 - val_accuracy: 0.9492 - val_loss: 0.1482 - learning_rate: 1.5000e-04\n",
      "Epoch 20/50\n",
      "\u001b[1m133/133\u001b[0m \u001b[32m━━━━━━━━━━━━━━━━━━━━\u001b[0m\u001b[37m\u001b[0m \u001b[1m0s\u001b[0m 347ms/step - accuracy: 0.9931 - loss: 0.0222\n",
      "Epoch 20: ReduceLROnPlateau reducing learning rate to 0.00011249999442952685.\n",
      "\u001b[1m133/133\u001b[0m \u001b[32m━━━━━━━━━━━━━━━━━━━━\u001b[0m\u001b[37m\u001b[0m \u001b[1m54s\u001b[0m 386ms/step - accuracy: 0.9931 - loss: 0.0222 - val_accuracy: 0.9364 - val_loss: 0.2777 - learning_rate: 1.5000e-04\n",
      "Epoch 21/50\n",
      "\u001b[1m133/133\u001b[0m \u001b[32m━━━━━━━━━━━━━━━━━━━━\u001b[0m\u001b[37m\u001b[0m \u001b[1m55s\u001b[0m 395ms/step - accuracy: 0.9924 - loss: 0.0238 - val_accuracy: 0.9788 - val_loss: 0.0439 - learning_rate: 1.1250e-04\n",
      "Epoch 22/50\n",
      "\u001b[1m133/133\u001b[0m \u001b[32m━━━━━━━━━━━━━━━━━━━━\u001b[0m\u001b[37m\u001b[0m \u001b[1m55s\u001b[0m 393ms/step - accuracy: 0.9969 - loss: 0.0094 - val_accuracy: 0.9809 - val_loss: 0.0631 - learning_rate: 1.1250e-04\n",
      "Epoch 23/50\n",
      "\u001b[1m133/133\u001b[0m \u001b[32m━━━━━━━━━━━━━━━━━━━━\u001b[0m\u001b[37m\u001b[0m \u001b[1m54s\u001b[0m 386ms/step - accuracy: 0.9989 - loss: 0.0056 - val_accuracy: 0.9767 - val_loss: 0.0899 - learning_rate: 1.1250e-04\n",
      "Epoch 24/50\n",
      "\u001b[1m133/133\u001b[0m \u001b[32m━━━━━━━━━━━━━━━━━━━━\u001b[0m\u001b[37m\u001b[0m \u001b[1m0s\u001b[0m 346ms/step - accuracy: 0.9989 - loss: 0.0046\n",
      "Epoch 24: ReduceLROnPlateau reducing learning rate to 8.437499855062924e-05.\n",
      "\u001b[1m133/133\u001b[0m \u001b[32m━━━━━━━━━━━━━━━━━━━━\u001b[0m\u001b[37m\u001b[0m \u001b[1m54s\u001b[0m 385ms/step - accuracy: 0.9989 - loss: 0.0046 - val_accuracy: 0.9831 - val_loss: 0.0543 - learning_rate: 1.1250e-04\n",
      "Epoch 25/50\n",
      "\u001b[1m133/133\u001b[0m \u001b[32m━━━━━━━━━━━━━━━━━━━━\u001b[0m\u001b[37m\u001b[0m \u001b[1m54s\u001b[0m 384ms/step - accuracy: 0.9979 - loss: 0.0061 - val_accuracy: 0.9767 - val_loss: 0.0664 - learning_rate: 8.4375e-05\n",
      "Epoch 26/50\n",
      "\u001b[1m133/133\u001b[0m \u001b[32m━━━━━━━━━━━━━━━━━━━━\u001b[0m\u001b[37m\u001b[0m \u001b[1m54s\u001b[0m 389ms/step - accuracy: 0.9992 - loss: 0.0060 - val_accuracy: 0.9831 - val_loss: 0.0624 - learning_rate: 8.4375e-05\n",
      "Epoch 26: early stopping\n",
      "Restoring model weights from the end of the best epoch: 21.\n",
      "Saving the Model\n",
      "CPU times: user 32min 1s, sys: 22.6 s, total: 32min 24s\n",
      "Wall time: 25min 50s\n"
     ]
    }
   ],
   "source": [
    "%%time\n",
    "\n",
    "# Train the model\n",
    "history1 = model.fit(\n",
    "      train_generator,\n",
    "      epochs=EPOCHS,\n",
    "      validation_data=validation_generator,\n",
    "      callbacks=[early_stopping, reduce_lr],\n",
    "    )\n",
    "\n",
    "print(\"Saving the Model\")\n",
    "model.save(model.name+\".keras\")"
   ]
  },
  {
   "cell_type": "code",
   "execution_count": 28,
   "id": "ab8ce655",
   "metadata": {
    "_cell_guid": "50a89a02-9cae-45a5-8eff-7f2265340dad",
    "_uuid": "486028ef-9211-4c49-86ec-a05fa0e92464",
    "collapsed": false,
    "execution": {
     "iopub.execute_input": "2024-09-07T09:46:19.804660Z",
     "iopub.status.busy": "2024-09-07T09:46:19.804307Z",
     "iopub.status.idle": "2024-09-07T09:46:19.809149Z",
     "shell.execute_reply": "2024-09-07T09:46:19.808288Z"
    },
    "jupyter": {
     "outputs_hidden": false
    },
    "papermill": {
     "duration": 0.298164,
     "end_time": "2024-09-07T09:46:19.810972",
     "exception": false,
     "start_time": "2024-09-07T09:46:19.512808",
     "status": "completed"
    },
    "tags": []
   },
   "outputs": [],
   "source": [
    "# Define your folder to save results\n",
    "import os\n",
    "save_folder = model.name\n",
    "os.makedirs(save_folder, exist_ok=True)"
   ]
  },
  {
   "cell_type": "code",
   "execution_count": 29,
   "id": "26d3bdb5",
   "metadata": {
    "_cell_guid": "f341ec0d-7e4a-4c88-877b-ca2cf181cb11",
    "_uuid": "7789895f-c67d-4e3d-809e-7901c205ab6e",
    "collapsed": false,
    "execution": {
     "iopub.execute_input": "2024-09-07T09:46:20.442357Z",
     "iopub.status.busy": "2024-09-07T09:46:20.441533Z",
     "iopub.status.idle": "2024-09-07T09:46:20.448046Z",
     "shell.execute_reply": "2024-09-07T09:46:20.447110Z"
    },
    "jupyter": {
     "outputs_hidden": false
    },
    "papermill": {
     "duration": 0.300804,
     "end_time": "2024-09-07T09:46:20.450015",
     "exception": false,
     "start_time": "2024-09-07T09:46:20.149211",
     "status": "completed"
    },
    "tags": []
   },
   "outputs": [
    {
     "data": {
      "text/plain": [
       "'CottonWeed-resnet50/CottonWeed-resnet50.h5'"
      ]
     },
     "execution_count": 29,
     "metadata": {},
     "output_type": "execute_result"
    }
   ],
   "source": [
    "filename= model.name+'.h5'\n",
    "model_weight= os.path.join(save_folder, filename)\n",
    "model_weight"
   ]
  },
  {
   "cell_type": "code",
   "execution_count": 30,
   "id": "f72cf69c",
   "metadata": {
    "_cell_guid": "89938583-a561-4412-9d64-45bd35c32205",
    "_uuid": "7de87fdd-c363-4aa2-8f6a-0c6f8e1ab0b1",
    "collapsed": false,
    "execution": {
     "iopub.execute_input": "2024-09-07T09:46:21.059385Z",
     "iopub.status.busy": "2024-09-07T09:46:21.058444Z",
     "iopub.status.idle": "2024-09-07T09:46:21.973007Z",
     "shell.execute_reply": "2024-09-07T09:46:21.971961Z"
    },
    "jupyter": {
     "outputs_hidden": false
    },
    "papermill": {
     "duration": 1.235257,
     "end_time": "2024-09-07T09:46:21.975525",
     "exception": false,
     "start_time": "2024-09-07T09:46:20.740268",
     "status": "completed"
    },
    "tags": []
   },
   "outputs": [
    {
     "name": "stdout",
     "output_type": "stream",
     "text": [
      "Saving the Model\n"
     ]
    }
   ],
   "source": [
    "print(\"Saving the Model\")\n",
    "model.save(model_weight)"
   ]
  },
  {
   "cell_type": "code",
   "execution_count": 31,
   "id": "879cb9c6",
   "metadata": {
    "_cell_guid": "68fb5337-f08c-4600-bfc7-f0daa99f8471",
    "_uuid": "96b9d018-0e4d-47b6-87e9-2e5c96c8acb2",
    "collapsed": false,
    "execution": {
     "iopub.execute_input": "2024-09-07T09:46:22.579196Z",
     "iopub.status.busy": "2024-09-07T09:46:22.578814Z",
     "iopub.status.idle": "2024-09-07T09:46:22.589935Z",
     "shell.execute_reply": "2024-09-07T09:46:22.589067Z"
    },
    "jupyter": {
     "outputs_hidden": false
    },
    "papermill": {
     "duration": 0.305956,
     "end_time": "2024-09-07T09:46:22.591863",
     "exception": false,
     "start_time": "2024-09-07T09:46:22.285907",
     "status": "completed"
    },
    "tags": []
   },
   "outputs": [],
   "source": [
    "#image visualization\n",
    "import matplotlib.pyplot as plt\n",
    "def plot_loss_acc(history):\n",
    "    '''Plots the training and validation loss and accuracy from a history object'''\n",
    "    acc = history['accuracy']\n",
    "    val_acc = history['val_accuracy']\n",
    "    loss = history['loss']\n",
    "    val_loss = history['val_loss']\n",
    "    if 'peaks' in history:\n",
    "        peaks = history['peaks']\n",
    "    else:\n",
    "        _min = np.argmin(val_loss)\n",
    "        peaks = [_min]\n",
    "\n",
    "    epochs = range(len(acc))\n",
    "    print(\"Total Epochs:\",epochs)\n",
    "\n",
    "    plt.figure(figsize=[16, 4])\n",
    "    plt.subplot(1,2,1)\n",
    "    p_value = [val_acc[p] for p in peaks]\n",
    "    plt.scatter(peaks, p_value, marker='o',s=50)\n",
    "    plt.plot(epochs, acc, label='Training accuracy', color='red')\n",
    "    plt.plot(epochs, val_acc, label='Validation accuracy', color='magenta')\n",
    "    plt.title('Training and validation accuracy')\n",
    "    plt.legend()\n",
    "\n",
    "    plt.subplot(1,2,2)\n",
    "    p_value = [val_loss[p] for p in peaks]\n",
    "    plt.scatter(peaks, p_value, marker='o',s=50)\n",
    "    plt.plot(epochs, loss, label='Training Loss', color='red')\n",
    "    plt.plot(epochs, val_loss, label='Validation Loss', color='magenta')\n",
    "    plt.title('Training and validation loss')\n",
    "    plt.legend()\n",
    "    plt.savefig(os.path.join(save_folder, 'training_chart.png'))\n",
    "    plt.show()"
   ]
  },
  {
   "cell_type": "code",
   "execution_count": 32,
   "id": "a5262774",
   "metadata": {
    "_cell_guid": "06dfea6f-2ec1-44bd-ba5f-6683e5b64e3b",
    "_uuid": "c7d24b5c-3e9a-4043-905a-6e712274d345",
    "collapsed": false,
    "execution": {
     "iopub.execute_input": "2024-09-07T09:46:23.170184Z",
     "iopub.status.busy": "2024-09-07T09:46:23.169809Z",
     "iopub.status.idle": "2024-09-07T09:46:23.889049Z",
     "shell.execute_reply": "2024-09-07T09:46:23.888142Z"
    },
    "jupyter": {
     "outputs_hidden": false
    },
    "papermill": {
     "duration": 1.010127,
     "end_time": "2024-09-07T09:46:23.891238",
     "exception": false,
     "start_time": "2024-09-07T09:46:22.881111",
     "status": "completed"
    },
    "tags": []
   },
   "outputs": [
    {
     "name": "stdout",
     "output_type": "stream",
     "text": [
      "Total Epochs: range(0, 26)\n"
     ]
    },
    {
     "data": {
      "image/png": "[encoded data removed]",
      "text/plain": [
       "<Figure size 1600x400 with 2 Axes>"
      ]
     },
     "metadata": {},
     "output_type": "display_data"
    }
   ],
   "source": [
    "# Plot training results\n",
    "plot_loss_acc(history1.history)"
   ]
  },
  {
   "cell_type": "code",
   "execution_count": 33,
   "id": "a30dca66",
   "metadata": {
    "_cell_guid": "225f6433-4094-4f1d-a759-b82877fd8359",
    "_uuid": "76ae0e9b-f615-4578-b130-699e43e04d89",
    "collapsed": false,
    "execution": {
     "iopub.execute_input": "2024-09-07T09:46:24.567702Z",
     "iopub.status.busy": "2024-09-07T09:46:24.567326Z",
     "iopub.status.idle": "2024-09-07T09:46:24.572794Z",
     "shell.execute_reply": "2024-09-07T09:46:24.571922Z"
    },
    "jupyter": {
     "outputs_hidden": false
    },
    "papermill": {
     "duration": 0.328695,
     "end_time": "2024-09-07T09:46:24.574858",
     "exception": false,
     "start_time": "2024-09-07T09:46:24.246163",
     "status": "completed"
    },
    "tags": []
   },
   "outputs": [],
   "source": [
    "from sklearn.metrics import f1_score, precision_score, recall_score, accuracy_score\n",
    "from sklearn.metrics import ConfusionMatrixDisplay, classification_report\n",
    "import matplotlib.pyplot as plt"
   ]
  },
  {
   "cell_type": "code",
   "execution_count": 34,
   "id": "46a8921a",
   "metadata": {
    "_cell_guid": "b463b6dd-1edb-4412-a191-6a728dfeca40",
    "_uuid": "b22703a3-9de3-43b9-9afc-8d08d8f5ff9e",
    "collapsed": false,
    "execution": {
     "iopub.execute_input": "2024-09-07T09:46:25.201477Z",
     "iopub.status.busy": "2024-09-07T09:46:25.200622Z",
     "iopub.status.idle": "2024-09-07T09:46:53.302297Z",
     "shell.execute_reply": "2024-09-07T09:46:53.301383Z"
    },
    "jupyter": {
     "outputs_hidden": false
    },
    "papermill": {
     "duration": 28.425627,
     "end_time": "2024-09-07T09:46:53.304480",
     "exception": false,
     "start_time": "2024-09-07T09:46:24.878853",
     "status": "completed"
    },
    "tags": []
   },
   "outputs": [
    {
     "name": "stdout",
     "output_type": "stream",
     "text": [
      "\u001b[1m 1/64\u001b[0m \u001b[37m━━━━━━━━━━━━━━━━━━━━\u001b[0m \u001b[1m4:22\u001b[0m 4s/step"
     ]
    },
    {
     "name": "stderr",
     "output_type": "stream",
     "text": [
      "W0000 00:00:1725702390.023337      68 graph_launch.cc:671] Fallback to op-by-op mode because memset node breaks graph update\n"
     ]
    },
    {
     "name": "stdout",
     "output_type": "stream",
     "text": [
      "\u001b[1m64/64\u001b[0m \u001b[32m━━━━━━━━━━━━━━━━━━━━\u001b[0m\u001b[37m\u001b[0m \u001b[1m27s\u001b[0m 369ms/step\n"
     ]
    }
   ],
   "source": [
    "predictions=model.predict(test_generator)"
   ]
  },
  {
   "cell_type": "code",
   "execution_count": 35,
   "id": "7dd11b60",
   "metadata": {
    "_cell_guid": "1005e4b5-e176-4895-8874-763acb025d39",
    "_uuid": "0dc70556-9384-4e37-8afa-5664c8a0f8ed",
    "collapsed": false,
    "execution": {
     "iopub.execute_input": "2024-09-07T09:46:53.910766Z",
     "iopub.status.busy": "2024-09-07T09:46:53.910385Z",
     "iopub.status.idle": "2024-09-07T09:46:54.192116Z",
     "shell.execute_reply": "2024-09-07T09:46:54.191141Z"
    },
    "jupyter": {
     "outputs_hidden": false
    },
    "papermill": {
     "duration": 0.590688,
     "end_time": "2024-09-07T09:46:54.195246",
     "exception": false,
     "start_time": "2024-09-07T09:46:53.604558",
     "status": "completed"
    },
    "tags": []
   },
   "outputs": [
    {
     "name": "stdout",
     "output_type": "stream",
     "text": [
      "Confusion Matrix:\n",
      "[[131   0   1   0   0   0   1   0   1   0   0   0   0   0   1]\n",
      " [  0 133   0   2   0   0   0   0   0   0   0   0   0   0   0]\n",
      " [  0   0 132   1   1   0   0   1   0   0   0   0   0   0   0]\n",
      " [  0   1   0 134   0   0   0   0   0   0   0   0   0   0   0]\n",
      " [  1   0   0   0 134   0   0   0   0   0   0   0   0   0   0]\n",
      " [  0   0   0   1   0 134   0   0   0   0   0   0   0   0   0]\n",
      " [  0   0   1   0   2   0 130   0   0   1   0   1   0   0   0]\n",
      " [  0   0   0   0   1   0   3 131   0   0   0   0   0   0   0]\n",
      " [  1   0   1   0   3   0   0   0 129   0   1   0   0   0   0]\n",
      " [  0   0   0   0   0   1   0   0   0 134   0   0   0   0   0]\n",
      " [  0   0   0   0   2   0   0   0   0   0 133   0   0   0   0]\n",
      " [  0   0   1   0   0   0   0   1   1   0   1 131   0   0   0]\n",
      " [  0   0   0   0   3   0   0   0   0   0   0   0 132   0   0]\n",
      " [  0   0   0   0   0   0   0   0   0   0   0   0   0 135   0]\n",
      " [  0   0   2   0   1   0   4   0   0   0   0   0   0   0 128]]\n"
     ]
    }
   ],
   "source": [
    "import numpy as np\n",
    "from sklearn.metrics import confusion_matrix,ConfusionMatrixDisplay\n",
    "import seaborn as sns\n",
    "import matplotlib.pyplot as plt\n",
    "# Convert predictions to class labels\n",
    "predicted_classes = np.argmax(predictions, axis=1)\n",
    "# Get true labels from the test generator\n",
    "true_labels = test_generator.classes\n",
    "# Compute the confusion matrix\n",
    "conf_matrix = confusion_matrix(true_labels, predicted_classes)\n",
    "\n",
    "# Print the confusion matrix\n",
    "print(\"Confusion Matrix:\")\n",
    "print(conf_matrix)"
   ]
  },
  {
   "cell_type": "code",
   "execution_count": 36,
   "id": "25cb2174",
   "metadata": {
    "_cell_guid": "e4b82eb3-63cd-4fff-a6c9-ebaa7ef3c670",
    "_uuid": "9539e7d3-0703-4289-bc62-894b51225e3d",
    "collapsed": false,
    "execution": {
     "iopub.execute_input": "2024-09-07T09:46:54.830204Z",
     "iopub.status.busy": "2024-09-07T09:46:54.829761Z",
     "iopub.status.idle": "2024-09-07T09:46:54.836547Z",
     "shell.execute_reply": "2024-09-07T09:46:54.835558Z"
    },
    "jupyter": {
     "outputs_hidden": false
    },
    "papermill": {
     "duration": 0.304573,
     "end_time": "2024-09-07T09:46:54.838920",
     "exception": false,
     "start_time": "2024-09-07T09:46:54.534347",
     "status": "completed"
    },
    "tags": []
   },
   "outputs": [],
   "source": [
    "def eval_model(model, data_gen, use_rand_guess=False):\n",
    "    print(\"model.evaluate\")\n",
    "    #model.evaluate(data_gen)\n",
    "\n",
    "    print(\"model.predict\")\n",
    "    actual_labels = []\n",
    "    pred_prob = []\n",
    "    for batch in tqdm(data_gen):\n",
    "        actual_labels.extend([np.argmax(z) for z in batch[1]])\n",
    "        pred_prob.extend(list(model(batch[0], training=False)))\n",
    "\n",
    "    return actual_labels, pred_prob"
   ]
  },
  {
   "cell_type": "code",
   "execution_count": 37,
   "id": "db61b10f",
   "metadata": {
    "_cell_guid": "d37682ab-8b79-4431-b232-435e27bfdeec",
    "_uuid": "f2656e6d-7773-4ce4-9453-560d8f348372",
    "collapsed": false,
    "execution": {
     "iopub.execute_input": "2024-09-07T09:46:55.490265Z",
     "iopub.status.busy": "2024-09-07T09:46:55.489878Z",
     "iopub.status.idle": "2024-09-07T09:46:56.550490Z",
     "shell.execute_reply": "2024-09-07T09:46:56.549363Z"
    },
    "jupyter": {
     "outputs_hidden": false
    },
    "papermill": {
     "duration": 1.403803,
     "end_time": "2024-09-07T09:46:56.553185",
     "exception": false,
     "start_time": "2024-09-07T09:46:55.149382",
     "status": "completed"
    },
    "tags": []
   },
   "outputs": [
    {
     "data": {
      "image/png": "[encoded data removed]",
      "text/plain": [
       "<Figure size 640x480 with 2 Axes>"
      ]
     },
     "metadata": {},
     "output_type": "display_data"
    }
   ],
   "source": [
    "cmd = ConfusionMatrixDisplay.from_predictions(\n",
    "        true_labels, predicted_classes,\n",
    "        display_labels=list(test_generator.class_indices.keys()),\n",
    "        xticks_rotation=80, #'vertical',\n",
    "        # ax = ax\n",
    "    )\n",
    "    # fig, ax = plt.subplots(figsize=(25,5))\n",
    "    # cmd.plot(ax=ax)\n",
    "plt.savefig(os.path.join(save_folder, 'confusion-mat.png'))\n",
    "plt.show()"
   ]
  },
  {
   "cell_type": "code",
   "execution_count": 38,
   "id": "6cf2e400",
   "metadata": {
    "_cell_guid": "712f8dea-7212-4a5b-a125-b608c0b76a45",
    "_uuid": "3dd276a0-9be5-44a6-8705-77643d9a7fb1",
    "collapsed": false,
    "execution": {
     "iopub.execute_input": "2024-09-07T09:46:57.175689Z",
     "iopub.status.busy": "2024-09-07T09:46:57.174804Z",
     "iopub.status.idle": "2024-09-07T09:46:57.200263Z",
     "shell.execute_reply": "2024-09-07T09:46:57.199174Z"
    },
    "jupyter": {
     "outputs_hidden": false
    },
    "papermill": {
     "duration": 0.3293,
     "end_time": "2024-09-07T09:46:57.202216",
     "exception": false,
     "start_time": "2024-09-07T09:46:56.872916",
     "status": "completed"
    },
    "tags": []
   },
   "outputs": [
    {
     "name": "stdout",
     "output_type": "stream",
     "text": [
      "                precision    recall  f1-score   support\n",
      "\n",
      "   Carpetweeds    0.98496   0.97037   0.97761       135\n",
      "     Crabgrass    0.99254   0.98519   0.98885       135\n",
      "       Eclipta    0.95652   0.97778   0.96703       135\n",
      "    Goosegrass    0.97101   0.99259   0.98168       135\n",
      "  Morningglory    0.91156   0.99259   0.95035       135\n",
      "      Nutsedge    0.99259   0.99259   0.99259       135\n",
      "PalmerAmaranth    0.94203   0.96296   0.95238       135\n",
      "  Prickly Sida    0.98496   0.97037   0.97761       135\n",
      "      Purslane    0.98473   0.95556   0.96992       135\n",
      "       Ragweed    0.99259   0.99259   0.99259       135\n",
      "     Sicklepod    0.98519   0.98519   0.98519       135\n",
      " SpottedSpurge    0.99242   0.97037   0.98127       135\n",
      "  SpurredAnoda    1.00000   0.97778   0.98876       135\n",
      "    Swinecress    1.00000   1.00000   1.00000       135\n",
      "     Waterhemp    0.99225   0.94815   0.96970       135\n",
      "\n",
      "      accuracy                        0.97827      2025\n",
      "     macro avg    0.97889   0.97827   0.97837      2025\n",
      "  weighted avg    0.97889   0.97827   0.97837      2025\n",
      "\n"
     ]
    }
   ],
   "source": [
    "display_labels=list(test_generator.class_indices.keys())\n",
    "class_report=classification_report(true_labels, predicted_classes,digits=5, target_names=display_labels)\n",
    "print(class_report)\n",
    "with open(os.path.join(save_folder, 'classification_report.txt'), 'w') as f:\n",
    "    f.write(classification_report(true_labels, predicted_classes))"
   ]
  },
  {
   "cell_type": "code",
   "execution_count": null,
   "id": "63be8173",
   "metadata": {
    "_cell_guid": "6803da9f-1fc9-42ab-9d9f-a401fa6b04f8",
    "_uuid": "e4b8c2be-4099-465e-b11e-6c5c67eb4a76",
    "collapsed": false,
    "jupyter": {
     "outputs_hidden": false
    },
    "papermill": {
     "duration": 0.300376,
     "end_time": "2024-09-07T09:46:57.803144",
     "exception": false,
     "start_time": "2024-09-07T09:46:57.502768",
     "status": "completed"
    },
    "tags": []
   },
   "outputs": [],
   "source": []
  },
  {
   "cell_type": "code",
   "execution_count": null,
   "id": "5cfc3bd2",
   "metadata": {
    "_cell_guid": "9c858469-f2ee-496b-8ba7-d721aaae2a86",
    "_uuid": "777c4cd0-041e-4101-8ef3-0e265868efca",
    "collapsed": false,
    "jupyter": {
     "outputs_hidden": false
    },
    "papermill": {
     "duration": 0.299684,
     "end_time": "2024-09-07T09:46:58.401381",
     "exception": false,
     "start_time": "2024-09-07T09:46:58.101697",
     "status": "completed"
    },
    "tags": []
   },
   "outputs": [],
   "source": []
  }
 ],
 "metadata": {
  "kaggle": {
   "accelerator": "gpu",
   "dataSources": [
    {
     "datasetId": 5607522,
     "sourceId": 9266314,
     "sourceType": "datasetVersion"
    }
   ],
   "dockerImageVersionId": 30747,
   "isGpuEnabled": true,
   "isInternetEnabled": true,
   "language": "python",
   "sourceType": "notebook"
  },
  "kernelspec": {
   "display_name": "Python 3",
   "language": "python",
   "name": "python3"
  },
  "language_info": {
   "codemirror_mode": {
    "name": "ipython",
    "version": 3
   },
   "file_extension": ".py",
   "mimetype": "text/x-python",
   "name": "python",
   "nbconvert_exporter": "python",
   "pygments_lexer": "ipython3",
   "version": "3.10.13"
  },
  "papermill": {
   "default_parameters": {},
   "duration": 1614.08421,
   "end_time": "2024-09-07T09:47:01.881345",
   "environment_variables": {},
   "exception": null,
   "input_path": "__notebook__.ipynb",
   "output_path": "__notebook__.ipynb",
   "parameters": {},
   "start_time": "2024-09-07T09:20:07.797135",
   "version": "2.5.0"
  }
 },
 "nbformat": 4,
 "nbformat_minor": 5
}
